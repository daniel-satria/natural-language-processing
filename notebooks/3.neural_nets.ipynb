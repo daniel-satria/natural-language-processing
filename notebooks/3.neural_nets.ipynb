{
 "cells": [
  {
   "cell_type": "markdown",
   "metadata": {
    "id": "t8zagRrKtduq"
   },
   "source": [
    "# **3. Neural Nets**"
   ]
  },
  {
   "cell_type": "code",
   "execution_count": 1,
   "metadata": {
    "id": "3_TQm3O3ICr7"
   },
   "outputs": [],
   "source": [
    "import pandas as pd\n",
    "import numpy as np\n",
    "\n",
    "import matplotlib.pyplot as plt\n",
    "import seaborn as sns\n",
    "\n",
    "plt.rcParams[\"figure.figsize\"] = (10, 7)\n",
    "plt.rcParams[\"font.size\"] = 16"
   ]
  },
  {
   "cell_type": "markdown",
   "metadata": {
    "id": "R_Oas04JCI5I"
   },
   "source": [
    "## **Prediksi karyawan left (1) atau tidak (0)**"
   ]
  },
  {
   "cell_type": "markdown",
   "metadata": {
    "id": "8aPPJPIMaUi8"
   },
   "source": [
    "*Cek Resiko dengan Sederhana*\n",
    "\n",
    "- Salah prediksi karyawan stay - diprediksi stay, padahal resign/left\n",
    "  - Resource bisa berkurang sehingga produktifitas menurun\n",
    "  - Mengeluarkan cost untuk pesangon karyawan\n",
    "  - Ada kemungkinan beberapa target tidak terkejar\n",
    "\n",
    "- Salah prediksi karyawan left - diprediksi left, padahal stay\n",
    "  - Sudah membuka job opening lebih dulu, HR bisa buang-buang waktu.\n",
    "  - Mungkin melakukan restrukturisasi tim.\n",
    "\n",
    "---\n",
    "- Lebih besar resiko dari salah prediksi karyawan stay\n",
    "- Apabila stay = negative (0) & left = positive (1)\n",
    "- Maka kita ingin memperkecil nilai False Negative\n",
    "- Dengan kata lain memperbesar nilai Recall\n",
    "\n",
    "$$\n",
    "\\text{Recall} = \\cfrac{TP}{TP + FN}\n",
    "$$"
   ]
  },
  {
   "cell_type": "markdown",
   "metadata": {
    "id": "1wOVPinGECL5"
   },
   "source": [
    "**Import Data**"
   ]
  },
  {
   "cell_type": "code",
   "execution_count": 2,
   "metadata": {
    "id": "vNNFe1e1SF22"
   },
   "outputs": [],
   "source": [
    "def importData(filename):\n",
    "    # Read Data\n",
    "    data = pd.read_csv(filename)\n",
    "    print(f\"shape awal                    : {data.shape}, (#observasi, #fitur)\")\n",
    "\n",
    "    # Drop duplicate\n",
    "    data = data.drop_duplicates()\n",
    "    print(f\"shape setelah drop duplikat   : {data.shape}, (#observasi, #fitur)\")\n",
    "\n",
    "    return data\n"
   ]
  },
  {
   "cell_type": "code",
   "execution_count": 3,
   "metadata": {
    "colab": {
     "base_uri": "https://localhost:8080/",
     "height": 241
    },
    "id": "dAGMNmUKIDdJ",
    "outputId": "a9cb717a-d028-4578-8be0-1a0540503372"
   },
   "outputs": [
    {
     "name": "stdout",
     "output_type": "stream",
     "text": [
      "shape awal                    : (14999, 10), (#observasi, #fitur)\n",
      "shape setelah drop duplikat   : (11991, 10), (#observasi, #fitur)\n"
     ]
    },
    {
     "data": {
      "text/html": [
       "<div>\n",
       "<style scoped>\n",
       "    .dataframe tbody tr th:only-of-type {\n",
       "        vertical-align: middle;\n",
       "    }\n",
       "\n",
       "    .dataframe tbody tr th {\n",
       "        vertical-align: top;\n",
       "    }\n",
       "\n",
       "    .dataframe thead th {\n",
       "        text-align: right;\n",
       "    }\n",
       "</style>\n",
       "<table border=\"1\" class=\"dataframe\">\n",
       "  <thead>\n",
       "    <tr style=\"text-align: right;\">\n",
       "      <th></th>\n",
       "      <th>satisfaction_level</th>\n",
       "      <th>last_evaluation</th>\n",
       "      <th>number_project</th>\n",
       "      <th>average_montly_hours</th>\n",
       "      <th>time_spend_company</th>\n",
       "      <th>Work_accident</th>\n",
       "      <th>left</th>\n",
       "      <th>promotion_last_5years</th>\n",
       "      <th>division</th>\n",
       "      <th>salary</th>\n",
       "    </tr>\n",
       "  </thead>\n",
       "  <tbody>\n",
       "    <tr>\n",
       "      <th>0</th>\n",
       "      <td>0.38</td>\n",
       "      <td>0.53</td>\n",
       "      <td>2</td>\n",
       "      <td>157</td>\n",
       "      <td>3</td>\n",
       "      <td>0</td>\n",
       "      <td>1</td>\n",
       "      <td>0</td>\n",
       "      <td>sales</td>\n",
       "      <td>low</td>\n",
       "    </tr>\n",
       "    <tr>\n",
       "      <th>1</th>\n",
       "      <td>0.80</td>\n",
       "      <td>0.86</td>\n",
       "      <td>5</td>\n",
       "      <td>262</td>\n",
       "      <td>6</td>\n",
       "      <td>0</td>\n",
       "      <td>1</td>\n",
       "      <td>0</td>\n",
       "      <td>sales</td>\n",
       "      <td>medium</td>\n",
       "    </tr>\n",
       "    <tr>\n",
       "      <th>2</th>\n",
       "      <td>0.11</td>\n",
       "      <td>0.88</td>\n",
       "      <td>7</td>\n",
       "      <td>272</td>\n",
       "      <td>4</td>\n",
       "      <td>0</td>\n",
       "      <td>1</td>\n",
       "      <td>0</td>\n",
       "      <td>sales</td>\n",
       "      <td>medium</td>\n",
       "    </tr>\n",
       "    <tr>\n",
       "      <th>3</th>\n",
       "      <td>0.72</td>\n",
       "      <td>0.87</td>\n",
       "      <td>5</td>\n",
       "      <td>223</td>\n",
       "      <td>5</td>\n",
       "      <td>0</td>\n",
       "      <td>1</td>\n",
       "      <td>0</td>\n",
       "      <td>sales</td>\n",
       "      <td>low</td>\n",
       "    </tr>\n",
       "    <tr>\n",
       "      <th>4</th>\n",
       "      <td>0.37</td>\n",
       "      <td>0.52</td>\n",
       "      <td>2</td>\n",
       "      <td>159</td>\n",
       "      <td>3</td>\n",
       "      <td>0</td>\n",
       "      <td>1</td>\n",
       "      <td>0</td>\n",
       "      <td>sales</td>\n",
       "      <td>low</td>\n",
       "    </tr>\n",
       "  </tbody>\n",
       "</table>\n",
       "</div>"
      ],
      "text/plain": [
       "   satisfaction_level  last_evaluation  number_project  average_montly_hours  \\\n",
       "0                0.38             0.53               2                   157   \n",
       "1                0.80             0.86               5                   262   \n",
       "2                0.11             0.88               7                   272   \n",
       "3                0.72             0.87               5                   223   \n",
       "4                0.37             0.52               2                   159   \n",
       "\n",
       "   time_spend_company  Work_accident  left  promotion_last_5years division  \\\n",
       "0                   3              0     1                      0    sales   \n",
       "1                   6              0     1                      0    sales   \n",
       "2                   4              0     1                      0    sales   \n",
       "3                   5              0     1                      0    sales   \n",
       "4                   3              0     1                      0    sales   \n",
       "\n",
       "   salary  \n",
       "0     low  \n",
       "1  medium  \n",
       "2  medium  \n",
       "3     low  \n",
       "4     low  "
      ]
     },
     "execution_count": 3,
     "metadata": {},
     "output_type": "execute_result"
    }
   ],
   "source": [
    "filename = \"../data/data_hr.csv\"\n",
    "data = importData(filename = filename)\n",
    "\n",
    "data.head()"
   ]
  },
  {
   "cell_type": "markdown",
   "metadata": {
    "id": "7swWFr2SIXw2"
   },
   "source": [
    "**Split Data Input-Ouput**"
   ]
  },
  {
   "cell_type": "code",
   "execution_count": 4,
   "metadata": {
    "id": "TlLDtFc-IbCK"
   },
   "outputs": [],
   "source": [
    "def splitInputOutput(data, target_column):\n",
    "    X = data.drop(columns = target_column)\n",
    "    y = data[target_column]\n",
    "\n",
    "    return X, y"
   ]
  },
  {
   "cell_type": "code",
   "execution_count": 5,
   "metadata": {
    "colab": {
     "base_uri": "https://localhost:8080/"
    },
    "id": "DZTmhRJZIkT2",
    "outputId": "b1309e87-3228-4624-9b7a-5f241a1a5d9c"
   },
   "outputs": [
    {
     "data": {
      "text/plain": [
       "(<bound method NDFrame.head of        satisfaction_level  last_evaluation  number_project  \\\n",
       " 0                    0.38             0.53               2   \n",
       " 1                    0.80             0.86               5   \n",
       " 2                    0.11             0.88               7   \n",
       " 3                    0.72             0.87               5   \n",
       " 4                    0.37             0.52               2   \n",
       " ...                   ...              ...             ...   \n",
       " 11995                0.90             0.55               3   \n",
       " 11996                0.74             0.95               5   \n",
       " 11997                0.85             0.54               3   \n",
       " 11998                0.33             0.65               3   \n",
       " 11999                0.50             0.73               4   \n",
       " \n",
       "        average_montly_hours  time_spend_company  Work_accident  \\\n",
       " 0                       157                   3              0   \n",
       " 1                       262                   6              0   \n",
       " 2                       272                   4              0   \n",
       " 3                       223                   5              0   \n",
       " 4                       159                   3              0   \n",
       " ...                     ...                 ...            ...   \n",
       " 11995                   259                  10              1   \n",
       " 11996                   266                  10              0   \n",
       " 11997                   185                  10              0   \n",
       " 11998                   172                  10              0   \n",
       " 11999                   180                   3              0   \n",
       " \n",
       "        promotion_last_5years    division  salary  \n",
       " 0                          0       sales     low  \n",
       " 1                          0       sales  medium  \n",
       " 2                          0       sales  medium  \n",
       " 3                          0       sales     low  \n",
       " 4                          0       sales     low  \n",
       " ...                      ...         ...     ...  \n",
       " 11995                      1  management    high  \n",
       " 11996                      1  management    high  \n",
       " 11997                      1  management    high  \n",
       " 11998                      1   marketing    high  \n",
       " 11999                      0          IT     low  \n",
       " \n",
       " [11991 rows x 9 columns]>,\n",
       " <bound method NDFrame.head of 0        1\n",
       " 1        1\n",
       " 2        1\n",
       " 3        1\n",
       " 4        1\n",
       "         ..\n",
       " 11995    0\n",
       " 11996    0\n",
       " 11997    0\n",
       " 11998    0\n",
       " 11999    0\n",
       " Name: left, Length: 11991, dtype: int64>)"
      ]
     },
     "execution_count": 5,
     "metadata": {},
     "output_type": "execute_result"
    }
   ],
   "source": [
    "target_column = \"left\"\n",
    "X, y = splitInputOutput(data = data,\n",
    "                        target_column = target_column)\n",
    "\n",
    "X.head, y.head"
   ]
  },
  {
   "cell_type": "markdown",
   "metadata": {
    "id": "h_YJMxtCIypD"
   },
   "source": [
    "**Split Train-Test**"
   ]
  },
  {
   "cell_type": "code",
   "execution_count": 6,
   "metadata": {
    "colab": {
     "base_uri": "https://localhost:8080/"
    },
    "id": "6YPOQWYWI04B",
    "outputId": "d5faef3d-5b43-4abe-c999-2bbc8cde1ab5"
   },
   "outputs": [
    {
     "data": {
      "text/plain": [
       "left\n",
       "0    0.833959\n",
       "1    0.166041\n",
       "Name: proportion, dtype: float64"
      ]
     },
     "execution_count": 6,
     "metadata": {},
     "output_type": "execute_result"
    }
   ],
   "source": [
    "# Cek kondisi proporsi kelas target\n",
    "y.value_counts(normalize = True)\n",
    "\n",
    "# Tidak balance"
   ]
  },
  {
   "cell_type": "code",
   "execution_count": 7,
   "metadata": {
    "colab": {
     "base_uri": "https://localhost:8080/"
    },
    "id": "7ySIccc_RHpv",
    "outputId": "bf115c7c-eaad-49c2-b3f3-c01ea2a5b8d8"
   },
   "outputs": [
    {
     "data": {
      "text/plain": [
       "((9592, 9), (2399, 9), (9592,), (2399,))"
      ]
     },
     "execution_count": 7,
     "metadata": {},
     "output_type": "execute_result"
    }
   ],
   "source": [
    "from sklearn.model_selection import train_test_split\n",
    "\n",
    "X_train, X_test, y_train, y_test = train_test_split(X, y,\n",
    "                                                    stratify = y,\n",
    "                                                    test_size = 0.2,\n",
    "                                                    random_state = 123)\n",
    "\n",
    "X_train.shape, X_test.shape, y_train.shape, y_test.shape"
   ]
  },
  {
   "cell_type": "markdown",
   "metadata": {
    "id": "7Mr4cJfnEHgD"
   },
   "source": [
    "**Splitting Categorical & Numerical Column**"
   ]
  },
  {
   "cell_type": "code",
   "execution_count": 8,
   "metadata": {
    "colab": {
     "base_uri": "https://localhost:8080/",
     "height": 206
    },
    "id": "JQ_2JJK1EMaA",
    "outputId": "d4060c11-9f65-453b-f372-f37abf59dedc"
   },
   "outputs": [
    {
     "data": {
      "text/html": [
       "<div>\n",
       "<style scoped>\n",
       "    .dataframe tbody tr th:only-of-type {\n",
       "        vertical-align: middle;\n",
       "    }\n",
       "\n",
       "    .dataframe tbody tr th {\n",
       "        vertical-align: top;\n",
       "    }\n",
       "\n",
       "    .dataframe thead th {\n",
       "        text-align: right;\n",
       "    }\n",
       "</style>\n",
       "<table border=\"1\" class=\"dataframe\">\n",
       "  <thead>\n",
       "    <tr style=\"text-align: right;\">\n",
       "      <th></th>\n",
       "      <th>satisfaction_level</th>\n",
       "      <th>last_evaluation</th>\n",
       "      <th>number_project</th>\n",
       "      <th>average_montly_hours</th>\n",
       "      <th>time_spend_company</th>\n",
       "      <th>Work_accident</th>\n",
       "      <th>promotion_last_5years</th>\n",
       "      <th>division</th>\n",
       "      <th>salary</th>\n",
       "    </tr>\n",
       "  </thead>\n",
       "  <tbody>\n",
       "    <tr>\n",
       "      <th>9492</th>\n",
       "      <td>0.44</td>\n",
       "      <td>0.56</td>\n",
       "      <td>3</td>\n",
       "      <td>123</td>\n",
       "      <td>3</td>\n",
       "      <td>0</td>\n",
       "      <td>0</td>\n",
       "      <td>accounting</td>\n",
       "      <td>medium</td>\n",
       "    </tr>\n",
       "    <tr>\n",
       "      <th>11555</th>\n",
       "      <td>0.98</td>\n",
       "      <td>0.44</td>\n",
       "      <td>4</td>\n",
       "      <td>154</td>\n",
       "      <td>6</td>\n",
       "      <td>1</td>\n",
       "      <td>0</td>\n",
       "      <td>sales</td>\n",
       "      <td>medium</td>\n",
       "    </tr>\n",
       "    <tr>\n",
       "      <th>11301</th>\n",
       "      <td>0.76</td>\n",
       "      <td>0.99</td>\n",
       "      <td>3</td>\n",
       "      <td>133</td>\n",
       "      <td>4</td>\n",
       "      <td>0</td>\n",
       "      <td>0</td>\n",
       "      <td>sales</td>\n",
       "      <td>low</td>\n",
       "    </tr>\n",
       "    <tr>\n",
       "      <th>5578</th>\n",
       "      <td>0.47</td>\n",
       "      <td>0.55</td>\n",
       "      <td>2</td>\n",
       "      <td>156</td>\n",
       "      <td>2</td>\n",
       "      <td>0</td>\n",
       "      <td>0</td>\n",
       "      <td>management</td>\n",
       "      <td>medium</td>\n",
       "    </tr>\n",
       "    <tr>\n",
       "      <th>6241</th>\n",
       "      <td>0.84</td>\n",
       "      <td>0.68</td>\n",
       "      <td>4</td>\n",
       "      <td>151</td>\n",
       "      <td>2</td>\n",
       "      <td>0</td>\n",
       "      <td>0</td>\n",
       "      <td>technical</td>\n",
       "      <td>low</td>\n",
       "    </tr>\n",
       "  </tbody>\n",
       "</table>\n",
       "</div>"
      ],
      "text/plain": [
       "       satisfaction_level  last_evaluation  number_project  \\\n",
       "9492                 0.44             0.56               3   \n",
       "11555                0.98             0.44               4   \n",
       "11301                0.76             0.99               3   \n",
       "5578                 0.47             0.55               2   \n",
       "6241                 0.84             0.68               4   \n",
       "\n",
       "       average_montly_hours  time_spend_company  Work_accident  \\\n",
       "9492                    123                   3              0   \n",
       "11555                   154                   6              1   \n",
       "11301                   133                   4              0   \n",
       "5578                    156                   2              0   \n",
       "6241                    151                   2              0   \n",
       "\n",
       "       promotion_last_5years    division  salary  \n",
       "9492                       0  accounting  medium  \n",
       "11555                      0       sales  medium  \n",
       "11301                      0       sales     low  \n",
       "5578                       0  management  medium  \n",
       "6241                       0   technical     low  "
      ]
     },
     "execution_count": 8,
     "metadata": {},
     "output_type": "execute_result"
    }
   ],
   "source": [
    "X_train.head()"
   ]
  },
  {
   "cell_type": "code",
   "execution_count": 9,
   "metadata": {
    "colab": {
     "base_uri": "https://localhost:8080/"
    },
    "id": "VhbynPi1EKbS",
    "outputId": "672ddc63-d549-423d-9e7f-08432cdc9d7e"
   },
   "outputs": [
    {
     "data": {
      "text/plain": [
       "(['Work_accident', 'promotion_last_5years', 'division', 'salary'],\n",
       " ['number_project',\n",
       "  'time_spend_company',\n",
       "  'satisfaction_level',\n",
       "  'average_montly_hours',\n",
       "  'last_evaluation'])"
      ]
     },
     "execution_count": 9,
     "metadata": {},
     "output_type": "execute_result"
    }
   ],
   "source": [
    "categorical_col = [\"Work_accident\", \"promotion_last_5years\", \"division\", \"salary\"]\n",
    "numerical_col = list(set(X_train.columns) - set(categorical_col))\n",
    "\n",
    "categorical_col, numerical_col"
   ]
  },
  {
   "cell_type": "code",
   "execution_count": 10,
   "metadata": {
    "id": "7BHz54aCEbei"
   },
   "outputs": [],
   "source": [
    "def splitNumCat(data, num_col, cat_col):\n",
    "    data_num = data[num_col]\n",
    "    data_cat = data[cat_col]\n",
    "\n",
    "    return data_num, data_cat\n"
   ]
  },
  {
   "cell_type": "code",
   "execution_count": 11,
   "metadata": {
    "id": "vXBr3FNIEppv"
   },
   "outputs": [],
   "source": [
    "X_train_num, X_train_cat = splitNumCat(data = X_train,\n",
    "                                       num_col = numerical_col,\n",
    "                                       cat_col = categorical_col)"
   ]
  },
  {
   "cell_type": "markdown",
   "metadata": {
    "id": "vT54JFhEEyPM"
   },
   "source": [
    "**Handling Numerical Data**"
   ]
  },
  {
   "cell_type": "code",
   "execution_count": 12,
   "metadata": {
    "colab": {
     "base_uri": "https://localhost:8080/"
    },
    "id": "reTo4iXPE1Es",
    "outputId": "5e7dcd24-6cc7-4141-a87d-0fb9eb5cc302"
   },
   "outputs": [
    {
     "data": {
      "text/plain": [
       "number_project          False\n",
       "time_spend_company      False\n",
       "satisfaction_level      False\n",
       "average_montly_hours    False\n",
       "last_evaluation         False\n",
       "dtype: bool"
      ]
     },
     "execution_count": 12,
     "metadata": {},
     "output_type": "execute_result"
    }
   ],
   "source": [
    "# Check missing value\n",
    "X_train_num.isna().any()"
   ]
  },
  {
   "cell_type": "code",
   "execution_count": 13,
   "metadata": {
    "id": "5pA65ylnE9Pz"
   },
   "outputs": [],
   "source": [
    "# Buat imputer untuk jaga-jaga apabila di data test ada yang kosong\n",
    "from sklearn.impute import SimpleImputer\n",
    "\n",
    "def imputerNum(data, imputer = None):\n",
    "    if imputer == None:\n",
    "        # Buat imputer\n",
    "        imputer = SimpleImputer(missing_values = np.nan,\n",
    "                                strategy = \"median\")\n",
    "        imputer.fit(data)\n",
    "\n",
    "    # Transform data dengan imputer\n",
    "    data_imputed = imputer.transform(data)\n",
    "    data_imputed = pd.DataFrame(data_imputed,\n",
    "                                index = data.index,\n",
    "                                columns = data.columns)\n",
    "\n",
    "    return data_imputed, imputer\n"
   ]
  },
  {
   "cell_type": "code",
   "execution_count": 14,
   "metadata": {
    "id": "Pjxrap7NFme-"
   },
   "outputs": [],
   "source": [
    "X_train_num_imputed, imputer_num = imputerNum(data = X_train_num)"
   ]
  },
  {
   "cell_type": "code",
   "execution_count": 15,
   "metadata": {
    "colab": {
     "base_uri": "https://localhost:8080/",
     "height": 206
    },
    "id": "8hfzlk01Fuvb",
    "outputId": "10ea0e6e-e97f-4aa0-fe3a-599e20adfa7b"
   },
   "outputs": [
    {
     "data": {
      "text/html": [
       "<div>\n",
       "<style scoped>\n",
       "    .dataframe tbody tr th:only-of-type {\n",
       "        vertical-align: middle;\n",
       "    }\n",
       "\n",
       "    .dataframe tbody tr th {\n",
       "        vertical-align: top;\n",
       "    }\n",
       "\n",
       "    .dataframe thead th {\n",
       "        text-align: right;\n",
       "    }\n",
       "</style>\n",
       "<table border=\"1\" class=\"dataframe\">\n",
       "  <thead>\n",
       "    <tr style=\"text-align: right;\">\n",
       "      <th></th>\n",
       "      <th>number_project</th>\n",
       "      <th>time_spend_company</th>\n",
       "      <th>satisfaction_level</th>\n",
       "      <th>average_montly_hours</th>\n",
       "      <th>last_evaluation</th>\n",
       "    </tr>\n",
       "  </thead>\n",
       "  <tbody>\n",
       "    <tr>\n",
       "      <th>9492</th>\n",
       "      <td>3.0</td>\n",
       "      <td>3.0</td>\n",
       "      <td>0.44</td>\n",
       "      <td>123.0</td>\n",
       "      <td>0.56</td>\n",
       "    </tr>\n",
       "    <tr>\n",
       "      <th>11555</th>\n",
       "      <td>4.0</td>\n",
       "      <td>6.0</td>\n",
       "      <td>0.98</td>\n",
       "      <td>154.0</td>\n",
       "      <td>0.44</td>\n",
       "    </tr>\n",
       "    <tr>\n",
       "      <th>11301</th>\n",
       "      <td>3.0</td>\n",
       "      <td>4.0</td>\n",
       "      <td>0.76</td>\n",
       "      <td>133.0</td>\n",
       "      <td>0.99</td>\n",
       "    </tr>\n",
       "    <tr>\n",
       "      <th>5578</th>\n",
       "      <td>2.0</td>\n",
       "      <td>2.0</td>\n",
       "      <td>0.47</td>\n",
       "      <td>156.0</td>\n",
       "      <td>0.55</td>\n",
       "    </tr>\n",
       "    <tr>\n",
       "      <th>6241</th>\n",
       "      <td>4.0</td>\n",
       "      <td>2.0</td>\n",
       "      <td>0.84</td>\n",
       "      <td>151.0</td>\n",
       "      <td>0.68</td>\n",
       "    </tr>\n",
       "  </tbody>\n",
       "</table>\n",
       "</div>"
      ],
      "text/plain": [
       "       number_project  time_spend_company  satisfaction_level  \\\n",
       "9492              3.0                 3.0                0.44   \n",
       "11555             4.0                 6.0                0.98   \n",
       "11301             3.0                 4.0                0.76   \n",
       "5578              2.0                 2.0                0.47   \n",
       "6241              4.0                 2.0                0.84   \n",
       "\n",
       "       average_montly_hours  last_evaluation  \n",
       "9492                  123.0             0.56  \n",
       "11555                 154.0             0.44  \n",
       "11301                 133.0             0.99  \n",
       "5578                  156.0             0.55  \n",
       "6241                  151.0             0.68  "
      ]
     },
     "execution_count": 15,
     "metadata": {},
     "output_type": "execute_result"
    }
   ],
   "source": [
    "X_train_num_imputed.head()"
   ]
  },
  {
   "cell_type": "markdown",
   "metadata": {
    "id": "sFCL0WP5GFDT"
   },
   "source": [
    "**Handling Categorical Data**"
   ]
  },
  {
   "cell_type": "code",
   "execution_count": 16,
   "metadata": {
    "colab": {
     "base_uri": "https://localhost:8080/"
    },
    "id": "WeYzjKq0GHFV",
    "outputId": "4f32403b-c7e2-405e-ebcd-4ef0da2ad961"
   },
   "outputs": [
    {
     "data": {
      "text/plain": [
       "Work_accident            False\n",
       "promotion_last_5years    False\n",
       "division                 False\n",
       "salary                   False\n",
       "dtype: bool"
      ]
     },
     "execution_count": 16,
     "metadata": {},
     "output_type": "execute_result"
    }
   ],
   "source": [
    "# Check missing value\n",
    "X_train_cat.isna().any()"
   ]
  },
  {
   "cell_type": "code",
   "execution_count": 17,
   "metadata": {
    "id": "JnhmgyMrGLEI"
   },
   "outputs": [],
   "source": [
    "# Buat imputer untuk jaga-jaga apabila di data test ada yang kosong\n",
    "def imputerCat(data, imputer = None):\n",
    "    if imputer == None:\n",
    "        # Buat imputer\n",
    "        imputer = SimpleImputer(missing_values = np.nan,\n",
    "                                strategy = \"constant\",\n",
    "                                fill_value = \"UNKNOWN\")\n",
    "        imputer.fit(data)\n",
    "\n",
    "    # Transform data dengan imputer\n",
    "    data_imputed = imputer.transform(data)\n",
    "    data_imputed = pd.DataFrame(data_imputed,\n",
    "                                index = data.index,\n",
    "                                columns = data.columns)\n",
    "\n",
    "    return data_imputed, imputer\n"
   ]
  },
  {
   "cell_type": "code",
   "execution_count": 18,
   "metadata": {
    "id": "91ORYSYCGk1Z"
   },
   "outputs": [],
   "source": [
    "X_train_cat_imputed, imputer_cat = imputerCat(data = X_train_cat)"
   ]
  },
  {
   "cell_type": "code",
   "execution_count": 19,
   "metadata": {
    "colab": {
     "base_uri": "https://localhost:8080/",
     "height": 206
    },
    "id": "ioJMTwi6GrJY",
    "outputId": "3033c70d-ca87-49cb-f31e-02ce26192976"
   },
   "outputs": [
    {
     "data": {
      "text/html": [
       "<div>\n",
       "<style scoped>\n",
       "    .dataframe tbody tr th:only-of-type {\n",
       "        vertical-align: middle;\n",
       "    }\n",
       "\n",
       "    .dataframe tbody tr th {\n",
       "        vertical-align: top;\n",
       "    }\n",
       "\n",
       "    .dataframe thead th {\n",
       "        text-align: right;\n",
       "    }\n",
       "</style>\n",
       "<table border=\"1\" class=\"dataframe\">\n",
       "  <thead>\n",
       "    <tr style=\"text-align: right;\">\n",
       "      <th></th>\n",
       "      <th>Work_accident</th>\n",
       "      <th>promotion_last_5years</th>\n",
       "      <th>division</th>\n",
       "      <th>salary</th>\n",
       "    </tr>\n",
       "  </thead>\n",
       "  <tbody>\n",
       "    <tr>\n",
       "      <th>9492</th>\n",
       "      <td>0</td>\n",
       "      <td>0</td>\n",
       "      <td>accounting</td>\n",
       "      <td>medium</td>\n",
       "    </tr>\n",
       "    <tr>\n",
       "      <th>11555</th>\n",
       "      <td>1</td>\n",
       "      <td>0</td>\n",
       "      <td>sales</td>\n",
       "      <td>medium</td>\n",
       "    </tr>\n",
       "    <tr>\n",
       "      <th>11301</th>\n",
       "      <td>0</td>\n",
       "      <td>0</td>\n",
       "      <td>sales</td>\n",
       "      <td>low</td>\n",
       "    </tr>\n",
       "    <tr>\n",
       "      <th>5578</th>\n",
       "      <td>0</td>\n",
       "      <td>0</td>\n",
       "      <td>management</td>\n",
       "      <td>medium</td>\n",
       "    </tr>\n",
       "    <tr>\n",
       "      <th>6241</th>\n",
       "      <td>0</td>\n",
       "      <td>0</td>\n",
       "      <td>technical</td>\n",
       "      <td>low</td>\n",
       "    </tr>\n",
       "  </tbody>\n",
       "</table>\n",
       "</div>"
      ],
      "text/plain": [
       "      Work_accident promotion_last_5years    division  salary\n",
       "9492              0                     0  accounting  medium\n",
       "11555             1                     0       sales  medium\n",
       "11301             0                     0       sales     low\n",
       "5578              0                     0  management  medium\n",
       "6241              0                     0   technical     low"
      ]
     },
     "execution_count": 19,
     "metadata": {},
     "output_type": "execute_result"
    }
   ],
   "source": [
    "X_train_cat_imputed.head()"
   ]
  },
  {
   "cell_type": "markdown",
   "metadata": {
    "id": "Nf1J2JFgGutW"
   },
   "source": [
    "**One Hot Encoding Data**"
   ]
  },
  {
   "cell_type": "code",
   "execution_count": 20,
   "metadata": {
    "id": "HTxLn62hGySm"
   },
   "outputs": [],
   "source": [
    "from sklearn.preprocessing import OneHotEncoder\n",
    "\n",
    "def encoderCat(data, encoder_col = None, encoder = None):\n",
    "    if encoder == None:\n",
    "        # Buat objek\n",
    "        encoder = OneHotEncoder(handle_unknown = \"ignore\",\n",
    "                                drop = \"if_binary\")\n",
    "        encoder.fit(data)\n",
    "        encoder_col = encoder.get_feature_names_out(data.columns)\n",
    "\n",
    "    # Transform data\n",
    "    data_encoded = encoder.transform(data).toarray()\n",
    "    data_encoded = pd.DataFrame(data_encoded,\n",
    "                                index = data.index,\n",
    "                                columns = encoder_col)\n",
    "\n",
    "    return data_encoded, encoder_col, encoder\n"
   ]
  },
  {
   "cell_type": "code",
   "execution_count": 21,
   "metadata": {
    "id": "s6E8dL2pHsZn"
   },
   "outputs": [],
   "source": [
    "X_train_cat_encoded, encoder_col, encoder_OHE = encoderCat(data = X_train_cat_imputed)"
   ]
  },
  {
   "cell_type": "code",
   "execution_count": 22,
   "metadata": {
    "colab": {
     "base_uri": "https://localhost:8080/",
     "height": 175
    },
    "id": "a27FUUvTIBdT",
    "outputId": "a97d679b-9e17-42ef-cd1d-c7dbec898964"
   },
   "outputs": [
    {
     "data": {
      "text/html": [
       "<div>\n",
       "<style scoped>\n",
       "    .dataframe tbody tr th:only-of-type {\n",
       "        vertical-align: middle;\n",
       "    }\n",
       "\n",
       "    .dataframe tbody tr th {\n",
       "        vertical-align: top;\n",
       "    }\n",
       "\n",
       "    .dataframe thead th {\n",
       "        text-align: right;\n",
       "    }\n",
       "</style>\n",
       "<table border=\"1\" class=\"dataframe\">\n",
       "  <thead>\n",
       "    <tr style=\"text-align: right;\">\n",
       "      <th></th>\n",
       "      <th>9492</th>\n",
       "      <th>11555</th>\n",
       "      <th>11301</th>\n",
       "      <th>5578</th>\n",
       "      <th>6241</th>\n",
       "    </tr>\n",
       "  </thead>\n",
       "  <tbody>\n",
       "    <tr>\n",
       "      <th>Work_accident</th>\n",
       "      <td>0</td>\n",
       "      <td>1</td>\n",
       "      <td>0</td>\n",
       "      <td>0</td>\n",
       "      <td>0</td>\n",
       "    </tr>\n",
       "    <tr>\n",
       "      <th>promotion_last_5years</th>\n",
       "      <td>0</td>\n",
       "      <td>0</td>\n",
       "      <td>0</td>\n",
       "      <td>0</td>\n",
       "      <td>0</td>\n",
       "    </tr>\n",
       "    <tr>\n",
       "      <th>division</th>\n",
       "      <td>accounting</td>\n",
       "      <td>sales</td>\n",
       "      <td>sales</td>\n",
       "      <td>management</td>\n",
       "      <td>technical</td>\n",
       "    </tr>\n",
       "    <tr>\n",
       "      <th>salary</th>\n",
       "      <td>medium</td>\n",
       "      <td>medium</td>\n",
       "      <td>low</td>\n",
       "      <td>medium</td>\n",
       "      <td>low</td>\n",
       "    </tr>\n",
       "  </tbody>\n",
       "</table>\n",
       "</div>"
      ],
      "text/plain": [
       "                            9492    11555  11301       5578       6241 \n",
       "Work_accident                   0       1      0           0          0\n",
       "promotion_last_5years           0       0      0           0          0\n",
       "division               accounting   sales  sales  management  technical\n",
       "salary                     medium  medium    low      medium        low"
      ]
     },
     "execution_count": 22,
     "metadata": {},
     "output_type": "execute_result"
    }
   ],
   "source": [
    "X_train_cat_imputed.head().T"
   ]
  },
  {
   "cell_type": "code",
   "execution_count": 23,
   "metadata": {
    "colab": {
     "base_uri": "https://localhost:8080/",
     "height": 520
    },
    "id": "PoWCMdt1H6L0",
    "outputId": "e44ba5d9-bd77-4a94-db47-baa6075d9dbf"
   },
   "outputs": [
    {
     "data": {
      "text/html": [
       "<div>\n",
       "<style scoped>\n",
       "    .dataframe tbody tr th:only-of-type {\n",
       "        vertical-align: middle;\n",
       "    }\n",
       "\n",
       "    .dataframe tbody tr th {\n",
       "        vertical-align: top;\n",
       "    }\n",
       "\n",
       "    .dataframe thead th {\n",
       "        text-align: right;\n",
       "    }\n",
       "</style>\n",
       "<table border=\"1\" class=\"dataframe\">\n",
       "  <thead>\n",
       "    <tr style=\"text-align: right;\">\n",
       "      <th></th>\n",
       "      <th>9492</th>\n",
       "      <th>11555</th>\n",
       "      <th>11301</th>\n",
       "      <th>5578</th>\n",
       "      <th>6241</th>\n",
       "    </tr>\n",
       "  </thead>\n",
       "  <tbody>\n",
       "    <tr>\n",
       "      <th>Work_accident_1</th>\n",
       "      <td>0.0</td>\n",
       "      <td>1.0</td>\n",
       "      <td>0.0</td>\n",
       "      <td>0.0</td>\n",
       "      <td>0.0</td>\n",
       "    </tr>\n",
       "    <tr>\n",
       "      <th>promotion_last_5years_1</th>\n",
       "      <td>0.0</td>\n",
       "      <td>0.0</td>\n",
       "      <td>0.0</td>\n",
       "      <td>0.0</td>\n",
       "      <td>0.0</td>\n",
       "    </tr>\n",
       "    <tr>\n",
       "      <th>division_IT</th>\n",
       "      <td>0.0</td>\n",
       "      <td>0.0</td>\n",
       "      <td>0.0</td>\n",
       "      <td>0.0</td>\n",
       "      <td>0.0</td>\n",
       "    </tr>\n",
       "    <tr>\n",
       "      <th>division_RandD</th>\n",
       "      <td>0.0</td>\n",
       "      <td>0.0</td>\n",
       "      <td>0.0</td>\n",
       "      <td>0.0</td>\n",
       "      <td>0.0</td>\n",
       "    </tr>\n",
       "    <tr>\n",
       "      <th>division_accounting</th>\n",
       "      <td>1.0</td>\n",
       "      <td>0.0</td>\n",
       "      <td>0.0</td>\n",
       "      <td>0.0</td>\n",
       "      <td>0.0</td>\n",
       "    </tr>\n",
       "    <tr>\n",
       "      <th>division_hr</th>\n",
       "      <td>0.0</td>\n",
       "      <td>0.0</td>\n",
       "      <td>0.0</td>\n",
       "      <td>0.0</td>\n",
       "      <td>0.0</td>\n",
       "    </tr>\n",
       "    <tr>\n",
       "      <th>division_management</th>\n",
       "      <td>0.0</td>\n",
       "      <td>0.0</td>\n",
       "      <td>0.0</td>\n",
       "      <td>1.0</td>\n",
       "      <td>0.0</td>\n",
       "    </tr>\n",
       "    <tr>\n",
       "      <th>division_marketing</th>\n",
       "      <td>0.0</td>\n",
       "      <td>0.0</td>\n",
       "      <td>0.0</td>\n",
       "      <td>0.0</td>\n",
       "      <td>0.0</td>\n",
       "    </tr>\n",
       "    <tr>\n",
       "      <th>division_product_mng</th>\n",
       "      <td>0.0</td>\n",
       "      <td>0.0</td>\n",
       "      <td>0.0</td>\n",
       "      <td>0.0</td>\n",
       "      <td>0.0</td>\n",
       "    </tr>\n",
       "    <tr>\n",
       "      <th>division_sales</th>\n",
       "      <td>0.0</td>\n",
       "      <td>1.0</td>\n",
       "      <td>1.0</td>\n",
       "      <td>0.0</td>\n",
       "      <td>0.0</td>\n",
       "    </tr>\n",
       "    <tr>\n",
       "      <th>division_support</th>\n",
       "      <td>0.0</td>\n",
       "      <td>0.0</td>\n",
       "      <td>0.0</td>\n",
       "      <td>0.0</td>\n",
       "      <td>0.0</td>\n",
       "    </tr>\n",
       "    <tr>\n",
       "      <th>division_technical</th>\n",
       "      <td>0.0</td>\n",
       "      <td>0.0</td>\n",
       "      <td>0.0</td>\n",
       "      <td>0.0</td>\n",
       "      <td>1.0</td>\n",
       "    </tr>\n",
       "    <tr>\n",
       "      <th>salary_high</th>\n",
       "      <td>0.0</td>\n",
       "      <td>0.0</td>\n",
       "      <td>0.0</td>\n",
       "      <td>0.0</td>\n",
       "      <td>0.0</td>\n",
       "    </tr>\n",
       "    <tr>\n",
       "      <th>salary_low</th>\n",
       "      <td>0.0</td>\n",
       "      <td>0.0</td>\n",
       "      <td>1.0</td>\n",
       "      <td>0.0</td>\n",
       "      <td>1.0</td>\n",
       "    </tr>\n",
       "    <tr>\n",
       "      <th>salary_medium</th>\n",
       "      <td>1.0</td>\n",
       "      <td>1.0</td>\n",
       "      <td>0.0</td>\n",
       "      <td>1.0</td>\n",
       "      <td>0.0</td>\n",
       "    </tr>\n",
       "  </tbody>\n",
       "</table>\n",
       "</div>"
      ],
      "text/plain": [
       "                         9492   11555  11301  5578   6241 \n",
       "Work_accident_1            0.0    1.0    0.0    0.0    0.0\n",
       "promotion_last_5years_1    0.0    0.0    0.0    0.0    0.0\n",
       "division_IT                0.0    0.0    0.0    0.0    0.0\n",
       "division_RandD             0.0    0.0    0.0    0.0    0.0\n",
       "division_accounting        1.0    0.0    0.0    0.0    0.0\n",
       "division_hr                0.0    0.0    0.0    0.0    0.0\n",
       "division_management        0.0    0.0    0.0    1.0    0.0\n",
       "division_marketing         0.0    0.0    0.0    0.0    0.0\n",
       "division_product_mng       0.0    0.0    0.0    0.0    0.0\n",
       "division_sales             0.0    1.0    1.0    0.0    0.0\n",
       "division_support           0.0    0.0    0.0    0.0    0.0\n",
       "division_technical         0.0    0.0    0.0    0.0    1.0\n",
       "salary_high                0.0    0.0    0.0    0.0    0.0\n",
       "salary_low                 0.0    0.0    1.0    0.0    1.0\n",
       "salary_medium              1.0    1.0    0.0    1.0    0.0"
      ]
     },
     "execution_count": 23,
     "metadata": {},
     "output_type": "execute_result"
    }
   ],
   "source": [
    "X_train_cat_encoded.head().T"
   ]
  },
  {
   "cell_type": "code",
   "execution_count": 24,
   "metadata": {
    "colab": {
     "base_uri": "https://localhost:8080/"
    },
    "id": "gdWnbTehIe_n",
    "outputId": "2ff4bfe0-ea50-40ab-cd52-cacba72a0c4b"
   },
   "outputs": [
    {
     "data": {
      "text/plain": [
       "array(['Work_accident_1', 'promotion_last_5years_1', 'division_IT',\n",
       "       'division_RandD', 'division_accounting', 'division_hr',\n",
       "       'division_management', 'division_marketing',\n",
       "       'division_product_mng', 'division_sales', 'division_support',\n",
       "       'division_technical', 'salary_high', 'salary_low', 'salary_medium'],\n",
       "      dtype=object)"
      ]
     },
     "execution_count": 24,
     "metadata": {},
     "output_type": "execute_result"
    }
   ],
   "source": [
    "encoder_col"
   ]
  },
  {
   "cell_type": "markdown",
   "metadata": {
    "id": "k2-VllXyGu1f"
   },
   "source": [
    "**Concat Data**"
   ]
  },
  {
   "cell_type": "code",
   "execution_count": 25,
   "metadata": {
    "colab": {
     "base_uri": "https://localhost:8080/",
     "height": 270
    },
    "id": "tCRPf-gbIlOw",
    "outputId": "4562b73f-17d4-406a-9443-d9bb7c2eae51"
   },
   "outputs": [
    {
     "data": {
      "text/html": [
       "<div>\n",
       "<style scoped>\n",
       "    .dataframe tbody tr th:only-of-type {\n",
       "        vertical-align: middle;\n",
       "    }\n",
       "\n",
       "    .dataframe tbody tr th {\n",
       "        vertical-align: top;\n",
       "    }\n",
       "\n",
       "    .dataframe thead th {\n",
       "        text-align: right;\n",
       "    }\n",
       "</style>\n",
       "<table border=\"1\" class=\"dataframe\">\n",
       "  <thead>\n",
       "    <tr style=\"text-align: right;\">\n",
       "      <th></th>\n",
       "      <th>number_project</th>\n",
       "      <th>time_spend_company</th>\n",
       "      <th>satisfaction_level</th>\n",
       "      <th>average_montly_hours</th>\n",
       "      <th>last_evaluation</th>\n",
       "      <th>Work_accident_1</th>\n",
       "      <th>promotion_last_5years_1</th>\n",
       "      <th>division_IT</th>\n",
       "      <th>division_RandD</th>\n",
       "      <th>division_accounting</th>\n",
       "      <th>division_hr</th>\n",
       "      <th>division_management</th>\n",
       "      <th>division_marketing</th>\n",
       "      <th>division_product_mng</th>\n",
       "      <th>division_sales</th>\n",
       "      <th>division_support</th>\n",
       "      <th>division_technical</th>\n",
       "      <th>salary_high</th>\n",
       "      <th>salary_low</th>\n",
       "      <th>salary_medium</th>\n",
       "    </tr>\n",
       "  </thead>\n",
       "  <tbody>\n",
       "    <tr>\n",
       "      <th>9492</th>\n",
       "      <td>3.0</td>\n",
       "      <td>3.0</td>\n",
       "      <td>0.44</td>\n",
       "      <td>123.0</td>\n",
       "      <td>0.56</td>\n",
       "      <td>0.0</td>\n",
       "      <td>0.0</td>\n",
       "      <td>0.0</td>\n",
       "      <td>0.0</td>\n",
       "      <td>1.0</td>\n",
       "      <td>0.0</td>\n",
       "      <td>0.0</td>\n",
       "      <td>0.0</td>\n",
       "      <td>0.0</td>\n",
       "      <td>0.0</td>\n",
       "      <td>0.0</td>\n",
       "      <td>0.0</td>\n",
       "      <td>0.0</td>\n",
       "      <td>0.0</td>\n",
       "      <td>1.0</td>\n",
       "    </tr>\n",
       "    <tr>\n",
       "      <th>11555</th>\n",
       "      <td>4.0</td>\n",
       "      <td>6.0</td>\n",
       "      <td>0.98</td>\n",
       "      <td>154.0</td>\n",
       "      <td>0.44</td>\n",
       "      <td>1.0</td>\n",
       "      <td>0.0</td>\n",
       "      <td>0.0</td>\n",
       "      <td>0.0</td>\n",
       "      <td>0.0</td>\n",
       "      <td>0.0</td>\n",
       "      <td>0.0</td>\n",
       "      <td>0.0</td>\n",
       "      <td>0.0</td>\n",
       "      <td>1.0</td>\n",
       "      <td>0.0</td>\n",
       "      <td>0.0</td>\n",
       "      <td>0.0</td>\n",
       "      <td>0.0</td>\n",
       "      <td>1.0</td>\n",
       "    </tr>\n",
       "    <tr>\n",
       "      <th>11301</th>\n",
       "      <td>3.0</td>\n",
       "      <td>4.0</td>\n",
       "      <td>0.76</td>\n",
       "      <td>133.0</td>\n",
       "      <td>0.99</td>\n",
       "      <td>0.0</td>\n",
       "      <td>0.0</td>\n",
       "      <td>0.0</td>\n",
       "      <td>0.0</td>\n",
       "      <td>0.0</td>\n",
       "      <td>0.0</td>\n",
       "      <td>0.0</td>\n",
       "      <td>0.0</td>\n",
       "      <td>0.0</td>\n",
       "      <td>1.0</td>\n",
       "      <td>0.0</td>\n",
       "      <td>0.0</td>\n",
       "      <td>0.0</td>\n",
       "      <td>1.0</td>\n",
       "      <td>0.0</td>\n",
       "    </tr>\n",
       "    <tr>\n",
       "      <th>5578</th>\n",
       "      <td>2.0</td>\n",
       "      <td>2.0</td>\n",
       "      <td>0.47</td>\n",
       "      <td>156.0</td>\n",
       "      <td>0.55</td>\n",
       "      <td>0.0</td>\n",
       "      <td>0.0</td>\n",
       "      <td>0.0</td>\n",
       "      <td>0.0</td>\n",
       "      <td>0.0</td>\n",
       "      <td>0.0</td>\n",
       "      <td>1.0</td>\n",
       "      <td>0.0</td>\n",
       "      <td>0.0</td>\n",
       "      <td>0.0</td>\n",
       "      <td>0.0</td>\n",
       "      <td>0.0</td>\n",
       "      <td>0.0</td>\n",
       "      <td>0.0</td>\n",
       "      <td>1.0</td>\n",
       "    </tr>\n",
       "    <tr>\n",
       "      <th>6241</th>\n",
       "      <td>4.0</td>\n",
       "      <td>2.0</td>\n",
       "      <td>0.84</td>\n",
       "      <td>151.0</td>\n",
       "      <td>0.68</td>\n",
       "      <td>0.0</td>\n",
       "      <td>0.0</td>\n",
       "      <td>0.0</td>\n",
       "      <td>0.0</td>\n",
       "      <td>0.0</td>\n",
       "      <td>0.0</td>\n",
       "      <td>0.0</td>\n",
       "      <td>0.0</td>\n",
       "      <td>0.0</td>\n",
       "      <td>0.0</td>\n",
       "      <td>0.0</td>\n",
       "      <td>1.0</td>\n",
       "      <td>0.0</td>\n",
       "      <td>1.0</td>\n",
       "      <td>0.0</td>\n",
       "    </tr>\n",
       "  </tbody>\n",
       "</table>\n",
       "</div>"
      ],
      "text/plain": [
       "       number_project  time_spend_company  satisfaction_level  \\\n",
       "9492              3.0                 3.0                0.44   \n",
       "11555             4.0                 6.0                0.98   \n",
       "11301             3.0                 4.0                0.76   \n",
       "5578              2.0                 2.0                0.47   \n",
       "6241              4.0                 2.0                0.84   \n",
       "\n",
       "       average_montly_hours  last_evaluation  Work_accident_1  \\\n",
       "9492                  123.0             0.56              0.0   \n",
       "11555                 154.0             0.44              1.0   \n",
       "11301                 133.0             0.99              0.0   \n",
       "5578                  156.0             0.55              0.0   \n",
       "6241                  151.0             0.68              0.0   \n",
       "\n",
       "       promotion_last_5years_1  division_IT  division_RandD  \\\n",
       "9492                       0.0          0.0             0.0   \n",
       "11555                      0.0          0.0             0.0   \n",
       "11301                      0.0          0.0             0.0   \n",
       "5578                       0.0          0.0             0.0   \n",
       "6241                       0.0          0.0             0.0   \n",
       "\n",
       "       division_accounting  division_hr  division_management  \\\n",
       "9492                   1.0          0.0                  0.0   \n",
       "11555                  0.0          0.0                  0.0   \n",
       "11301                  0.0          0.0                  0.0   \n",
       "5578                   0.0          0.0                  1.0   \n",
       "6241                   0.0          0.0                  0.0   \n",
       "\n",
       "       division_marketing  division_product_mng  division_sales  \\\n",
       "9492                  0.0                   0.0             0.0   \n",
       "11555                 0.0                   0.0             1.0   \n",
       "11301                 0.0                   0.0             1.0   \n",
       "5578                  0.0                   0.0             0.0   \n",
       "6241                  0.0                   0.0             0.0   \n",
       "\n",
       "       division_support  division_technical  salary_high  salary_low  \\\n",
       "9492                0.0                 0.0          0.0         0.0   \n",
       "11555               0.0                 0.0          0.0         0.0   \n",
       "11301               0.0                 0.0          0.0         1.0   \n",
       "5578                0.0                 0.0          0.0         0.0   \n",
       "6241                0.0                 1.0          0.0         1.0   \n",
       "\n",
       "       salary_medium  \n",
       "9492             1.0  \n",
       "11555            1.0  \n",
       "11301            0.0  \n",
       "5578             1.0  \n",
       "6241             0.0  "
      ]
     },
     "execution_count": 25,
     "metadata": {},
     "output_type": "execute_result"
    }
   ],
   "source": [
    "X_train_concat = pd.concat([X_train_num_imputed, X_train_cat_encoded],\n",
    "                           axis = 1)\n",
    "X_train_concat.head()"
   ]
  },
  {
   "cell_type": "markdown",
   "metadata": {
    "id": "HLqqlBHISxKV"
   },
   "source": [
    "**Balancing Data: SMOTE**"
   ]
  },
  {
   "cell_type": "code",
   "execution_count": 26,
   "metadata": {
    "colab": {
     "base_uri": "https://localhost:8080/"
    },
    "id": "7eXVwYABI-U1",
    "outputId": "5023558b-e9c1-4526-e655-bc59ea988b9f"
   },
   "outputs": [
    {
     "data": {
      "text/plain": [
       "number_project             False\n",
       "time_spend_company         False\n",
       "satisfaction_level         False\n",
       "average_montly_hours       False\n",
       "last_evaluation            False\n",
       "Work_accident_1            False\n",
       "promotion_last_5years_1    False\n",
       "division_IT                False\n",
       "division_RandD             False\n",
       "division_accounting        False\n",
       "division_hr                False\n",
       "division_management        False\n",
       "division_marketing         False\n",
       "division_product_mng       False\n",
       "division_sales             False\n",
       "division_support           False\n",
       "division_technical         False\n",
       "salary_high                False\n",
       "salary_low                 False\n",
       "salary_medium              False\n",
       "dtype: bool"
      ]
     },
     "execution_count": 26,
     "metadata": {},
     "output_type": "execute_result"
    }
   ],
   "source": [
    "# Cek missing values\n",
    "X_train_concat.isna().any()"
   ]
  },
  {
   "cell_type": "code",
   "execution_count": 27,
   "metadata": {
    "id": "6Mzdl2yrS5qV"
   },
   "outputs": [],
   "source": [
    "from imblearn.over_sampling import SMOTE"
   ]
  },
  {
   "cell_type": "code",
   "execution_count": 28,
   "metadata": {
    "colab": {
     "base_uri": "https://localhost:8080/"
    },
    "id": "B5PrSvcnTnao",
    "outputId": "fd1f85fb-a03c-47aa-da67-36e5c65e5700"
   },
   "outputs": [
    {
     "data": {
      "text/plain": [
       "left\n",
       "0    7999\n",
       "1    1593\n",
       "Name: count, dtype: int64"
      ]
     },
     "execution_count": 28,
     "metadata": {},
     "output_type": "execute_result"
    }
   ],
   "source": [
    "y_train.value_counts()"
   ]
  },
  {
   "cell_type": "code",
   "execution_count": 29,
   "metadata": {
    "id": "nAzoq2U6TN6G"
   },
   "outputs": [
    {
     "name": "stderr",
     "output_type": "stream",
     "text": [
      "/home/ubuntu/learning/natural-language-processing/.venv/lib/python3.10/site-packages/sklearn/base.py:474: FutureWarning: `BaseEstimator._validate_data` is deprecated in 1.6 and will be removed in 1.7. Use `sklearn.utils.validation.validate_data` instead. This function becomes public and is part of the scikit-learn developer API.\n",
      "  warnings.warn(\n",
      "/home/ubuntu/learning/natural-language-processing/.venv/lib/python3.10/site-packages/sklearn/utils/_tags.py:354: FutureWarning: The SMOTE or classes from which it inherits use `_get_tags` and `_more_tags`. Please define the `__sklearn_tags__` method, or inherit from `sklearn.base.BaseEstimator` and/or other appropriate mixins such as `sklearn.base.TransformerMixin`, `sklearn.base.ClassifierMixin`, `sklearn.base.RegressorMixin`, and `sklearn.base.OutlierMixin`. From scikit-learn 1.7, not defining `__sklearn_tags__` will raise an error.\n",
      "  warnings.warn(\n"
     ]
    }
   ],
   "source": [
    "# Buat objek\n",
    "smt = SMOTE(sampling_strategy = \"minority\",\n",
    "            random_state = 123)\n",
    "\n",
    "# Fit objek\n",
    "X_train_smote, y_train = smt.fit_resample(X_train_concat, y_train)"
   ]
  },
  {
   "cell_type": "code",
   "execution_count": 30,
   "metadata": {
    "colab": {
     "base_uri": "https://localhost:8080/"
    },
    "id": "TnYUqTQgT1DU",
    "outputId": "2dbd63fe-c782-4ac6-a7c4-7eae0b5e2a7e"
   },
   "outputs": [
    {
     "data": {
      "text/plain": [
       "left\n",
       "0    7999\n",
       "1    7999\n",
       "Name: count, dtype: int64"
      ]
     },
     "execution_count": 30,
     "metadata": {},
     "output_type": "execute_result"
    }
   ],
   "source": [
    "y_train.value_counts()"
   ]
  },
  {
   "cell_type": "markdown",
   "metadata": {
    "id": "_XyjK6AeT-Ke"
   },
   "source": [
    "**Scale Data**"
   ]
  },
  {
   "cell_type": "code",
   "execution_count": 31,
   "metadata": {
    "id": "NunTfN6tUAWg"
   },
   "outputs": [],
   "source": [
    "from sklearn.preprocessing import StandardScaler"
   ]
  },
  {
   "cell_type": "code",
   "execution_count": 32,
   "metadata": {
    "id": "Ec-oZt4xUDwG"
   },
   "outputs": [],
   "source": [
    "def standardizeData(data, scaler = None):\n",
    "    if scaler == None:\n",
    "        # Buat & Fit scaler\n",
    "        scaler = StandardScaler()\n",
    "        scaler.fit(data)\n",
    "\n",
    "    # Tranform data\n",
    "    data_scaled = scaler.transform(data)\n",
    "    data_scaled = pd.DataFrame(data_scaled,\n",
    "                               index = data.index,\n",
    "                               columns = data.columns)\n",
    "\n",
    "    return data_scaled, scaler\n"
   ]
  },
  {
   "cell_type": "code",
   "execution_count": 33,
   "metadata": {
    "colab": {
     "base_uri": "https://localhost:8080/",
     "height": 270
    },
    "id": "gI37n0YYUbbx",
    "outputId": "71f48fd3-9b15-4d0c-f20b-ff587120c41b"
   },
   "outputs": [
    {
     "data": {
      "text/html": [
       "<div>\n",
       "<style scoped>\n",
       "    .dataframe tbody tr th:only-of-type {\n",
       "        vertical-align: middle;\n",
       "    }\n",
       "\n",
       "    .dataframe tbody tr th {\n",
       "        vertical-align: top;\n",
       "    }\n",
       "\n",
       "    .dataframe thead th {\n",
       "        text-align: right;\n",
       "    }\n",
       "</style>\n",
       "<table border=\"1\" class=\"dataframe\">\n",
       "  <thead>\n",
       "    <tr style=\"text-align: right;\">\n",
       "      <th></th>\n",
       "      <th>number_project</th>\n",
       "      <th>time_spend_company</th>\n",
       "      <th>satisfaction_level</th>\n",
       "      <th>average_montly_hours</th>\n",
       "      <th>last_evaluation</th>\n",
       "      <th>Work_accident_1</th>\n",
       "      <th>promotion_last_5years_1</th>\n",
       "      <th>division_IT</th>\n",
       "      <th>division_RandD</th>\n",
       "      <th>division_accounting</th>\n",
       "      <th>division_hr</th>\n",
       "      <th>division_management</th>\n",
       "      <th>division_marketing</th>\n",
       "      <th>division_product_mng</th>\n",
       "      <th>division_sales</th>\n",
       "      <th>division_support</th>\n",
       "      <th>division_technical</th>\n",
       "      <th>salary_high</th>\n",
       "      <th>salary_low</th>\n",
       "      <th>salary_medium</th>\n",
       "    </tr>\n",
       "  </thead>\n",
       "  <tbody>\n",
       "    <tr>\n",
       "      <th>0</th>\n",
       "      <td>-0.578222</td>\n",
       "      <td>-0.471180</td>\n",
       "      <td>-0.431520</td>\n",
       "      <td>-1.486431</td>\n",
       "      <td>-0.890688</td>\n",
       "      <td>-0.351352</td>\n",
       "      <td>-0.110301</td>\n",
       "      <td>-0.29791</td>\n",
       "      <td>-0.235689</td>\n",
       "      <td>4.610671</td>\n",
       "      <td>-0.249149</td>\n",
       "      <td>-0.185290</td>\n",
       "      <td>-0.256439</td>\n",
       "      <td>-0.255945</td>\n",
       "      <td>-0.658190</td>\n",
       "      <td>-0.442027</td>\n",
       "      <td>-0.502668</td>\n",
       "      <td>-0.244253</td>\n",
       "      <td>-1.077772</td>\n",
       "      <td>1.203620</td>\n",
       "    </tr>\n",
       "    <tr>\n",
       "      <th>1</th>\n",
       "      <td>0.111005</td>\n",
       "      <td>2.009388</td>\n",
       "      <td>1.603535</td>\n",
       "      <td>-0.914856</td>\n",
       "      <td>-1.560949</td>\n",
       "      <td>2.972531</td>\n",
       "      <td>-0.110301</td>\n",
       "      <td>-0.29791</td>\n",
       "      <td>-0.235689</td>\n",
       "      <td>-0.241612</td>\n",
       "      <td>-0.249149</td>\n",
       "      <td>-0.185290</td>\n",
       "      <td>-0.256439</td>\n",
       "      <td>-0.255945</td>\n",
       "      <td>1.620948</td>\n",
       "      <td>-0.442027</td>\n",
       "      <td>-0.502668</td>\n",
       "      <td>-0.244253</td>\n",
       "      <td>-1.077772</td>\n",
       "      <td>1.203620</td>\n",
       "    </tr>\n",
       "    <tr>\n",
       "      <th>2</th>\n",
       "      <td>-0.578222</td>\n",
       "      <td>0.355676</td>\n",
       "      <td>0.774438</td>\n",
       "      <td>-1.302052</td>\n",
       "      <td>1.511078</td>\n",
       "      <td>-0.351352</td>\n",
       "      <td>-0.110301</td>\n",
       "      <td>-0.29791</td>\n",
       "      <td>-0.235689</td>\n",
       "      <td>-0.241612</td>\n",
       "      <td>-0.249149</td>\n",
       "      <td>-0.185290</td>\n",
       "      <td>-0.256439</td>\n",
       "      <td>-0.255945</td>\n",
       "      <td>1.620948</td>\n",
       "      <td>-0.442027</td>\n",
       "      <td>-0.502668</td>\n",
       "      <td>-0.244253</td>\n",
       "      <td>0.954531</td>\n",
       "      <td>-0.853654</td>\n",
       "    </tr>\n",
       "    <tr>\n",
       "      <th>3</th>\n",
       "      <td>-1.267449</td>\n",
       "      <td>-1.298037</td>\n",
       "      <td>-0.318461</td>\n",
       "      <td>-0.877981</td>\n",
       "      <td>-0.946543</td>\n",
       "      <td>-0.351352</td>\n",
       "      <td>-0.110301</td>\n",
       "      <td>-0.29791</td>\n",
       "      <td>-0.235689</td>\n",
       "      <td>-0.241612</td>\n",
       "      <td>-0.249149</td>\n",
       "      <td>5.980862</td>\n",
       "      <td>-0.256439</td>\n",
       "      <td>-0.255945</td>\n",
       "      <td>-0.658190</td>\n",
       "      <td>-0.442027</td>\n",
       "      <td>-0.502668</td>\n",
       "      <td>-0.244253</td>\n",
       "      <td>-1.077772</td>\n",
       "      <td>1.203620</td>\n",
       "    </tr>\n",
       "    <tr>\n",
       "      <th>4</th>\n",
       "      <td>0.111005</td>\n",
       "      <td>-1.298037</td>\n",
       "      <td>1.075928</td>\n",
       "      <td>-0.970170</td>\n",
       "      <td>-0.220428</td>\n",
       "      <td>-0.351352</td>\n",
       "      <td>-0.110301</td>\n",
       "      <td>-0.29791</td>\n",
       "      <td>-0.235689</td>\n",
       "      <td>-0.241612</td>\n",
       "      <td>-0.249149</td>\n",
       "      <td>-0.185290</td>\n",
       "      <td>-0.256439</td>\n",
       "      <td>-0.255945</td>\n",
       "      <td>-0.658190</td>\n",
       "      <td>-0.442027</td>\n",
       "      <td>2.138074</td>\n",
       "      <td>-0.244253</td>\n",
       "      <td>0.954531</td>\n",
       "      <td>-0.853654</td>\n",
       "    </tr>\n",
       "  </tbody>\n",
       "</table>\n",
       "</div>"
      ],
      "text/plain": [
       "   number_project  time_spend_company  satisfaction_level  \\\n",
       "0       -0.578222           -0.471180           -0.431520   \n",
       "1        0.111005            2.009388            1.603535   \n",
       "2       -0.578222            0.355676            0.774438   \n",
       "3       -1.267449           -1.298037           -0.318461   \n",
       "4        0.111005           -1.298037            1.075928   \n",
       "\n",
       "   average_montly_hours  last_evaluation  Work_accident_1  \\\n",
       "0             -1.486431        -0.890688        -0.351352   \n",
       "1             -0.914856        -1.560949         2.972531   \n",
       "2             -1.302052         1.511078        -0.351352   \n",
       "3             -0.877981        -0.946543        -0.351352   \n",
       "4             -0.970170        -0.220428        -0.351352   \n",
       "\n",
       "   promotion_last_5years_1  division_IT  division_RandD  division_accounting  \\\n",
       "0                -0.110301     -0.29791       -0.235689             4.610671   \n",
       "1                -0.110301     -0.29791       -0.235689            -0.241612   \n",
       "2                -0.110301     -0.29791       -0.235689            -0.241612   \n",
       "3                -0.110301     -0.29791       -0.235689            -0.241612   \n",
       "4                -0.110301     -0.29791       -0.235689            -0.241612   \n",
       "\n",
       "   division_hr  division_management  division_marketing  division_product_mng  \\\n",
       "0    -0.249149            -0.185290           -0.256439             -0.255945   \n",
       "1    -0.249149            -0.185290           -0.256439             -0.255945   \n",
       "2    -0.249149            -0.185290           -0.256439             -0.255945   \n",
       "3    -0.249149             5.980862           -0.256439             -0.255945   \n",
       "4    -0.249149            -0.185290           -0.256439             -0.255945   \n",
       "\n",
       "   division_sales  division_support  division_technical  salary_high  \\\n",
       "0       -0.658190         -0.442027           -0.502668    -0.244253   \n",
       "1        1.620948         -0.442027           -0.502668    -0.244253   \n",
       "2        1.620948         -0.442027           -0.502668    -0.244253   \n",
       "3       -0.658190         -0.442027           -0.502668    -0.244253   \n",
       "4       -0.658190         -0.442027            2.138074    -0.244253   \n",
       "\n",
       "   salary_low  salary_medium  \n",
       "0   -1.077772       1.203620  \n",
       "1   -1.077772       1.203620  \n",
       "2    0.954531      -0.853654  \n",
       "3   -1.077772       1.203620  \n",
       "4    0.954531      -0.853654  "
      ]
     },
     "execution_count": 33,
     "metadata": {},
     "output_type": "execute_result"
    }
   ],
   "source": [
    "X_train_clean, scaler = standardizeData(data = X_train_smote)\n",
    "X_train_clean.head()"
   ]
  },
  {
   "cell_type": "markdown",
   "metadata": {
    "id": "LpgzGlQVUlld"
   },
   "source": [
    "**Transform Test Data**"
   ]
  },
  {
   "cell_type": "code",
   "execution_count": 34,
   "metadata": {
    "id": "YAfh5TAnUk7q"
   },
   "outputs": [],
   "source": [
    "def transformTestData(data, num_col, cat_col, encoder_col,\n",
    "                      imputer_num, imputer_cat, encoder_cat,\n",
    "                      scaler):\n",
    "    # 1. Split num-cat\n",
    "    data_num, data_cat = splitNumCat(data = data,\n",
    "                                     num_col = num_col,\n",
    "                                     cat_col = cat_col)\n",
    "\n",
    "    # 2. Handling num\n",
    "    data_num_imputed, _ = imputerNum(data = data_num,\n",
    "                                     imputer = imputer_num)\n",
    "\n",
    "    # 3. Handling cat\n",
    "    data_cat_imputed, _ = imputerCat(data = data_cat,\n",
    "                                     imputer = imputer_cat)\n",
    "    data_cat_encoded, _, _ = encoderCat(data = data_cat_imputed,\n",
    "                                        encoder_col = encoder_col,\n",
    "                                        encoder = encoder_cat)\n",
    "\n",
    "    # 4. Concat data\n",
    "    data_concat = pd.concat([data_num_imputed, data_cat_encoded],\n",
    "                            axis = 1)\n",
    "\n",
    "    # 5. Scale data\n",
    "    data_clean, _ = standardizeData(data = data_concat,\n",
    "                                    scaler = scaler)\n",
    "\n",
    "    return data_clean\n"
   ]
  },
  {
   "cell_type": "code",
   "execution_count": 35,
   "metadata": {
    "colab": {
     "base_uri": "https://localhost:8080/",
     "height": 270
    },
    "id": "zMSyzxAZLjN3",
    "outputId": "d80439ac-9cab-4d15-abf8-5c652e3d4f2f"
   },
   "outputs": [
    {
     "data": {
      "text/html": [
       "<div>\n",
       "<style scoped>\n",
       "    .dataframe tbody tr th:only-of-type {\n",
       "        vertical-align: middle;\n",
       "    }\n",
       "\n",
       "    .dataframe tbody tr th {\n",
       "        vertical-align: top;\n",
       "    }\n",
       "\n",
       "    .dataframe thead th {\n",
       "        text-align: right;\n",
       "    }\n",
       "</style>\n",
       "<table border=\"1\" class=\"dataframe\">\n",
       "  <thead>\n",
       "    <tr style=\"text-align: right;\">\n",
       "      <th></th>\n",
       "      <th>number_project</th>\n",
       "      <th>time_spend_company</th>\n",
       "      <th>satisfaction_level</th>\n",
       "      <th>average_montly_hours</th>\n",
       "      <th>last_evaluation</th>\n",
       "      <th>Work_accident_1</th>\n",
       "      <th>promotion_last_5years_1</th>\n",
       "      <th>division_IT</th>\n",
       "      <th>division_RandD</th>\n",
       "      <th>division_accounting</th>\n",
       "      <th>division_hr</th>\n",
       "      <th>division_management</th>\n",
       "      <th>division_marketing</th>\n",
       "      <th>division_product_mng</th>\n",
       "      <th>division_sales</th>\n",
       "      <th>division_support</th>\n",
       "      <th>division_technical</th>\n",
       "      <th>salary_high</th>\n",
       "      <th>salary_low</th>\n",
       "      <th>salary_medium</th>\n",
       "    </tr>\n",
       "  </thead>\n",
       "  <tbody>\n",
       "    <tr>\n",
       "      <th>8578</th>\n",
       "      <td>1.489460</td>\n",
       "      <td>2.009388</td>\n",
       "      <td>1.000556</td>\n",
       "      <td>-0.232655</td>\n",
       "      <td>1.287658</td>\n",
       "      <td>-0.351352</td>\n",
       "      <td>-0.110301</td>\n",
       "      <td>-0.29791</td>\n",
       "      <td>-0.235689</td>\n",
       "      <td>4.610671</td>\n",
       "      <td>-0.249149</td>\n",
       "      <td>-0.18529</td>\n",
       "      <td>-0.256439</td>\n",
       "      <td>-0.255945</td>\n",
       "      <td>-0.658190</td>\n",
       "      <td>-0.442027</td>\n",
       "      <td>-0.502668</td>\n",
       "      <td>-0.244253</td>\n",
       "      <td>-1.077772</td>\n",
       "      <td>1.20362</td>\n",
       "    </tr>\n",
       "    <tr>\n",
       "      <th>5756</th>\n",
       "      <td>0.800233</td>\n",
       "      <td>0.355676</td>\n",
       "      <td>-1.411361</td>\n",
       "      <td>1.168624</td>\n",
       "      <td>0.784963</td>\n",
       "      <td>-0.351352</td>\n",
       "      <td>-0.110301</td>\n",
       "      <td>-0.29791</td>\n",
       "      <td>-0.235689</td>\n",
       "      <td>4.610671</td>\n",
       "      <td>-0.249149</td>\n",
       "      <td>-0.18529</td>\n",
       "      <td>-0.256439</td>\n",
       "      <td>-0.255945</td>\n",
       "      <td>-0.658190</td>\n",
       "      <td>-0.442027</td>\n",
       "      <td>-0.502668</td>\n",
       "      <td>-0.244253</td>\n",
       "      <td>-1.077772</td>\n",
       "      <td>1.20362</td>\n",
       "    </tr>\n",
       "    <tr>\n",
       "      <th>3994</th>\n",
       "      <td>0.111005</td>\n",
       "      <td>-1.298037</td>\n",
       "      <td>0.284518</td>\n",
       "      <td>-0.804229</td>\n",
       "      <td>1.455223</td>\n",
       "      <td>-0.351352</td>\n",
       "      <td>-0.110301</td>\n",
       "      <td>-0.29791</td>\n",
       "      <td>-0.235689</td>\n",
       "      <td>-0.241612</td>\n",
       "      <td>-0.249149</td>\n",
       "      <td>-0.18529</td>\n",
       "      <td>-0.256439</td>\n",
       "      <td>-0.255945</td>\n",
       "      <td>1.620948</td>\n",
       "      <td>-0.442027</td>\n",
       "      <td>-0.502668</td>\n",
       "      <td>-0.244253</td>\n",
       "      <td>-1.077772</td>\n",
       "      <td>1.20362</td>\n",
       "    </tr>\n",
       "    <tr>\n",
       "      <th>1784</th>\n",
       "      <td>-1.267449</td>\n",
       "      <td>-0.471180</td>\n",
       "      <td>-0.469206</td>\n",
       "      <td>-1.007046</td>\n",
       "      <td>-1.169963</td>\n",
       "      <td>2.972531</td>\n",
       "      <td>-0.110301</td>\n",
       "      <td>-0.29791</td>\n",
       "      <td>-0.235689</td>\n",
       "      <td>4.610671</td>\n",
       "      <td>-0.249149</td>\n",
       "      <td>-0.18529</td>\n",
       "      <td>-0.256439</td>\n",
       "      <td>-0.255945</td>\n",
       "      <td>-0.658190</td>\n",
       "      <td>-0.442027</td>\n",
       "      <td>-0.502668</td>\n",
       "      <td>-0.244253</td>\n",
       "      <td>-1.077772</td>\n",
       "      <td>1.20362</td>\n",
       "    </tr>\n",
       "    <tr>\n",
       "      <th>10508</th>\n",
       "      <td>0.111005</td>\n",
       "      <td>-0.471180</td>\n",
       "      <td>-0.167717</td>\n",
       "      <td>0.762991</td>\n",
       "      <td>1.455223</td>\n",
       "      <td>-0.351352</td>\n",
       "      <td>-0.110301</td>\n",
       "      <td>-0.29791</td>\n",
       "      <td>-0.235689</td>\n",
       "      <td>-0.241612</td>\n",
       "      <td>-0.249149</td>\n",
       "      <td>-0.18529</td>\n",
       "      <td>-0.256439</td>\n",
       "      <td>-0.255945</td>\n",
       "      <td>-0.658190</td>\n",
       "      <td>2.442235</td>\n",
       "      <td>-0.502668</td>\n",
       "      <td>-0.244253</td>\n",
       "      <td>-1.077772</td>\n",
       "      <td>1.20362</td>\n",
       "    </tr>\n",
       "  </tbody>\n",
       "</table>\n",
       "</div>"
      ],
      "text/plain": [
       "       number_project  time_spend_company  satisfaction_level  \\\n",
       "8578         1.489460            2.009388            1.000556   \n",
       "5756         0.800233            0.355676           -1.411361   \n",
       "3994         0.111005           -1.298037            0.284518   \n",
       "1784        -1.267449           -0.471180           -0.469206   \n",
       "10508        0.111005           -0.471180           -0.167717   \n",
       "\n",
       "       average_montly_hours  last_evaluation  Work_accident_1  \\\n",
       "8578              -0.232655         1.287658        -0.351352   \n",
       "5756               1.168624         0.784963        -0.351352   \n",
       "3994              -0.804229         1.455223        -0.351352   \n",
       "1784              -1.007046        -1.169963         2.972531   \n",
       "10508              0.762991         1.455223        -0.351352   \n",
       "\n",
       "       promotion_last_5years_1  division_IT  division_RandD  \\\n",
       "8578                 -0.110301     -0.29791       -0.235689   \n",
       "5756                 -0.110301     -0.29791       -0.235689   \n",
       "3994                 -0.110301     -0.29791       -0.235689   \n",
       "1784                 -0.110301     -0.29791       -0.235689   \n",
       "10508                -0.110301     -0.29791       -0.235689   \n",
       "\n",
       "       division_accounting  division_hr  division_management  \\\n",
       "8578              4.610671    -0.249149             -0.18529   \n",
       "5756              4.610671    -0.249149             -0.18529   \n",
       "3994             -0.241612    -0.249149             -0.18529   \n",
       "1784              4.610671    -0.249149             -0.18529   \n",
       "10508            -0.241612    -0.249149             -0.18529   \n",
       "\n",
       "       division_marketing  division_product_mng  division_sales  \\\n",
       "8578            -0.256439             -0.255945       -0.658190   \n",
       "5756            -0.256439             -0.255945       -0.658190   \n",
       "3994            -0.256439             -0.255945        1.620948   \n",
       "1784            -0.256439             -0.255945       -0.658190   \n",
       "10508           -0.256439             -0.255945       -0.658190   \n",
       "\n",
       "       division_support  division_technical  salary_high  salary_low  \\\n",
       "8578          -0.442027           -0.502668    -0.244253   -1.077772   \n",
       "5756          -0.442027           -0.502668    -0.244253   -1.077772   \n",
       "3994          -0.442027           -0.502668    -0.244253   -1.077772   \n",
       "1784          -0.442027           -0.502668    -0.244253   -1.077772   \n",
       "10508          2.442235           -0.502668    -0.244253   -1.077772   \n",
       "\n",
       "       salary_medium  \n",
       "8578         1.20362  \n",
       "5756         1.20362  \n",
       "3994         1.20362  \n",
       "1784         1.20362  \n",
       "10508        1.20362  "
      ]
     },
     "execution_count": 35,
     "metadata": {},
     "output_type": "execute_result"
    }
   ],
   "source": [
    "X_test_clean = transformTestData(data = X_test,\n",
    "                                 num_col = numerical_col,\n",
    "                                 cat_col = categorical_col,\n",
    "                                 encoder_col = encoder_col,\n",
    "                                 imputer_num = imputer_num,\n",
    "                                 imputer_cat = imputer_cat,\n",
    "                                 encoder_cat = encoder_OHE,\n",
    "                                 scaler = scaler)\n",
    "\n",
    "X_test_clean.head()"
   ]
  },
  {
   "cell_type": "code",
   "execution_count": 36,
   "metadata": {
    "colab": {
     "base_uri": "https://localhost:8080/"
    },
    "id": "wDlTRjxiMPpR",
    "outputId": "53824d63-0a03-440d-c735-6d19d9819433"
   },
   "outputs": [
    {
     "data": {
      "text/plain": [
       "Index(['number_project', 'time_spend_company', 'satisfaction_level',\n",
       "       'average_montly_hours', 'last_evaluation', 'Work_accident_1',\n",
       "       'promotion_last_5years_1', 'division_IT', 'division_RandD',\n",
       "       'division_accounting', 'division_hr', 'division_management',\n",
       "       'division_marketing', 'division_product_mng', 'division_sales',\n",
       "       'division_support', 'division_technical', 'salary_high', 'salary_low',\n",
       "       'salary_medium'],\n",
       "      dtype='object')"
      ]
     },
     "execution_count": 36,
     "metadata": {},
     "output_type": "execute_result"
    }
   ],
   "source": [
    "X_test_clean.columns"
   ]
  },
  {
   "cell_type": "code",
   "execution_count": 37,
   "metadata": {
    "colab": {
     "base_uri": "https://localhost:8080/"
    },
    "id": "IuZBTg-UMRrP",
    "outputId": "57bce4ef-8a1a-4730-df31-01976952e890"
   },
   "outputs": [
    {
     "data": {
      "text/plain": [
       "Index(['number_project', 'time_spend_company', 'satisfaction_level',\n",
       "       'average_montly_hours', 'last_evaluation', 'Work_accident_1',\n",
       "       'promotion_last_5years_1', 'division_IT', 'division_RandD',\n",
       "       'division_accounting', 'division_hr', 'division_management',\n",
       "       'division_marketing', 'division_product_mng', 'division_sales',\n",
       "       'division_support', 'division_technical', 'salary_high', 'salary_low',\n",
       "       'salary_medium'],\n",
       "      dtype='object')"
      ]
     },
     "execution_count": 37,
     "metadata": {},
     "output_type": "execute_result"
    }
   ],
   "source": [
    "X_train_clean.columns"
   ]
  },
  {
   "cell_type": "code",
   "execution_count": 38,
   "metadata": {
    "colab": {
     "base_uri": "https://localhost:8080/"
    },
    "id": "xOmKlWMEMd_3",
    "outputId": "f5abcac8-51c0-4e3e-9b05-7374ebfa76eb"
   },
   "outputs": [
    {
     "data": {
      "text/plain": [
       "20"
      ]
     },
     "execution_count": 38,
     "metadata": {},
     "output_type": "execute_result"
    }
   ],
   "source": [
    "len(X_train_clean.columns)"
   ]
  },
  {
   "cell_type": "markdown",
   "metadata": {
    "id": "8B8PYefIZCMo"
   },
   "source": [
    "*Done*"
   ]
  },
  {
   "cell_type": "markdown",
   "metadata": {
    "id": "vaM2nDFpuslh"
   },
   "source": [
    "---\n",
    "# Multi-Layer Perceptron (Neural Network)"
   ]
  },
  {
   "cell_type": "markdown",
   "metadata": {
    "id": "7RbEjVEUuvyu"
   },
   "source": [
    "- Mengadaptasi cara sel otak transfer & mengolah informasi.\n",
    "- Satuan terkecilnya adalah Neuron (Perceptron)"
   ]
  },
  {
   "cell_type": "markdown",
   "metadata": {
    "id": "Ps0MY342DSPA"
   },
   "source": [
    "<center>\n",
    "<img src=\"../assets/neural_nets/neural_nets.png\">\n",
    "<br>\n",
    "<a href=\"https://media.datacamp.com/legacy/v1725638284/image_bd3b978959.png\">source</a>\n",
    "</center>\n",
    "\n",
    "- 1 Perceptron dapat menerima beberapa input\n",
    "- 1 Perceptron mengeluarkan 1 output\n",
    "- Input-input akan dijumlahkan secara berbobot dahulu (`preActivation`)\n",
    "- Kemudian akan diaktifasi menggunakan `activation function` seperti Sigmoid, ReLU, TanH, dan sebagainya."
   ]
  },
  {
   "cell_type": "markdown",
   "metadata": {
    "id": "Yt_YIQbvEdNS"
   },
   "source": [
    "---\n",
    "## Feed Propagation\n",
    "- Misal kita ingin selesaikan kasus klasifikasi\n",
    "- Kita buat arsitektur Neural Network dengan 1 perceptron"
   ]
  },
  {
   "cell_type": "code",
   "execution_count": 39,
   "metadata": {
    "id": "Pom7iBy4Eb4O"
   },
   "outputs": [],
   "source": [
    "def preActivation(X, w):\n",
    "    \"\"\"\n",
    "    Fungsi untuk mendapatkan nilai pre activation (weighted-sum)\n",
    "    :param X: <pandas DataFrame> data input\n",
    "    :param w: <numpy array> weight dari masing-masing input\n",
    "    :return a: <numpy array> weighted sum atau pre activation\n",
    "    \"\"\"\n",
    "    a = np.dot(X, w[1:]) + w[0]\n",
    "\n",
    "    return a"
   ]
  },
  {
   "cell_type": "code",
   "execution_count": 40,
   "metadata": {
    "id": "Lkh-sSSeEcHw"
   },
   "outputs": [],
   "source": [
    "def activationFunction(a, types):\n",
    "    \"\"\"\n",
    "    Fungsi untuk melakukan aktifasi nilai pre activation\n",
    "    :param a: <numpy array> pre activation value\n",
    "    :param types: <str> pilihan fungsi aktivasi\n",
    "    :return y: <numpy array> output perceptron\n",
    "    \"\"\"\n",
    "    if types == \"linear\":\n",
    "        y = a\n",
    "    elif types == \"sigmoid\":\n",
    "        y = 1 / (1 + np.exp(-a))\n",
    "    elif types == \"relu\":\n",
    "        y = np.max(0, a)\n",
    "    else:\n",
    "        raise Exception(\"Activation Function tidak terdaftar\")\n",
    "\n",
    "    return y"
   ]
  },
  {
   "cell_type": "markdown",
   "metadata": {
    "id": "0h4IN0G7ZM_g"
   },
   "source": [
    "*Lakukan Forward Propagation*"
   ]
  },
  {
   "cell_type": "code",
   "execution_count": 41,
   "metadata": {
    "colab": {
     "base_uri": "https://localhost:8080/"
    },
    "id": "SaUdkDwAEcM_",
    "outputId": "5ad5edf8-a624-40bb-a2df-6de8d5951fe0"
   },
   "outputs": [
    {
     "data": {
      "text/plain": [
       "array([0.26275763, 0.5019218 , 0.68190836, 0.80361018, 0.67916032,\n",
       "       0.36425425, 0.48030902, 0.00429445, 0.4374751 , 0.6915018 ,\n",
       "       0.83718154, 0.28470988, 0.80999857, 0.71628825, 0.03143616,\n",
       "       0.18191245, 0.43899483, 0.22834847, 0.02807022, 0.52974836,\n",
       "       0.24303325])"
      ]
     },
     "execution_count": 41,
     "metadata": {},
     "output_type": "execute_result"
    }
   ],
   "source": [
    "# Buat random weight\n",
    "# Ada 20 weight & 1 bias\n",
    "w = np.random.rand(21)\n",
    "w"
   ]
  },
  {
   "cell_type": "markdown",
   "metadata": {
    "id": "7Woh8IRoPl0Y"
   },
   "source": [
    "*pada data train*"
   ]
  },
  {
   "cell_type": "code",
   "execution_count": 42,
   "metadata": {
    "id": "czfavT09EcP0"
   },
   "outputs": [],
   "source": [
    "# Cari pre-activation function\n",
    "a = preActivation(X = X_train_clean,\n",
    "                  w = w)"
   ]
  },
  {
   "cell_type": "code",
   "execution_count": 43,
   "metadata": {
    "id": "LuiLGn92tUmW"
   },
   "outputs": [],
   "source": [
    "# Cari output --> activate the pre-activation\n",
    "# Karena klasifikasi, activation function menggunakan Sigmoid\n",
    "y_pred_proba_train = activationFunction(a = a,\n",
    "                                        types = \"sigmoid\")"
   ]
  },
  {
   "cell_type": "code",
   "execution_count": 44,
   "metadata": {
    "id": "7cOCNFxoFKya"
   },
   "outputs": [],
   "source": [
    "# Buat prediksi\n",
    "thresh = 0.5\n",
    "\n",
    "y_pred_train = (y_pred_proba_train > thresh).astype(\"int\")"
   ]
  },
  {
   "cell_type": "markdown",
   "metadata": {
    "id": "EulJrrO0PoZp"
   },
   "source": [
    "*pada data test*"
   ]
  },
  {
   "cell_type": "code",
   "execution_count": 45,
   "metadata": {
    "id": "Qnp7Q4twPqsB"
   },
   "outputs": [],
   "source": [
    "# Cari pre-activation function\n",
    "a = preActivation(X = X_test_clean,\n",
    "                  w = w)"
   ]
  },
  {
   "cell_type": "code",
   "execution_count": 46,
   "metadata": {
    "id": "6T7ArlEQPqsG"
   },
   "outputs": [],
   "source": [
    "# Cari output --> activate the pre-activation\n",
    "# Karena klasifikasi, activation function menggunakan Sigmoid\n",
    "y_pred_proba_test = activationFunction(a = a,\n",
    "                                       types = \"sigmoid\")"
   ]
  },
  {
   "cell_type": "code",
   "execution_count": 47,
   "metadata": {
    "id": "wp2ey7RAPqsJ"
   },
   "outputs": [],
   "source": [
    "# Buat prediksi\n",
    "y_pred_test = (y_pred_proba_test > thresh).astype(\"int\")"
   ]
  },
  {
   "cell_type": "markdown",
   "metadata": {
    "id": "4OL50l5APz9K"
   },
   "source": [
    "*cek performa*"
   ]
  },
  {
   "cell_type": "code",
   "execution_count": 48,
   "metadata": {
    "id": "i2MfvwVEFM5z"
   },
   "outputs": [],
   "source": [
    "# Cari performa\n",
    "from sklearn.metrics import confusion_matrix\n",
    "from sklearn.metrics import accuracy_score\n",
    "from sklearn.metrics import classification_report\n",
    "from sklearn.metrics import roc_curve\n",
    "from sklearn.metrics import auc"
   ]
  },
  {
   "cell_type": "markdown",
   "metadata": {
    "id": "OpWln4Y7P2b3"
   },
   "source": [
    "*pada data train*"
   ]
  },
  {
   "cell_type": "code",
   "execution_count": 49,
   "metadata": {
    "colab": {
     "base_uri": "https://localhost:8080/"
    },
    "id": "KG4CPy3aa77Z",
    "outputId": "91333d90-2099-4320-b699-caf9dc0513ea"
   },
   "outputs": [
    {
     "data": {
      "text/plain": [
       "array([[3614, 4385],\n",
       "       [3688, 4311]])"
      ]
     },
     "execution_count": 49,
     "metadata": {},
     "output_type": "execute_result"
    }
   ],
   "source": [
    "# Tampilkan confusion matrix\n",
    "confusion_matrix(y_true = y_train,\n",
    "                 y_pred = y_pred_train)"
   ]
  },
  {
   "cell_type": "code",
   "execution_count": 50,
   "metadata": {
    "colab": {
     "base_uri": "https://localhost:8080/"
    },
    "id": "lUy-pCDkGMgo",
    "outputId": "8a903f4b-4dff-48c8-97da-6f17380cc23f"
   },
   "outputs": [
    {
     "data": {
      "text/plain": [
       "0.49537442180272534"
      ]
     },
     "execution_count": 50,
     "metadata": {},
     "output_type": "execute_result"
    }
   ],
   "source": [
    "# Tampilkan score\n",
    "accuracy_score(y_true = y_train,\n",
    "               y_pred = y_pred_train)"
   ]
  },
  {
   "cell_type": "code",
   "execution_count": 51,
   "metadata": {
    "colab": {
     "base_uri": "https://localhost:8080/"
    },
    "id": "H1JQvLiZGVto",
    "outputId": "7bf52f0e-24b1-43cf-ff54-c29221be80aa"
   },
   "outputs": [
    {
     "name": "stdout",
     "output_type": "stream",
     "text": [
      "              precision    recall  f1-score   support\n",
      "\n",
      "    stay (0)       0.49      0.45      0.47      7999\n",
      "    left (1)       0.50      0.54      0.52      7999\n",
      "\n",
      "    accuracy                           0.50     15998\n",
      "   macro avg       0.50      0.50      0.49     15998\n",
      "weighted avg       0.50      0.50      0.49     15998\n",
      "\n"
     ]
    }
   ],
   "source": [
    "# Tampilkan score\n",
    "print(classification_report(y_true = y_train,\n",
    "                            y_pred = y_pred_train,\n",
    "                            target_names = [\"stay (0)\", \"left (1)\"]))"
   ]
  },
  {
   "cell_type": "markdown",
   "metadata": {
    "id": "RxMNPFRAR0Cd"
   },
   "source": [
    "**Baseline**\n",
    "- karena data sudah balance, accuracy baseline adalah 50%\n",
    "- model ini lebih buruk dibanding baseline, jadi harus diimprove\n",
    "\n",
    "**Focus**\n",
    "- `weighted_avg recall` bernilai 0.49, artinya dari yang **benar-benar** left, hanya 49% yang berhasil diprediksi left.\n",
    "- Berarti masih ada hampir 50% karyawan yang left tapi salah prediksi, dengan kata lain resikonya besar.\n",
    "- Kita ingin kecilkan hal tersebut"
   ]
  },
  {
   "cell_type": "code",
   "execution_count": 52,
   "metadata": {
    "colab": {
     "base_uri": "https://localhost:8080/",
     "height": 473
    },
    "id": "wxWjZsyyPOiK",
    "outputId": "0bcebd62-2168-4629-c57c-d9cfcc99fbf5"
   },
   "outputs": [
    {
     "data": {
      "image/png": "[encoded data removed]",
      "text/plain": [
       "<Figure size 1000x700 with 1 Axes>"
      ]
     },
     "metadata": {},
     "output_type": "display_data"
    }
   ],
   "source": [
    "# ROC Curve\n",
    "fpr_lr, tpr_lr, threshold_lr = roc_curve(y_train,\n",
    "                                         y_pred_proba_train)\n",
    "roc_auc_lr = auc(fpr_lr, tpr_lr)\n",
    "\n",
    "plt.title('Receiver Operating Characteristic')\n",
    "plt.plot(fpr_lr, tpr_lr, 'b', label = 'AUC = %0.2f' % roc_auc_lr)\n",
    "plt.legend(loc = 'lower right')\n",
    "plt.plot([0, 1], [0, 1],'r--')\n",
    "plt.xlim([0, 1])\n",
    "plt.ylim([0, 1])\n",
    "plt.ylabel('True Positive Rate')\n",
    "plt.xlabel('False Positive Rate')\n",
    "plt.show()"
   ]
  },
  {
   "cell_type": "markdown",
   "metadata": {
    "id": "TNG_e_ftP_br"
   },
   "source": [
    "*pada data test*"
   ]
  },
  {
   "cell_type": "code",
   "execution_count": 53,
   "metadata": {
    "colab": {
     "base_uri": "https://localhost:8080/"
    },
    "id": "7L-bdxyFP_br",
    "outputId": "48e57394-8a23-4da1-a81a-18e066c5d32c"
   },
   "outputs": [
    {
     "data": {
      "text/plain": [
       "array([[ 878, 1123],\n",
       "       [ 179,  219]])"
      ]
     },
     "execution_count": 53,
     "metadata": {},
     "output_type": "execute_result"
    }
   ],
   "source": [
    "# Tampilkan confusion matrix\n",
    "confusion_matrix(y_true = y_test,\n",
    "                 y_pred = y_pred_test)"
   ]
  },
  {
   "cell_type": "code",
   "execution_count": 54,
   "metadata": {
    "colab": {
     "base_uri": "https://localhost:8080/"
    },
    "id": "E3ZJsen6P_bt",
    "outputId": "bbefa64b-05b0-46a0-828e-081520559b39"
   },
   "outputs": [
    {
     "data": {
      "text/plain": [
       "0.45727386411004584"
      ]
     },
     "execution_count": 54,
     "metadata": {},
     "output_type": "execute_result"
    }
   ],
   "source": [
    "# Tampilkan score\n",
    "accuracy_score(y_true = y_test,\n",
    "               y_pred = y_pred_test)"
   ]
  },
  {
   "cell_type": "code",
   "execution_count": 55,
   "metadata": {
    "colab": {
     "base_uri": "https://localhost:8080/"
    },
    "id": "kXBHjdqbP_bt",
    "outputId": "3aeebe5a-47fc-41a6-83bd-8a57b3eb97ac"
   },
   "outputs": [
    {
     "name": "stdout",
     "output_type": "stream",
     "text": [
      "              precision    recall  f1-score   support\n",
      "\n",
      "    stay (0)       0.83      0.44      0.57      2001\n",
      "    left (1)       0.16      0.55      0.25       398\n",
      "\n",
      "    accuracy                           0.46      2399\n",
      "   macro avg       0.50      0.49      0.41      2399\n",
      "weighted avg       0.72      0.46      0.52      2399\n",
      "\n"
     ]
    }
   ],
   "source": [
    "# Tampilkan score\n",
    "print(classification_report(y_true = y_test,\n",
    "                            y_pred = y_pred_test,\n",
    "                            target_names = [\"stay (0)\", \"left (1)\"]))"
   ]
  },
  {
   "cell_type": "code",
   "execution_count": 56,
   "metadata": {
    "colab": {
     "base_uri": "https://localhost:8080/",
     "height": 473
    },
    "id": "aWaPvvgWP_bu",
    "outputId": "f544c320-574c-42cd-a59f-303b26ac799a"
   },
   "outputs": [
    {
     "data": {
      "image/png": "[encoded data removed]",
      "text/plain": [
       "<Figure size 1000x700 with 1 Axes>"
      ]
     },
     "metadata": {},
     "output_type": "display_data"
    }
   ],
   "source": [
    "# ROC Curve\n",
    "fpr_lr, tpr_lr, threshold_lr = roc_curve(y_test,\n",
    "                                         y_pred_proba_test)\n",
    "roc_auc_lr = auc(fpr_lr, tpr_lr)\n",
    "\n",
    "plt.title('Receiver Operating Characteristic')\n",
    "plt.plot(fpr_lr, tpr_lr, 'b', label = 'AUC = %0.2f' % roc_auc_lr)\n",
    "plt.legend(loc = 'lower right')\n",
    "plt.plot([0, 1], [0, 1],'r--')\n",
    "plt.xlim([0, 1])\n",
    "plt.ylim([0, 1])\n",
    "plt.ylabel('True Positive Rate')\n",
    "plt.xlabel('False Positive Rate')\n",
    "plt.show()"
   ]
  },
  {
   "cell_type": "markdown",
   "metadata": {
    "id": "BqZv-WAtNZZG"
   },
   "source": [
    "Masih jelek, ingin kita improve"
   ]
  },
  {
   "cell_type": "markdown",
   "metadata": {
    "id": "MUN9A1eQbNMe"
   },
   "source": [
    "---\n",
    "# Gradient Descent"
   ]
  },
  {
   "cell_type": "markdown",
   "metadata": {
    "id": "ugCbrwS_bQKd"
   },
   "source": [
    "- Akurasi model random masih kecil, ingin kita tingkatkan\n",
    "- Artinya, **weight** ingin kita optimasi\n",
    "- Dapat dioptimasi menggunakan **Gradient Descent**"
   ]
  },
  {
   "cell_type": "markdown",
   "metadata": {
    "id": "znL2ejcPb9Dg"
   },
   "source": [
    "<center>\n",
    "<img src=\"https://static.javatpoint.com/tutorial/machine-learning/images/gradient-descent-in-machine-learning1.png\">\n",
    "<br>\n",
    "<a href=\"https://www.javatpoint.com/gradient-descent-in-machine-learning\">source</a>\n",
    "</center>"
   ]
  },
  {
   "cell_type": "markdown",
   "metadata": {
    "id": "Otj_hF0ScFnf"
   },
   "source": [
    "Algoritma:\n",
    "- Inisialisasi weight, *bisa random*\n",
    "- Cari gradient error terhadap weight\n",
    "- Lakukan update weight dari informasi gradient tersebut\n",
    "\n",
    "$$\n",
    "w_{\\text{new}} = w_{\\text{old}} - \\nabla_{w} E\n",
    "$$\n",
    "\n",
    "- Ulangi hingga stopping criteria tercapai (max. iteration atau weight tidak berubah --> $\\nabla_{w} E = 0$)"
   ]
  },
  {
   "cell_type": "markdown",
   "metadata": {
    "id": "TbgHgBDHct5g"
   },
   "source": [
    "---\n",
    "# Backpropagation & Gradient Descent\n",
    "\n",
    "$$\n",
    "\\begin{align*}\n",
    "a^{(i)} &= w_{0} + w_{1}x_{1}^{(i)} + w_{2}x_{2}^{(i)} + \\cdots + w_{20}x_{20}^{(i)} \\\\\n",
    "\\hat{y}^{(i)} &= \\sigma (a^{(i)}) = \\cfrac{1}{1 + \\exp(-a^{(i)})}\\\\\n",
    "\\text{error}^{(i)} &= (y^{(i)} - \\hat{y}^{(i)})^{2}\n",
    "\\end{align*}\n",
    "$$"
   ]
  },
  {
   "cell_type": "markdown",
   "metadata": {
    "id": "i4qanFPOdDCq"
   },
   "source": [
    "Cari gradient error menggunakan chain rules\n",
    "\n",
    "$$\n",
    "\\begin{align*}\n",
    "\\cfrac{\\partial \\text{error}}{\\partial w_{0}} &= \\cfrac{\\partial \\text{error}}{\\partial \\hat{y}} \\cdot \\cfrac{\\partial \\hat{y}}{\\partial a} \\cdot \\cfrac{\\partial a}{\\partial w_{0}} \\\\ \\\\\n",
    "\\cfrac{\\partial \\text{error}}{\\partial w_{1}} &= \\cfrac{\\partial \\text{error}}{\\partial \\hat{y}} \\cdot \\cfrac{\\partial \\hat{y}}{\\partial a} \\cdot \\cfrac{\\partial a}{\\partial w_{1}} \\\\ \\\\\n",
    "\\cfrac{\\partial \\text{error}}{\\partial w_{2}} &= \\cfrac{\\partial \\text{error}}{\\partial \\hat{y}} \\cdot \\cfrac{\\partial \\hat{y}}{\\partial a} \\cdot \\cfrac{\\partial a}{\\partial w_{2}} \\\\ \\\\\n",
    "\\vdots \\\\ \\\\\n",
    "\\cfrac{\\partial \\text{error}}{\\partial w_{20}} &= \\cfrac{\\partial \\text{error}}{\\partial \\hat{y}} \\cdot \\cfrac{\\partial \\hat{y}}{\\partial a} \\cdot \\cfrac{\\partial a}{\\partial w_{20}}\n",
    "\\end{align*}\n",
    "$$"
   ]
  },
  {
   "cell_type": "markdown",
   "metadata": {
    "id": "Nn1XtAWsehMC"
   },
   "source": [
    "Maka didapat\n",
    "\n",
    "$$\n",
    "\\begin{align*}\n",
    "\\cfrac{\\partial \\text{error}}{\\partial \\hat{y}} &= -2 (y - \\hat{y}) \\\\ \\\\\n",
    "\\cfrac{\\partial \\hat{y}}{\\partial a} &= \\sigma(a)(1 - \\sigma(a)) \\\\ \\\\\n",
    "\\cfrac{\\partial a}{\\partial w_{0}} &= 1 \\\\ \\\\\n",
    "\\cfrac{\\partial a}{\\partial w_{1}} &= x_{1} \\\\ \\\\\n",
    "\\cfrac{\\partial a}{\\partial w_{2}} &= x_{2} \\\\ \\\\\n",
    "\\vdots \\\\ \\\\\n",
    "\\cfrac{\\partial a}{\\partial w_{20}} &= x_{20}\n",
    "\\end{align*}\n",
    "$$"
   ]
  },
  {
   "cell_type": "code",
   "execution_count": 57,
   "metadata": {
    "id": "QXEmaloxb8TC"
   },
   "outputs": [],
   "source": [
    "def gradientDescent(X, y,\n",
    "                    learning_rate, max_iter,\n",
    "                    epsilon = 1e-6):\n",
    "    \"\"\"\n",
    "    Fungsi untuk melakukan update weight\n",
    "    \"\"\"\n",
    "    X = np.array(X)\n",
    "    n = X.shape[0]          # banyak data\n",
    "    p = X.shape[1] + 1      # banyak parameter\n",
    "\n",
    "    # Inisialisasi weights\n",
    "    w = np.ones(p)\n",
    "\n",
    "    # Inisialisasi\n",
    "    w_hist = []\n",
    "    loss_hist = []\n",
    "    iter = 0\n",
    "    previous_loss = 0\n",
    "\n",
    "    # Lakukan iterasi\n",
    "    for iter in range(max_iter):\n",
    "        # Buat prediksi\n",
    "        a = preActivation(X = X, w = w)\n",
    "        y_pred = activationFunction(a = a, types = \"sigmoid\")\n",
    "\n",
    "        # Cari error\n",
    "        current_loss = np.linalg.norm(y - y_pred)**2\n",
    "\n",
    "        if np.abs(previous_loss - current_loss) < epsilon:\n",
    "            break\n",
    "\n",
    "        # Update\n",
    "        previous_loss = current_loss\n",
    "        loss_hist.append(current_loss)\n",
    "        w_hist.append(w)\n",
    "\n",
    "        # Cari gradient error\n",
    "        derr_dy = -2 * (y - y_pred)\n",
    "        dy_da = y_pred * (1 - y_pred)\n",
    "\n",
    "        derr_dw = np.zeros(p)\n",
    "        for j in range(p):\n",
    "            # Cari da_dw_j\n",
    "            if j == 0:\n",
    "                da_dw = np.ones(n)\n",
    "            else:\n",
    "                da_dw = X[:, j-1]\n",
    "\n",
    "            # Cari error\n",
    "            derr_dw[j] = np.sum(derr_dy * dy_da * da_dw)\n",
    "\n",
    "\n",
    "        # Update weight dari gradient error\n",
    "        for j in range(p):\n",
    "            w[j] = w[j] - learning_rate * derr_dw[j]\n",
    "\n",
    "        if iter%100 == 0:\n",
    "            print(f\"iterasi {iter+1} - Loss: {current_loss:.4f}\")\n",
    "\n",
    "    # Print last iteration\n",
    "    print(f\"iterasi {iter+1} - Loss: {current_loss:.4f}\")\n",
    "\n",
    "    return loss_hist, w_hist"
   ]
  },
  {
   "cell_type": "code",
   "execution_count": 58,
   "metadata": {
    "colab": {
     "base_uri": "https://localhost:8080/"
    },
    "id": "EqWhHxFPHFB3",
    "outputId": "fc238d09-a932-4841-cd82-550d5d17fd3c"
   },
   "outputs": [
    {
     "name": "stdout",
     "output_type": "stream",
     "text": [
      "iterasi 1 - Loss: 7488.0234\n",
      "iterasi 101 - Loss: 2016.9170\n",
      "iterasi 201 - Loss: 2011.2898\n",
      "iterasi 301 - Loss: 1996.1502\n",
      "iterasi 401 - Loss: 1990.9004\n",
      "iterasi 501 - Loss: 1989.6204\n",
      "iterasi 601 - Loss: 1988.8604\n",
      "iterasi 701 - Loss: 1988.3137\n",
      "iterasi 801 - Loss: 1987.9106\n",
      "iterasi 901 - Loss: 1987.6088\n",
      "iterasi 1001 - Loss: 1987.3803\n",
      "iterasi 1101 - Loss: 1987.2059\n",
      "iterasi 1201 - Loss: 1987.0720\n",
      "iterasi 1301 - Loss: 1986.9686\n",
      "iterasi 1401 - Loss: 1986.8885\n",
      "iterasi 1501 - Loss: 1986.8262\n",
      "iterasi 1601 - Loss: 1986.7778\n",
      "iterasi 1701 - Loss: 1986.7400\n",
      "iterasi 1801 - Loss: 1986.7105\n",
      "iterasi 1901 - Loss: 1986.6874\n",
      "iterasi 2001 - Loss: 1986.6693\n",
      "iterasi 2101 - Loss: 1986.6552\n",
      "iterasi 2201 - Loss: 1986.6441\n",
      "iterasi 2301 - Loss: 1986.6354\n",
      "iterasi 2401 - Loss: 1986.6286\n",
      "iterasi 2501 - Loss: 1986.6233\n",
      "iterasi 2601 - Loss: 1986.6191\n",
      "iterasi 2701 - Loss: 1986.6158\n",
      "iterasi 2801 - Loss: 1986.6132\n",
      "iterasi 2901 - Loss: 1986.6112\n",
      "iterasi 3001 - Loss: 1986.6096\n",
      "iterasi 3101 - Loss: 1986.6084\n",
      "iterasi 3201 - Loss: 1986.6074\n",
      "iterasi 3301 - Loss: 1986.6067\n",
      "iterasi 3401 - Loss: 1986.6061\n",
      "iterasi 3501 - Loss: 1986.6056\n",
      "iterasi 3601 - Loss: 1986.6052\n",
      "iterasi 3701 - Loss: 1986.6049\n",
      "iterasi 3801 - Loss: 1986.6047\n",
      "iterasi 3901 - Loss: 1986.6045\n",
      "iterasi 4001 - Loss: 1986.6044\n",
      "iterasi 4101 - Loss: 1986.6043\n",
      "iterasi 4201 - Loss: 1986.6042\n",
      "iterasi 4301 - Loss: 1986.6041\n",
      "iterasi 4401 - Loss: 1986.6041\n",
      "iterasi 4501 - Loss: 1986.6040\n",
      "iterasi 4601 - Loss: 1986.6040\n",
      "iterasi 4701 - Loss: 1986.6040\n",
      "iterasi 4801 - Loss: 1986.6039\n",
      "iterasi 4901 - Loss: 1986.6039\n",
      "iterasi 5000 - Loss: 1973.1173\n"
     ]
    }
   ],
   "source": [
    "loss_hist, w_hist = gradientDescent(X = X_train_clean,\n",
    "                                    y = y_train,\n",
    "                                    learning_rate = 0.01,\n",
    "                                    max_iter = 5000)"
   ]
  },
  {
   "cell_type": "code",
   "execution_count": 59,
   "metadata": {
    "colab": {
     "base_uri": "https://localhost:8080/",
     "height": 452
    },
    "id": "dsiTLv7aP3A0",
    "outputId": "a732c201-5270-4077-ddc8-bd68b7cde7a2"
   },
   "outputs": [
    {
     "data": {
      "image/png": "[encoded data removed]",
      "text/plain": [
       "<Figure size 1000x700 with 1 Axes>"
      ]
     },
     "metadata": {},
     "output_type": "display_data"
    }
   ],
   "source": [
    "# Plot Error history\n",
    "plt.plot([i for i in range(len(loss_hist))], loss_hist)\n",
    "plt.xlabel(\"Iteration\")\n",
    "plt.ylabel(\"Loss\")\n",
    "\n",
    "plt.show()"
   ]
  },
  {
   "cell_type": "code",
   "execution_count": 60,
   "metadata": {
    "colab": {
     "base_uri": "https://localhost:8080/"
    },
    "id": "j96wyF9E3qwy",
    "outputId": "e018c810-93c6-487f-df56-d3fb60ba6e93"
   },
   "outputs": [
    {
     "data": {
      "text/plain": [
       "array([ -2.29865596,  -7.45527133,  18.16754857, -10.64140682,\n",
       "        -0.41842444,   0.46063444,  -0.68579555,  -3.71723479,\n",
       "         0.82233564,   0.52699169,   0.58754645,   0.81801107,\n",
       "         0.46616608,   0.84485667,   0.89298002,   1.62327   ,\n",
       "         0.99360182,   1.36399791,   0.20190845,   1.2625896 ,\n",
       "         1.10212237])"
      ]
     },
     "execution_count": 60,
     "metadata": {},
     "output_type": "execute_result"
    }
   ],
   "source": [
    "# Cari best weights\n",
    "w_best = w_hist[-1]\n",
    "w_best"
   ]
  },
  {
   "cell_type": "markdown",
   "metadata": {
    "id": "jpEVrTG4RhyR"
   },
   "source": [
    "*Pada data train*"
   ]
  },
  {
   "cell_type": "code",
   "execution_count": 61,
   "metadata": {
    "id": "i_z28ze0RhyV"
   },
   "outputs": [],
   "source": [
    "# Cari pre-activation function\n",
    "a = preActivation(X = X_train_clean,\n",
    "                  w = w_best)"
   ]
  },
  {
   "cell_type": "code",
   "execution_count": 62,
   "metadata": {
    "id": "gdnOCuXMRhyZ"
   },
   "outputs": [],
   "source": [
    "# Cari output --> activate the pre-activation\n",
    "# Karena klasifikasi, activation function menggunakan Sigmoid\n",
    "y_pred_proba_train = activationFunction(a = a,\n",
    "                                        types = \"sigmoid\")"
   ]
  },
  {
   "cell_type": "code",
   "execution_count": 63,
   "metadata": {
    "id": "mu1aNaH4Rhyb"
   },
   "outputs": [],
   "source": [
    "# Buat prediksi\n",
    "thresh = 0.5\n",
    "\n",
    "y_pred_train = (y_pred_proba_train > thresh).astype(\"int\")"
   ]
  },
  {
   "cell_type": "markdown",
   "metadata": {
    "id": "6JaKVyQ9Rhyd"
   },
   "source": [
    "*pada data test*"
   ]
  },
  {
   "cell_type": "code",
   "execution_count": 64,
   "metadata": {
    "id": "6MBddKDxRhye"
   },
   "outputs": [],
   "source": [
    "# Cari pre-activation function\n",
    "a = preActivation(X = X_test_clean,\n",
    "                  w = w_best)"
   ]
  },
  {
   "cell_type": "code",
   "execution_count": 65,
   "metadata": {
    "id": "picobTSrRhyf"
   },
   "outputs": [],
   "source": [
    "# Cari output --> activate the pre-activation\n",
    "# Karena klasifikasi, activation function menggunakan Sigmoid\n",
    "y_pred_proba_test = activationFunction(a = a,\n",
    "                                       types = \"sigmoid\")"
   ]
  },
  {
   "cell_type": "code",
   "execution_count": 66,
   "metadata": {
    "id": "qPUjQ8SNRhyg"
   },
   "outputs": [],
   "source": [
    "# Buat prediksi\n",
    "y_pred_test = (y_pred_proba_test > thresh).astype(\"int\")"
   ]
  },
  {
   "cell_type": "markdown",
   "metadata": {
    "id": "MeaAXCy5Rhyg"
   },
   "source": [
    "*cek performa*"
   ]
  },
  {
   "cell_type": "markdown",
   "metadata": {
    "id": "FVQJbnrRRhyh"
   },
   "source": [
    "*pada data train*"
   ]
  },
  {
   "cell_type": "code",
   "execution_count": 67,
   "metadata": {
    "colab": {
     "base_uri": "https://localhost:8080/"
    },
    "id": "ZlQ6d33dRhyi",
    "outputId": "fe1d2ffc-5df4-448d-d758-c8adea381946"
   },
   "outputs": [
    {
     "data": {
      "text/plain": [
       "array([[6279, 1720],\n",
       "       [ 358, 7641]])"
      ]
     },
     "execution_count": 67,
     "metadata": {},
     "output_type": "execute_result"
    }
   ],
   "source": [
    "# Tampilkan confusion matrix\n",
    "confusion_matrix(y_true = y_train,\n",
    "                 y_pred = y_pred_train)"
   ]
  },
  {
   "cell_type": "code",
   "execution_count": 68,
   "metadata": {
    "colab": {
     "base_uri": "https://localhost:8080/"
    },
    "id": "USRqdX1DRhyj",
    "outputId": "374a600f-3e9d-41f5-f075-5a8bdf8ecff2"
   },
   "outputs": [
    {
     "data": {
      "text/plain": [
       "0.8701087635954494"
      ]
     },
     "execution_count": 68,
     "metadata": {},
     "output_type": "execute_result"
    }
   ],
   "source": [
    "# Tampilkan score\n",
    "accuracy_score(y_true = y_train,\n",
    "               y_pred = y_pred_train)"
   ]
  },
  {
   "cell_type": "code",
   "execution_count": 69,
   "metadata": {
    "colab": {
     "base_uri": "https://localhost:8080/"
    },
    "id": "Tluz5bXyRhyl",
    "outputId": "30037085-ef01-4074-99da-753bfa3685a2"
   },
   "outputs": [
    {
     "name": "stdout",
     "output_type": "stream",
     "text": [
      "              precision    recall  f1-score   support\n",
      "\n",
      "    stay (0)       0.95      0.78      0.86      7999\n",
      "    left (1)       0.82      0.96      0.88      7999\n",
      "\n",
      "    accuracy                           0.87     15998\n",
      "   macro avg       0.88      0.87      0.87     15998\n",
      "weighted avg       0.88      0.87      0.87     15998\n",
      "\n"
     ]
    }
   ],
   "source": [
    "# Tampilkan score\n",
    "print(classification_report(y_true = y_train,\n",
    "                            y_pred = y_pred_train,\n",
    "                            target_names = [\"stay (0)\", \"left (1)\"]))"
   ]
  },
  {
   "cell_type": "markdown",
   "metadata": {
    "id": "l-oUDpc_riqO"
   },
   "source": [
    "- Ada perbaikan recall, tadinya 49% sekarang jadi 87%\n",
    "- Membaik"
   ]
  },
  {
   "cell_type": "code",
   "execution_count": 70,
   "metadata": {
    "colab": {
     "base_uri": "https://localhost:8080/",
     "height": 473
    },
    "id": "o4kV-lYmRhyl",
    "outputId": "5393b2c5-d7e1-4688-aae9-392867eab6d3"
   },
   "outputs": [
    {
     "data": {
      "image/png": "[encoded data removed]",
      "text/plain": [
       "<Figure size 1000x700 with 1 Axes>"
      ]
     },
     "metadata": {},
     "output_type": "display_data"
    }
   ],
   "source": [
    "# ROC Curve\n",
    "fpr_lr, tpr_lr, threshold_lr = roc_curve(y_train,\n",
    "                                         y_pred_proba_train)\n",
    "roc_auc_lr = auc(fpr_lr, tpr_lr)\n",
    "\n",
    "plt.title('Receiver Operating Characteristic')\n",
    "plt.plot(fpr_lr, tpr_lr, 'b', label = 'AUC = %0.2f' % roc_auc_lr)\n",
    "plt.legend(loc = 'lower right')\n",
    "plt.plot([0, 1], [0, 1],'r--')\n",
    "plt.xlim([0, 1])\n",
    "plt.ylim([0, 1])\n",
    "plt.ylabel('True Positive Rate')\n",
    "plt.xlabel('False Positive Rate')\n",
    "plt.show()"
   ]
  },
  {
   "cell_type": "markdown",
   "metadata": {
    "id": "PmeN4JA_Rhym"
   },
   "source": [
    "*pada data test*"
   ]
  },
  {
   "cell_type": "code",
   "execution_count": 71,
   "metadata": {
    "colab": {
     "base_uri": "https://localhost:8080/"
    },
    "id": "MwZDmOOjRhyn",
    "outputId": "4b8b2382-b48f-45c5-be6f-726fb8b1c8ec"
   },
   "outputs": [
    {
     "data": {
      "text/plain": [
       "array([[1538,  463],\n",
       "       [  27,  371]])"
      ]
     },
     "execution_count": 71,
     "metadata": {},
     "output_type": "execute_result"
    }
   ],
   "source": [
    "# Tampilkan confusion matrix\n",
    "confusion_matrix(y_true = y_test,\n",
    "                 y_pred = y_pred_test)"
   ]
  },
  {
   "cell_type": "code",
   "execution_count": 72,
   "metadata": {
    "colab": {
     "base_uri": "https://localhost:8080/"
    },
    "id": "4GuyOu6MRhyn",
    "outputId": "aa714e70-2086-49ba-9462-043d8ff38bae"
   },
   "outputs": [
    {
     "data": {
      "text/plain": [
       "0.7957482284285119"
      ]
     },
     "execution_count": 72,
     "metadata": {},
     "output_type": "execute_result"
    }
   ],
   "source": [
    "# Tampilkan score\n",
    "accuracy_score(y_true = y_test,\n",
    "               y_pred = y_pred_test)"
   ]
  },
  {
   "cell_type": "code",
   "execution_count": 73,
   "metadata": {
    "colab": {
     "base_uri": "https://localhost:8080/"
    },
    "id": "kDTuqYPaRhyo",
    "outputId": "afce2306-0071-4b74-fae6-5632db1ecc53"
   },
   "outputs": [
    {
     "name": "stdout",
     "output_type": "stream",
     "text": [
      "              precision    recall  f1-score   support\n",
      "\n",
      "    stay (0)       0.98      0.77      0.86      2001\n",
      "    left (1)       0.44      0.93      0.60       398\n",
      "\n",
      "    accuracy                           0.80      2399\n",
      "   macro avg       0.71      0.85      0.73      2399\n",
      "weighted avg       0.89      0.80      0.82      2399\n",
      "\n"
     ]
    }
   ],
   "source": [
    "# Tampilkan score\n",
    "print(classification_report(y_true = y_test,\n",
    "                            y_pred = y_pred_test,\n",
    "                            target_names = [\"stay (0)\", \"left (1)\"]))"
   ]
  },
  {
   "cell_type": "code",
   "execution_count": 74,
   "metadata": {
    "colab": {
     "base_uri": "https://localhost:8080/",
     "height": 473
    },
    "id": "exjmUYAmRhyo",
    "outputId": "2af6bb2f-c266-475c-bba3-975c8f02ed95"
   },
   "outputs": [
    {
     "data": {
      "image/png": "[encoded data removed]",
      "text/plain": [
       "<Figure size 1000x700 with 1 Axes>"
      ]
     },
     "metadata": {},
     "output_type": "display_data"
    }
   ],
   "source": [
    "# ROC Curve\n",
    "fpr_lr, tpr_lr, threshold_lr = roc_curve(y_test,\n",
    "                                         y_pred_proba_test)\n",
    "roc_auc_lr = auc(fpr_lr, tpr_lr)\n",
    "\n",
    "plt.title('Receiver Operating Characteristic')\n",
    "plt.plot(fpr_lr, tpr_lr, 'b', label = 'AUC = %0.2f' % roc_auc_lr)\n",
    "plt.legend(loc = 'lower right')\n",
    "plt.plot([0, 1], [0, 1],'r--')\n",
    "plt.xlim([0, 1])\n",
    "plt.ylim([0, 1])\n",
    "plt.ylabel('True Positive Rate')\n",
    "plt.xlabel('False Positive Rate')\n",
    "plt.show()"
   ]
  }
 ],
 "metadata": {
  "colab": {
   "provenance": []
  },
  "kernelspec": {
   "display_name": ".venv",
   "language": "python",
   "name": "python3"
  },
  "language_info": {
   "codemirror_mode": {
    "name": "ipython",
    "version": 3
   },
   "file_extension": ".py",
   "mimetype": "text/x-python",
   "name": "python",
   "nbconvert_exporter": "python",
   "pygments_lexer": "ipython3",
   "version": "3.10.14"
  }
 },
 "nbformat": 4,
 "nbformat_minor": 1
}
