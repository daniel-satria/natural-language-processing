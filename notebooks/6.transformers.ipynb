{
 "cells": [
  {
   "cell_type": "markdown",
   "metadata": {
    "id": "b0sSd7IBCqkH"
   },
   "source": [
    "# **6. Transformers**"
   ]
  },
  {
   "cell_type": "markdown",
   "metadata": {
    "id": "zSh9xYvMC-hy"
   },
   "source": [
    "# Background\n",
    "\n",
    "\n",
    "Transformer was developed / found in 2017 in the notorious paper [\"Attention is All You Need\" ](https://arxiv.org/pdf/1706.03762.pdf) , So TLDR what are the transformer trying to solve\n",
    "\n",
    "1. **Problem with RNN in previous architecture Encoder - Decoder**\n",
    "\n",
    "    Such as long time for training because the operation is sequential and cannot be done in pararel manner.\n"
   ]
  },
  {
   "cell_type": "markdown",
   "metadata": {
    "id": "bPVJUUkSHa1a"
   },
   "source": [
    "**So what task can be achieved with Transformer Architecture ?**\n",
    "\n",
    "The base concept is encoder-decoder --> which is sequence to sequence task, what can be framed as sequence to sequence task ?\n",
    "\n",
    "- Machine Translation\n",
    "- Summarization\n",
    "- Code Generation\n",
    "- etc."
   ]
  },
  {
   "cell_type": "markdown",
   "metadata": {
    "id": "8vFj-xnQICf6"
   },
   "source": [
    "## Task\n",
    "\n",
    "So what are we going to apply the transformer in this task ? we want to apply it on the machine translation task so that we could compare what is the improvement compared to previous **Encoder-Decoder** Architecture"
   ]
  },
  {
   "cell_type": "markdown",
   "metadata": {
    "id": "eH6Atd6cDHXk"
   },
   "source": [
    "# Preparing Data"
   ]
  },
  {
   "cell_type": "markdown",
   "metadata": {
    "id": "GICUkC2kITZO"
   },
   "source": [
    "We already know what our task, next, we need the data itself. What data do we need ? Translation Pair, we will be using Indonesia-English Translation dataset"
   ]
  },
  {
   "cell_type": "markdown",
   "metadata": {
    "id": "FMQGQhQ4HYJF"
   },
   "source": [
    "## Prepare Dataset"
   ]
  },
  {
   "cell_type": "markdown",
   "metadata": {
    "id": "kX9g37pAGkvZ"
   },
   "source": [
    "So, first, of course we need to collect the data first from [Bilingual Sentence pairs](https://www.manythings.org/anki/), we are going to use [English to Indonesia Translation ](https://www.manythings.org/anki/ind-eng.zip)"
   ]
  },
  {
   "cell_type": "markdown",
   "metadata": {
    "id": "tPimp2oYHXfb"
   },
   "source": [
    "### Download Dataset"
   ]
  },
  {
   "cell_type": "code",
   "execution_count": 1,
   "metadata": {
    "id": "Mq0UwStnO-l-"
   },
   "outputs": [
    {
     "name": "stderr",
     "output_type": "stream",
     "text": [
      "/home/ubuntu/learning/natural-language-processing/.venv/lib/python3.10/site-packages/torchtext/datasets/__init__.py:4: UserWarning: \n",
      "/!\\ IMPORTANT WARNING ABOUT TORCHTEXT STATUS /!\\ \n",
      "Torchtext is deprecated and the last released version will be 0.18 (this one). You can silence this warning by calling the following at the beginnign of your scripts: `import torchtext; torchtext.disable_torchtext_deprecation_warning()`\n",
      "  warnings.warn(torchtext._TORCHTEXT_DEPRECATION_MSG)\n",
      "/home/ubuntu/learning/natural-language-processing/.venv/lib/python3.10/site-packages/torchtext/data/__init__.py:4: UserWarning: \n",
      "/!\\ IMPORTANT WARNING ABOUT TORCHTEXT STATUS /!\\ \n",
      "Torchtext is deprecated and the last released version will be 0.18 (this one). You can silence this warning by calling the following at the beginnign of your scripts: `import torchtext; torchtext.disable_torchtext_deprecation_warning()`\n",
      "  warnings.warn(torchtext._TORCHTEXT_DEPRECATION_MSG)\n"
     ]
    }
   ],
   "source": [
    "# Load this library\n",
    "import numpy as np\n",
    "import pandas as pd\n",
    "\n",
    "\n",
    "import math\n",
    "import os\n",
    "import re\n",
    "from typing import Tuple\n",
    "\n",
    "\n",
    "import torch\n",
    "import torch.nn.functional as F\n",
    "from torch import nn, Tensor\n",
    "\n",
    "from torchtext import datasets\n",
    "\n",
    "from tqdm import tqdm\n",
    "import time\n",
    "\n",
    "import matplotlib.pyplot as plt\n",
    "\n",
    "from datetime import datetime"
   ]
  },
  {
   "cell_type": "code",
   "execution_count": 2,
   "metadata": {
    "id": "rWhi5G7Kqmi-"
   },
   "outputs": [
    {
     "name": "stdout",
     "output_type": "stream",
     "text": [
      "--2024-12-21 15:18:51--  https://www.manythings.org/anki/ind-eng.zip\n",
      "Resolving www.manythings.org (www.manythings.org)... 173.254.30.110\n",
      "Connecting to www.manythings.org (www.manythings.org)|173.254.30.110|:443... connected.\n",
      "HTTP request sent, awaiting response... 200 OK\n",
      "Length: 515888 (504K) [application/zip]\n",
      "Saving to: ‘ind-eng.zip’\n",
      "\n",
      "ind-eng.zip         100%[===================>] 503.80K   388KB/s    in 1.3s    \n",
      "\n",
      "2024-12-21 15:18:53 (388 KB/s) - ‘ind-eng.zip’ saved [515888/515888]\n",
      "\n",
      "Archive:  ind-eng.zip\n",
      "  inflating: _about.txt              \n",
      "  inflating: ind.txt                 \n"
     ]
    }
   ],
   "source": [
    "# download the dataset first and unzip\n",
    "if os.path.exists('/content/ind-eng.zip') :\n",
    "  pass\n",
    "else :\n",
    "  !wget https://www.manythings.org/anki/ind-eng.zip\n",
    "  !unzip ind-eng.zip"
   ]
  },
  {
   "cell_type": "markdown",
   "metadata": {
    "id": "Hpln4EYIHsjh"
   },
   "source": [
    "### Read Dataset"
   ]
  },
  {
   "cell_type": "code",
   "execution_count": 3,
   "metadata": {
    "id": "rWP446FCHzHS"
   },
   "outputs": [],
   "source": [
    "with open('ind.txt','r',encoding='utf-8') as f :\n",
    "      data = f.readlines()"
   ]
  },
  {
   "cell_type": "code",
   "execution_count": 4,
   "metadata": {
    "colab": {
     "base_uri": "https://localhost:8080/",
     "height": 36
    },
    "id": "HAR_V1pdH0mJ",
    "outputId": "42985d8c-e90d-40a9-82ac-709b6002e7b6"
   },
   "outputs": [
    {
     "data": {
      "text/plain": [
       "'Hi.\\tHai.\\tCC-BY 2.0 (France) Attribution: tatoeba.org #538123 (CM) & #11252770 (Pacific)\\n'"
      ]
     },
     "execution_count": 4,
     "metadata": {},
     "output_type": "execute_result"
    }
   ],
   "source": [
    "# take a look from our data\n",
    "data[0]"
   ]
  },
  {
   "cell_type": "code",
   "execution_count": 5,
   "metadata": {
    "colab": {
     "base_uri": "https://localhost:8080/",
     "height": 36
    },
    "id": "7aB9fU5vIQDd",
    "outputId": "1744f5b3-34e1-4a7b-8473-cfabef4a39f9"
   },
   "outputs": [
    {
     "data": {
      "text/plain": [
       "'Shut up!\\tDiamlah!\\tCC-BY 2.0 (France) Attribution: tatoeba.org #462430 (lukaszpp) & #7846862 (dbahasa)\\n'"
      ]
     },
     "execution_count": 5,
     "metadata": {},
     "output_type": "execute_result"
    }
   ],
   "source": [
    "data[90]"
   ]
  },
  {
   "cell_type": "markdown",
   "metadata": {
    "id": "4ICfZJYrH3_2"
   },
   "source": [
    "We see that our english and indonesian sentence pair was separated by Tab, `\\t` Hence we need to split it first and get two first element"
   ]
  },
  {
   "cell_type": "markdown",
   "metadata": {
    "id": "xIZlTJaAIXIk"
   },
   "source": [
    "The sentence length is different for each sentence, we can set maximum sentence length, the more sentence length we use --> the more data we collect, and the longer training process, since this only for  educational purpose, we will set small size of max_seq with `20`."
   ]
  },
  {
   "cell_type": "code",
   "execution_count": 6,
   "metadata": {
    "id": "Sc5jlo4lbEoS"
   },
   "outputs": [],
   "source": [
    "# max sequence for padding\n",
    "max_seq = 10\n",
    "# collect data\n",
    "eng = []\n",
    "idn = []\n",
    "for rows in data :\n",
    "  # extract\n",
    "  # get first and second split\n",
    "  splitted_ = rows.split('\\t')\n",
    "  eng.append(splitted_[0].split(' '))\n",
    "  idn.append(splitted_[1].split(' '))\n",
    "\n",
    "  # calculate seq length\n",
    "  max_indo_eng  = max(len(splitted_[0].split(' ')),len(splitted_[1].split(' ')))\n",
    "\n",
    "  if max_indo_eng > max_seq :\n",
    "    continue\n",
    "\n"
   ]
  },
  {
   "cell_type": "code",
   "execution_count": 7,
   "metadata": {
    "id": "eUSWzAqIIHGt"
   },
   "outputs": [],
   "source": [
    "def collect_dataset(data, max_seq=20) :\n",
    "    # collect data\n",
    "    source = []\n",
    "    target = []\n",
    "\n",
    "    for rows in data :\n",
    "        # extract\n",
    "        # get first and second split\n",
    "        splitted_ = rows.split('\\t')\n",
    "\n",
    "\n",
    "        # calculate seq length\n",
    "        max_length  = max(len(splitted_[0].split(' ')),len(splitted_[1].split(' ')))\n",
    "\n",
    "        if max_length == max_seq :\n",
    "            source.append(splitted_[0].split(' '))\n",
    "            target.append(splitted_[1].split(' '))\n",
    "        else :\n",
    "          continue\n",
    "\n",
    "\n",
    "    return source,target\n"
   ]
  },
  {
   "cell_type": "code",
   "execution_count": 8,
   "metadata": {
    "id": "882wb29C5LXE"
   },
   "outputs": [],
   "source": [
    "eng,idn = collect_dataset(data, max_seq=10)"
   ]
  },
  {
   "cell_type": "markdown",
   "metadata": {
    "id": "OQfatBR0I4WO"
   },
   "source": [
    " Validate the result"
   ]
  },
  {
   "cell_type": "code",
   "execution_count": 9,
   "metadata": {
    "colab": {
     "base_uri": "https://localhost:8080/"
    },
    "id": "LkpAtm8HI53u",
    "outputId": "67f4a620-6ad8-495c-b2ba-4295f5f46b1a"
   },
   "outputs": [
    {
     "data": {
      "text/plain": [
       "[['I', 'said', \"I'd\", 'talk', 'to', 'Tom', 'about', 'it.'],\n",
       " ['If', 'anybody', 'can', 'fix', 'it,', \"it's\", 'Tom.'],\n",
       " ['I', 'apologize', 'for', 'what', 'Tom', 'has', 'done.'],\n",
       " ['I', 'only', 'told', 'Tom', 'what', 'Mary', 'told', 'me.'],\n",
       " ['I', 'think', 'I', 'know', 'why', 'Tom', \"isn't\", 'here.']]"
      ]
     },
     "execution_count": 9,
     "metadata": {},
     "output_type": "execute_result"
    }
   ],
   "source": [
    "eng[:5]"
   ]
  },
  {
   "cell_type": "code",
   "execution_count": 10,
   "metadata": {
    "colab": {
     "base_uri": "https://localhost:8080/"
    },
    "id": "1j8jhj8KJA-4",
    "outputId": "f846ec9c-eaa4-4f38-a771-0c7d5ce2b48c"
   },
   "outputs": [
    {
     "data": {
      "text/plain": [
       "[['Aku',\n",
       "  'bilang',\n",
       "  'aku',\n",
       "  'akan',\n",
       "  'bicara',\n",
       "  'pada',\n",
       "  'Tom',\n",
       "  'tentang',\n",
       "  'hal',\n",
       "  'itu.'],\n",
       " ['Jika',\n",
       "  'ada',\n",
       "  'orang',\n",
       "  'yang',\n",
       "  'dapat',\n",
       "  'memperbaikinya,',\n",
       "  'orang',\n",
       "  'itu',\n",
       "  'adalah',\n",
       "  'Tom.'],\n",
       " ['Saya',\n",
       "  'minta',\n",
       "  'maaf',\n",
       "  'atas',\n",
       "  'apa',\n",
       "  'yang',\n",
       "  'telah',\n",
       "  'diperbuat',\n",
       "  'oleh',\n",
       "  'Tom.'],\n",
       " ['Aku',\n",
       "  'hanya',\n",
       "  'memberi',\n",
       "  'tahu',\n",
       "  'Tom',\n",
       "  'apa',\n",
       "  'yang',\n",
       "  'Mary',\n",
       "  'beritahu',\n",
       "  'padaku.'],\n",
       " ['Aku',\n",
       "  'kira',\n",
       "  'aku',\n",
       "  'tahu',\n",
       "  'kenapa',\n",
       "  'Tom',\n",
       "  'tidak',\n",
       "  'ada',\n",
       "  'di',\n",
       "  'sini.']]"
      ]
     },
     "execution_count": 10,
     "metadata": {},
     "output_type": "execute_result"
    }
   ],
   "source": [
    "idn[:5]"
   ]
  },
  {
   "cell_type": "markdown",
   "metadata": {
    "id": "WErm9SENJFCY"
   },
   "source": [
    "We see that the sentence are not in unique form , for example there are two version of run\n",
    "1. `Run!`\n",
    "2. `Run.`\n",
    "\n",
    "We need to normalize both:\n",
    "1. Lowering case\n",
    "2. Removing Punctuation"
   ]
  },
  {
   "cell_type": "markdown",
   "metadata": {
    "id": "PXfaDh9YJy1J"
   },
   "source": [
    "### Normalize Text"
   ]
  },
  {
   "cell_type": "code",
   "execution_count": 11,
   "metadata": {
    "id": "woqCp8IGEDGW"
   },
   "outputs": [],
   "source": [
    "import re\n",
    "# preprocessing\n",
    "def preprocess_token(list_of_token,SOS='<SOS>',EOS='<EOS>',PAD='<PAD>',max_length=14) :\n",
    "    processed_token = []\n",
    "\n",
    "    for token in list_of_token :\n",
    "      # lower text\n",
    "      text = token.lower()\n",
    "      # remove whitespace\n",
    "      text = text.strip()\n",
    "\n",
    "      # remove punctuation\n",
    "      text = re.sub(r'[^\\w\\s]', '', text)\n",
    "\n",
    "      processed_token.append(text)\n",
    "    added_special_token = f'{SOS} {\" \".join(processed_token)} {EOS}'.split(' ')\n",
    "    if len(added_special_token) < max_length :\n",
    "        # calculate margin\n",
    "        pad_tokens = [PAD for _ in range(max_length - len(added_special_token)-1  )]\n",
    "        added_special_token = added_special_token + pad_tokens\n",
    "        return added_special_token\n",
    "    else :\n",
    "      return added_special_token\n",
    "# remove punctuation\n"
   ]
  },
  {
   "cell_type": "code",
   "execution_count": 12,
   "metadata": {
    "id": "CZ6Z9CMI2wt6"
   },
   "outputs": [],
   "source": [
    "eng_sentences = [preprocess_token(text,SOS=\"\",EOS=\"\") for text in eng]\n",
    "idn_sentences = [preprocess_token(text) for text in idn]"
   ]
  },
  {
   "cell_type": "code",
   "execution_count": 13,
   "metadata": {
    "colab": {
     "base_uri": "https://localhost:8080/"
    },
    "id": "tYhwcoNSNRSk",
    "outputId": "d55ed242-6790-4e6c-89ec-b235a0ec4986"
   },
   "outputs": [
    {
     "data": {
      "text/plain": [
       "364"
      ]
     },
     "execution_count": 13,
     "metadata": {},
     "output_type": "execute_result"
    }
   ],
   "source": [
    "len(idn_sentences)"
   ]
  },
  {
   "cell_type": "code",
   "execution_count": 14,
   "metadata": {
    "colab": {
     "base_uri": "https://localhost:8080/"
    },
    "id": "DDWmvVoBLsJk",
    "outputId": "def8b29e-e08e-4081-cdec-d44a23019cc7"
   },
   "outputs": [
    {
     "data": {
      "text/plain": [
       "364"
      ]
     },
     "execution_count": 14,
     "metadata": {},
     "output_type": "execute_result"
    }
   ],
   "source": [
    "len(eng_sentences)"
   ]
  },
  {
   "cell_type": "markdown",
   "metadata": {
    "id": "TrkVrrE5J6Gq"
   },
   "source": [
    "The result look better"
   ]
  },
  {
   "cell_type": "markdown",
   "metadata": {
    "id": "glVjWlr5J8gt"
   },
   "source": [
    "### Collect Vocabulary"
   ]
  },
  {
   "cell_type": "code",
   "execution_count": 15,
   "metadata": {
    "id": "8jmFDSZErEfi"
   },
   "outputs": [],
   "source": [
    "from itertools import chain"
   ]
  },
  {
   "cell_type": "code",
   "execution_count": 16,
   "metadata": {
    "colab": {
     "base_uri": "https://localhost:8080/"
    },
    "id": "ObeJ5v4nqjJE",
    "outputId": "9dfe4e97-0911-4532-c6d8-c9068f5430d3"
   },
   "outputs": [
    {
     "data": {
      "text/plain": [
       "['', 'them']"
      ]
     },
     "execution_count": 16,
     "metadata": {},
     "output_type": "execute_result"
    }
   ],
   "source": [
    "# collect vocabulary\n",
    "eng_vocab = list(set(list(chain.from_iterable(eng_sentences))))\n",
    "idn_vocab = list(set(list(chain.from_iterable(idn_sentences))))\n",
    "\n",
    "all_vocabs = eng_vocab + idn_vocab\n",
    "all_vocabs[:2]\n"
   ]
  },
  {
   "cell_type": "code",
   "execution_count": 17,
   "metadata": {
    "id": "CU0ne0thrKTb"
   },
   "outputs": [],
   "source": [
    "# convert to idx source\n",
    "word_to_idx_src = {word : idx for idx,word in enumerate(eng_vocab)}\n",
    "idx_to_word_src = {idx : word for idx,word in enumerate(eng_vocab)}"
   ]
  },
  {
   "cell_type": "code",
   "execution_count": 18,
   "metadata": {
    "id": "moaX4QQ3ER2s"
   },
   "outputs": [],
   "source": [
    "# convert to idx\n",
    "word_to_idx_tgt = {word : idx for idx,word in enumerate(idn_vocab)}\n",
    "idx_to_word_tgt = {idx : word for idx,word in enumerate(idn_vocab)}"
   ]
  },
  {
   "cell_type": "code",
   "execution_count": 19,
   "metadata": {
    "id": "r1SpJlFwrMKJ"
   },
   "outputs": [],
   "source": [
    "# function\n",
    "def get_word_idx_src(text) :\n",
    "    return word_to_idx_src[text]\n",
    "def get_word_idx_tgt(text) :\n",
    "    return word_to_idx_tgt[text]\n",
    "\n",
    "\n",
    "# function\n",
    "def get_idx_word_src(idx) :\n",
    "    return idx_to_word_src[idx]\n",
    "def get_idx_word_tgt(idx) :\n",
    "    return idx_to_word_tgt[idx]"
   ]
  },
  {
   "cell_type": "markdown",
   "metadata": {
    "id": "MvrUH3sbKBdD"
   },
   "source": [
    "### Convert Word to Index"
   ]
  },
  {
   "cell_type": "code",
   "execution_count": 20,
   "metadata": {
    "id": "eoCY1Vyq9GnV"
   },
   "outputs": [],
   "source": [
    "eng_sentences_idx = [list(map(get_word_idx_src,text)) for text in eng_sentences]\n",
    "idn_sentences_idx = [list(map(get_word_idx_tgt,text)) for text in idn_sentences]"
   ]
  },
  {
   "cell_type": "markdown",
   "metadata": {
    "id": "HHyCdritK9i0"
   },
   "source": [
    "The training pair should have the same length, we should check it using `assert` function"
   ]
  },
  {
   "cell_type": "code",
   "execution_count": 21,
   "metadata": {
    "id": "n1d0HYzU_MbG"
   },
   "outputs": [],
   "source": [
    "assert len(eng_sentences_idx) == len(idn_sentences_idx)"
   ]
  },
  {
   "cell_type": "markdown",
   "metadata": {
    "id": "Y24NtoyY_MBA"
   },
   "source": [
    "### Create Training Data\n",
    "\n"
   ]
  },
  {
   "cell_type": "code",
   "execution_count": 22,
   "metadata": {
    "id": "rzunhQi9LNe-"
   },
   "outputs": [],
   "source": [
    "idn_eng_not_symnetry = []\n",
    "for i in range(len(eng_sentences)) :\n",
    "    eng_len = len(eng_sentences[i])\n",
    "    idn_len = len(idn_sentences[i])\n",
    "\n",
    "    if eng_len != idn_len :\n",
    "      idn_eng_not_symnetry.append(i)"
   ]
  },
  {
   "cell_type": "code",
   "execution_count": 23,
   "metadata": {
    "colab": {
     "base_uri": "https://localhost:8080/"
    },
    "id": "hCkS0B_KLrKU",
    "outputId": "e33f6de5-c986-49f5-a2d9-0e283e2b51c2"
   },
   "outputs": [
    {
     "data": {
      "text/plain": [
       "['',\n",
       " 'ill',\n",
       " 'give',\n",
       " 'you',\n",
       " 'an',\n",
       " 'answer',\n",
       " 'in',\n",
       " 'a',\n",
       " 'day',\n",
       " 'or',\n",
       " 'two',\n",
       " '',\n",
       " '<PAD>']"
      ]
     },
     "execution_count": 23,
     "metadata": {},
     "output_type": "execute_result"
    }
   ],
   "source": [
    "eng_sentences[34]"
   ]
  },
  {
   "cell_type": "code",
   "execution_count": 24,
   "metadata": {
    "colab": {
     "base_uri": "https://localhost:8080/"
    },
    "id": "bvsnayCXLwLX",
    "outputId": "24cb514b-7915-4fa5-ce48-aa96eafbd604"
   },
   "outputs": [
    {
     "data": {
      "text/plain": [
       "['<SOS>',\n",
       " 'aku',\n",
       " 'akan',\n",
       " 'jawab',\n",
       " 'dalam',\n",
       " 'satu',\n",
       " 'atau',\n",
       " 'dua',\n",
       " 'hari',\n",
       " '<EOS>',\n",
       " '<PAD>',\n",
       " '<PAD>',\n",
       " '<PAD>']"
      ]
     },
     "execution_count": 24,
     "metadata": {},
     "output_type": "execute_result"
    }
   ],
   "source": [
    "idn_sentences[34]"
   ]
  },
  {
   "cell_type": "markdown",
   "metadata": {
    "id": "hXcSDT1xLH0Z"
   },
   "source": [
    "**Padding**\n",
    "\n",
    "Not all training pair the same length"
   ]
  },
  {
   "cell_type": "markdown",
   "metadata": {
    "id": "kGWJyGbVLzk4"
   },
   "source": [
    "We see that both language pair has different length, what should we do about this ? we add padding, to make all training pair to be the same `max=24`, but what value should we add ?\n",
    "\n",
    "we can add masking value such as `-1`, why ? because all vocabulary mapped into index, and start from 0. so we can worry less about overriding existing index."
   ]
  },
  {
   "cell_type": "code",
   "execution_count": 25,
   "metadata": {
    "colab": {
     "base_uri": "https://localhost:8080/"
    },
    "id": "fOhSyiBL9TlP",
    "outputId": "b4664316-dc3c-4ce3-e8c8-7e6d4021d683"
   },
   "outputs": [],
   "source": [
    "# allocate numpy array\n",
    "max_seq = 14\n",
    "source_lang = np.zeros((len(eng_sentences_idx),max_seq),dtype=np.int64)\n",
    "target_lang = np.zeros((len(idn_sentences_idx),max_seq),dtype=np.int64)"
   ]
  },
  {
   "cell_type": "code",
   "execution_count": 26,
   "metadata": {
    "id": "gd4FMjwzLDeO"
   },
   "outputs": [],
   "source": [
    "for idx in range(len(eng_sentences_idx)) :\n",
    "    source_lang[idx,:len(eng_sentences_idx[idx])] = eng_sentences_idx[idx]\n",
    "    target_lang[idx,:len(idn_sentences_idx[idx])] = idn_sentences_idx[idx]\n"
   ]
  },
  {
   "cell_type": "code",
   "execution_count": 27,
   "metadata": {
    "id": "RahA6QlLMd3q"
   },
   "outputs": [],
   "source": [
    "X = torch.from_numpy(source_lang)\n",
    "y = torch.from_numpy(target_lang)"
   ]
  },
  {
   "cell_type": "markdown",
   "metadata": {
    "id": "mNOslWjdRGq7"
   },
   "source": [
    "### Dataset Splitting"
   ]
  },
  {
   "cell_type": "code",
   "execution_count": 28,
   "metadata": {
    "id": "Tce_5aeZL9oA"
   },
   "outputs": [],
   "source": [
    "idx_80 = int(0.8*len(X))\n",
    "idx_90 = int(0.9*len(X))\n",
    "X_train,y_train = X[:idx_80],y[:idx_80]\n",
    "X_val,y_val = X[idx_80:idx_90],y[idx_80:idx_90]\n",
    "X_test,y_test =  X[idx_90:],y[idx_90:]"
   ]
  },
  {
   "cell_type": "code",
   "execution_count": 29,
   "metadata": {
    "colab": {
     "base_uri": "https://localhost:8080/"
    },
    "id": "5DaxN8w1MDcH",
    "outputId": "56fe4e16-f4a4-4c68-ddd7-72f1864b30d7"
   },
   "outputs": [
    {
     "name": "stdout",
     "output_type": "stream",
     "text": [
      "\t X_train shape : torch.Size([291, 14]) y_train shape :torch.Size([291, 14])  \n",
      "\n",
      "          X_val shape : torch.Size([36, 14]) y_val shape :torch.Size([36, 14])  \n",
      "\n",
      "          X_test shape : torch.Size([37, 14]) y_test shape :torch.Size([37, 14])\n",
      "          \n"
     ]
    }
   ],
   "source": [
    "print(f'''\\t X_train shape : {X_train.shape} y_train shape :{y_train.shape}  \\n\n",
    "          X_val shape : {X_val.shape} y_val shape :{y_val.shape}  \\n\n",
    "          X_test shape : {X_test.shape} y_test shape :{y_test.shape}\n",
    "          ''')"
   ]
  },
  {
   "cell_type": "markdown",
   "metadata": {
    "id": "hKAfevZHPmgF"
   },
   "source": [
    "Let's create function to return minibatch of data from our dataset"
   ]
  },
  {
   "cell_type": "code",
   "execution_count": 30,
   "metadata": {
    "id": "L1OHwqG-Prsm"
   },
   "outputs": [],
   "source": [
    "generator = torch.Generator().manual_seed(42)\n",
    "def get_batches(split,batch_size,g=generator) :\n",
    "  options = {\n",
    "      'train': (X_train,y_train),\n",
    "      'val':   (X_val,y_val),\n",
    "      'test' : (X_test,y_test)\n",
    "  }\n",
    "  X_split,y_split = options[split]\n",
    "  ix = torch.randint(0, X_split.shape[0], (batch_size,), generator=g)\n",
    "  X_batch = X_split[ix]\n",
    "  y_batch = y_split[ix]\n",
    "  return X_batch,y_batch"
   ]
  },
  {
   "cell_type": "markdown",
   "metadata": {
    "id": "ECBMJ8p6CxcH"
   },
   "source": [
    "# Building Model From Scratch"
   ]
  },
  {
   "cell_type": "markdown",
   "metadata": {
    "id": "I6K3wedmPddT"
   },
   "source": [
    "So back again, our transformer similar to encoder- decoder architecture"
   ]
  },
  {
   "cell_type": "markdown",
   "metadata": {
    "id": "zOKny0FyXnSs"
   },
   "source": [
    "Both Encoder - Decoder Has Some Similar Component such as\n",
    "- Positional Encoding and Word Embedding as Input\n",
    "- Both Use MultiHead Self Attention"
   ]
  },
  {
   "cell_type": "markdown",
   "metadata": {
    "id": "MMahirg7-k6s"
   },
   "source": [
    "Before diving to the model building phase, we will introduce some terms\n",
    "\n",
    "- **B** : Batch Size\n",
    "- **T** : Sequence Length\n",
    "- **C** : Channel / Embedding Dimension"
   ]
  },
  {
   "cell_type": "markdown",
   "metadata": {
    "id": "6sD6bjC-ZfsZ"
   },
   "source": [
    "### Positional Encoding + Word Embedding"
   ]
  },
  {
   "cell_type": "markdown",
   "metadata": {
    "id": "2IuCRTi3Zkgy"
   },
   "source": [
    "we have already heard how to create word embedding, we can simply call `nn.Embedding` or create random vector by `torch.random.rand()`\n",
    "\n",
    "Words for target and source translation have different embedding space, for source word we will call as `encoder_embedding`  we need to specify embedding dimension , both embedding for encoder and decoder should have the same dimensionality"
   ]
  },
  {
   "cell_type": "markdown",
   "metadata": {
    "id": "Q66xHAi6bqCA"
   },
   "source": [
    "#### Word Embedding"
   ]
  },
  {
   "cell_type": "code",
   "execution_count": 31,
   "metadata": {
    "id": "pYDZTImXZkIU"
   },
   "outputs": [],
   "source": [
    "n_dim = 10\n",
    "encoder_embedding = nn.Embedding(num_embeddings=len(eng_vocab),embedding_dim=n_dim)\n",
    "decoder_embedding = nn.Embedding(num_embeddings=len(idn_vocab),embedding_dim=n_dim)"
   ]
  },
  {
   "cell_type": "code",
   "execution_count": 32,
   "metadata": {
    "colab": {
     "base_uri": "https://localhost:8080/"
    },
    "id": "z3Vl5dqlbRG_",
    "outputId": "a0b7310a-46c0-4050-ffae-82521392997b"
   },
   "outputs": [
    {
     "data": {
      "text/plain": [
       "tensor([[ 0.2329, -0.5463,  0.4382, -0.8964, -0.8226, -0.7448, -1.5185, -0.3846,\n",
       "         -0.2196,  0.5722]], grad_fn=<EmbeddingBackward0>)"
      ]
     },
     "execution_count": 32,
     "metadata": {},
     "output_type": "execute_result"
    }
   ],
   "source": [
    "encoder_embedding(input=torch.LongTensor([5]))"
   ]
  },
  {
   "cell_type": "code",
   "execution_count": 33,
   "metadata": {
    "colab": {
     "base_uri": "https://localhost:8080/"
    },
    "id": "17whvgRgbb2A",
    "outputId": "6fe6306e-dc18-4455-c24f-02b741ac5df1"
   },
   "outputs": [
    {
     "data": {
      "text/plain": [
       "tensor([[-0.7565,  1.6135,  0.2567,  1.0433, -0.4634, -0.2892, -0.0974, -3.5342,\n",
       "          0.5031, -1.4156]], grad_fn=<EmbeddingBackward0>)"
      ]
     },
     "execution_count": 33,
     "metadata": {},
     "output_type": "execute_result"
    }
   ],
   "source": [
    "decoder_embedding(input=torch.LongTensor([5]))"
   ]
  },
  {
   "cell_type": "markdown",
   "metadata": {
    "id": "Mc3w0WKZbr93"
   },
   "source": [
    "### Positional Encoding"
   ]
  },
  {
   "cell_type": "markdown",
   "metadata": {
    "id": "h75Pz56LcEVe"
   },
   "source": []
  },
  {
   "cell_type": "code",
   "execution_count": 34,
   "metadata": {
    "id": "t2xOWio4cdss"
   },
   "outputs": [],
   "source": [
    "def get_angles(pos, i, n_dim):\n",
    "  angle_rates = 1 / np.power(10000, (2 * (i//2)) / np.float32(n_dim))\n",
    "  return pos * angle_rates\n",
    "\n",
    "def positional_encoding(position, n_dim,device='cpu'):\n",
    "  angle_rads = get_angles(np.arange(position)[:, np.newaxis],\n",
    "                          np.arange(n_dim)[np.newaxis, :],\n",
    "                          n_dim)\n",
    "\n",
    "  # apply sin to even indices in the array; 2i\n",
    "  angle_rads[:, 0::2] = np.sin(angle_rads[:, 0::2])\n",
    "\n",
    "  # apply cos to odd indices in the array; 2i+1\n",
    "  angle_rads[:, 1::2] = np.cos(angle_rads[:, 1::2])\n",
    "\n",
    "  pos_encoding = angle_rads[np.newaxis, ...]\n",
    "\n",
    "  positional = torch.from_numpy(pos_encoding)\n",
    "\n",
    "  positional = positional.to(device)\n",
    "  return positional\n",
    "\n",
    "# create positional encodinf for each input"
   ]
  },
  {
   "cell_type": "code",
   "execution_count": 35,
   "metadata": {
    "id": "BMSUPbaFcTL8"
   },
   "outputs": [],
   "source": [
    "# our context length is 14 words\n",
    "n_dim=10\n",
    "ENCODER_SEQUENCE_LENGTH = X.shape[-1]\n",
    "# in decoder we need to shift to right + 1 context, due to next word prediction\n",
    "DECODER_SEQUENCE_LENGTH = X.shape[-1] -1\n",
    "\n",
    "pos_encoder = positional_encoding(position=ENCODER_SEQUENCE_LENGTH,n_dim=n_dim)\n",
    "pos_decoder = positional_encoding(position=DECODER_SEQUENCE_LENGTH,n_dim=n_dim)"
   ]
  },
  {
   "cell_type": "code",
   "execution_count": 36,
   "metadata": {
    "colab": {
     "base_uri": "https://localhost:8080/"
    },
    "id": "6B28qYjUvZWh",
    "outputId": "b459bc01-9232-4743-ad45-b5b2389dcfbf"
   },
   "outputs": [
    {
     "data": {
      "text/plain": [
       "torch.Tensor"
      ]
     },
     "execution_count": 36,
     "metadata": {},
     "output_type": "execute_result"
    }
   ],
   "source": [
    "type(pos_encoder)"
   ]
  },
  {
   "cell_type": "markdown",
   "metadata": {
    "id": "19eNu2JUdLbp"
   },
   "source": [
    "Let's visualize positional encoding"
   ]
  },
  {
   "cell_type": "code",
   "execution_count": 37,
   "metadata": {
    "colab": {
     "base_uri": "https://localhost:8080/",
     "height": 472
    },
    "id": "5GbRjw4kdOyZ",
    "outputId": "d1c605bd-fb47-486d-e333-77c0262cc8d0"
   },
   "outputs": [
    {
     "data": {
      "image/png": "[encoded data removed]",
      "text/plain": [
       "<Figure size 640x480 with 2 Axes>"
      ]
     },
     "metadata": {},
     "output_type": "display_data"
    }
   ],
   "source": [
    "\n",
    "plt.title('Positional Encoding for Encoder')\n",
    "plt.pcolormesh(pos_encoder[0], cmap='viridis')\n",
    "plt.xlabel('Embedding Dimensions')\n",
    "plt.xlim((0, n_dim))\n",
    "plt.ylim((ENCODER_SEQUENCE_LENGTH,0))\n",
    "plt.ylabel('Token Position')\n",
    "plt.colorbar()\n",
    "plt.show()\n"
   ]
  },
  {
   "cell_type": "code",
   "execution_count": 38,
   "metadata": {
    "colab": {
     "base_uri": "https://localhost:8080/",
     "height": 472
    },
    "id": "EP3SOTcqeKXi",
    "outputId": "68644a64-3be1-40b0-b0e9-d19a08c84238"
   },
   "outputs": [
    {
     "data": {
      "image/png": "[encoded data removed]",
      "text/plain": [
       "<Figure size 640x480 with 2 Axes>"
      ]
     },
     "metadata": {},
     "output_type": "display_data"
    }
   ],
   "source": [
    "plt.title('Positional Encoding for Decoder')\n",
    "plt.pcolormesh(pos_encoder[0], cmap='viridis')\n",
    "plt.xlabel('Embedding Dimensions')\n",
    "plt.xlim((0, n_dim))\n",
    "plt.ylim((DECODER_SEQUENCE_LENGTH,0))\n",
    "plt.ylabel('Token Position')\n",
    "plt.colorbar()\n",
    "plt.show()"
   ]
  },
  {
   "cell_type": "markdown",
   "metadata": {
    "id": "5WGTdiXgXybG"
   },
   "source": [
    "### Calculate Attention Manually"
   ]
  },
  {
   "cell_type": "markdown",
   "metadata": {
    "id": "D_5u1jOjn5-J"
   },
   "source": [
    "#### **Calculate Attention on Decoder**"
   ]
  },
  {
   "cell_type": "markdown",
   "metadata": {
    "id": "8KbG25WgCOH0"
   },
   "source": [
    "Get some training examples"
   ]
  },
  {
   "cell_type": "markdown",
   "metadata": {
    "id": "Pfc0JEfACTKs"
   },
   "source": [
    "Shift decoder word index to right , because in decoder we will perform next word prediction"
   ]
  },
  {
   "cell_type": "code",
   "execution_count": 39,
   "metadata": {
    "colab": {
     "base_uri": "https://localhost:8080/"
    },
    "id": "XvEmPbwBH_F_",
    "outputId": "a1202bf4-1639-4150-8b02-3fe7e5ffa64d"
   },
   "outputs": [
    {
     "data": {
      "text/plain": [
       "torch.Size([291, 14])"
      ]
     },
     "execution_count": 39,
     "metadata": {},
     "output_type": "execute_result"
    }
   ],
   "source": [
    "y_train.shape"
   ]
  },
  {
   "cell_type": "markdown",
   "metadata": {
    "id": "-pMpIbizItED"
   },
   "source": [
    "Each Training Sample Should Have Size `[B,T]`"
   ]
  },
  {
   "cell_type": "code",
   "execution_count": 40,
   "metadata": {
    "colab": {
     "base_uri": "https://localhost:8080/"
    },
    "id": "dOQL3eQencbD",
    "outputId": "d65a4113-d8ec-4840-f3b5-7a8f7cc30e85"
   },
   "outputs": [
    {
     "data": {
      "text/plain": [
       "torch.Size([1, 13])"
      ]
     },
     "execution_count": 40,
     "metadata": {},
     "output_type": "execute_result"
    }
   ],
   "source": [
    "B=1\n",
    "T = 13\n",
    "decoder_idx = y_train[1][:-1]\n",
    "decoder_idx= decoder_idx.reshape(shape=(B,T))\n",
    "decoder_idx.shape"
   ]
  },
  {
   "cell_type": "code",
   "execution_count": 41,
   "metadata": {
    "id": "6QxDVnTwneTx"
   },
   "outputs": [],
   "source": [
    "decoder_target_idx = y_train[1][1:]\n",
    "decoder_target_idx = decoder_target_idx.reshape(shape=(B,T))"
   ]
  },
  {
   "cell_type": "code",
   "execution_count": 42,
   "metadata": {
    "colab": {
     "base_uri": "https://localhost:8080/"
    },
    "id": "vNZ2tB_mCfmb",
    "outputId": "3c87f3ea-8196-4e4c-afe9-d3829518c0d8"
   },
   "outputs": [
    {
     "name": "stdout",
     "output_type": "stream",
     "text": [
      "tensor([285, 930, 176, 601, 680, 211, 476, 601, 563,  78, 934, 426, 165])---predicts -->tensor([930, 176, 601, 680, 211, 476, 601, 563,  78, 934, 426, 165,   0])\n"
     ]
    }
   ],
   "source": [
    "for x,y in zip(decoder_idx,decoder_target_idx) :\n",
    "  print(f'{x.view(-1)}---predicts -->{y.view(-1)}')"
   ]
  },
  {
   "cell_type": "markdown",
   "metadata": {
    "id": "pCEPHR01CrbK"
   },
   "source": [
    "Get vector representation from each word + add positional embedding"
   ]
  },
  {
   "cell_type": "code",
   "execution_count": 43,
   "metadata": {
    "id": "t7WgxIkXnNZf"
   },
   "outputs": [],
   "source": [
    "vector_input_decoder  = decoder_embedding(decoder_idx) + pos_decoder"
   ]
  },
  {
   "cell_type": "code",
   "execution_count": 44,
   "metadata": {
    "colab": {
     "base_uri": "https://localhost:8080/"
    },
    "id": "H4huSKKuCxVO",
    "outputId": "dd124116-436a-4b9b-db85-32fadfeccf93"
   },
   "outputs": [
    {
     "data": {
      "text/plain": [
       "torch.Size([1, 13, 10])"
      ]
     },
     "execution_count": 44,
     "metadata": {},
     "output_type": "execute_result"
    }
   ],
   "source": [
    "vector_input_decoder.shape"
   ]
  },
  {
   "cell_type": "markdown",
   "metadata": {
    "id": "luk9ucVrCz5z"
   },
   "source": [
    "Extract information such as Batch Size (B) , Token / Sequence Length (T) , and Channel (Embedding Dimension)"
   ]
  },
  {
   "cell_type": "code",
   "execution_count": 45,
   "metadata": {
    "id": "HRNpEWjQB6Z-"
   },
   "outputs": [],
   "source": [
    "B,T,C = vector_input_decoder.shape"
   ]
  },
  {
   "cell_type": "markdown",
   "metadata": {
    "id": "-GB2oIEcC-vb"
   },
   "source": [
    "To calculate self attention we need have three matrices\n",
    "- `Q` or Query Matrices\n",
    "- `K` or Key Matrices\n",
    "- `V` or Value Matrices\n",
    "\n",
    "All above were produced by multiplying `vector_input` with distinct 3 distinct weight to produce the similar shape as `vector_input` `[B,T,C]`"
   ]
  },
  {
   "cell_type": "code",
   "execution_count": 46,
   "metadata": {
    "id": "3DR6wqjJmcYm"
   },
   "outputs": [],
   "source": [
    "linear_q_decoder = nn.Linear(in_features=C,out_features=C,dtype=float,bias=False)\n",
    "linear_k_decoder = nn.Linear(in_features=C,out_features=C,dtype=float,bias=False)\n",
    "linear_v_decoder  = nn.Linear(in_features=C,out_features=C,dtype=float,bias=False)\n",
    "\n",
    "# yield q,k,v matrices\n",
    "Q = linear_q_decoder(vector_input_decoder)\n",
    "K = linear_k_decoder(vector_input_decoder)\n",
    "V = linear_v_decoder(vector_input_decoder)\n",
    "\n"
   ]
  },
  {
   "cell_type": "markdown",
   "metadata": {
    "id": "dByi1-ghDmuF"
   },
   "source": [
    "Next, we are going to calculate attention weight , or simply finding weight for performing weighted average vector for each word in the same sequences\n",
    "\n",
    "to find the score we simply perform dot product beteen `q matrices` and `k matrices` the idea is that maximizing dot product ~ maximizing similarity"
   ]
  },
  {
   "cell_type": "markdown",
   "metadata": {
    "id": "vJZDqLlgD_qu"
   },
   "source": [
    "However we need to be careful about dimension\n",
    "Q has dimension of `[B,T,C]` so with K does, we need to change K into size of\n",
    "`[B,C,T]`"
   ]
  },
  {
   "cell_type": "code",
   "execution_count": 47,
   "metadata": {
    "colab": {
     "base_uri": "https://localhost:8080/"
    },
    "id": "p_k5w6M7B5uW",
    "outputId": "46d9cc42-de05-4d69-c763-6e0dc4060ac9"
   },
   "outputs": [
    {
     "data": {
      "text/plain": [
       "torch.Size([1, 13, 13])"
      ]
     },
     "execution_count": 47,
     "metadata": {},
     "output_type": "execute_result"
    }
   ],
   "source": [
    "attention_weight = Q @ K.transpose(-2,-1)\n",
    "attention_weight.shape"
   ]
  },
  {
   "cell_type": "markdown",
   "metadata": {
    "id": "jxv2ThwnEa9z"
   },
   "source": [
    "by transpose, we switch the 2nd last dimension (C) with last dimension (T) , the output should have size of `[B,T,T]`"
   ]
  },
  {
   "cell_type": "markdown",
   "metadata": {
    "id": "72QBVi4zE2eV"
   },
   "source": [
    "Since in transformer paper the attention score is yielded from scaled dot product\n",
    "\n",
    "$$\\begin{align*}\n",
    "Attention(Q,K,V) = softmax(\\cfrac{Q K^{T}}{\\sqrt{d_{model}}})V\n",
    "\\end{align*}$$"
   ]
  },
  {
   "cell_type": "code",
   "execution_count": 48,
   "metadata": {
    "id": "SnJCoVVpEsE7"
   },
   "outputs": [],
   "source": [
    "attention_weight = attention_weight*C**-0.5"
   ]
  },
  {
   "cell_type": "markdown",
   "metadata": {
    "id": "IDREpHIxEw9f"
   },
   "source": [
    "##### Performing Masking"
   ]
  },
  {
   "cell_type": "markdown",
   "metadata": {
    "id": "SCXH2bP4nr4a"
   },
   "source": [
    "**Masking Future Token**"
   ]
  },
  {
   "cell_type": "markdown",
   "metadata": {
    "id": "0zu3di_oF0UD"
   },
   "source": [
    "In Decoder Section we perform next word prediction, by default attention calculate attention to all words, this will **leak** the information for future words, hence in decoder we need to mask future words"
   ]
  },
  {
   "cell_type": "markdown",
   "metadata": {
    "id": "Dely-icSFXYT"
   },
   "source": [
    "create masking matrix, containing, 1 if not future word otherwise 0 , we fill location with 0 --> with `-infinity` so that score would be 0"
   ]
  },
  {
   "cell_type": "markdown",
   "metadata": {
    "id": "LoIzRMuBFp83"
   },
   "source": [
    "The masking matrix should be `square matrix` with size `[T,T]`"
   ]
  },
  {
   "cell_type": "code",
   "execution_count": 49,
   "metadata": {
    "id": "tdgtQffpFOv5"
   },
   "outputs": [],
   "source": [
    "future_token_mask = torch.tril(torch.ones(T, T)).type(torch.LongTensor)"
   ]
  },
  {
   "cell_type": "markdown",
   "metadata": {
    "id": "-aUxXo6YFJya"
   },
   "source": [
    "**Masking `<PAD>`  Token**"
   ]
  },
  {
   "cell_type": "markdown",
   "metadata": {
    "id": "Qk2WBTaFGEid"
   },
   "source": [
    "Another mask we should create is mask token , this is due to `<PAD>` token was only to fill remaining sequence so that each sequence have similar sequence length , however in terms of meaning there are no meaning on `<PAD>` token, hence we need to mask"
   ]
  },
  {
   "cell_type": "code",
   "execution_count": 50,
   "metadata": {
    "colab": {
     "base_uri": "https://localhost:8080/"
    },
    "id": "bY_97u1gGD0X",
    "outputId": "800f5165-28e2-4260-ff81-d1d5b14238cc"
   },
   "outputs": [
    {
     "data": {
      "text/plain": [
       "tensor([[[1, 1, 1, 1, 1, 1, 1, 1, 1, 1, 1, 0, 1]]])"
      ]
     },
     "execution_count": 50,
     "metadata": {},
     "output_type": "execute_result"
    }
   ],
   "source": [
    "# find index for padding mask\n",
    "PADDING_IDX = word_to_idx_tgt['<PAD>']\n",
    "\n",
    "# find\n",
    "padding_mask = (decoder_target_idx != PADDING_IDX).unsqueeze(1).type(torch.LongTensor)\n",
    "padding_mask"
   ]
  },
  {
   "cell_type": "code",
   "execution_count": 51,
   "metadata": {
    "colab": {
     "base_uri": "https://localhost:8080/"
    },
    "id": "tIteE9LtJHR_",
    "outputId": "0607801f-0495-4693-8b5c-91171580d8cb"
   },
   "outputs": [
    {
     "data": {
      "text/plain": [
       "tensor([[[1, 0, 0, 0, 0, 0, 0, 0, 0, 0, 0, 0, 0],\n",
       "         [1, 1, 0, 0, 0, 0, 0, 0, 0, 0, 0, 0, 0],\n",
       "         [1, 1, 1, 0, 0, 0, 0, 0, 0, 0, 0, 0, 0],\n",
       "         [1, 1, 1, 1, 0, 0, 0, 0, 0, 0, 0, 0, 0],\n",
       "         [1, 1, 1, 1, 1, 0, 0, 0, 0, 0, 0, 0, 0],\n",
       "         [1, 1, 1, 1, 1, 1, 0, 0, 0, 0, 0, 0, 0],\n",
       "         [1, 1, 1, 1, 1, 1, 1, 0, 0, 0, 0, 0, 0],\n",
       "         [1, 1, 1, 1, 1, 1, 1, 1, 0, 0, 0, 0, 0],\n",
       "         [1, 1, 1, 1, 1, 1, 1, 1, 1, 0, 0, 0, 0],\n",
       "         [1, 1, 1, 1, 1, 1, 1, 1, 1, 1, 0, 0, 0],\n",
       "         [1, 1, 1, 1, 1, 1, 1, 1, 1, 1, 1, 0, 0],\n",
       "         [1, 1, 1, 1, 1, 1, 1, 1, 1, 1, 1, 0, 0],\n",
       "         [1, 1, 1, 1, 1, 1, 1, 1, 1, 1, 1, 0, 1]]])"
      ]
     },
     "execution_count": 51,
     "metadata": {},
     "output_type": "execute_result"
    }
   ],
   "source": [
    "attention_mask = future_token_mask & padding_mask\n",
    "attention_mask"
   ]
  },
  {
   "cell_type": "markdown",
   "metadata": {
    "id": "5hfwY5xXJ5HQ"
   },
   "source": [
    "Final Resulting Shape should have size `[B,1,T,T]`"
   ]
  },
  {
   "cell_type": "code",
   "execution_count": 52,
   "metadata": {
    "colab": {
     "base_uri": "https://localhost:8080/"
    },
    "id": "ajVVIB-iJ_wd",
    "outputId": "bdbdcd98-17b1-4273-8eb6-818dbef20ddf"
   },
   "outputs": [
    {
     "data": {
      "text/plain": [
       "tensor([[[-0.0430,    -inf,    -inf,    -inf,    -inf,    -inf,    -inf,\n",
       "             -inf,    -inf,    -inf,    -inf,    -inf,    -inf],\n",
       "         [ 0.0561,  0.3117,    -inf,    -inf,    -inf,    -inf,    -inf,\n",
       "             -inf,    -inf,    -inf,    -inf,    -inf,    -inf],\n",
       "         [ 0.0234,  0.4045,  0.1367,    -inf,    -inf,    -inf,    -inf,\n",
       "             -inf,    -inf,    -inf,    -inf,    -inf,    -inf],\n",
       "         [ 0.2575,  0.3178,  0.4394,  0.0595,    -inf,    -inf,    -inf,\n",
       "             -inf,    -inf,    -inf,    -inf,    -inf,    -inf],\n",
       "         [ 0.2279,  0.7820,  0.8945,  1.1305,  0.3796,    -inf,    -inf,\n",
       "             -inf,    -inf,    -inf,    -inf,    -inf,    -inf],\n",
       "         [ 0.1934,  0.4636,  0.1049, -0.3908,  0.1523,  0.8059,    -inf,\n",
       "             -inf,    -inf,    -inf,    -inf,    -inf,    -inf],\n",
       "         [-0.0275,  0.0648, -0.1092, -0.0759,  0.7253,  0.1210, -0.2621,\n",
       "             -inf,    -inf,    -inf,    -inf,    -inf,    -inf],\n",
       "         [ 0.3248,  0.4966,  0.4396, -0.2392,  0.5256,  0.5278, -0.1788,\n",
       "          -0.2650,    -inf,    -inf,    -inf,    -inf,    -inf],\n",
       "         [ 0.1655,  0.4456,  0.4592,  0.6330, -0.2728,  0.2843,  0.6167,\n",
       "           0.7745,  0.0544,    -inf,    -inf,    -inf,    -inf],\n",
       "         [-0.2979, -0.0830, -0.0938,  0.7183, -0.0420, -0.7183, -0.0937,\n",
       "           0.7472,  0.8223, -0.1113,    -inf,    -inf,    -inf],\n",
       "         [-0.1518,  0.3281,  0.0681,  0.4134, -0.0129,  0.2065,  0.1224,\n",
       "           0.3974,  0.1489,  0.0339, -0.1359,    -inf,    -inf],\n",
       "         [ 0.1975,  0.3682,  0.1493, -0.3712, -0.0296,  0.7832,  0.1839,\n",
       "          -0.2507, -0.1782, -0.1144,  0.0404,    -inf,    -inf],\n",
       "         [ 0.0286,  0.4014,  0.1578,  0.3650,  0.3538,  0.2499,  0.0214,\n",
       "           0.3673,  0.5309, -0.1036,  0.1141,    -inf,  0.2076]]],\n",
       "       dtype=torch.float64, grad_fn=<MaskedFillBackward0>)"
      ]
     },
     "execution_count": 52,
     "metadata": {},
     "output_type": "execute_result"
    }
   ],
   "source": [
    "attention_masked = attention_weight.masked_fill(attention_mask==0,float('-inf'))\n",
    "attention_masked"
   ]
  },
  {
   "cell_type": "code",
   "execution_count": 53,
   "metadata": {
    "colab": {
     "base_uri": "https://localhost:8080/"
    },
    "id": "aTlKqzoeKSI3",
    "outputId": "0e0e32af-b2ab-4210-bf4a-6d5b41e06dea"
   },
   "outputs": [
    {
     "data": {
      "text/plain": [
       "tensor([[[1.0000, 0.0000, 0.0000, 0.0000, 0.0000, 0.0000, 0.0000, 0.0000,\n",
       "          0.0000, 0.0000, 0.0000, 0.0000, 0.0000],\n",
       "         [0.4364, 0.5636, 0.0000, 0.0000, 0.0000, 0.0000, 0.0000, 0.0000,\n",
       "          0.0000, 0.0000, 0.0000, 0.0000, 0.0000],\n",
       "         [0.2790, 0.4085, 0.3125, 0.0000, 0.0000, 0.0000, 0.0000, 0.0000,\n",
       "          0.0000, 0.0000, 0.0000, 0.0000, 0.0000],\n",
       "         [0.2450, 0.2602, 0.2939, 0.2010, 0.0000, 0.0000, 0.0000, 0.0000,\n",
       "          0.0000, 0.0000, 0.0000, 0.0000, 0.0000],\n",
       "         [0.1202, 0.2092, 0.2342, 0.2965, 0.1399, 0.0000, 0.0000, 0.0000,\n",
       "          0.0000, 0.0000, 0.0000, 0.0000, 0.0000],\n",
       "         [0.1518, 0.1989, 0.1389, 0.0846, 0.1457, 0.2801, 0.0000, 0.0000,\n",
       "          0.0000, 0.0000, 0.0000, 0.0000, 0.0000],\n",
       "         [0.1243, 0.1363, 0.1145, 0.1184, 0.2639, 0.1442, 0.0983, 0.0000,\n",
       "          0.0000, 0.0000, 0.0000, 0.0000, 0.0000],\n",
       "         [0.1336, 0.1587, 0.1499, 0.0760, 0.1633, 0.1637, 0.0807, 0.0741,\n",
       "          0.0000, 0.0000, 0.0000, 0.0000, 0.0000],\n",
       "         [0.0882, 0.1167, 0.1183, 0.1408, 0.0569, 0.0993, 0.1385, 0.1622,\n",
       "          0.0789, 0.0000, 0.0000, 0.0000, 0.0000],\n",
       "         [0.0605, 0.0751, 0.0742, 0.1672, 0.0782, 0.0398, 0.0743, 0.1722,\n",
       "          0.1856, 0.0730, 0.0000, 0.0000, 0.0000],\n",
       "         [0.0675, 0.1090, 0.0841, 0.1187, 0.0775, 0.0966, 0.0888, 0.1169,\n",
       "          0.0912, 0.0812, 0.0686, 0.0000, 0.0000],\n",
       "         [0.0981, 0.1163, 0.0935, 0.0555, 0.0781, 0.1762, 0.0967, 0.0626,\n",
       "          0.0674, 0.0718, 0.0838, 0.0000, 0.0000],\n",
       "         [0.0674, 0.0979, 0.0767, 0.0944, 0.0933, 0.0841, 0.0669, 0.0946,\n",
       "          0.1114, 0.0591, 0.0734, 0.0000, 0.0806]]], dtype=torch.float64,\n",
       "       grad_fn=<SoftmaxBackward0>)"
      ]
     },
     "execution_count": 53,
     "metadata": {},
     "output_type": "execute_result"
    }
   ],
   "source": [
    "attention_score = F.softmax(attention_masked,dim=-1)\n",
    "attention_score"
   ]
  },
  {
   "cell_type": "code",
   "execution_count": 54,
   "metadata": {
    "colab": {
     "base_uri": "https://localhost:8080/"
    },
    "id": "9ZbvotIhKeoo",
    "outputId": "92f9408a-6665-49f5-ad70-cad838c5f044"
   },
   "outputs": [
    {
     "data": {
      "text/plain": [
       "torch.Size([1, 13, 13])"
      ]
     },
     "execution_count": 54,
     "metadata": {},
     "output_type": "execute_result"
    }
   ],
   "source": [
    "attention_score.shape"
   ]
  },
  {
   "cell_type": "code",
   "execution_count": 55,
   "metadata": {
    "colab": {
     "base_uri": "https://localhost:8080/",
     "height": 457
    },
    "id": "l0ZIT0x8pEXH",
    "outputId": "5f773be2-5f28-4e2f-96f1-019cddb1c0cc"
   },
   "outputs": [
    {
     "data": {
      "text/html": [
       "<div>\n",
       "<style scoped>\n",
       "    .dataframe tbody tr th:only-of-type {\n",
       "        vertical-align: middle;\n",
       "    }\n",
       "\n",
       "    .dataframe tbody tr th {\n",
       "        vertical-align: top;\n",
       "    }\n",
       "\n",
       "    .dataframe thead th {\n",
       "        text-align: right;\n",
       "    }\n",
       "</style>\n",
       "<table border=\"1\" class=\"dataframe\">\n",
       "  <thead>\n",
       "    <tr style=\"text-align: right;\">\n",
       "      <th></th>\n",
       "      <th>&lt;SOS&gt;</th>\n",
       "      <th>jika</th>\n",
       "      <th>ada</th>\n",
       "      <th>orang</th>\n",
       "      <th>yang</th>\n",
       "      <th>dapat</th>\n",
       "      <th>memperbaikinya</th>\n",
       "      <th>orang</th>\n",
       "      <th>itu</th>\n",
       "      <th>adalah</th>\n",
       "      <th>tom</th>\n",
       "      <th>&lt;EOS&gt;</th>\n",
       "      <th>&lt;PAD&gt;</th>\n",
       "    </tr>\n",
       "  </thead>\n",
       "  <tbody>\n",
       "    <tr>\n",
       "      <th>&lt;SOS&gt;</th>\n",
       "      <td>1.000000</td>\n",
       "      <td>0.000000</td>\n",
       "      <td>0.000000</td>\n",
       "      <td>0.000000</td>\n",
       "      <td>0.000000</td>\n",
       "      <td>0.000000</td>\n",
       "      <td>0.000000</td>\n",
       "      <td>0.000000</td>\n",
       "      <td>0.000000</td>\n",
       "      <td>0.000000</td>\n",
       "      <td>0.000000</td>\n",
       "      <td>0.0</td>\n",
       "      <td>0.000000</td>\n",
       "    </tr>\n",
       "    <tr>\n",
       "      <th>jika</th>\n",
       "      <td>0.436450</td>\n",
       "      <td>0.563550</td>\n",
       "      <td>0.000000</td>\n",
       "      <td>0.000000</td>\n",
       "      <td>0.000000</td>\n",
       "      <td>0.000000</td>\n",
       "      <td>0.000000</td>\n",
       "      <td>0.000000</td>\n",
       "      <td>0.000000</td>\n",
       "      <td>0.000000</td>\n",
       "      <td>0.000000</td>\n",
       "      <td>0.0</td>\n",
       "      <td>0.000000</td>\n",
       "    </tr>\n",
       "    <tr>\n",
       "      <th>ada</th>\n",
       "      <td>0.279029</td>\n",
       "      <td>0.408462</td>\n",
       "      <td>0.312509</td>\n",
       "      <td>0.000000</td>\n",
       "      <td>0.000000</td>\n",
       "      <td>0.000000</td>\n",
       "      <td>0.000000</td>\n",
       "      <td>0.000000</td>\n",
       "      <td>0.000000</td>\n",
       "      <td>0.000000</td>\n",
       "      <td>0.000000</td>\n",
       "      <td>0.0</td>\n",
       "      <td>0.000000</td>\n",
       "    </tr>\n",
       "    <tr>\n",
       "      <th>orang</th>\n",
       "      <td>0.244970</td>\n",
       "      <td>0.260202</td>\n",
       "      <td>0.293859</td>\n",
       "      <td>0.200970</td>\n",
       "      <td>0.000000</td>\n",
       "      <td>0.000000</td>\n",
       "      <td>0.000000</td>\n",
       "      <td>0.000000</td>\n",
       "      <td>0.000000</td>\n",
       "      <td>0.000000</td>\n",
       "      <td>0.000000</td>\n",
       "      <td>0.0</td>\n",
       "      <td>0.000000</td>\n",
       "    </tr>\n",
       "    <tr>\n",
       "      <th>yang</th>\n",
       "      <td>0.120218</td>\n",
       "      <td>0.209228</td>\n",
       "      <td>0.234160</td>\n",
       "      <td>0.296470</td>\n",
       "      <td>0.139924</td>\n",
       "      <td>0.000000</td>\n",
       "      <td>0.000000</td>\n",
       "      <td>0.000000</td>\n",
       "      <td>0.000000</td>\n",
       "      <td>0.000000</td>\n",
       "      <td>0.000000</td>\n",
       "      <td>0.0</td>\n",
       "      <td>0.000000</td>\n",
       "    </tr>\n",
       "    <tr>\n",
       "      <th>dapat</th>\n",
       "      <td>0.151798</td>\n",
       "      <td>0.198891</td>\n",
       "      <td>0.138937</td>\n",
       "      <td>0.084636</td>\n",
       "      <td>0.145675</td>\n",
       "      <td>0.280064</td>\n",
       "      <td>0.000000</td>\n",
       "      <td>0.000000</td>\n",
       "      <td>0.000000</td>\n",
       "      <td>0.000000</td>\n",
       "      <td>0.000000</td>\n",
       "      <td>0.0</td>\n",
       "      <td>0.000000</td>\n",
       "    </tr>\n",
       "    <tr>\n",
       "      <th>memperbaikinya</th>\n",
       "      <td>0.124305</td>\n",
       "      <td>0.136317</td>\n",
       "      <td>0.114548</td>\n",
       "      <td>0.118427</td>\n",
       "      <td>0.263888</td>\n",
       "      <td>0.144207</td>\n",
       "      <td>0.098308</td>\n",
       "      <td>0.000000</td>\n",
       "      <td>0.000000</td>\n",
       "      <td>0.000000</td>\n",
       "      <td>0.000000</td>\n",
       "      <td>0.0</td>\n",
       "      <td>0.000000</td>\n",
       "    </tr>\n",
       "    <tr>\n",
       "      <th>orang</th>\n",
       "      <td>0.133619</td>\n",
       "      <td>0.158659</td>\n",
       "      <td>0.149862</td>\n",
       "      <td>0.076018</td>\n",
       "      <td>0.163332</td>\n",
       "      <td>0.163686</td>\n",
       "      <td>0.080746</td>\n",
       "      <td>0.074078</td>\n",
       "      <td>0.000000</td>\n",
       "      <td>0.000000</td>\n",
       "      <td>0.000000</td>\n",
       "      <td>0.0</td>\n",
       "      <td>0.000000</td>\n",
       "    </tr>\n",
       "    <tr>\n",
       "      <th>itu</th>\n",
       "      <td>0.088220</td>\n",
       "      <td>0.116740</td>\n",
       "      <td>0.118335</td>\n",
       "      <td>0.140791</td>\n",
       "      <td>0.056910</td>\n",
       "      <td>0.099344</td>\n",
       "      <td>0.138524</td>\n",
       "      <td>0.162195</td>\n",
       "      <td>0.078941</td>\n",
       "      <td>0.000000</td>\n",
       "      <td>0.000000</td>\n",
       "      <td>0.0</td>\n",
       "      <td>0.000000</td>\n",
       "    </tr>\n",
       "    <tr>\n",
       "      <th>adalah</th>\n",
       "      <td>0.060542</td>\n",
       "      <td>0.075053</td>\n",
       "      <td>0.074247</td>\n",
       "      <td>0.167249</td>\n",
       "      <td>0.078193</td>\n",
       "      <td>0.039763</td>\n",
       "      <td>0.074255</td>\n",
       "      <td>0.172157</td>\n",
       "      <td>0.185582</td>\n",
       "      <td>0.072959</td>\n",
       "      <td>0.000000</td>\n",
       "      <td>0.0</td>\n",
       "      <td>0.000000</td>\n",
       "    </tr>\n",
       "    <tr>\n",
       "      <th>tom</th>\n",
       "      <td>0.067474</td>\n",
       "      <td>0.109036</td>\n",
       "      <td>0.084072</td>\n",
       "      <td>0.118746</td>\n",
       "      <td>0.077534</td>\n",
       "      <td>0.096554</td>\n",
       "      <td>0.088765</td>\n",
       "      <td>0.116865</td>\n",
       "      <td>0.091151</td>\n",
       "      <td>0.081244</td>\n",
       "      <td>0.068559</td>\n",
       "      <td>0.0</td>\n",
       "      <td>0.000000</td>\n",
       "    </tr>\n",
       "    <tr>\n",
       "      <th>&lt;EOS&gt;</th>\n",
       "      <td>0.098069</td>\n",
       "      <td>0.116315</td>\n",
       "      <td>0.093453</td>\n",
       "      <td>0.055532</td>\n",
       "      <td>0.078144</td>\n",
       "      <td>0.176157</td>\n",
       "      <td>0.096737</td>\n",
       "      <td>0.062643</td>\n",
       "      <td>0.067352</td>\n",
       "      <td>0.071790</td>\n",
       "      <td>0.083808</td>\n",
       "      <td>0.0</td>\n",
       "      <td>0.000000</td>\n",
       "    </tr>\n",
       "    <tr>\n",
       "      <th>&lt;PAD&gt;</th>\n",
       "      <td>0.067423</td>\n",
       "      <td>0.097884</td>\n",
       "      <td>0.076723</td>\n",
       "      <td>0.094383</td>\n",
       "      <td>0.093338</td>\n",
       "      <td>0.084129</td>\n",
       "      <td>0.066943</td>\n",
       "      <td>0.094602</td>\n",
       "      <td>0.111416</td>\n",
       "      <td>0.059075</td>\n",
       "      <td>0.073440</td>\n",
       "      <td>0.0</td>\n",
       "      <td>0.080643</td>\n",
       "    </tr>\n",
       "  </tbody>\n",
       "</table>\n",
       "</div>"
      ],
      "text/plain": [
       "                   <SOS>      jika       ada     orang      yang     dapat  \\\n",
       "<SOS>           1.000000  0.000000  0.000000  0.000000  0.000000  0.000000   \n",
       "jika            0.436450  0.563550  0.000000  0.000000  0.000000  0.000000   \n",
       "ada             0.279029  0.408462  0.312509  0.000000  0.000000  0.000000   \n",
       "orang           0.244970  0.260202  0.293859  0.200970  0.000000  0.000000   \n",
       "yang            0.120218  0.209228  0.234160  0.296470  0.139924  0.000000   \n",
       "dapat           0.151798  0.198891  0.138937  0.084636  0.145675  0.280064   \n",
       "memperbaikinya  0.124305  0.136317  0.114548  0.118427  0.263888  0.144207   \n",
       "orang           0.133619  0.158659  0.149862  0.076018  0.163332  0.163686   \n",
       "itu             0.088220  0.116740  0.118335  0.140791  0.056910  0.099344   \n",
       "adalah          0.060542  0.075053  0.074247  0.167249  0.078193  0.039763   \n",
       "tom             0.067474  0.109036  0.084072  0.118746  0.077534  0.096554   \n",
       "<EOS>           0.098069  0.116315  0.093453  0.055532  0.078144  0.176157   \n",
       "<PAD>           0.067423  0.097884  0.076723  0.094383  0.093338  0.084129   \n",
       "\n",
       "                memperbaikinya     orang       itu    adalah       tom  <EOS>  \\\n",
       "<SOS>                 0.000000  0.000000  0.000000  0.000000  0.000000    0.0   \n",
       "jika                  0.000000  0.000000  0.000000  0.000000  0.000000    0.0   \n",
       "ada                   0.000000  0.000000  0.000000  0.000000  0.000000    0.0   \n",
       "orang                 0.000000  0.000000  0.000000  0.000000  0.000000    0.0   \n",
       "yang                  0.000000  0.000000  0.000000  0.000000  0.000000    0.0   \n",
       "dapat                 0.000000  0.000000  0.000000  0.000000  0.000000    0.0   \n",
       "memperbaikinya        0.098308  0.000000  0.000000  0.000000  0.000000    0.0   \n",
       "orang                 0.080746  0.074078  0.000000  0.000000  0.000000    0.0   \n",
       "itu                   0.138524  0.162195  0.078941  0.000000  0.000000    0.0   \n",
       "adalah                0.074255  0.172157  0.185582  0.072959  0.000000    0.0   \n",
       "tom                   0.088765  0.116865  0.091151  0.081244  0.068559    0.0   \n",
       "<EOS>                 0.096737  0.062643  0.067352  0.071790  0.083808    0.0   \n",
       "<PAD>                 0.066943  0.094602  0.111416  0.059075  0.073440    0.0   \n",
       "\n",
       "                   <PAD>  \n",
       "<SOS>           0.000000  \n",
       "jika            0.000000  \n",
       "ada             0.000000  \n",
       "orang           0.000000  \n",
       "yang            0.000000  \n",
       "dapat           0.000000  \n",
       "memperbaikinya  0.000000  \n",
       "orang           0.000000  \n",
       "itu             0.000000  \n",
       "adalah          0.000000  \n",
       "tom             0.000000  \n",
       "<EOS>           0.000000  \n",
       "<PAD>           0.080643  "
      ]
     },
     "execution_count": 55,
     "metadata": {},
     "output_type": "execute_result"
    }
   ],
   "source": [
    "np_masked = attention_score.reshape(shape=(T,T)).detach().numpy()\n",
    "masked_df = pd.DataFrame(np_masked)\n",
    "word_ticks_decoder = [idx_to_word_tgt[idx] for idx in decoder_idx.view(-1).detach().numpy()]\n",
    "masked_df.index =word_ticks_decoder\n",
    "masked_df.columns = word_ticks_decoder\n",
    "masked_df"
   ]
  },
  {
   "cell_type": "markdown",
   "metadata": {
    "id": "rDR76G_P3XaV"
   },
   "source": []
  },
  {
   "cell_type": "markdown",
   "metadata": {
    "id": "0PucDYED3Xe5"
   },
   "source": [
    "##### Visualize Attention Score (Decoder) in Matplotlib"
   ]
  },
  {
   "cell_type": "code",
   "execution_count": 56,
   "metadata": {
    "colab": {
     "base_uri": "https://localhost:8080/",
     "height": 556
    },
    "id": "sg2BAhSV3Xe6",
    "outputId": "76cc8037-33ad-42b5-f689-f166e94c7b24"
   },
   "outputs": [
    {
     "data": {
      "text/plain": [
       "<matplotlib.colorbar.Colorbar at 0x7f94ecac9f60>"
      ]
     },
     "execution_count": 56,
     "metadata": {},
     "output_type": "execute_result"
    },
    {
     "data": {
      "image/png": "[encoded data removed]",
      "text/plain": [
       "<Figure size 640x480 with 2 Axes>"
      ]
     },
     "metadata": {},
     "output_type": "display_data"
    }
   ],
   "source": [
    "plt.imshow(np_masked,cmap='Blues')\n",
    "plt.xticks([x for x in range(len(word_ticks_decoder))] , word_ticks_decoder,rotation='vertical')\n",
    "plt.yticks([x for x in range(len(word_ticks_decoder))] , word_ticks_decoder[::-1])\n",
    "plt.colorbar()"
   ]
  },
  {
   "cell_type": "markdown",
   "metadata": {
    "id": "kVmZiyARN6QR"
   },
   "source": [
    "Multiply Score with `V` matrices"
   ]
  },
  {
   "cell_type": "code",
   "execution_count": 57,
   "metadata": {
    "id": "SE-w8e7it9Zm"
   },
   "outputs": [],
   "source": [
    "dropout = nn.Dropout(0.3)"
   ]
  },
  {
   "cell_type": "code",
   "execution_count": 58,
   "metadata": {
    "colab": {
     "base_uri": "https://localhost:8080/"
    },
    "id": "z5SzSxSQuE2w",
    "outputId": "6be1dac9-0e13-41a7-ac54-8cfad245335b"
   },
   "outputs": [
    {
     "data": {
      "text/plain": [
       "tensor([[[False, False, False, False, False, False, False, False, False, False],\n",
       "         [False, False, False, False, False, False, False, False, False, False],\n",
       "         [False, False, False, False, False, False, False, False, False, False],\n",
       "         [False, False, False, False, False, False, False, False, False, False],\n",
       "         [False, False, False, False, False, False, False, False, False, False],\n",
       "         [False, False, False, False, False, False, False, False, False, False],\n",
       "         [False, False, False, False, False, False, False, False, False, False],\n",
       "         [False, False, False, False, False, False, False, False, False, False],\n",
       "         [False, False, False, False, False, False, False, False, False, False],\n",
       "         [False, False, False, False, False, False, False, False, False, False],\n",
       "         [False, False, False, False, False, False, False, False, False, False],\n",
       "         [False, False, False, False, False, False, False, False, False, False],\n",
       "         [False, False, False, False, False, False, False, False, False, False]]])"
      ]
     },
     "execution_count": 58,
     "metadata": {},
     "output_type": "execute_result"
    }
   ],
   "source": [
    "out = attention_score @ V\n",
    "out==0"
   ]
  },
  {
   "cell_type": "code",
   "execution_count": 59,
   "metadata": {
    "colab": {
     "base_uri": "https://localhost:8080/"
    },
    "id": "k_taoXvoN8_H",
    "outputId": "b40838db-6d54-4942-fa0c-9bd8921abee5"
   },
   "outputs": [
    {
     "data": {
      "text/plain": [
       "tensor([[[False, False, False, False, False, False, False, False, False, False],\n",
       "         [False, False, False, False, False, False, False, False, False, False],\n",
       "         [False, False, False, False, False, False, False, False, False, False],\n",
       "         [False, False, False, False, False, False, False, False, False, False],\n",
       "         [False, False, False, False, False, False, False, False, False, False],\n",
       "         [False, False, False, False, False, False, False, False, False, False],\n",
       "         [False, False, False, False, False, False, False, False, False, False],\n",
       "         [False, False, False, False, False, False, False, False, False, False],\n",
       "         [False, False, False, False, False, False, False, False, False, False],\n",
       "         [False, False, False, False, False, False, False, False, False, False],\n",
       "         [False, False, False, False, False, False, False, False, False, False],\n",
       "         [False, False, False, False, False, False, False, False, False, False],\n",
       "         [False, False, False, False, False, False, False, False, False, False]]])"
      ]
     },
     "execution_count": 59,
     "metadata": {},
     "output_type": "execute_result"
    }
   ],
   "source": [
    "out_dropout = dropout(attention_score) @ V\n",
    "out_dropout==0"
   ]
  },
  {
   "cell_type": "markdown",
   "metadata": {
    "id": "MV-DC3a9RqRs"
   },
   "source": [
    "After creating attention , we proceed with last operation for attention, by projecting the attention output, what does it mean by projection ? We multiply the attention (output) vector with MultiLayer Perceptron"
   ]
  },
  {
   "cell_type": "code",
   "execution_count": 60,
   "metadata": {
    "colab": {
     "base_uri": "https://localhost:8080/"
    },
    "id": "f9gjwto7RofO",
    "outputId": "aaa0276d-c109-4e33-8e41-ff2ae4abf24e"
   },
   "outputs": [
    {
     "data": {
      "text/plain": [
       "tensor([[[-0.1973, -0.4083,  0.0274, -0.3198, -0.1798,  0.1220,  0.1258,\n",
       "          -0.3597, -0.1956, -0.3162],\n",
       "         [-0.1499, -0.1407,  0.2896, -0.2185, -0.2604, -0.0777, -0.1264,\n",
       "          -0.2256, -0.3647, -0.2791],\n",
       "         [-0.2432, -0.1673,  0.2677, -0.2508, -0.2162, -0.0177, -0.0673,\n",
       "          -0.2597, -0.5166, -0.3150],\n",
       "         [-0.3804, -0.2210,  0.1170, -0.1654, -0.1097, -0.1187,  0.0786,\n",
       "          -0.2009, -0.4536, -0.2011],\n",
       "         [-0.4744, -0.2155, -0.0737,  0.0177, -0.0309, -0.2702,  0.1222,\n",
       "          -0.1640, -0.2964, -0.1250],\n",
       "         [-0.3491, -0.1821,  0.0322, -0.0183, -0.1030, -0.2471, -0.0479,\n",
       "          -0.2144, -0.0922, -0.2390],\n",
       "         [-0.3734, -0.2428, -0.1214,  0.0806, -0.0809, -0.2676,  0.0247,\n",
       "          -0.1725, -0.0163, -0.1893],\n",
       "         [-0.3825, -0.2516, -0.0090, -0.0150, -0.0691, -0.2291,  0.0420,\n",
       "          -0.1668, -0.0957, -0.1944],\n",
       "         [-0.4426, -0.3088,  0.0727, -0.0609, -0.0049, -0.2373,  0.1627,\n",
       "          -0.0543, -0.1466, -0.0933],\n",
       "         [-0.4579, -0.2958,  0.0607, -0.0318,  0.0221, -0.2407,  0.2053,\n",
       "          -0.0355, -0.2163, -0.0700],\n",
       "         [-0.3827, -0.2570,  0.0404, -0.0700, -0.0762, -0.1897,  0.1197,\n",
       "          -0.1164, -0.2760, -0.1421],\n",
       "         [-0.3135, -0.2332,  0.0713, -0.1002, -0.1407, -0.1480,  0.0362,\n",
       "          -0.1648, -0.2591, -0.2077],\n",
       "         [-0.3504, -0.2726,  0.0657, -0.0799, -0.0872, -0.1619,  0.0986,\n",
       "          -0.1078, -0.2271, -0.1707]]], dtype=torch.float64,\n",
       "       grad_fn=<ViewBackward0>)"
      ]
     },
     "execution_count": 60,
     "metadata": {},
     "output_type": "execute_result"
    }
   ],
   "source": [
    "attention_project = nn.Linear(in_features=C,out_features=C,dtype=float)\n",
    "\n",
    "attention_projected = attention_project(out)\n",
    "attention_projected"
   ]
  },
  {
   "cell_type": "code",
   "execution_count": 61,
   "metadata": {
    "colab": {
     "base_uri": "https://localhost:8080/"
    },
    "id": "WZM_uxxgSIBD",
    "outputId": "ae5b3c71-7294-4b74-9b2f-f83a30104a1b"
   },
   "outputs": [
    {
     "data": {
      "text/plain": [
       "torch.Size([1, 13, 10])"
      ]
     },
     "execution_count": 61,
     "metadata": {},
     "output_type": "execute_result"
    }
   ],
   "source": [
    "attention_projected.shape"
   ]
  },
  {
   "cell_type": "markdown",
   "metadata": {
    "id": "zFh98tdP38yF"
   },
   "source": [
    "#### **Multi Head Attention**"
   ]
  },
  {
   "cell_type": "markdown",
   "metadata": {
    "id": "76xyPw2l4PFV"
   },
   "source": [
    "Usually the relation between number of dimension and n heads can be like this\n",
    "for example if we want to have 2 heads , then each heads dimension is = n_dim / n_heads\n",
    "\n",
    "in our case `n_dim_heads = 10 //2 = 5`"
   ]
  },
  {
   "cell_type": "code",
   "execution_count": 62,
   "metadata": {
    "id": "c6npczaI4_Jf"
   },
   "outputs": [],
   "source": [
    "n_heads = 2\n",
    "n_dim_heads = 5\n",
    "batch_size = 1"
   ]
  },
  {
   "cell_type": "code",
   "execution_count": 63,
   "metadata": {
    "colab": {
     "base_uri": "https://localhost:8080/"
    },
    "id": "Zfe7plfk-KuS",
    "outputId": "b630beb6-3551-469e-ec14-0fee53d1e691"
   },
   "outputs": [
    {
     "data": {
      "text/plain": [
       "torch.Size([1, 13, 10])"
      ]
     },
     "execution_count": 63,
     "metadata": {},
     "output_type": "execute_result"
    }
   ],
   "source": [
    "vector_input_decoder.shape"
   ]
  },
  {
   "cell_type": "code",
   "execution_count": 64,
   "metadata": {
    "id": "Mounwubf4ylu"
   },
   "outputs": [],
   "source": [
    "linear_q_decoder_multihead_1 = nn.Linear(C, n_dim_heads, bias=False,dtype=float)\n",
    "linear_k_decoder_multihead_1 = nn.Linear(C, n_dim_heads, bias=False,dtype=float)\n",
    "linear_v_decoder_multihead_1 = nn.Linear(C, n_dim_heads, bias=False,dtype=float)\n",
    "\n",
    "\n",
    "linear_q_decoder_multihead_2 = nn.Linear(C, n_dim_heads, bias=False,dtype=float)\n",
    "linear_k_decoder_multihead_2 = nn.Linear(C, n_dim_heads, bias=False,dtype=float)\n",
    "linear_v_decoder_multihead_2 = nn.Linear(C, n_dim_heads, bias=False,dtype=float)\n",
    "\n"
   ]
  },
  {
   "cell_type": "code",
   "execution_count": 65,
   "metadata": {
    "id": "Grnz5OaVNnyy"
   },
   "outputs": [],
   "source": [
    "Q_1 = linear_q_decoder_multihead_1(vector_input_decoder)\n",
    "K_1 = linear_k_decoder_multihead_1(vector_input_decoder)\n",
    "V_1 = linear_v_decoder_multihead_1(vector_input_decoder)\n",
    "\n",
    "Q_2 = linear_q_decoder_multihead_2(vector_input_decoder)\n",
    "K_2 = linear_k_decoder_multihead_2(vector_input_decoder)\n",
    "V_2 = linear_v_decoder_multihead_2(vector_input_decoder)"
   ]
  },
  {
   "cell_type": "markdown",
   "metadata": {
    "id": "lR4yPXf_NfSz"
   },
   "source": [
    "Calculate Attention on both heads"
   ]
  },
  {
   "cell_type": "code",
   "execution_count": 66,
   "metadata": {
    "id": "ef_X2tKJNiL7"
   },
   "outputs": [],
   "source": [
    "attention_score_1 = Q_1 @ K_1.transpose(-2,-1)\n",
    "attention_score_2 = Q_1 @ K_1.transpose(-2,-1)\n",
    "\n",
    "# masking\n",
    "attention_score_1 = attention_score_1.masked_fill(attention_mask==0,float('-inf'))\n",
    "attention_score_2 = attention_score_2.masked_fill(attention_mask==0,float('-inf'))\n",
    "\n",
    "attention_score_1 = F.softmax(attention_score_1,dim=-1)\n",
    "attention_score_2 = F.softmax(attention_score_2,dim=-1)"
   ]
  },
  {
   "cell_type": "code",
   "execution_count": 67,
   "metadata": {
    "colab": {
     "base_uri": "https://localhost:8080/"
    },
    "id": "MpK6pkTDSbuW",
    "outputId": "785907c7-64a5-4819-8d2c-d26df757edd0"
   },
   "outputs": [
    {
     "data": {
      "text/plain": [
       "tensor([[[1.0000, 0.0000, 0.0000, 0.0000, 0.0000, 0.0000, 0.0000, 0.0000,\n",
       "          0.0000, 0.0000, 0.0000, 0.0000, 0.0000],\n",
       "         [0.6209, 0.3791, 0.0000, 0.0000, 0.0000, 0.0000, 0.0000, 0.0000,\n",
       "          0.0000, 0.0000, 0.0000, 0.0000, 0.0000],\n",
       "         [0.6734, 0.1591, 0.1676, 0.0000, 0.0000, 0.0000, 0.0000, 0.0000,\n",
       "          0.0000, 0.0000, 0.0000, 0.0000, 0.0000],\n",
       "         [0.3054, 0.1563, 0.1750, 0.3633, 0.0000, 0.0000, 0.0000, 0.0000,\n",
       "          0.0000, 0.0000, 0.0000, 0.0000, 0.0000],\n",
       "         [0.0791, 0.0473, 0.0219, 0.3555, 0.4961, 0.0000, 0.0000, 0.0000,\n",
       "          0.0000, 0.0000, 0.0000, 0.0000, 0.0000],\n",
       "         [0.0510, 0.0865, 0.0528, 0.4818, 0.1290, 0.1990, 0.0000, 0.0000,\n",
       "          0.0000, 0.0000, 0.0000, 0.0000, 0.0000],\n",
       "         [0.1016, 0.2065, 0.2112, 0.0919, 0.0559, 0.1820, 0.1509, 0.0000,\n",
       "          0.0000, 0.0000, 0.0000, 0.0000, 0.0000],\n",
       "         [0.0938, 0.1242, 0.0852, 0.1654, 0.1492, 0.1343, 0.1111, 0.1368,\n",
       "          0.0000, 0.0000, 0.0000, 0.0000, 0.0000],\n",
       "         [0.0883, 0.0954, 0.0477, 0.0650, 0.2137, 0.0833, 0.0778, 0.0748,\n",
       "          0.2540, 0.0000, 0.0000, 0.0000, 0.0000],\n",
       "         [0.1121, 0.0520, 0.0845, 0.0034, 0.0384, 0.0267, 0.0636, 0.0058,\n",
       "          0.0701, 0.5433, 0.0000, 0.0000, 0.0000],\n",
       "         [0.1262, 0.0110, 0.0104, 0.0277, 0.5434, 0.0124, 0.0336, 0.0355,\n",
       "          0.1456, 0.0236, 0.0307, 0.0000, 0.0000],\n",
       "         [0.0622, 0.1465, 0.0856, 0.0648, 0.0748, 0.1311, 0.0890, 0.0823,\n",
       "          0.1667, 0.0563, 0.0407, 0.0000, 0.0000],\n",
       "         [0.0369, 0.1773, 0.0866, 0.0492, 0.0393, 0.1169, 0.0585, 0.0637,\n",
       "          0.1373, 0.0644, 0.0298, 0.0000, 0.1401]]], dtype=torch.float64,\n",
       "       grad_fn=<SoftmaxBackward0>)"
      ]
     },
     "execution_count": 67,
     "metadata": {},
     "output_type": "execute_result"
    }
   ],
   "source": [
    "attention_score_2"
   ]
  },
  {
   "cell_type": "code",
   "execution_count": 68,
   "metadata": {
    "id": "BHIpZk8lOLKF"
   },
   "outputs": [],
   "source": [
    "# multiply by value matrices\n",
    "out_h1 = attention_score_1 @ V_1\n",
    "out_h2 = attention_score_2 @ V_2"
   ]
  },
  {
   "cell_type": "code",
   "execution_count": 69,
   "metadata": {
    "colab": {
     "base_uri": "https://localhost:8080/"
    },
    "id": "_W6UZ9cQOogi",
    "outputId": "0019993c-30fe-43c5-b588-67098e7a1bf8"
   },
   "outputs": [
    {
     "data": {
      "text/plain": [
       "torch.Size([1, 13, 5])"
      ]
     },
     "execution_count": 69,
     "metadata": {},
     "output_type": "execute_result"
    }
   ],
   "source": [
    "out_h1.shape"
   ]
  },
  {
   "cell_type": "code",
   "execution_count": 70,
   "metadata": {
    "colab": {
     "base_uri": "https://localhost:8080/"
    },
    "id": "BoArt7gpOqwt",
    "outputId": "773edf2f-79c4-4f63-ea5a-5e1dc6b207d7"
   },
   "outputs": [
    {
     "data": {
      "text/plain": [
       "torch.Size([1, 13, 5])"
      ]
     },
     "execution_count": 70,
     "metadata": {},
     "output_type": "execute_result"
    }
   ],
   "source": [
    "out_h2.shape"
   ]
  },
  {
   "cell_type": "markdown",
   "metadata": {
    "id": "hdU1b_UQOwpY"
   },
   "source": [
    "To make the size is the same again as our input, we could concat both\n",
    "based on our last dimension (-1) `C`"
   ]
  },
  {
   "cell_type": "code",
   "execution_count": 71,
   "metadata": {
    "colab": {
     "base_uri": "https://localhost:8080/"
    },
    "id": "DSTJbv6RO3G8",
    "outputId": "d304e6bf-9099-4aa7-d2bb-aca7f3e3344b"
   },
   "outputs": [
    {
     "data": {
      "text/plain": [
       "torch.Size([1, 13, 10])"
      ]
     },
     "execution_count": 71,
     "metadata": {},
     "output_type": "execute_result"
    }
   ],
   "source": [
    "out_concat = torch.cat([out_h1,out_h2], dim=-1)\n",
    "out_concat.shape"
   ]
  },
  {
   "cell_type": "code",
   "execution_count": 72,
   "metadata": {
    "colab": {
     "base_uri": "https://localhost:8080/"
    },
    "id": "SI8oQcciSW7O",
    "outputId": "efb8d647-e6a1-43c4-da59-72707960544e"
   },
   "outputs": [
    {
     "data": {
      "text/plain": [
       "tensor([[[-0.4616, -0.3101,  0.0903,  0.1469,  0.0410, -0.2930,  0.1543,\n",
       "           0.1421, -0.1048, -0.0280],\n",
       "         [-0.4039, -0.2956, -0.3209,  0.2663, -0.0363, -0.1955,  0.2313,\n",
       "           0.0952, -0.1623, -0.1803],\n",
       "         [-0.3432, -0.2879, -0.1933,  0.3075, -0.1155, -0.2193,  0.1528,\n",
       "           0.1858, -0.1162, -0.1005],\n",
       "         [-0.1892, -0.1281, -0.0909,  0.3888, -0.3482, -0.1351,  0.1272,\n",
       "           0.2775, -0.3356,  0.0425],\n",
       "         [-0.0742, -0.2212,  0.8069, -0.0271, -0.2950,  0.2445,  0.1969,\n",
       "           0.3876, -0.6162,  0.1334],\n",
       "         [-0.1947, -0.0958,  0.2045,  0.1938, -0.3400,  0.0279,  0.2600,\n",
       "           0.3189, -0.5683,  0.1363],\n",
       "         [-0.3145, -0.1855, -0.2030,  0.2807, -0.2496, -0.0959,  0.2931,\n",
       "           0.2515, -0.3951,  0.0038],\n",
       "         [-0.2590, -0.1497,  0.1480,  0.2118, -0.2929, -0.0207,  0.2414,\n",
       "           0.3213, -0.5119,  0.1032],\n",
       "         [-0.1167, -0.2565,  0.1931,  0.2430, -0.3067,  0.0630,  0.0854,\n",
       "           0.2656, -0.3693, -0.0530],\n",
       "         [-0.2641, -0.5285, -0.5476,  0.3387, -0.2407,  0.0838,  0.1943,\n",
       "           0.2131, -0.2907, -0.4394],\n",
       "         [-0.0782, -0.3610,  0.7443, -0.0407, -0.2046,  0.2614,  0.1408,\n",
       "           0.3276, -0.4532, -0.0243],\n",
       "         [-0.2004, -0.2358, -0.1554,  0.3322, -0.2923, -0.0347,  0.1541,\n",
       "           0.2281, -0.3294, -0.0950],\n",
       "         [-0.2633, -0.2894, -0.2581,  0.3415, -0.2608, -0.0200,  0.1758,\n",
       "           0.2257, -0.3478, -0.1600]]], dtype=torch.float64,\n",
       "       grad_fn=<ViewBackward0>)"
      ]
     },
     "execution_count": 72,
     "metadata": {},
     "output_type": "execute_result"
    }
   ],
   "source": [
    "attention_project(out_concat)"
   ]
  },
  {
   "cell_type": "markdown",
   "metadata": {
    "id": "bkJmgq-OPFsW"
   },
   "source": [
    "For making calculating attention easier, we can create OOP based"
   ]
  },
  {
   "cell_type": "markdown",
   "metadata": {
    "id": "3vxUSqnTy00Y"
   },
   "source": [
    "As the model capacity is getting increased, there is a chance that the model will overfit, to tackle those problem we can use `Dropout` Mechanism."
   ]
  },
  {
   "cell_type": "markdown",
   "metadata": {
    "id": "nFgAK6hM2CWr"
   },
   "source": [
    "So where to apply dropout in Attention Head, we apply dropout after calculating attention\n",
    "\n"
   ]
  },
  {
   "cell_type": "markdown",
   "metadata": {
    "id": "IS9pEDni64x9"
   },
   "source": [
    "#### Attention Class"
   ]
  },
  {
   "cell_type": "code",
   "execution_count": 73,
   "metadata": {
    "id": "KBPWvI01MDKm"
   },
   "outputs": [],
   "source": [
    "\n",
    "class AttentionHead(nn.Module):\n",
    "    def __init__(self, n_dim,n_dim_head,dropout_p):\n",
    "        super().__init__()\n",
    "        self.linear_key = nn.Linear(n_dim, n_dim_head, bias=False)\n",
    "        self.linear_query = nn.Linear(n_dim, n_dim_head, bias=False)\n",
    "        self.linear_value = nn.Linear(n_dim, n_dim_head, bias=False)\n",
    "        self.attention_dropout = nn.Dropout(dropout_p)\n",
    "        self.double()\n",
    "    def forward(self, q_vec,k_vec,v_vec,mask=None):\n",
    "        B,T,C = q_vec.shape\n",
    "        Q = self.linear_query(q_vec) # (B,T,C)\n",
    "        K = self.linear_key(k_vec)   # (B,T,C)\n",
    "        # compute attention scores (\"affinities\")\n",
    "        attention_weight = Q @ K.transpose(-2,-1) * C**-0.5 # (B, T, C) @ (B, C, T) -> (B, T, T)\n",
    "\n",
    "        # perform masking\n",
    "        if mask is not None :\n",
    "          attention_weight = attention_weight.masked_fill(mask==0,float('-inf')) # (B, T, T)\n",
    "\n",
    "        attention_score = F.softmax(attention_weight, dim=-1) # (B, T, T)\n",
    "        # perform the weighted aggregation of the values\n",
    "        V = self.linear_value(v_vec) # (B,T,C)\n",
    "        out = self.attention_dropout(attention_score) @ V # (B, T, T) @ (B, T, C) -> (B, T, C)\n",
    "        return out"
   ]
  },
  {
   "cell_type": "markdown",
   "metadata": {
    "id": "1eXwbP9YQL4A"
   },
   "source": [
    "Let's try to perform attention on single head"
   ]
  },
  {
   "cell_type": "code",
   "execution_count": 74,
   "metadata": {
    "id": "hc4toraaQJlp"
   },
   "outputs": [],
   "source": [
    "attention = AttentionHead(n_dim=C,n_dim_head = C//1,dropout_p=0.1)"
   ]
  },
  {
   "cell_type": "code",
   "execution_count": 75,
   "metadata": {
    "colab": {
     "base_uri": "https://localhost:8080/"
    },
    "id": "zanq6McVQs2u",
    "outputId": "64730272-a0be-4323-c339-a03bac0a3835"
   },
   "outputs": [
    {
     "data": {
      "text/plain": [
       "tensor([[[-0.1268, -0.1985,  0.2463,  0.5713, -0.3246,  0.4527, -0.1515,\n",
       "           0.4478, -0.3808, -0.0722],\n",
       "         [-0.0531, -0.0750,  0.0957,  0.3741, -0.4766,  0.6913, -0.2580,\n",
       "           0.2124, -0.2529, -0.1095],\n",
       "         [-0.1315,  0.0491, -0.2209,  0.4367, -0.4486,  0.7117, -0.4722,\n",
       "          -0.0417, -0.1377,  0.0483],\n",
       "         [-0.2099,  0.0240, -0.0804,  0.3299, -0.6127,  0.9035, -0.5675,\n",
       "          -0.2694,  0.2418, -0.2821],\n",
       "         [-0.1498,  0.3923, -0.0236, -0.0078, -0.7455,  1.1271, -0.6937,\n",
       "          -0.4305,  0.4928, -0.3010],\n",
       "         [-0.1020,  0.9664,  0.4020, -0.3307, -0.5995,  0.9551, -0.6605,\n",
       "          -0.1535,  0.5691, -0.0832],\n",
       "         [-0.2126, -0.2640,  0.0877,  0.2095, -0.2936,  0.3319, -0.2609,\n",
       "          -0.1233,  0.0477, -0.1177],\n",
       "         [-0.2191,  0.1318,  0.3726, -0.0478, -0.5084,  0.7139, -0.5489,\n",
       "          -0.3466,  0.5004, -0.3265],\n",
       "         [-0.1147,  0.3476,  0.1924, -0.2022, -0.4712,  0.7298, -0.4476,\n",
       "          -0.3052,  0.4682, -0.2085],\n",
       "         [-0.0306,  0.3077,  0.0895, -0.1676, -0.5788,  1.0123, -0.5678,\n",
       "          -0.4167,  0.4638, -0.2838],\n",
       "         [-0.1270,  0.4406,  0.2164, -0.1753, -0.4238,  0.7673, -0.5018,\n",
       "          -0.2716,  0.5773, -0.2811],\n",
       "         [-0.2245,  0.5431,  0.3063, -0.0521, -0.5581,  0.9139, -0.5526,\n",
       "          -0.0451,  0.4646, -0.1877],\n",
       "         [-0.2216,  0.1568,  0.2251, -0.0361, -0.4636,  0.8422, -0.4751,\n",
       "          -0.1906,  0.4860, -0.2816]]], dtype=torch.float64,\n",
       "       grad_fn=<UnsafeViewBackward0>)"
      ]
     },
     "execution_count": 75,
     "metadata": {},
     "output_type": "execute_result"
    }
   ],
   "source": [
    "attention.forward(q_vec = vector_input_decoder,\n",
    "                  k_vec = vector_input_decoder,\n",
    "                  v_vec = vector_input_decoder,mask=attention_mask)"
   ]
  },
  {
   "cell_type": "markdown",
   "metadata": {
    "id": "OVbYhxzb67gw"
   },
   "source": [
    "#### MultiHead Attention Class"
   ]
  },
  {
   "cell_type": "markdown",
   "metadata": {
    "id": "knHiadQ72_DY"
   },
   "source": [
    "In Multihead Attention we calculate attention separately in differents heads, the dimension in each heads is `n_dim//n_heads` , after that we concate the vector from each heads.\n",
    "\n",
    "More information, in multihead attention we should add dropout after projection"
   ]
  },
  {
   "cell_type": "code",
   "execution_count": 76,
   "metadata": {
    "id": "k-3zAbYYNHge"
   },
   "outputs": [],
   "source": [
    "class MultiHeadAttention(nn.Module):\n",
    "\n",
    "    def __init__(self, n_dim,num_heads,dropout_p):\n",
    "        super().__init__()\n",
    "        self.num_heads = num_heads\n",
    "        n_dim_head = n_dim // num_heads\n",
    "        # stack multiple  heads\n",
    "        self.heads = nn.ModuleList([AttentionHead(n_dim,n_dim_head,dropout_p) for _ in range(num_heads) ])\n",
    "        self.projection_dropout = nn.Dropout(dropout_p)\n",
    "\n",
    "        self.proj = nn.Linear(n_dim, n_dim)\n",
    "        self.double()\n",
    "\n",
    "    def forward(self, q_vec,k_vec,v_vec,mask=None):\n",
    "        out = torch.cat([head(q_vec=q_vec,k_vec=k_vec,v_vec = v_vec, mask=mask) for head in self.heads], dim=-1)\n",
    "        out = self.projection_dropout (self.proj(out))\n",
    "        return out"
   ]
  },
  {
   "cell_type": "code",
   "execution_count": 77,
   "metadata": {
    "id": "c2O79uYYSSc3"
   },
   "outputs": [],
   "source": [
    "config = {\n",
    "    'n_dim' : 10,\n",
    "    'num_heads' : 2,\n",
    "    \"dropout_p\":0.1\n",
    "}\n",
    "multihead_attention = MultiHeadAttention(**config)"
   ]
  },
  {
   "cell_type": "code",
   "execution_count": 78,
   "metadata": {
    "colab": {
     "base_uri": "https://localhost:8080/"
    },
    "id": "rNwFazHoW-x_",
    "outputId": "ee4e3caa-feea-4d5a-8086-8bd7197aa7ee"
   },
   "outputs": [
    {
     "data": {
      "text/plain": [
       "MultiHeadAttention(\n",
       "  (heads): ModuleList(\n",
       "    (0-1): 2 x AttentionHead(\n",
       "      (linear_key): Linear(in_features=10, out_features=5, bias=False)\n",
       "      (linear_query): Linear(in_features=10, out_features=5, bias=False)\n",
       "      (linear_value): Linear(in_features=10, out_features=5, bias=False)\n",
       "      (attention_dropout): Dropout(p=0.1, inplace=False)\n",
       "    )\n",
       "  )\n",
       "  (projection_dropout): Dropout(p=0.1, inplace=False)\n",
       "  (proj): Linear(in_features=10, out_features=10, bias=True)\n",
       ")"
      ]
     },
     "execution_count": 78,
     "metadata": {},
     "output_type": "execute_result"
    }
   ],
   "source": [
    "multihead_attention"
   ]
  },
  {
   "cell_type": "markdown",
   "metadata": {
    "id": "9FyTQr86Xf1J"
   },
   "source": [
    "Now, after we finished constructing how to calculate attention , we can create bigger blocks :\n",
    "\n",
    "- **Encoder**\n",
    "- **Decoder**"
   ]
  },
  {
   "cell_type": "markdown",
   "metadata": {
    "id": "qWUJsZfYXqpd"
   },
   "source": [
    "### Encoder Blocks"
   ]
  },
  {
   "cell_type": "markdown",
   "metadata": {
    "id": "wJCwGWrMXxjc"
   },
   "source": [
    "Remember that our encoder has structure like this\n",
    "<img src=\"https://jalammar.github.io/images/t/transformer_resideual_layer_norm.png\">\n",
    "\n",
    "<center><a href=\"https://jalammar.github.io/images/t/transformer_resideual_layer_norm.png\">Source : Jay Alammar</a></center>"
   ]
  },
  {
   "cell_type": "markdown",
   "metadata": {
    "id": "EZe5aOrufpxl"
   },
   "source": [
    "So recall again inside each encoder block, we have\n",
    "1. **Self Attention** --> Followed by Residual Connection --> Layer Norm\n",
    "2. **Feed Forward** --> Followed by Residual Connection --> Layer Norm\n",
    "\n",
    "The Feed Forward have structure like this :    \n",
    "[feed forward.png]"
   ]
  },
  {
   "cell_type": "markdown",
   "metadata": {
    "id": "eGnZJhS2tDZ4"
   },
   "source": [
    "In each sublayer we should place the dropout , remember the dropout works to prevent model from overfitting"
   ]
  },
  {
   "cell_type": "markdown",
   "metadata": {
    "id": "qYfgPp_z3kNS"
   },
   "source": [
    "In Encoder block, the dropout placed after feedforward"
   ]
  },
  {
   "cell_type": "code",
   "execution_count": 79,
   "metadata": {
    "id": "-G7_u2DuXxL7"
   },
   "outputs": [],
   "source": [
    "class EncoderBlock(nn.Module) :\n",
    "    def __init__(self,n_dim,num_heads,dropout_p) :\n",
    "      super().__init__()\n",
    "      # add multihead attention\n",
    "      self.multihead_attention = MultiHeadAttention(n_dim=n_dim,num_heads=num_heads,dropout_p=dropout_p)\n",
    "      # 1st layer norm after multihead attention\n",
    "      self.ln_1 = nn.LayerNorm(n_dim)\n",
    "      # add feed forward\n",
    "      # in transformer paper --> the first multilayer perceptrion make the dimension 4*n_dim\n",
    "      self.feed_forward = nn.Sequential(\n",
    "          nn.Linear(n_dim,4*n_dim),\n",
    "          nn.ReLU(),\n",
    "          nn.Dropout(dropout_p),\n",
    "          nn.Linear(4*n_dim,n_dim),\n",
    "\n",
    "\n",
    "      )\n",
    "      # 2nd layer norm after feed forward\n",
    "      self.ln_2 = nn.LayerNorm(n_dim)\n",
    "\n",
    "      self.double()\n",
    "\n",
    "\n",
    "\n",
    "\n",
    "\n",
    "\n"
   ]
  },
  {
   "cell_type": "markdown",
   "metadata": {
    "id": "twURPMNXlFlr"
   },
   "source": [
    "Then we add `forward` method to calculate operation in decoder block\n",
    "\n",
    "1. calculate self attention\n",
    "2. continue with residual connection\n",
    "3. perform layer normalization (1)\n",
    "4. enter feed-forward\n",
    "5. continue with residual connection\n",
    "6. perform layer norm again"
   ]
  },
  {
   "cell_type": "code",
   "execution_count": 80,
   "metadata": {
    "id": "wBtNy7oZlvl8"
   },
   "outputs": [],
   "source": [
    "class EncoderBlock(nn.Module) :\n",
    "    def __init__(self,n_dim,num_heads,dropout_p) :\n",
    "      super().__init__()\n",
    "      # add multihead attention\n",
    "      self.multihead_attention = MultiHeadAttention(n_dim=n_dim,num_heads=num_heads,dropout_p=dropout_p)\n",
    "      # 1st layer norm after multihead attention\n",
    "      self.ln_1 = nn.LayerNorm(n_dim)\n",
    "      # add feed forward\n",
    "      # in transformer paper --> the first multilayer perceptrion make the dimension 4*n_dim\n",
    "\n",
    "      self.feed_forward = nn.Sequential(\n",
    "          nn.Linear(n_dim,4*n_dim),\n",
    "          nn.ReLU(),\n",
    "          nn.Dropout(dropout_p),\n",
    "          nn.Linear(4*n_dim,n_dim)\n",
    "\n",
    "      )\n",
    "      # 2nd layer norm after feed forward\n",
    "      self.ln_2 = nn.LayerNorm(n_dim)\n",
    "\n",
    "\n",
    "      self.double()\n",
    "    def forward(self,x,mask=None) :\n",
    "      # perform multihead attention\n",
    "\n",
    "      x = x + self.multihead_attention(q_vec=x,k_vec=x,v_vec=x,mask=mask) # to perform residual connection we only add original input x and operation from multihead attention\n",
    "      # perform layer norm\n",
    "      x = self.ln_1(x)\n",
    "\n",
    "      # enter feed forward\n",
    "      x = x + self.feed_forward(x)\n",
    "      # enter layer norm again\n",
    "      x = self.ln_2(x)\n",
    "\n",
    "      return x\n"
   ]
  },
  {
   "cell_type": "markdown",
   "metadata": {
    "id": "6k_IIR2frxyw"
   },
   "source": [
    "Let's verify whether our encoder block working properly"
   ]
  },
  {
   "cell_type": "markdown",
   "metadata": {
    "id": "ER8VZBhCmXsM"
   },
   "source": [
    "We see that the encoder block can be stacked one to another\n",
    "\n",
    "<img src=\"https://jalammar.github.io/images/t/The_transformer_encoder_decoder_stack.png\">"
   ]
  },
  {
   "cell_type": "markdown",
   "metadata": {
    "id": "MQAqQw-ymmFg"
   },
   "source": [
    "We can proceed to create encoder part from our architecture, yeay! we are halfway through it"
   ]
  },
  {
   "cell_type": "markdown",
   "metadata": {
    "id": "N-w1dCT1YNKy"
   },
   "source": [
    "So recall again to what happens in Encoder Sections\n",
    "\n",
    "$1^{st}$**Our Input** : Sequence of word represented as index , having size of `[B,T]`\n",
    "\n",
    "\n"
   ]
  },
  {
   "cell_type": "markdown",
   "metadata": {
    "id": "rcy14g98npEn"
   },
   "source": [
    "$2^{st}$ **Embedding Layer** : Retrieve each word Embedding + Positional Encoding  --> we need to create the embedding\n"
   ]
  },
  {
   "cell_type": "markdown",
   "metadata": {
    "id": "m9RdO4uRnly-"
   },
   "source": [
    "We will create word embedding first to our source language vocabulary"
   ]
  },
  {
   "cell_type": "markdown",
   "metadata": {
    "id": "ybHBkexrBYov"
   },
   "source": [
    "#### Encoder Class"
   ]
  },
  {
   "cell_type": "code",
   "execution_count": 81,
   "metadata": {
    "id": "ZXhklpnypFWa"
   },
   "outputs": [],
   "source": [
    "class Encoder(nn.Module) :\n",
    "  def __init__(self,src_vocab_num,\n",
    "               n_dim, num_heads,dropout_p,\n",
    "               n_block,sequence_length,device) :\n",
    "      super().__init__()\n",
    "      # create word embedding\n",
    "      self.device = device\n",
    "      self.src_word_embedding = nn.Embedding(src_vocab_num,\n",
    "                                            n_dim)\n",
    "\n",
    "      # create positional encoding\n",
    "      self.positional_encoding = positional_encoding(position=sequence_length,n_dim=n_dim,device=device)\n",
    "      self.positional_encoding.to(device)\n",
    "\n",
    "      # encoder blocks\n",
    "      self.encoder = nn.ModuleList([EncoderBlock(n_dim,num_heads,dropout_p) for _ in range(n_block)])\n",
    "\n",
    "      # embedding dropout\n",
    "      self.embed_dropout = nn.Dropout(dropout_p)\n",
    "\n",
    "      self.double()\n",
    "\n",
    "  def forward(self,x,mask=None) :\n",
    "    # x is our input should have size --> [B,T]\n",
    "    B,T = x.shape\n",
    "    pos = torch.arange(0, T, dtype=torch.long, device=self.device)\n",
    "    vec = self.embed_dropout(self.src_word_embedding(x) + self.positional_encoding[:,pos,:])\n",
    "    vec = vec.to(self.device)\n",
    "\n",
    "\n",
    "\n",
    "    for enc in self.encoder :\n",
    "      vec = enc(vec,mask=mask)\n",
    "\n",
    "    return vec\n"
   ]
  },
  {
   "cell_type": "markdown",
   "metadata": {
    "id": "jsfpGQVFsSuR"
   },
   "source": [
    "#### Testing Encoder Block"
   ]
  },
  {
   "cell_type": "markdown",
   "metadata": {
    "id": "xw2aj_Kipl2R"
   },
   "source": [
    "Now, lets validate it, by using single batch training sample"
   ]
  },
  {
   "cell_type": "code",
   "execution_count": 82,
   "metadata": {
    "colab": {
     "base_uri": "https://localhost:8080/"
    },
    "id": "8a52TaPTn4eX",
    "outputId": "a260edf3-6dcd-467f-a94c-b5e829fe5cec"
   },
   "outputs": [
    {
     "data": {
      "text/plain": [
       "torch.Size([1, 14])"
      ]
     },
     "execution_count": 82,
     "metadata": {},
     "output_type": "execute_result"
    }
   ],
   "source": [
    "sample_x = X_train[0].unsqueeze(-2)\n",
    "sample_x.shape"
   ]
  },
  {
   "cell_type": "markdown",
   "metadata": {
    "id": "_21o6Xt6sVQR"
   },
   "source": [
    "make object of encoder"
   ]
  },
  {
   "cell_type": "code",
   "execution_count": 83,
   "metadata": {
    "colab": {
     "base_uri": "https://localhost:8080/"
    },
    "id": "SPOnsysE_WWF",
    "outputId": "494e9516-e15b-4262-85c6-b7e28ae51fe3"
   },
   "outputs": [
    {
     "data": {
      "text/plain": [
       "{'n_dim': 10, 'num_heads': 2, 'dropout_p': 0.1}"
      ]
     },
     "execution_count": 83,
     "metadata": {},
     "output_type": "execute_result"
    }
   ],
   "source": [
    "config"
   ]
  },
  {
   "cell_type": "code",
   "execution_count": 84,
   "metadata": {
    "colab": {
     "base_uri": "https://localhost:8080/"
    },
    "id": "ZP2CEbsvsYJ-",
    "outputId": "742da5af-93cb-4541-9c69-c0f2c90aa1ed"
   },
   "outputs": [
    {
     "data": {
      "text/plain": [
       "Encoder(\n",
       "  (src_word_embedding): Embedding(935, 10)\n",
       "  (encoder): ModuleList(\n",
       "    (0): EncoderBlock(\n",
       "      (multihead_attention): MultiHeadAttention(\n",
       "        (heads): ModuleList(\n",
       "          (0-1): 2 x AttentionHead(\n",
       "            (linear_key): Linear(in_features=10, out_features=5, bias=False)\n",
       "            (linear_query): Linear(in_features=10, out_features=5, bias=False)\n",
       "            (linear_value): Linear(in_features=10, out_features=5, bias=False)\n",
       "            (attention_dropout): Dropout(p=0.1, inplace=False)\n",
       "          )\n",
       "        )\n",
       "        (projection_dropout): Dropout(p=0.1, inplace=False)\n",
       "        (proj): Linear(in_features=10, out_features=10, bias=True)\n",
       "      )\n",
       "      (ln_1): LayerNorm((10,), eps=1e-05, elementwise_affine=True)\n",
       "      (feed_forward): Sequential(\n",
       "        (0): Linear(in_features=10, out_features=40, bias=True)\n",
       "        (1): ReLU()\n",
       "        (2): Dropout(p=0.1, inplace=False)\n",
       "        (3): Linear(in_features=40, out_features=10, bias=True)\n",
       "      )\n",
       "      (ln_2): LayerNorm((10,), eps=1e-05, elementwise_affine=True)\n",
       "    )\n",
       "  )\n",
       "  (embed_dropout): Dropout(p=0.1, inplace=False)\n",
       ")"
      ]
     },
     "execution_count": 84,
     "metadata": {},
     "output_type": "execute_result"
    }
   ],
   "source": [
    "config = {\"src_vocab_num\":len(eng_vocab),\n",
    "          \"n_dim\":10,\n",
    "          \"num_heads\":2,\n",
    "          \"n_block\":1,\n",
    "          \"dropout_p\":0.1,\n",
    "          \"device\" : 'cuda' if torch.cuda.is_available()==True else 'cpu' ,\n",
    "          \"sequence_length\":ENCODER_SEQUENCE_LENGTH}\n",
    "\n",
    "encoder = Encoder(**config)\n",
    "encoder"
   ]
  },
  {
   "cell_type": "markdown",
   "metadata": {
    "id": "KPKqgbe6w4bo"
   },
   "source": [
    "The output should have size `[B,T,C]`"
   ]
  },
  {
   "cell_type": "markdown",
   "metadata": {
    "id": "s9gKHr-oXwB6"
   },
   "source": [
    "### Decoder Blocks"
   ]
  },
  {
   "cell_type": "markdown",
   "metadata": {
    "id": "u5R5j9Pm2aRs"
   },
   "source": [
    "[Picture of Decoder.png]"
   ]
  },
  {
   "cell_type": "markdown",
   "metadata": {
    "id": "aoqnoi8n4GMB"
   },
   "source": [
    "Each Encoder Block consists of\n",
    "1. Multihead (Masked Self) Attention\n",
    "2. Intra Attention\n",
    "3. Feed Forward Layer"
   ]
  },
  {
   "cell_type": "markdown",
   "metadata": {
    "id": "r2bKhO6T-tyt"
   },
   "source": [
    "[Explain] Multihead Self Attention"
   ]
  },
  {
   "cell_type": "markdown",
   "metadata": {
    "id": "XfHcV8Pz-xKG"
   },
   "source": [
    "[Explain] Encoder-Decoder Attention\n",
    "\n",
    "we want to extract the vector from encoder hence\n",
    "- our query_vector = vector from self attention (decoder)\n",
    "- our key_vector = vector from encoder block\n",
    "- our value_vector = vector from encoder block"
   ]
  },
  {
   "cell_type": "markdown",
   "metadata": {
    "id": "qyKokzUb6LFI"
   },
   "source": [
    "Dropout in each Decoder Block, previously we add dropout in attention mechanism, in each Decoder Block we also add dropout after feed forward before entering other process such as entering another block"
   ]
  },
  {
   "cell_type": "code",
   "execution_count": 85,
   "metadata": {
    "id": "Jbd46vydP3pW"
   },
   "outputs": [],
   "source": [
    "class DecoderBlock(nn.Module) :\n",
    "    def __init__(self,n_dim,num_heads,dropout_p) :\n",
    "      super().__init__()\n",
    "      # add multihead(masked self attention) attention\n",
    "      self.multihead_attention = MultiHeadAttention(n_dim,num_heads,dropout_p)\n",
    "      # 1st layer norm after multihead attention\n",
    "      self.ln_1 = nn.LayerNorm(n_dim)\n",
    "\n",
    "      # adding intra attention layer\n",
    "      self.intra_attention = MultiHeadAttention(n_dim,num_heads,dropout_p)\n",
    "      # 2nd layer norm after intra attention layer\n",
    "      self.ln_2 = nn.LayerNorm(n_dim)\n",
    "\n",
    "      # add feed forward\n",
    "      # in transformer paper --> the first multilayer perceptrion make the dimension 4*n_dim\n",
    "\n",
    "      self.feed_forward = nn.Sequential(\n",
    "          nn.Linear(n_dim,4*n_dim),\n",
    "          nn.ReLU(),\n",
    "          nn.Linear(4*n_dim,n_dim),\n",
    "          nn.Dropout(dropout_p)\n",
    "      )\n",
    "\n",
    "      self.ln_3 = nn.LayerNorm(n_dim)\n",
    "\n",
    "      self.double()\n",
    "    def forward(self,encoder_output,decoder_input,mask=None) :\n",
    "      # perform multihead attention\n",
    "      decoder_vector = decoder_input + self.multihead_attention(q_vec=decoder_input,k_vec=decoder_input,v_vec = decoder_input , mask=mask)\n",
    "      # perform layer norm\n",
    "      decoder_vector = self.ln_1(decoder_vector)\n",
    "      # perform intra attention , in decoder section we do not perform masking\n",
    "      decoder_vector = decoder_vector + self.intra_attention(q_vec=decoder_vector ,\n",
    "                                                             k_vec=encoder_output ,\n",
    "                                                             v_vec=encoder_output,mask=None)\n",
    "      # perform second layer norm\n",
    "      decoder_vector = self.ln_2(decoder_vector)\n",
    "\n",
    "      # feed to feed forward layer + residual connection\n",
    "      decoder_vector = decoder_vector + self.feed_forward(decoder_vector)\n",
    "      decoder_vector = self.ln_3(decoder_vector)\n",
    "\n",
    "      return decoder_vector\n",
    "\n"
   ]
  },
  {
   "cell_type": "markdown",
   "metadata": {
    "id": "RzlUG6ZuAOHv"
   },
   "source": [
    "#### Decoder Class"
   ]
  },
  {
   "cell_type": "code",
   "execution_count": 86,
   "metadata": {
    "id": "ZKkrXFHeAG_z"
   },
   "outputs": [],
   "source": [
    "class Decoder(nn.Module) :\n",
    "  def __init__(self,tgt_vocab_num,\n",
    "               n_dim, num_heads,dropout_p,\n",
    "               n_block,sequence_length,device) :\n",
    "      super().__init__()\n",
    "      self.device = device\n",
    "      # create word embedding\n",
    "      self.tgt_word_embedding = nn.Embedding(tgt_vocab_num,\n",
    "                                            n_dim)\n",
    "\n",
    "      # create positional encoding\n",
    "      self.positional_encoding = positional_encoding(position=sequence_length,n_dim=n_dim,device=device)\n",
    "      self.positional_encoding.to(device)\n",
    "      # encoder blocks\n",
    "      self.decoder = nn.ModuleList([DecoderBlock(n_dim,num_heads,dropout_p) for _ in range(n_block)])\n",
    "\n",
    "      # last projection layer --> linear layer\n",
    "      self.project = nn.Linear(n_dim,tgt_vocab_num)\n",
    "\n",
    "      # embedding dropout\n",
    "      self.embed_dropout = nn.Dropout(dropout_p)\n",
    "      self.double()\n",
    "\n",
    "  def forward(self,y,encoder_output,mask=None) :\n",
    "    # y is our input should have size --> [B,T]\n",
    "    B,T = y.shape\n",
    "    pos = torch.arange(0, T, dtype=torch.long, device=self.device)\n",
    "    vec = self.embed_dropout(self.tgt_word_embedding(y) + self.positional_encoding[:,pos,:])\n",
    "    vec = vec.to(self.device)\n",
    "\n",
    "    for dec in self.decoder :\n",
    "      vec = dec(encoder_output = encoder_output,decoder_input=vec,mask=mask)\n",
    "\n",
    "    return vec\n"
   ]
  },
  {
   "cell_type": "markdown",
   "metadata": {
    "id": "fykFFbAQAvq0"
   },
   "source": [
    "Making Transformer Class"
   ]
  },
  {
   "cell_type": "markdown",
   "metadata": {
    "id": "u5sIeN6rExhR"
   },
   "source": [
    "### Transformer Class"
   ]
  },
  {
   "cell_type": "markdown",
   "metadata": {
    "id": "KKfdb66aF63c"
   },
   "source": [
    "Also we should notice that we apply different masking\n",
    "\n",
    "1. In Encoder section we perform mask for `padding`\n",
    "2. In Decoder section we perform `future words` mask and `padding` mask"
   ]
  },
  {
   "cell_type": "markdown",
   "metadata": {
    "id": "OLG4hkSPGwd2"
   },
   "source": [
    "Hence, we can create builtin masking function in our `Transformer` Class"
   ]
  },
  {
   "cell_type": "code",
   "execution_count": 87,
   "metadata": {
    "id": "VEoLIJP5Gvs-"
   },
   "outputs": [],
   "source": [
    "class Transformer(nn.Module) :\n",
    "    def __init__(self,tgt_vocab_num,\n",
    "                 src_vocab_num,n_dim,\n",
    "                 num_heads,n_encoder,n_decoder,\n",
    "                 dropout_p,\n",
    "                 sequence_length_encoder,\n",
    "                 sequence_length_decoder,\n",
    "                 src_padding_idx,\n",
    "                 tgt_padding_idx,\n",
    "                 device\n",
    "                 ) :\n",
    "        super().__init__()\n",
    "        self.device = device\n",
    "        self.src_padding_idx = src_padding_idx\n",
    "        self.tgt_padding_idx = tgt_padding_idx\n",
    "\n",
    "        self.encoder = Encoder(src_vocab_num=src_vocab_num,\n",
    "                               n_dim=n_dim,num_heads=num_heads,dropout_p=dropout_p,\n",
    "                               n_block=n_encoder,\n",
    "                               sequence_length=sequence_length_encoder,device=device)\n",
    "        self.decoder = Decoder(tgt_vocab_num=tgt_vocab_num,\n",
    "                        n_dim=n_dim,num_heads=num_heads,dropout_p=dropout_p,\n",
    "                        n_block=n_decoder,\n",
    "                        sequence_length=sequence_length_decoder,device=device)\n",
    "        self.final_projection = nn.Linear(n_dim,tgt_vocab_num)\n",
    "\n",
    "        self.double()\n",
    "    def make_encoder_mask(self, X):\n",
    "\n",
    "        #X = [B,T]\n",
    "\n",
    "        padding_mask = (X != self.src_padding_idx).unsqueeze(1).type(torch.LongTensor)\n",
    "        padding_mask = padding_mask.to(self.device)\n",
    "\n",
    "        #padding_mask = [B, 1, 1, T]\n",
    "\n",
    "        return padding_mask\n",
    "\n",
    "    def make_decoder_mask(self, y):\n",
    "\n",
    "        #y = = [B,T]\n",
    "        B,T = y.shape\n",
    "\n",
    "        padding_mask = (y != self.tgt_padding_idx).unsqueeze(1).type(torch.LongTensor)\n",
    "        padding_mask = padding_mask.to(self.device)\n",
    "        #padding_mask = [B, 1, 1, T]\n",
    "\n",
    "        # future word mask\n",
    "        future_mask = torch.tril(torch.ones((T, T))).bool()\n",
    "        future_mask = future_mask.to(self.device)\n",
    "        #trg_sub_mask = [trg len, trg len]\n",
    "\n",
    "        mask = future_mask & padding_mask\n",
    "        mask = mask.to(self.device)\n",
    "        #mask = [B 1, T, T]\n",
    "\n",
    "        return mask\n",
    "\n",
    "\n",
    "    def forward(self,X,y) :\n",
    "       encoder_mask = self.make_encoder_mask(X)\n",
    "       decoder_mask = self.make_decoder_mask(y)\n",
    "\n",
    "       encoder_out = self.encoder(X,mask=encoder_mask)\n",
    "\n",
    "       decoder_out = self.decoder(y=y,encoder_output=encoder_out,mask=decoder_mask)\n",
    "\n",
    "       # project ith linear\n",
    "       logit = self.final_projection(decoder_out)\n",
    "\n",
    "       return logit\n",
    "\n",
    "\n",
    "\n",
    "\n"
   ]
  },
  {
   "cell_type": "markdown",
   "metadata": {
    "id": "rAC55aUNEOwv"
   },
   "source": [
    "don't forget since we have nonlinearity with `ReLU` activation we should intialize carefully"
   ]
  },
  {
   "cell_type": "code",
   "execution_count": 88,
   "metadata": {
    "id": "s8iGLrd5E_mk"
   },
   "outputs": [],
   "source": [
    "def _init_weights(module):\n",
    "    if isinstance(module, nn.Linear):\n",
    "        torch.nn.init.normal_(module.weight, mean=0.0, std=0.002)\n",
    "        if module.bias is not None:\n",
    "            torch.nn.init.zeros_(module.bias)\n",
    "    elif isinstance(module, nn.Embedding):\n",
    "        torch.nn.init.normal_(module.weight, mean=0.0, std=0.002)\n",
    "    elif isinstance(module, nn.LayerNorm):\n",
    "        torch.nn.init.zeros_(module.bias)\n",
    "        torch.nn.init.ones_(module.weight)"
   ]
  },
  {
   "cell_type": "markdown",
   "metadata": {
    "id": "fzayGh-RIU4M"
   },
   "source": [
    "Let's perform one way prediction"
   ]
  },
  {
   "cell_type": "code",
   "execution_count": 89,
   "metadata": {
    "id": "dO1W5qJcIWp8"
   },
   "outputs": [],
   "source": [
    "X_sample = X_train[0].unsqueeze(-2)\n",
    "# y is shifted to right\n",
    "y_sample = y_train[0][:-1].unsqueeze(-2)"
   ]
  },
  {
   "cell_type": "code",
   "execution_count": 90,
   "metadata": {
    "colab": {
     "base_uri": "https://localhost:8080/"
    },
    "id": "MgAcPakLIl_S",
    "outputId": "93c594d8-f6a4-464a-ecff-40684b1c9826"
   },
   "outputs": [
    {
     "data": {
      "text/plain": [
       "tensor([[  0, 796, 925,  56, 890,  83, 903, 626, 692,   0, 183, 183, 183,   0]])"
      ]
     },
     "execution_count": 90,
     "metadata": {},
     "output_type": "execute_result"
    }
   ],
   "source": [
    "X_sample"
   ]
  },
  {
   "cell_type": "code",
   "execution_count": 91,
   "metadata": {
    "colab": {
     "base_uri": "https://localhost:8080/"
    },
    "id": "NM4uLPg4ItoV",
    "outputId": "8640cf24-433d-4fcd-9475-c62bfc936de6"
   },
   "outputs": [
    {
     "data": {
      "text/plain": [
       "torch.Size([1, 14])"
      ]
     },
     "execution_count": 91,
     "metadata": {},
     "output_type": "execute_result"
    }
   ],
   "source": [
    "X_sample.shape"
   ]
  },
  {
   "cell_type": "code",
   "execution_count": 92,
   "metadata": {
    "id": "Lbm6VUCvImty"
   },
   "outputs": [],
   "source": [
    "B,T = y_sample.shape"
   ]
  },
  {
   "cell_type": "code",
   "execution_count": 93,
   "metadata": {
    "colab": {
     "base_uri": "https://localhost:8080/"
    },
    "id": "SXJYPxl6Ivuv",
    "outputId": "154337f0-2ab1-463b-e061-b82150ce131a"
   },
   "outputs": [
    {
     "data": {
      "text/plain": [
       "Transformer(\n",
       "  (encoder): Encoder(\n",
       "    (src_word_embedding): Embedding(935, 10)\n",
       "    (encoder): ModuleList(\n",
       "      (0): EncoderBlock(\n",
       "        (multihead_attention): MultiHeadAttention(\n",
       "          (heads): ModuleList(\n",
       "            (0-1): 2 x AttentionHead(\n",
       "              (linear_key): Linear(in_features=10, out_features=5, bias=False)\n",
       "              (linear_query): Linear(in_features=10, out_features=5, bias=False)\n",
       "              (linear_value): Linear(in_features=10, out_features=5, bias=False)\n",
       "              (attention_dropout): Dropout(p=0.1, inplace=False)\n",
       "            )\n",
       "          )\n",
       "          (projection_dropout): Dropout(p=0.1, inplace=False)\n",
       "          (proj): Linear(in_features=10, out_features=10, bias=True)\n",
       "        )\n",
       "        (ln_1): LayerNorm((10,), eps=1e-05, elementwise_affine=True)\n",
       "        (feed_forward): Sequential(\n",
       "          (0): Linear(in_features=10, out_features=40, bias=True)\n",
       "          (1): ReLU()\n",
       "          (2): Dropout(p=0.1, inplace=False)\n",
       "          (3): Linear(in_features=40, out_features=10, bias=True)\n",
       "        )\n",
       "        (ln_2): LayerNorm((10,), eps=1e-05, elementwise_affine=True)\n",
       "      )\n",
       "    )\n",
       "    (embed_dropout): Dropout(p=0.1, inplace=False)\n",
       "  )\n",
       "  (decoder): Decoder(\n",
       "    (tgt_word_embedding): Embedding(976, 10)\n",
       "    (decoder): ModuleList(\n",
       "      (0): DecoderBlock(\n",
       "        (multihead_attention): MultiHeadAttention(\n",
       "          (heads): ModuleList(\n",
       "            (0-1): 2 x AttentionHead(\n",
       "              (linear_key): Linear(in_features=10, out_features=5, bias=False)\n",
       "              (linear_query): Linear(in_features=10, out_features=5, bias=False)\n",
       "              (linear_value): Linear(in_features=10, out_features=5, bias=False)\n",
       "              (attention_dropout): Dropout(p=0.1, inplace=False)\n",
       "            )\n",
       "          )\n",
       "          (projection_dropout): Dropout(p=0.1, inplace=False)\n",
       "          (proj): Linear(in_features=10, out_features=10, bias=True)\n",
       "        )\n",
       "        (ln_1): LayerNorm((10,), eps=1e-05, elementwise_affine=True)\n",
       "        (intra_attention): MultiHeadAttention(\n",
       "          (heads): ModuleList(\n",
       "            (0-1): 2 x AttentionHead(\n",
       "              (linear_key): Linear(in_features=10, out_features=5, bias=False)\n",
       "              (linear_query): Linear(in_features=10, out_features=5, bias=False)\n",
       "              (linear_value): Linear(in_features=10, out_features=5, bias=False)\n",
       "              (attention_dropout): Dropout(p=0.1, inplace=False)\n",
       "            )\n",
       "          )\n",
       "          (projection_dropout): Dropout(p=0.1, inplace=False)\n",
       "          (proj): Linear(in_features=10, out_features=10, bias=True)\n",
       "        )\n",
       "        (ln_2): LayerNorm((10,), eps=1e-05, elementwise_affine=True)\n",
       "        (feed_forward): Sequential(\n",
       "          (0): Linear(in_features=10, out_features=40, bias=True)\n",
       "          (1): ReLU()\n",
       "          (2): Linear(in_features=40, out_features=10, bias=True)\n",
       "          (3): Dropout(p=0.1, inplace=False)\n",
       "        )\n",
       "        (ln_3): LayerNorm((10,), eps=1e-05, elementwise_affine=True)\n",
       "      )\n",
       "    )\n",
       "    (project): Linear(in_features=10, out_features=976, bias=True)\n",
       "    (embed_dropout): Dropout(p=0.1, inplace=False)\n",
       "  )\n",
       "  (final_projection): Linear(in_features=10, out_features=976, bias=True)\n",
       ")"
      ]
     },
     "execution_count": 93,
     "metadata": {},
     "output_type": "execute_result"
    }
   ],
   "source": [
    "config = {\"tgt_vocab_num\":len(idn_vocab),\n",
    "          \"src_vocab_num\":len(eng_vocab),\n",
    "          \"n_dim\":10, \"num_heads\" : 2,\n",
    "          \"dropout_p\":0.1,\n",
    "          \"device\" : 'cuda' if torch.cuda.is_available==True else 'cpu' ,\n",
    "          \"n_encoder\":1, \"n_decoder\":1,\n",
    "          \"sequence_length_encoder\":ENCODER_SEQUENCE_LENGTH,\n",
    "          \"sequence_length_decoder\":DECODER_SEQUENCE_LENGTH,\n",
    "          \"src_padding_idx\":word_to_idx_src['<PAD>'],\n",
    "          \"tgt_padding_idx\":word_to_idx_tgt['<PAD>']\n",
    "}\n",
    "model = Transformer(**config)\n",
    "model.apply(_init_weights)"
   ]
  },
  {
   "cell_type": "markdown",
   "metadata": {
    "id": "iXBu-2DxKt_N"
   },
   "source": [
    "#### Test It\n",
    "\n",
    "If the result were correct,it should return vector with dimentsion :     \n",
    "\n",
    "`[B,T,NUM_VOCAB_IN_TARGET,]`"
   ]
  },
  {
   "cell_type": "code",
   "execution_count": 94,
   "metadata": {
    "id": "vb3RjAtXJ2Ve"
   },
   "outputs": [],
   "source": [
    "X_sample,y_sample = get_batches(split='train',batch_size=1)\n",
    "y_input = y_sample[:,:-1]\n",
    "y_label = y_sample[:,1:]"
   ]
  },
  {
   "cell_type": "code",
   "execution_count": 95,
   "metadata": {
    "colab": {
     "base_uri": "https://localhost:8080/"
    },
    "id": "Bk8bgZVKRb1g",
    "outputId": "1ebf1e8b-7c0a-46bb-dddf-b7cc358a59a5"
   },
   "outputs": [
    {
     "data": {
      "text/plain": [
       "tensor([[  0, 249, 441, 918, 498, 803, 283,  94,   0, 183, 183, 183, 183,   0]])"
      ]
     },
     "execution_count": 95,
     "metadata": {},
     "output_type": "execute_result"
    }
   ],
   "source": [
    "X_sample"
   ]
  },
  {
   "cell_type": "code",
   "execution_count": 96,
   "metadata": {
    "colab": {
     "base_uri": "https://localhost:8080/"
    },
    "id": "_-DVe-SVRpdE",
    "outputId": "ef635218-7da6-4427-eb5d-fe491433916e"
   },
   "outputs": [
    {
     "data": {
      "text/plain": [
       "tensor([[285, 519, 516, 343, 942, 544, 519, 132, 343, 942, 743, 426, 165,   0]])"
      ]
     },
     "execution_count": 96,
     "metadata": {},
     "output_type": "execute_result"
    }
   ],
   "source": [
    "y_sample"
   ]
  },
  {
   "cell_type": "code",
   "execution_count": 97,
   "metadata": {
    "colab": {
     "base_uri": "https://localhost:8080/"
    },
    "id": "kdestxAnRcZn",
    "outputId": "f2c592a1-6567-4bbd-e4ba-98e4df2f3471"
   },
   "outputs": [
    {
     "data": {
      "text/plain": [
       "tensor([[285, 519, 516, 343, 942, 544, 519, 132, 343, 942, 743, 426, 165]])"
      ]
     },
     "execution_count": 97,
     "metadata": {},
     "output_type": "execute_result"
    }
   ],
   "source": [
    "y_input"
   ]
  },
  {
   "cell_type": "code",
   "execution_count": 98,
   "metadata": {
    "colab": {
     "base_uri": "https://localhost:8080/"
    },
    "id": "kdiEQVpxRmLm",
    "outputId": "3a9ae6b4-4382-4cff-dcf9-5331b56529ad"
   },
   "outputs": [
    {
     "data": {
      "text/plain": [
       "tensor([[519, 516, 343, 942, 544, 519, 132, 343, 942, 743, 426, 165,   0]])"
      ]
     },
     "execution_count": 98,
     "metadata": {},
     "output_type": "execute_result"
    }
   ],
   "source": [
    "y_label"
   ]
  },
  {
   "cell_type": "code",
   "execution_count": 99,
   "metadata": {
    "colab": {
     "base_uri": "https://localhost:8080/"
    },
    "id": "cb9MrRyKRZ9N",
    "outputId": "8fb03576-1d81-4346-f8c9-c2011d6aa0c0"
   },
   "outputs": [
    {
     "data": {
      "text/plain": [
       "tensor([[[-0.0043, -0.0051,  0.0013,  ...,  0.0033,  0.0024,  0.0022],\n",
       "         [-0.0049, -0.0113,  0.0104,  ...,  0.0007,  0.0034,  0.0020],\n",
       "         [-0.0046, -0.0048,  0.0081,  ..., -0.0038,  0.0003, -0.0001],\n",
       "         ...,\n",
       "         [-0.0020,  0.0037,  0.0125,  ...,  0.0010, -0.0028, -0.0072],\n",
       "         [-0.0037,  0.0070,  0.0073,  ...,  0.0018, -0.0035, -0.0070],\n",
       "         [-0.0095,  0.0064,  0.0024,  ...,  0.0004, -0.0032, -0.0047]]],\n",
       "       dtype=torch.float64, grad_fn=<ViewBackward0>)"
      ]
     },
     "execution_count": 99,
     "metadata": {},
     "output_type": "execute_result"
    }
   ],
   "source": [
    "logit = model(X_sample,y_input)\n",
    "logit"
   ]
  },
  {
   "cell_type": "code",
   "execution_count": 100,
   "metadata": {
    "colab": {
     "base_uri": "https://localhost:8080/"
    },
    "id": "KT6syT7xMKi9",
    "outputId": "08e3b7ae-83b3-4417-d429-b23f963aaf54"
   },
   "outputs": [
    {
     "data": {
      "text/plain": [
       "torch.Size([1, 13, 976])"
      ]
     },
     "execution_count": 100,
     "metadata": {},
     "output_type": "execute_result"
    }
   ],
   "source": [
    "logit.shape"
   ]
  },
  {
   "cell_type": "markdown",
   "metadata": {
    "id": "M4MxfMX6Mgl4"
   },
   "source": [
    "What if we want to return the probability of the next word, don't worry we can process the logit to the softmax which dimension we should calculate\n",
    "\n",
    "What we want in each `T` there is probability of all vocabulary, hence we choose 2nd last dimension (T)"
   ]
  },
  {
   "cell_type": "code",
   "execution_count": 101,
   "metadata": {
    "id": "HUJsRayWJ81y"
   },
   "outputs": [],
   "source": [
    "proba = F.softmax(logit,dim=-2)"
   ]
  },
  {
   "cell_type": "markdown",
   "metadata": {
    "id": "Uns1QZRrM7ZU"
   },
   "source": [
    "Let's say we want to extract first word from 13 sequence"
   ]
  },
  {
   "cell_type": "markdown",
   "metadata": {
    "id": "Q0-xAIyIN8YO"
   },
   "source": [
    "`[B,T,VOCAB]`"
   ]
  },
  {
   "cell_type": "code",
   "execution_count": 102,
   "metadata": {
    "id": "0HZlqYxBM1NR"
   },
   "outputs": [],
   "source": [
    "first_sequence_proba = proba[:,0,:]"
   ]
  },
  {
   "cell_type": "markdown",
   "metadata": {
    "id": "qbUts56GN_t3"
   },
   "source": [
    "We want to find which word is most probable"
   ]
  },
  {
   "cell_type": "code",
   "execution_count": 103,
   "metadata": {
    "colab": {
     "base_uri": "https://localhost:8080/"
    },
    "id": "xhtakPN5NIJe",
    "outputId": "33f4ace9-cb75-459e-b958-690ec72b2139"
   },
   "outputs": [
    {
     "data": {
      "text/plain": [
       "tensor(145)"
      ]
     },
     "execution_count": 103,
     "metadata": {},
     "output_type": "execute_result"
    }
   ],
   "source": [
    "first_sequence_proba.argmax()"
   ]
  },
  {
   "cell_type": "code",
   "execution_count": 104,
   "metadata": {
    "colab": {
     "base_uri": "https://localhost:8080/"
    },
    "id": "GSap2sVNOECJ",
    "outputId": "a763d8e6-0107-4379-fea3-4f39844ce005"
   },
   "outputs": [
    {
     "data": {
      "text/plain": [
       "tensor([0.0765], dtype=torch.float64, grad_fn=<SelectBackward0>)"
      ]
     },
     "execution_count": 104,
     "metadata": {},
     "output_type": "execute_result"
    }
   ],
   "source": [
    "first_sequence_proba[:,399]"
   ]
  },
  {
   "cell_type": "code",
   "execution_count": 105,
   "metadata": {
    "colab": {
     "base_uri": "https://localhost:8080/",
     "height": 36
    },
    "id": "ihzEDVS7OIw2",
    "outputId": "fd7e723f-4f91-464d-c854-8bf55f5a7129"
   },
   "outputs": [
    {
     "data": {
      "text/plain": [
       "'perekonomian'"
      ]
     },
     "execution_count": 105,
     "metadata": {},
     "output_type": "execute_result"
    }
   ],
   "source": [
    "idx_to_word_tgt[399]"
   ]
  },
  {
   "cell_type": "code",
   "execution_count": 106,
   "metadata": {
    "colab": {
     "base_uri": "https://localhost:8080/"
    },
    "id": "cqzc0uvTON1X",
    "outputId": "795ccdf7-60be-4e53-cdcb-d75a58f6400b"
   },
   "outputs": [
    {
     "data": {
      "text/plain": [
       "tensor([[285, 873, 417,  ..., 426, 165,   0],\n",
       "        [285, 930, 176,  ..., 426, 165,   0],\n",
       "        [285, 605, 785,  ..., 426, 165,   0],\n",
       "        ...,\n",
       "        [285, 934, 262,  ..., 426, 165,   0],\n",
       "        [285, 110, 126,  ..., 165, 165,   0],\n",
       "        [285, 127, 143,  ..., 165, 165,   0]])"
      ]
     },
     "execution_count": 106,
     "metadata": {},
     "output_type": "execute_result"
    }
   ],
   "source": [
    "y_train"
   ]
  },
  {
   "cell_type": "code",
   "execution_count": 107,
   "metadata": {
    "colab": {
     "base_uri": "https://localhost:8080/",
     "height": 36
    },
    "id": "wy8kvWikOTUj",
    "outputId": "93648a45-1b21-493e-fbba-cb90df421ac5"
   },
   "outputs": [
    {
     "data": {
      "text/plain": [
       "'kantor'"
      ]
     },
     "execution_count": 107,
     "metadata": {},
     "output_type": "execute_result"
    }
   ],
   "source": [
    "idx_to_word_tgt[911]"
   ]
  },
  {
   "cell_type": "markdown",
   "metadata": {
    "id": "MNuJfueJQ4XA"
   },
   "source": [
    "#### Calculating Loss"
   ]
  },
  {
   "cell_type": "markdown",
   "metadata": {
    "id": "Qhs3uJfoQ8cr"
   },
   "source": [
    "We calculate loss function on logit not the probability version\n",
    "\n",
    "to calulate loss `F.cross_entropy` takes :    \n",
    "1. `input` --> logit --> shape `[T,N_VOCAB]`\n",
    "2. `target` -->y_label--> shape `[T]`\n",
    "\n",
    "since then we need to reshape it first"
   ]
  },
  {
   "cell_type": "code",
   "execution_count": 112,
   "metadata": {
    "id": "dEVP4Ws7RA6Y"
   },
   "outputs": [],
   "source": [
    "loss = F.cross_entropy(logit.reshape((13,976)), y_label.reshape((13)))"
   ]
  },
  {
   "cell_type": "code",
   "execution_count": 113,
   "metadata": {},
   "outputs": [
    {
     "data": {
      "text/plain": [
       "torch.Size([1, 13, 976])"
      ]
     },
     "execution_count": 113,
     "metadata": {},
     "output_type": "execute_result"
    }
   ],
   "source": [
    "logit.shape"
   ]
  },
  {
   "cell_type": "code",
   "execution_count": 114,
   "metadata": {
    "colab": {
     "base_uri": "https://localhost:8080/"
    },
    "id": "BY_p8khlVCf4",
    "outputId": "53356c29-7fd9-4711-c168-79d8a45df5ca"
   },
   "outputs": [
    {
     "data": {
      "text/plain": [
       "torch.Size([1, 13])"
      ]
     },
     "execution_count": 114,
     "metadata": {},
     "output_type": "execute_result"
    }
   ],
   "source": [
    "y_label.shape"
   ]
  },
  {
   "cell_type": "code",
   "execution_count": 115,
   "metadata": {
    "colab": {
     "base_uri": "https://localhost:8080/"
    },
    "id": "UtbgyI9DTOz4",
    "outputId": "c00c7ac7-0f25-408e-e0e6-f7c617d277db"
   },
   "outputs": [
    {
     "data": {
      "text/plain": [
       "6.880715694039195"
      ]
     },
     "execution_count": 115,
     "metadata": {},
     "output_type": "execute_result"
    }
   ],
   "source": [
    "loss.item()"
   ]
  },
  {
   "cell_type": "code",
   "execution_count": 116,
   "metadata": {
    "colab": {
     "base_uri": "https://localhost:8080/"
    },
    "id": "UgVD2ZbYVrSK",
    "outputId": "b95d8346-f44d-429e-ee16-cb25de3fd8b8"
   },
   "outputs": [
    {
     "data": {
      "text/plain": [
       "tensor([[[-7.4005e-03, -1.0210e-02,  1.4930e-03,  ...,  3.3960e-03,\n",
       "           4.7314e-03,  9.2179e-04],\n",
       "         [-7.2051e-03, -1.1055e-02,  6.6418e-03,  ...,  5.9977e-04,\n",
       "           3.6686e-03,  3.0306e-03],\n",
       "         [-9.9776e-03, -3.7150e-03,  1.0212e-02,  ...,  7.0561e-04,\n",
       "           6.0887e-04, -2.2644e-03],\n",
       "         ...,\n",
       "         [-6.2179e-03,  1.2959e-03,  1.3546e-02,  ..., -5.7424e-04,\n",
       "          -1.4835e-03, -7.7186e-03],\n",
       "         [-3.6598e-03,  7.0557e-03,  7.2678e-03,  ...,  1.7936e-03,\n",
       "          -3.5185e-03, -6.9767e-03],\n",
       "         [-1.1557e-02,  6.1952e-03,  2.2967e-03,  ...,  1.6933e-04,\n",
       "          -2.2088e-03, -6.3365e-03]],\n",
       "\n",
       "        [[-4.2708e-03, -5.0645e-03,  1.2635e-03,  ...,  3.3504e-03,\n",
       "           2.3910e-03,  2.1798e-03],\n",
       "         [-6.9987e-03, -1.1114e-02,  6.6752e-03,  ...,  6.1942e-04,\n",
       "           3.6144e-03,  3.2136e-03],\n",
       "         [-3.1863e-03, -9.9411e-03,  1.3030e-02,  ...,  1.4501e-04,\n",
       "           2.4482e-03,  1.3825e-04],\n",
       "         ...,\n",
       "         [-1.8915e-03,  3.7073e-03,  1.2579e-02,  ...,  1.0670e-03,\n",
       "          -2.8075e-03, -7.2539e-03],\n",
       "         [-3.6595e-03,  7.0558e-03,  7.2676e-03,  ...,  1.7936e-03,\n",
       "          -3.5185e-03, -6.9765e-03],\n",
       "         [-9.4623e-03,  6.3562e-03,  2.4018e-03,  ...,  3.7520e-04,\n",
       "          -3.1939e-03, -4.6517e-03]],\n",
       "\n",
       "        [[-4.2873e-03, -5.0889e-03,  1.2665e-03,  ...,  3.3429e-03,\n",
       "           2.3983e-03,  2.1917e-03],\n",
       "         [-7.0585e-03, -1.1129e-02,  6.6561e-03,  ...,  6.1894e-04,\n",
       "           3.6218e-03,  3.2093e-03],\n",
       "         [-6.6100e-03, -1.4899e-02,  1.3461e-02,  ...,  8.5583e-05,\n",
       "           4.8689e-03, -1.5206e-03],\n",
       "         ...,\n",
       "         [-2.0288e-03,  3.7163e-03,  1.2525e-02,  ...,  1.0352e-03,\n",
       "          -2.8092e-03, -7.2386e-03],\n",
       "         [-3.6593e-03,  7.0556e-03,  7.2678e-03,  ...,  1.7937e-03,\n",
       "          -3.5186e-03, -6.9764e-03],\n",
       "         [-7.9347e-03,  7.9407e-03,  7.5591e-05,  ...,  8.1339e-04,\n",
       "          -3.6875e-03, -5.3568e-03]],\n",
       "\n",
       "        ...,\n",
       "\n",
       "        [[-4.2873e-03, -5.0882e-03,  1.2658e-03,  ...,  3.3426e-03,\n",
       "           2.3982e-03,  2.1923e-03],\n",
       "         [-6.9918e-03, -1.1100e-02,  6.6756e-03,  ...,  6.1436e-04,\n",
       "           3.6115e-03,  3.1929e-03],\n",
       "         [-3.6840e-03, -1.1985e-02,  1.1106e-02,  ...,  6.8397e-04,\n",
       "           3.4301e-03,  2.6345e-03],\n",
       "         ...,\n",
       "         [-1.8916e-03,  3.7075e-03,  1.2579e-02,  ...,  1.0670e-03,\n",
       "          -2.8075e-03, -7.2539e-03],\n",
       "         [-3.6232e-03,  7.0211e-03,  7.2993e-03,  ...,  1.8049e-03,\n",
       "          -3.5290e-03, -6.9607e-03],\n",
       "         [-1.6122e-03,  1.0743e-02,  5.3936e-05,  ..., -9.3553e-04,\n",
       "          -4.9121e-03, -5.4832e-03]],\n",
       "\n",
       "        [[-1.5564e-02, -4.1690e-03, -1.8305e-03,  ...,  9.7147e-04,\n",
       "           2.0454e-03,  2.7876e-03],\n",
       "         [-7.0929e-03, -1.1154e-02,  6.6088e-03,  ...,  6.4320e-04,\n",
       "           3.6436e-03,  3.2705e-03],\n",
       "         [-3.2367e-03, -9.9218e-03,  1.3025e-02,  ...,  1.1396e-04,\n",
       "           2.4564e-03,  1.1437e-04],\n",
       "         ...,\n",
       "         [-4.7835e-03,  5.6135e-03,  9.3360e-03,  ...,  1.1078e-03,\n",
       "          -3.2975e-03, -7.2353e-03],\n",
       "         [-3.6896e-03,  7.0300e-03,  7.2930e-03,  ...,  1.7866e-03,\n",
       "          -3.5093e-03, -6.9765e-03],\n",
       "         [-1.6125e-03,  1.0743e-02,  5.4067e-05,  ..., -9.3567e-04,\n",
       "          -4.9120e-03, -5.4833e-03]],\n",
       "\n",
       "        [[ 5.2040e-03, -2.7346e-04, -1.5574e-03,  ...,  1.8563e-03,\n",
       "           5.4727e-04,  1.4335e-03],\n",
       "         [-3.8238e-04, -4.6969e-03,  3.4120e-03,  ...,  1.0944e-03,\n",
       "           9.6718e-04,  4.6251e-03],\n",
       "         [-3.2482e-03, -9.9586e-03,  1.3000e-02,  ...,  1.3555e-04,\n",
       "           2.4725e-03,  1.5118e-04],\n",
       "         ...,\n",
       "         [ 3.4425e-03,  5.5669e-03,  1.2182e-02,  ..., -1.7501e-03,\n",
       "          -3.9871e-03, -7.4114e-03],\n",
       "         [-9.4327e-03,  2.8304e-03,  1.0194e-02,  ..., -8.5516e-04,\n",
       "          -2.8214e-03, -5.9255e-03],\n",
       "         [-1.1478e-02, -4.9287e-04, -1.8872e-03,  ...,  1.9880e-03,\n",
       "          -1.6784e-04,  2.6447e-03]]], dtype=torch.float64,\n",
       "       grad_fn=<ViewBackward0>)"
      ]
     },
     "execution_count": 116,
     "metadata": {},
     "output_type": "execute_result"
    }
   ],
   "source": [
    "X_minibatch,y_minibatch = get_batches(split='train',batch_size=32)\n",
    "y_input_minibatch = y_minibatch[:,:-1]\n",
    "y_label_minibatch = y_minibatch[:,1:]\n",
    "\n",
    "# Forward pass\n",
    "logit = model(X_minibatch,y_input_minibatch)\n",
    "logit"
   ]
  },
  {
   "cell_type": "code",
   "execution_count": 117,
   "metadata": {
    "colab": {
     "base_uri": "https://localhost:8080/"
    },
    "id": "NN2zSQzbWS24",
    "outputId": "c39f5de0-42b3-44b9-9eef-d9e984427bf0"
   },
   "outputs": [
    {
     "data": {
      "text/plain": [
       "torch.Size([32, 13, 976])"
      ]
     },
     "execution_count": 117,
     "metadata": {},
     "output_type": "execute_result"
    }
   ],
   "source": [
    "logit.shape"
   ]
  },
  {
   "cell_type": "code",
   "execution_count": 118,
   "metadata": {
    "colab": {
     "base_uri": "https://localhost:8080/"
    },
    "id": "7ik7luU4WdE5",
    "outputId": "dbb7a3dd-4b19-4b3a-e693-fd1735a85a26"
   },
   "outputs": [
    {
     "data": {
      "text/plain": [
       "torch.Size([32, 13])"
      ]
     },
     "execution_count": 118,
     "metadata": {},
     "output_type": "execute_result"
    }
   ],
   "source": [
    "y_label_minibatch.shape"
   ]
  },
  {
   "cell_type": "code",
   "execution_count": 119,
   "metadata": {
    "id": "hOcxfkkSVus4"
   },
   "outputs": [],
   "source": [
    "B,T,VOCAB = logit.shape\n",
    "\n",
    "logit_ = logit.reshape(shape=(B*T,VOCAB))\n",
    "y_label_minibatch_ = y_label_minibatch.reshape(shape=(B*T,))"
   ]
  },
  {
   "cell_type": "markdown",
   "metadata": {
    "id": "lx6SM2LbaKvk"
   },
   "source": [
    "Don't forget we need to stop calculating loss on padding idx\n"
   ]
  },
  {
   "cell_type": "code",
   "execution_count": 120,
   "metadata": {
    "colab": {
     "base_uri": "https://localhost:8080/"
    },
    "id": "Npg0Ua_HVtM2",
    "outputId": "5d850f94-2a06-4eb4-afc9-3e270acb63b2"
   },
   "outputs": [
    {
     "data": {
      "text/plain": [
       "tensor(6.8842, dtype=torch.float64, grad_fn=<NllLossBackward0>)"
      ]
     },
     "execution_count": 120,
     "metadata": {},
     "output_type": "execute_result"
    }
   ],
   "source": [
    "TGT_PAD_IDX = word_to_idx_tgt['<PAD>']\n",
    "loss = F.cross_entropy(logit_, y_label_minibatch_,ignore_index=TGT_PAD_IDX)\n",
    "loss"
   ]
  },
  {
   "cell_type": "markdown",
   "metadata": {
    "id": "Bpg2IDR9-uVe"
   },
   "source": [
    "As Example we are going to create next word prediction model using"
   ]
  },
  {
   "cell_type": "markdown",
   "metadata": {
    "id": "yP0xyExdOqED"
   },
   "source": [
    "## BabySitting Learning Process\n",
    "\n",
    "\n",
    "After having a deep dive about the arhitecture, now its time to create training pipeline\n"
   ]
  },
  {
   "cell_type": "markdown",
   "metadata": {
    "id": "ZkfKPhE99XWy"
   },
   "source": [
    "We want to evaluate how good the model prediction in other set, such as validation set, hence we create evaluate loss function"
   ]
  },
  {
   "cell_type": "code",
   "execution_count": 121,
   "metadata": {
    "id": "IXzXkxB1U4ZC"
   },
   "outputs": [],
   "source": [
    "@torch.no_grad()\n",
    "def evaluate_loss(split,model,device):\n",
    "    # Get the data\n",
    "    X, y = {\n",
    "        'train': (X_train, y_train),\n",
    "        'valid': (X_val, y_val),\n",
    "        'test': (X_test, y_test)\n",
    "    }[split]\n",
    "    y_input = y[:,:-1]\n",
    "    y_label = y[:,1:]\n",
    "    X = X.to(device)\n",
    "    y_input = y_input.to(device)\n",
    "    y_label = y_label.to(device)\n",
    "\n",
    "    logit = model(X,y_input)\n",
    "\n",
    "    B,T,VOCAB = logit.shape\n",
    "\n",
    "    logit_ = logit.reshape(shape=(B*T,VOCAB))\n",
    "    y_label_ = y_label.reshape(shape=(B*T,))\n",
    "    loss = F.cross_entropy(logit_, y_label_,ignore_index=TGT_PAD_IDX)\n",
    "\n",
    "    return loss"
   ]
  },
  {
   "cell_type": "markdown",
   "metadata": {
    "id": "VQAcbbCEBTkS"
   },
   "source": [
    "#### Choosing What Part of Model to be bigger"
   ]
  },
  {
   "cell_type": "markdown",
   "metadata": {
    "id": "IqP20-WoBYh0"
   },
   "source": [
    "<img src=\"../assets/transformers/raschka_improving_generalization.png\">"
   ]
  },
  {
   "cell_type": "markdown",
   "metadata": {
    "id": "VtOmF7mBCPWC"
   },
   "source": [
    "To improve model generation the first recommended way is **Increase Training Data** ."
   ]
  },
  {
   "cell_type": "markdown",
   "metadata": {
    "id": "bpbDEh3LCVKl"
   },
   "source": [
    "However for now, we won't demonstrate the first one, because computationally quite longer to train (we play with toy scale dataset)"
   ]
  },
  {
   "cell_type": "markdown",
   "metadata": {
    "id": "BFp26CCVCgMu"
   },
   "source": [
    "We will try Determine which setups from below\n",
    "\n",
    "- Increase Embedding Dimension\n",
    "- Increase Model Depth"
   ]
  },
  {
   "cell_type": "markdown",
   "metadata": {
    "id": "Edukxt-NCoOB"
   },
   "source": [
    "##### Increasing Embedding Dimension"
   ]
  },
  {
   "cell_type": "code",
   "execution_count": 122,
   "metadata": {
    "colab": {
     "base_uri": "https://localhost:8080/",
     "height": 638
    },
    "id": "t-qNH9HACsk2",
    "outputId": "e3750c87-0dad-4dc1-e4b2-6ac0aa03a33a"
   },
   "outputs": [
    {
     "name": "stdout",
     "output_type": "stream",
     "text": [
      "#parameters : 90872\n"
     ]
    },
    {
     "name": "stderr",
     "output_type": "stream",
     "text": [
      "/home/ubuntu/learning/natural-language-processing/.venv/lib/python3.10/site-packages/torch/cuda/__init__.py:619: UserWarning: Can't initialize NVML\n",
      "  warnings.warn(\"Can't initialize NVML\")\n"
     ]
    },
    {
     "name": "stdout",
     "output_type": "stream",
     "text": [
      "Step       0/   1000 | Loss 6.8827 | Loss on Validation 6.8695 | Step time 51.34 ms\n",
      "Step     100/   1000 | Loss 5.5246 | Loss on Validation 5.8242 | Step time 16.29 ms\n",
      "Step     200/   1000 | Loss 4.9659 | Loss on Validation 5.3720 | Step time 17.53 ms\n",
      "Step     300/   1000 | Loss 4.5780 | Loss on Validation 5.1289 | Step time 20.27 ms\n",
      "Step     400/   1000 | Loss 4.5484 | Loss on Validation 5.0841 | Step time 15.35 ms\n",
      "Step     500/   1000 | Loss 4.4681 | Loss on Validation 5.0545 | Step time 18.85 ms\n",
      "Step     600/   1000 | Loss 4.2301 | Loss on Validation 5.0659 | Step time 16.51 ms\n",
      "Step     700/   1000 | Loss 4.0187 | Loss on Validation 5.1125 | Step time 14.34 ms\n",
      "Step     800/   1000 | Loss 3.7816 | Loss on Validation 5.0754 | Step time 16.19 ms\n",
      "Step     900/   1000 | Loss 3.7436 | Loss on Validation 5.1033 | Step time 17.47 ms\n"
     ]
    },
    {
     "data": {
      "text/plain": [
       "[<matplotlib.lines.Line2D at 0x7f94e1ccc520>]"
      ]
     },
     "execution_count": 122,
     "metadata": {},
     "output_type": "execute_result"
    },
    {
     "data": {
      "image/png": "[encoded data removed]",
      "text/plain": [
       "<Figure size 640x480 with 1 Axes>"
      ]
     },
     "metadata": {},
     "output_type": "display_data"
    }
   ],
   "source": [
    "BATCH_SIZE = 32\n",
    "config = {\"tgt_vocab_num\":len(idn_vocab),\n",
    "          \"src_vocab_num\":len(eng_vocab),\n",
    "          \"n_dim\":20, \"num_heads\" : 1,\n",
    "          \"n_encoder\":1, \"n_decoder\":1,\n",
    "          \"dropout_p\":0,\n",
    "          \"device\" : 'cuda' if torch.cuda.is_available==True else 'cpu' ,\n",
    "          \"sequence_length_encoder\":ENCODER_SEQUENCE_LENGTH,\n",
    "          \"sequence_length_decoder\":DECODER_SEQUENCE_LENGTH,\n",
    "          \"src_padding_idx\":word_to_idx_src['<PAD>'],\n",
    "          \"tgt_padding_idx\":word_to_idx_tgt['<PAD>']\n",
    "}\n",
    "model_increase_embedding = Transformer(**config)\n",
    "model_increase_embedding.apply(_init_weights)\n",
    "# check model parameter\n",
    "print('#parameters :', sum([p.numel() for p in model_increase_embedding.parameters()]))\n",
    "\n",
    "for p in model_increase_embedding.parameters() :\n",
    "  p.require_grad = True\n",
    "\n",
    "\n",
    "optimizer = torch.optim.Adam(model_increase_embedding.parameters(),weight_decay=0.01)\n",
    "\n",
    "losses = []\n",
    "losses_val = []\n",
    "max_iter = 1_000\n",
    "for iter in range(max_iter):\n",
    "    t1 = time.time()\n",
    "\n",
    "    # Minibatch Samples\n",
    "    X_minibatch,y_minibatch = get_batches(split='train',batch_size=BATCH_SIZE)\n",
    "    y_input_minibatch = y_minibatch[:,:-1]\n",
    "    y_label_minibatch = y_minibatch[:,1:]\n",
    "\n",
    "    # Forward pass\n",
    "    logit = model_increase_embedding(X_minibatch,y_input_minibatch)\n",
    "\n",
    "    B,T,VOCAB = logit.shape\n",
    "\n",
    "    logit_ = logit.reshape(shape=(B*T,VOCAB))\n",
    "    y_label_minibatch_ = y_label_minibatch.reshape(shape=(B*T,))\n",
    "    loss = F.cross_entropy(logit_, y_label_minibatch_,ignore_index=config['tgt_padding_idx'])\n",
    "\n",
    "    # Backward pass\n",
    "    for p in model_increase_embedding.parameters():\n",
    "        p.grad = None\n",
    "\n",
    "    loss.backward()\n",
    "\n",
    "    optimizer.step()\n",
    "    loss_val = evaluate_loss(split='valid',model=model_increase_embedding,device=config['device'])\n",
    "    # Append the loss\n",
    "    losses.append(loss.item())\n",
    "    losses_val.append(loss_val.item())\n",
    "    elapsed = time.time() - t1\n",
    "    if iter % 100 == 0:\n",
    "        print(f\"Step {iter:7d}/{max_iter:7d} \"\n",
    "              f\"| Loss {loss.item():.4f} \"\n",
    "              f\"| Loss on Validation {loss_val.item():.4f} \"\n",
    "              f\"| Step time {elapsed*1000:.2f} ms\")\n",
    "\n",
    "# plot the loss\n",
    "iter = [x for x in range(len(losses))]\n",
    "plt.plot(iter,losses)\n",
    "plt.plot(iter,losses_val)\n"
   ]
  },
  {
   "cell_type": "markdown",
   "metadata": {
    "id": "xuAakIxzGt3E"
   },
   "source": [
    "##### Increase Depth\n",
    "Encoder & Decoder 2x"
   ]
  },
  {
   "cell_type": "code",
   "execution_count": 123,
   "metadata": {
    "colab": {
     "base_uri": "https://localhost:8080/",
     "height": 641
    },
    "id": "u2av9udcGx4U",
    "outputId": "fd111e3b-2fa6-41c7-9a96-e270b0a653e3"
   },
   "outputs": [
    {
     "name": "stdout",
     "output_type": "stream",
     "text": [
      "#parameters : 46642\n",
      "Step       0/   1000 | Loss 6.8837 | Loss on Validation 6.8766 | Step time 26.42 ms\n",
      "Step     100/   1000 | Loss 6.0395 | Loss on Validation 6.1934 | Step time 20.86 ms\n",
      "Step     200/   1000 | Loss 5.4961 | Loss on Validation 5.7063 | Step time 24.70 ms\n",
      "Step     300/   1000 | Loss 5.3849 | Loss on Validation 5.5223 | Step time 22.31 ms\n",
      "Step     400/   1000 | Loss 5.1008 | Loss on Validation 5.3052 | Step time 21.65 ms\n",
      "Step     500/   1000 | Loss 4.7320 | Loss on Validation 5.1385 | Step time 21.34 ms\n",
      "Step     600/   1000 | Loss 4.4580 | Loss on Validation 5.0823 | Step time 21.16 ms\n",
      "Step     700/   1000 | Loss 4.4095 | Loss on Validation 5.0674 | Step time 23.68 ms\n",
      "Step     800/   1000 | Loss 4.2044 | Loss on Validation 5.0552 | Step time 22.86 ms\n",
      "Step     900/   1000 | Loss 4.3700 | Loss on Validation 5.0821 | Step time 21.45 ms\n"
     ]
    },
    {
     "data": {
      "text/plain": [
       "[<matplotlib.lines.Line2D at 0x7f94e1ba0b80>]"
      ]
     },
     "execution_count": 123,
     "metadata": {},
     "output_type": "execute_result"
    },
    {
     "data": {
      "image/png": "[encoded data removed]",
      "text/plain": [
       "<Figure size 640x480 with 1 Axes>"
      ]
     },
     "metadata": {},
     "output_type": "display_data"
    }
   ],
   "source": [
    "BATCH_SIZE = 32\n",
    "config = {\"tgt_vocab_num\":len(idn_vocab),\n",
    "          \"src_vocab_num\":len(eng_vocab),\n",
    "          \"n_dim\":10, \"num_heads\" : 1,\n",
    "          \"n_encoder\":2, \"n_decoder\":2,\n",
    "          \"dropout_p\":0,\n",
    "          \"device\" : 'cuda' if torch.cuda.is_available==True else 'cpu' ,\n",
    "          \"sequence_length_encoder\":ENCODER_SEQUENCE_LENGTH,\n",
    "          \"sequence_length_decoder\":DECODER_SEQUENCE_LENGTH,\n",
    "          \"src_padding_idx\":word_to_idx_src['<PAD>'],\n",
    "          \"tgt_padding_idx\":word_to_idx_tgt['<PAD>']\n",
    "}\n",
    "model_increase_depth = Transformer(**config)\n",
    "model_increase_depth.apply(_init_weights)\n",
    "# check model parameter\n",
    "print('#parameters :', sum([p.numel() for p in model_increase_depth.parameters()]))\n",
    "\n",
    "for p in model_increase_depth.parameters() :\n",
    "  p.require_grad = True\n",
    "\n",
    "\n",
    "optimizer = torch.optim.Adam(model_increase_depth.parameters(),weight_decay=0.01)\n",
    "\n",
    "losses = []\n",
    "losses_val = []\n",
    "max_iter = 1_000\n",
    "for iter in range(max_iter):\n",
    "    t1 = time.time()\n",
    "\n",
    "    # Minibatch Samples\n",
    "    X_minibatch,y_minibatch = get_batches(split='train',batch_size=BATCH_SIZE)\n",
    "    y_input_minibatch = y_minibatch[:,:-1]\n",
    "    y_label_minibatch = y_minibatch[:,1:]\n",
    "\n",
    "    # Forward pass\n",
    "    logit = model_increase_depth(X_minibatch,y_input_minibatch)\n",
    "\n",
    "    B,T,VOCAB = logit.shape\n",
    "\n",
    "    logit_ = logit.reshape(shape=(B*T,VOCAB))\n",
    "    y_label_minibatch_ = y_label_minibatch.reshape(shape=(B*T,))\n",
    "    loss = F.cross_entropy(logit_, y_label_minibatch_,ignore_index=config['tgt_padding_idx'])\n",
    "\n",
    "    # Backward pass\n",
    "    for p in model_increase_depth.parameters():\n",
    "        p.grad = None\n",
    "\n",
    "    loss.backward()\n",
    "\n",
    "    optimizer.step()\n",
    "    loss_val = evaluate_loss(split='valid',model=model_increase_depth,device=config['device'])\n",
    "    # Append the loss\n",
    "    losses.append(loss.item())\n",
    "    losses_val.append(loss_val.item())\n",
    "    elapsed = time.time() - t1\n",
    "    if iter % 100 == 0:\n",
    "        print(f\"Step {iter:7d}/{max_iter:7d} \"\n",
    "              f\"| Loss {loss.item():.4f} \"\n",
    "              f\"| Loss on Validation {loss_val.item():.4f} \"\n",
    "              f\"| Step time {elapsed*1000:.2f} ms\")\n",
    "\n",
    "# plot the loss\n",
    "iter = [x for x in range(len(losses))]\n",
    "plt.plot(iter,losses)\n",
    "plt.plot(iter,losses_val)\n"
   ]
  },
  {
   "cell_type": "markdown",
   "metadata": {
    "id": "rd7bI4RXHSri"
   },
   "source": [
    "##### Increase Number of Heads"
   ]
  },
  {
   "cell_type": "code",
   "execution_count": 124,
   "metadata": {
    "colab": {
     "base_uri": "https://localhost:8080/",
     "height": 638
    },
    "id": "TTkEPtHWHVQK",
    "outputId": "2b096443-c267-45bb-bf79-58d597476449"
   },
   "outputs": [
    {
     "name": "stdout",
     "output_type": "stream",
     "text": [
      "#parameters : 43612\n",
      "Step       0/   1000 | Loss 6.8855 | Loss on Validation 6.8788 | Step time 22.25 ms\n",
      "Step     100/   1000 | Loss 5.6054 | Loss on Validation 5.9376 | Step time 16.17 ms\n",
      "Step     200/   1000 | Loss 4.9633 | Loss on Validation 5.7308 | Step time 18.28 ms\n",
      "Step     300/   1000 | Loss 4.6155 | Loss on Validation 5.9307 | Step time 16.44 ms\n",
      "Step     400/   1000 | Loss 4.3490 | Loss on Validation 6.4177 | Step time 17.27 ms\n",
      "Step     500/   1000 | Loss 4.0988 | Loss on Validation 6.7252 | Step time 17.15 ms\n",
      "Step     600/   1000 | Loss 3.9828 | Loss on Validation 7.4553 | Step time 15.94 ms\n",
      "Step     700/   1000 | Loss 4.3694 | Loss on Validation 8.2435 | Step time 15.81 ms\n",
      "Step     800/   1000 | Loss 3.9158 | Loss on Validation 7.5011 | Step time 15.91 ms\n",
      "Step     900/   1000 | Loss 4.2795 | Loss on Validation 7.1605 | Step time 17.39 ms\n"
     ]
    },
    {
     "data": {
      "text/plain": [
       "[<matplotlib.lines.Line2D at 0x7f94e1a3af80>]"
      ]
     },
     "execution_count": 124,
     "metadata": {},
     "output_type": "execute_result"
    },
    {
     "data": {
      "image/png": "[encoded data removed]",
      "text/plain": [
       "<Figure size 640x480 with 1 Axes>"
      ]
     },
     "metadata": {},
     "output_type": "display_data"
    }
   ],
   "source": [
    "BATCH_SIZE = 32\n",
    "config = {\"tgt_vocab_num\":len(idn_vocab),\n",
    "          \"src_vocab_num\":len(eng_vocab),\n",
    "          \"n_dim\":10, \"num_heads\" : 2,\n",
    "          \"n_encoder\":1, \"n_decoder\":1,\n",
    "          \"dropout_p\":0,\n",
    "          \"device\" : 'cuda' if torch.cuda.is_available==True else 'cpu' ,\n",
    "          \"sequence_length_encoder\":ENCODER_SEQUENCE_LENGTH,\n",
    "          \"sequence_length_decoder\":DECODER_SEQUENCE_LENGTH,\n",
    "          \"src_padding_idx\":word_to_idx_src['<PAD>'],\n",
    "          \"tgt_padding_idx\":word_to_idx_tgt['<PAD>']\n",
    "}\n",
    "model_increase_heads= Transformer(**config)\n",
    "model_increase_heads.apply(_init_weights)\n",
    "# check model parameter\n",
    "print('#parameters :', sum([p.numel() for p in model_increase_heads.parameters()]))\n",
    "\n",
    "for p in model_increase_heads.parameters() :\n",
    "  p.require_grad = True\n",
    "\n",
    "\n",
    "optimizer = torch.optim.Adam(model_increase_heads.parameters())\n",
    "\n",
    "losses = []\n",
    "losses_val = []\n",
    "max_iter = 1_000\n",
    "for iter in range(max_iter):\n",
    "    t1 = time.time()\n",
    "\n",
    "    # Minibatch Samples\n",
    "    X_minibatch,y_minibatch = get_batches(split='train',batch_size=BATCH_SIZE)\n",
    "    y_input_minibatch = y_minibatch[:,:-1]\n",
    "    y_label_minibatch = y_minibatch[:,1:]\n",
    "\n",
    "    # Forward pass\n",
    "    logit = model_increase_heads(X_minibatch,y_input_minibatch)\n",
    "\n",
    "    B,T,VOCAB = logit.shape\n",
    "\n",
    "    logit_ = logit.reshape(shape=(B*T,VOCAB))\n",
    "    y_label_minibatch_ = y_label_minibatch.reshape(shape=(B*T,))\n",
    "    loss = F.cross_entropy(logit_, y_label_minibatch_,ignore_index=config['tgt_padding_idx'])\n",
    "\n",
    "    # Backward pass\n",
    "    for p in model_increase_depth.parameters():\n",
    "        p.grad = None\n",
    "\n",
    "    loss.backward()\n",
    "\n",
    "    optimizer.step()\n",
    "    loss_val = evaluate_loss(split='valid',model=model_increase_heads,device=config['device'])\n",
    "    # Append the loss\n",
    "    losses.append(loss.item())\n",
    "    losses_val.append(loss_val.item())\n",
    "    elapsed = time.time() - t1\n",
    "    if iter % 100 == 0:\n",
    "        print(f\"Step {iter:7d}/{max_iter:7d} \"\n",
    "              f\"| Loss {loss.item():.4f} \"\n",
    "              f\"| Loss on Validation {loss_val.item():.4f} \"\n",
    "              f\"| Step time {elapsed*1000:.2f} ms\")\n",
    "\n",
    "# plot the loss\n",
    "iter = [x for x in range(len(losses))]\n",
    "plt.plot(iter,losses)\n",
    "plt.plot(iter,losses_val)\n"
   ]
  },
  {
   "cell_type": "markdown",
   "metadata": {
    "id": "rnaLGyH_bhdK"
   },
   "source": [
    "#### Checking Initial Loss"
   ]
  },
  {
   "cell_type": "code",
   "execution_count": 125,
   "metadata": {
    "colab": {
     "base_uri": "https://localhost:8080/"
    },
    "id": "SfmftwPUUDzq",
    "outputId": "2cd4acb4-30dc-48c7-b0d5-0a374a6d20eb"
   },
   "outputs": [
    {
     "name": "stdout",
     "output_type": "stream",
     "text": [
      "#parameters : 43612\n"
     ]
    }
   ],
   "source": [
    "BATCH_SIZE = 32\n",
    "config = {\"tgt_vocab_num\":len(idn_vocab),\n",
    "          \"src_vocab_num\":len(eng_vocab),\n",
    "          \"n_dim\":10, \"num_heads\" : 1,\n",
    "          \"n_encoder\":1, \"n_decoder\":1,\n",
    "          \"dropout_p\":0.1,\n",
    "          \"device\" : 'cuda' if torch.cuda.is_available==True else 'cpu' ,\n",
    "          \"sequence_length_encoder\":ENCODER_SEQUENCE_LENGTH,\n",
    "          \"sequence_length_decoder\":DECODER_SEQUENCE_LENGTH,\n",
    "          \"src_padding_idx\":word_to_idx_src['<PAD>'],\n",
    "          \"tgt_padding_idx\":word_to_idx_tgt['<PAD>']\n",
    "}\n",
    "model = Transformer(**config)\n",
    "\n",
    "# check model parameter\n",
    "print('#parameters :', sum([p.numel() for p in model.parameters()]))\n",
    "\n",
    "for p in model.parameters() :\n",
    "  p.require_grad = True"
   ]
  },
  {
   "cell_type": "code",
   "execution_count": 126,
   "metadata": {
    "id": "WXby1wZjXpzO"
   },
   "outputs": [],
   "source": [
    "optimizer = torch.optim.Adam(model.parameters())\n"
   ]
  },
  {
   "cell_type": "code",
   "execution_count": 127,
   "metadata": {
    "colab": {
     "base_uri": "https://localhost:8080/"
    },
    "id": "uARQkdC0OxXj",
    "outputId": "d3c20185-3cb4-4657-b276-4884d0b7a3be"
   },
   "outputs": [
    {
     "name": "stdout",
     "output_type": "stream",
     "text": [
      "Step       0/   5000 | Loss 7.0215 | Step time 12.57 ms\n"
     ]
    }
   ],
   "source": [
    "losses = []\n",
    "max_iter = 5_000\n",
    "for iter in range(max_iter):\n",
    "    t1 = time.time()\n",
    "\n",
    "    # Minibatch Samples\n",
    "    X_minibatch,y_minibatch = get_batches(split='train',batch_size=BATCH_SIZE)\n",
    "    y_input_minibatch = y_minibatch[:,:-1]\n",
    "    y_label_minibatch = y_minibatch[:,1:]\n",
    "\n",
    "    # Forward pass\n",
    "    logit = model(X_minibatch,y_input_minibatch)\n",
    "\n",
    "    B,T,VOCAB = logit.shape\n",
    "\n",
    "    logit_ = logit.reshape(shape=(B*T,VOCAB))\n",
    "    y_label_minibatch_ = y_label_minibatch.reshape(shape=(B*T,))\n",
    "    loss = F.cross_entropy(logit_, y_label_minibatch_,ignore_index=config['tgt_padding_idx'])\n",
    "\n",
    "    # Backward pass\n",
    "    for p in model.parameters():\n",
    "        p.grad = None\n",
    "\n",
    "    loss.backward()\n",
    "\n",
    "    optimizer.step()\n",
    "\n",
    "    # Append the loss\n",
    "    losses.append(loss.item())\n",
    "    elapsed = time.time() - t1\n",
    "    if iter % 100 == 0:\n",
    "        print(f\"Step {iter:7d}/{max_iter:7d} \"\n",
    "              f\"| Loss {loss.item():.4f} \"\n",
    "              f\"| Step time {elapsed*1000:.2f} ms\")\n",
    "    break\n"
   ]
  },
  {
   "cell_type": "markdown",
   "metadata": {
    "id": "ry_Lm8YobZwI"
   },
   "source": [
    "Ideal Loss at the beginning should be $-log(\\cfrac{1}{\\text{vocab-target}})$"
   ]
  },
  {
   "cell_type": "code",
   "execution_count": 128,
   "metadata": {
    "colab": {
     "base_uri": "https://localhost:8080/"
    },
    "id": "cZ4MFQa-b10K",
    "outputId": "a15f5d50-0d6d-48fc-8416-051628c58d98"
   },
   "outputs": [
    {
     "data": {
      "text/plain": [
       "6.883462586413092"
      ]
     },
     "execution_count": 128,
     "metadata": {},
     "output_type": "execute_result"
    }
   ],
   "source": [
    "-np.log(1/len(idn_vocab))"
   ]
  },
  {
   "cell_type": "markdown",
   "metadata": {
    "id": "BldEttjZb6GD"
   },
   "source": [
    "Our Loss bit bit higher"
   ]
  },
  {
   "cell_type": "markdown",
   "metadata": {
    "id": "0pF4NeOkZAew"
   },
   "source": [
    "Now, we will also log the error on validation and training data"
   ]
  },
  {
   "cell_type": "code",
   "execution_count": 129,
   "metadata": {
    "colab": {
     "base_uri": "https://localhost:8080/"
    },
    "id": "x1ngN1RUbCDS",
    "outputId": "e3448bed-14fc-41f3-8c31-4062d07619dc"
   },
   "outputs": [
    {
     "name": "stdout",
     "output_type": "stream",
     "text": [
      "#parameters : 43612\n"
     ]
    }
   ],
   "source": [
    "BATCH_SIZE = 32\n",
    "config = {\"tgt_vocab_num\":len(idn_vocab),\n",
    "          \"src_vocab_num\":len(eng_vocab),\n",
    "          \"n_dim\":10, \"num_heads\" : 1,\n",
    "          \"n_encoder\":1, \"n_decoder\":1,\n",
    "          \"dropout_p\":0.1,\n",
    "          \"device\" : 'cuda' if torch.cuda.is_available==True else 'cpu' ,\n",
    "          \"sequence_length_encoder\":ENCODER_SEQUENCE_LENGTH,\n",
    "          \"sequence_length_decoder\":DECODER_SEQUENCE_LENGTH,\n",
    "          \"src_padding_idx\":word_to_idx_src['<PAD>'],\n",
    "          \"tgt_padding_idx\":word_to_idx_tgt['<PAD>']\n",
    "}\n",
    "model = Transformer(**config)\n",
    "\n",
    "# check model parameter\n",
    "print('#parameters :', sum([p.numel() for p in model.parameters()]))\n",
    "\n",
    "for p in model.parameters() :\n",
    "  p.require_grad = True"
   ]
  },
  {
   "cell_type": "code",
   "execution_count": 130,
   "metadata": {
    "id": "z1Y7GgxAbCDT"
   },
   "outputs": [],
   "source": [
    "optimizer = torch.optim.Adam(model.parameters())\n"
   ]
  },
  {
   "cell_type": "code",
   "execution_count": 132,
   "metadata": {
    "colab": {
     "base_uri": "https://localhost:8080/",
     "height": 964
    },
    "id": "0Pwf5NZXY7qF",
    "outputId": "badbd20d-a8f5-4fd8-ced8-94b16b549d52"
   },
   "outputs": [
    {
     "name": "stdout",
     "output_type": "stream",
     "text": [
      "Step       0/   1000 | Loss on Minibatch 6.9269 | Loss on Training Set 6.9294 | Loss on Val Set  6.9208 | Step time 50.95 ms\n",
      "Step      20/   1000 | Loss on Minibatch 6.6270 | Loss on Training Set 6.6790 | Loss on Val Set  6.7286 | Step time 47.19 ms\n",
      "Step      40/   1000 | Loss on Minibatch 6.5016 | Loss on Training Set 6.4403 | Loss on Val Set  6.5319 | Step time 47.40 ms\n",
      "Step      60/   1000 | Loss on Minibatch 6.2468 | Loss on Training Set 6.2216 | Loss on Val Set  6.3478 | Step time 46.88 ms\n",
      "Step      80/   1000 | Loss on Minibatch 5.9678 | Loss on Training Set 6.0058 | Loss on Val Set  6.2023 | Step time 47.28 ms\n",
      "Step     100/   1000 | Loss on Minibatch 5.7940 | Loss on Training Set 5.8026 | Loss on Val Set  6.0439 | Step time 46.79 ms\n",
      "Step     120/   1000 | Loss on Minibatch 5.6386 | Loss on Training Set 5.6309 | Loss on Val Set  5.9302 | Step time 46.91 ms\n",
      "Step     140/   1000 | Loss on Minibatch 5.4437 | Loss on Training Set 5.4876 | Loss on Val Set  5.8306 | Step time 47.17 ms\n",
      "Step     160/   1000 | Loss on Minibatch 5.2865 | Loss on Training Set 5.3790 | Loss on Val Set  5.7723 | Step time 46.92 ms\n",
      "Step     180/   1000 | Loss on Minibatch 5.2352 | Loss on Training Set 5.2917 | Loss on Val Set  5.7295 | Step time 49.44 ms\n",
      "Step     200/   1000 | Loss on Minibatch 5.1641 | Loss on Training Set 5.2177 | Loss on Val Set  5.6926 | Step time 49.16 ms\n",
      "Step     220/   1000 | Loss on Minibatch 5.2889 | Loss on Training Set 5.1700 | Loss on Val Set  5.6801 | Step time 46.65 ms\n",
      "Step     240/   1000 | Loss on Minibatch 5.2258 | Loss on Training Set 5.1150 | Loss on Val Set  5.6578 | Step time 48.17 ms\n",
      "Step     260/   1000 | Loss on Minibatch 5.0922 | Loss on Training Set 5.0685 | Loss on Val Set  5.6518 | Step time 48.88 ms\n",
      "Step     280/   1000 | Loss on Minibatch 4.8281 | Loss on Training Set 5.0099 | Loss on Val Set  5.6328 | Step time 49.18 ms\n",
      "Step     300/   1000 | Loss on Minibatch 4.9563 | Loss on Training Set 4.9708 | Loss on Val Set  5.6227 | Step time 48.29 ms\n",
      "Step     320/   1000 | Loss on Minibatch 5.0354 | Loss on Training Set 4.9337 | Loss on Val Set  5.6119 | Step time 46.78 ms\n",
      "Step     340/   1000 | Loss on Minibatch 4.9137 | Loss on Training Set 4.8896 | Loss on Val Set  5.5928 | Step time 49.22 ms\n",
      "Step     360/   1000 | Loss on Minibatch 4.8752 | Loss on Training Set 4.8540 | Loss on Val Set  5.6290 | Step time 47.26 ms\n",
      "Step     380/   1000 | Loss on Minibatch 4.7256 | Loss on Training Set 4.8129 | Loss on Val Set  5.6431 | Step time 49.33 ms\n",
      "Step     400/   1000 | Loss on Minibatch 4.7308 | Loss on Training Set 4.7805 | Loss on Val Set  5.6279 | Step time 47.80 ms\n",
      "Step     420/   1000 | Loss on Minibatch 4.6549 | Loss on Training Set 4.7373 | Loss on Val Set  5.6167 | Step time 46.95 ms\n",
      "Step     440/   1000 | Loss on Minibatch 4.5752 | Loss on Training Set 4.7135 | Loss on Val Set  5.6224 | Step time 49.83 ms\n",
      "Step     460/   1000 | Loss on Minibatch 4.5983 | Loss on Training Set 4.6779 | Loss on Val Set  5.6181 | Step time 47.90 ms\n",
      "Step     480/   1000 | Loss on Minibatch 4.5689 | Loss on Training Set 4.6436 | Loss on Val Set  5.6157 | Step time 47.69 ms\n",
      "Step     500/   1000 | Loss on Minibatch 4.6698 | Loss on Training Set 4.6131 | Loss on Val Set  5.6775 | Step time 49.28 ms\n",
      "Step     520/   1000 | Loss on Minibatch 4.7086 | Loss on Training Set 4.5832 | Loss on Val Set  5.5947 | Step time 47.71 ms\n",
      "Step     540/   1000 | Loss on Minibatch 4.7487 | Loss on Training Set 4.5469 | Loss on Val Set  5.6408 | Step time 48.92 ms\n",
      "Step     560/   1000 | Loss on Minibatch 4.5944 | Loss on Training Set 4.5085 | Loss on Val Set  5.6560 | Step time 47.16 ms\n",
      "Step     580/   1000 | Loss on Minibatch 4.5109 | Loss on Training Set 4.4785 | Loss on Val Set  5.6661 | Step time 49.20 ms\n",
      "Step     600/   1000 | Loss on Minibatch 4.4798 | Loss on Training Set 4.4562 | Loss on Val Set  5.6776 | Step time 48.34 ms\n",
      "Step     620/   1000 | Loss on Minibatch 4.4754 | Loss on Training Set 4.4174 | Loss on Val Set  5.6913 | Step time 49.21 ms\n",
      "Step     640/   1000 | Loss on Minibatch 4.4563 | Loss on Training Set 4.3833 | Loss on Val Set  5.7155 | Step time 47.24 ms\n",
      "Step     660/   1000 | Loss on Minibatch 4.4689 | Loss on Training Set 4.3614 | Loss on Val Set  5.6957 | Step time 48.24 ms\n",
      "Step     680/   1000 | Loss on Minibatch 4.2444 | Loss on Training Set 4.3143 | Loss on Val Set  5.7281 | Step time 46.81 ms\n",
      "Step     700/   1000 | Loss on Minibatch 4.3074 | Loss on Training Set 4.2868 | Loss on Val Set  5.7624 | Step time 47.36 ms\n",
      "Step     720/   1000 | Loss on Minibatch 4.2737 | Loss on Training Set 4.2641 | Loss on Val Set  5.7437 | Step time 48.82 ms\n",
      "Step     740/   1000 | Loss on Minibatch 4.1847 | Loss on Training Set 4.2481 | Loss on Val Set  5.6682 | Step time 48.56 ms\n",
      "Step     760/   1000 | Loss on Minibatch 4.2558 | Loss on Training Set 4.2055 | Loss on Val Set  5.7486 | Step time 48.97 ms\n",
      "Step     780/   1000 | Loss on Minibatch 4.0894 | Loss on Training Set 4.1792 | Loss on Val Set  5.7195 | Step time 46.41 ms\n",
      "Step     800/   1000 | Loss on Minibatch 4.0893 | Loss on Training Set 4.1363 | Loss on Val Set  5.7668 | Step time 46.94 ms\n",
      "Step     820/   1000 | Loss on Minibatch 4.2711 | Loss on Training Set 4.1231 | Loss on Val Set  5.7970 | Step time 48.89 ms\n",
      "Step     840/   1000 | Loss on Minibatch 4.1681 | Loss on Training Set 4.0864 | Loss on Val Set  5.8022 | Step time 46.41 ms\n",
      "Step     860/   1000 | Loss on Minibatch 4.0683 | Loss on Training Set 4.0384 | Loss on Val Set  5.7501 | Step time 46.30 ms\n",
      "Step     880/   1000 | Loss on Minibatch 3.8764 | Loss on Training Set 4.0512 | Loss on Val Set  5.8171 | Step time 49.37 ms\n",
      "Step     900/   1000 | Loss on Minibatch 3.9603 | Loss on Training Set 4.0087 | Loss on Val Set  5.8584 | Step time 47.39 ms\n",
      "Step     920/   1000 | Loss on Minibatch 4.1681 | Loss on Training Set 3.9908 | Loss on Val Set  5.8575 | Step time 49.06 ms\n",
      "Step     940/   1000 | Loss on Minibatch 4.0030 | Loss on Training Set 3.9604 | Loss on Val Set  5.8458 | Step time 47.81 ms\n",
      "Step     960/   1000 | Loss on Minibatch 3.9177 | Loss on Training Set 3.9325 | Loss on Val Set  5.8448 | Step time 48.28 ms\n",
      "Step     980/   1000 | Loss on Minibatch 3.7507 | Loss on Training Set 3.9213 | Loss on Val Set  5.8854 | Step time 48.42 ms\n"
     ]
    }
   ],
   "source": [
    "losses = []\n",
    "losses_train = []\n",
    "losses_val = []\n",
    "max_iter = 1_000\n",
    "for iter in range(max_iter):\n",
    "    t1 = time.time()\n",
    "\n",
    "    # Minibatch Samples\n",
    "    X_minibatch,y_minibatch = get_batches(split='train',batch_size=BATCH_SIZE)\n",
    "    y_input_minibatch = y_minibatch[:,:-1]\n",
    "    y_label_minibatch = y_minibatch[:,1:]\n",
    "\n",
    "    # Forward pass\n",
    "    logit = model(X_minibatch,y_input_minibatch)\n",
    "\n",
    "    B,T,VOCAB = logit.shape\n",
    "\n",
    "    logit_ = logit.reshape(shape=(B*T,VOCAB))\n",
    "    y_label_minibatch_ = y_label_minibatch.reshape(shape=(B*T,))\n",
    "    loss = F.cross_entropy(logit_, y_label_minibatch_,ignore_index=TGT_PAD_IDX)\n",
    "\n",
    "    # Backward pass\n",
    "    for p in model.parameters():\n",
    "        p.grad = None\n",
    "\n",
    "    loss.backward()\n",
    "\n",
    "    optimizer.step()\n",
    "    # calculate loss\n",
    "    loss_train = evaluate_loss(split='train',model=model,device=config['device'])\n",
    "    loss_val = evaluate_loss(split='valid',model=model,device=config['device'])\n",
    "\n",
    "    # Append the loss\n",
    "    losses.append(loss.item())\n",
    "    losses_train.append(loss_train.item())\n",
    "    losses_val.append(loss_val.item())\n",
    "    elapsed = time.time() - t1\n",
    "    if iter % 20 == 0:\n",
    "        print(f\"Step {iter:7d}/{max_iter:7d} \"\n",
    "              f\"| Loss on Minibatch {loss.item():.4f} \"\n",
    "              f\"| Loss on Training Set {loss_train.item():.4f} \"\n",
    "              f\"| Loss on Val Set  {loss_val.item():.4f} \"\n",
    "              f\"| Step time {elapsed*1000:.2f} ms\")\n"
   ]
  },
  {
   "cell_type": "markdown",
   "metadata": {
    "id": "iAKD1eudcl8G"
   },
   "source": [
    "#### Overfit on Small Batch\n",
    "\n",
    "To check model capabilities, if the model learn it can overfit small amount of training sample"
   ]
  },
  {
   "cell_type": "code",
   "execution_count": 133,
   "metadata": {
    "colab": {
     "base_uri": "https://localhost:8080/"
    },
    "id": "TpgoXfBWc7Uo",
    "outputId": "e6d9e656-7a0d-404a-8ba3-2b1874e358d1"
   },
   "outputs": [
    {
     "name": "stdout",
     "output_type": "stream",
     "text": [
      "#parameters : 43612\n"
     ]
    }
   ],
   "source": [
    "BATCH_SIZE = 32\n",
    "config = {\"tgt_vocab_num\":len(idn_vocab),\n",
    "          \"src_vocab_num\":len(eng_vocab),\n",
    "          \"n_dim\":10, \"num_heads\" : 1,\n",
    "          \"n_encoder\":1, \"n_decoder\":1,\n",
    "          \"dropout_p\":0.1,\n",
    "          \"device\" : 'cuda' if torch.cuda.is_available==True else 'cpu' ,\n",
    "          \"sequence_length_encoder\":ENCODER_SEQUENCE_LENGTH,\n",
    "          \"sequence_length_decoder\":DECODER_SEQUENCE_LENGTH,\n",
    "          \"src_padding_idx\":word_to_idx_src['<PAD>'],\n",
    "          \"tgt_padding_idx\":word_to_idx_tgt['<PAD>']\n",
    "}\n",
    "model = Transformer(**config).to(config['device'])\n",
    "\n",
    "# check model parameter\n",
    "print('#parameters :', sum([p.numel() for p in model.parameters()]))\n",
    "\n",
    "for p in model.parameters() :\n",
    "  p.require_grad = True"
   ]
  },
  {
   "cell_type": "code",
   "execution_count": 134,
   "metadata": {
    "id": "RuHEKModc7Uo"
   },
   "outputs": [],
   "source": [
    "optimizer = torch.optim.Adam(model.parameters())\n",
    "\n"
   ]
  },
  {
   "cell_type": "code",
   "execution_count": 135,
   "metadata": {
    "id": "-HY4AH6GZ64m"
   },
   "outputs": [],
   "source": [
    "X_minibatch,y_minibatch = get_batches(split='train',batch_size=20)\n",
    "y_input_minibatch = y_minibatch[:,:-1].to(config['device'])\n",
    "y_label_minibatch = y_minibatch[:,1:].to(config['device'])"
   ]
  },
  {
   "cell_type": "code",
   "execution_count": 136,
   "metadata": {
    "colab": {
     "base_uri": "https://localhost:8080/"
    },
    "id": "wODl3a28c1hI",
    "outputId": "08d3e06e-5dc5-4126-e856-108bec526a40"
   },
   "outputs": [
    {
     "name": "stdout",
     "output_type": "stream",
     "text": [
      "Step       0/    500 | Loss 7.2476 | Step time 13.60 ms\n",
      "Step     100/    500 | Loss 5.2796 | Step time 10.72 ms\n",
      "Step     200/    500 | Loss 3.9948 | Step time 8.61 ms\n",
      "Step     300/    500 | Loss 3.1238 | Step time 8.79 ms\n",
      "Step     400/    500 | Loss 2.4312 | Step time 8.76 ms\n"
     ]
    }
   ],
   "source": [
    "losses = []\n",
    "max_iter = 5_00\n",
    "for iter in range(max_iter):\n",
    "    t1 = time.time()\n",
    "\n",
    "\n",
    "    # Forward pass\n",
    "    logit = model(X_minibatch,y_input_minibatch)\n",
    "\n",
    "    B,T,VOCAB = logit.shape\n",
    "\n",
    "    logit_ = logit.reshape(shape=(B*T,VOCAB))\n",
    "    y_label_minibatch_ = y_label_minibatch.reshape(shape=(B*T,))\n",
    "    loss = F.cross_entropy(logit_, y_label_minibatch_,ignore_index=TGT_PAD_IDX)\n",
    "\n",
    "    # Backward pass\n",
    "    for p in model.parameters():\n",
    "        p.grad = None\n",
    "\n",
    "    loss.backward()\n",
    "\n",
    "    optimizer.step()\n",
    "\n",
    "    # Append the loss\n",
    "    losses.append(loss.item())\n",
    "    elapsed = time.time() - t1\n",
    "    if iter % 100 == 0:\n",
    "        print(f\"Step {iter:7d}/{max_iter:7d} \"\n",
    "              f\"| Loss {loss.item():.4f} \"\n",
    "              f\"| Step time {elapsed*1000:.2f} ms\")\n",
    "\n"
   ]
  },
  {
   "cell_type": "markdown",
   "metadata": {
    "id": "KtAO7qZjdVku"
   },
   "source": [
    "We see that our loss can reach minimum , which is near zero, okay we are good then!"
   ]
  },
  {
   "cell_type": "markdown",
   "metadata": {
    "id": "tXOKznEoiBn4"
   },
   "source": [
    "### Retrain the model"
   ]
  },
  {
   "cell_type": "markdown",
   "metadata": {
    "id": "-c_56s4iiEFQ"
   },
   "source": [
    "but before that we should create training function"
   ]
  },
  {
   "cell_type": "code",
   "execution_count": 137,
   "metadata": {
    "id": "eihvVvZBiKR2"
   },
   "outputs": [],
   "source": [
    "# We create the training function\n",
    "def train(model,\n",
    "          batch_size,\n",
    "          max_iter,\n",
    "          optimizer,device,\n",
    "          clip,\n",
    "          logging_interim = 100\n",
    "          ):\n",
    "    # Initialize\n",
    "    losses = []\n",
    "    losses_train = []\n",
    "    losses_val = []\n",
    "    decay_flag = False\n",
    "    best_valid_loss = float('inf')\n",
    "    # Iterate\n",
    "    for iter in range(max_iter):\n",
    "        t1 = time.time()\n",
    "\n",
    "        # Construct the minibatch\n",
    "        X_minibatch,y_minibatch = get_batches(split='train',batch_size=batch_size)\n",
    "        X_minibatch = X_minibatch.to(device)\n",
    "        y_input_minibatch = y_minibatch[:,:-1].to(device)\n",
    "        y_label_minibatch = y_minibatch[:,1:].to(device)\n",
    "\n",
    "\n",
    "        # Forward pass\n",
    "        logit = model(X_minibatch,y_input_minibatch)\n",
    "\n",
    "        B,T,VOCAB = logit.shape\n",
    "\n",
    "        logit_ = logit.reshape(shape=(B*T,VOCAB))\n",
    "        y_label_minibatch_ = y_label_minibatch.reshape(shape=(B*T,))\n",
    "        loss = F.cross_entropy(logit_, y_label_minibatch_,ignore_index=TGT_PAD_IDX)\n",
    "\n",
    "        # Backward pass\n",
    "        for p in model.parameters():\n",
    "            p.grad = None\n",
    "\n",
    "        loss.backward()\n",
    "        # calculate loss\n",
    "        #loss_train = evaluate_loss(split='train',model=model,device=device)\n",
    "        loss_val = evaluate_loss(split='valid',model=model,device=device)\n",
    "\n",
    "        # Append the loss\n",
    "        losses.append(loss.item())\n",
    "        # losses_train.append(loss_train.item())\n",
    "        losses_val.append(loss_val.item())\n",
    "        # Update the parameters\n",
    "        # Custom decay\n",
    "        optimizer.step()\n",
    "        #torch.nn.utils.clip_grad_norm_(model.parameters(), clip)\n",
    "        # Append the loss\n",
    "        elapsed = time.time() - t1\n",
    "        if max_iter == 1:\n",
    "            print(f\"Step {iter:7d}/{max_iter:7d} \"\n",
    "                f\"| Loss {loss.item():.4f} \"\n",
    "                f\"| Step time {elapsed*1000:.2f} ms\")\n",
    "\n",
    "        elif iter % logging_interim == 0:\n",
    "          print(f\"Step {iter:7d}/{max_iter:7d} \"\n",
    "              f\"| Loss mini batch {loss.item():.4f} \"\n",
    "              f\"| Loss valid {loss_val.item():.4f} \"\n",
    "\n",
    "              f\"| Step time {elapsed*1000:.2f} ms\")\n",
    "\n",
    "        # if validation loss goes down --> save model\n",
    "        if loss_val.item() < best_valid_loss :\n",
    "            best_valid_loss = loss_val.item()\n",
    "            torch.save({\n",
    "              'iter': iter,\n",
    "              'model_state_dict': model.state_dict(),\n",
    "              'optimizer_state_dict': optimizer.state_dict(),\n",
    "              'val_loss': loss_val\n",
    "              }, 'model_check/best_model.pt')\n",
    "\n",
    "    return losses,losses_val\n"
   ]
  },
  {
   "cell_type": "code",
   "execution_count": 141,
   "metadata": {},
   "outputs": [
    {
     "data": {
      "text/plain": [
       "{'tgt_vocab_num': 976,\n",
       " 'src_vocab_num': 935,\n",
       " 'n_dim': 20,\n",
       " 'num_heads': 2,\n",
       " 'n_encoder': 1,\n",
       " 'n_decoder': 2,\n",
       " 'dropout_p': 0.1,\n",
       " 'device': 'cuda',\n",
       " 'sequence_length_encoder': 14,\n",
       " 'sequence_length_decoder': 13,\n",
       " 'src_padding_idx': 183,\n",
       " 'tgt_padding_idx': 165}"
      ]
     },
     "execution_count": 141,
     "metadata": {},
     "output_type": "execute_result"
    }
   ],
   "source": [
    "config"
   ]
  },
  {
   "cell_type": "code",
   "execution_count": 142,
   "metadata": {
    "colab": {
     "base_uri": "https://localhost:8080/"
    },
    "id": "KS3M5uuaib3P",
    "outputId": "b976ee91-5f5b-4091-89da-561cfe42052d"
   },
   "outputs": [
    {
     "name": "stdout",
     "output_type": "stream",
     "text": [
      "#parameters : 97532\n"
     ]
    }
   ],
   "source": [
    "BATCH_SIZE = 32\n",
    "config = {\"tgt_vocab_num\":len(idn_vocab),\n",
    "          \"src_vocab_num\":len(eng_vocab),\n",
    "          \"n_dim\":20, \"num_heads\" : 2,\n",
    "          \"n_encoder\":1, \"n_decoder\":2,\n",
    "          \"dropout_p\":0.1,\n",
    "          \"device\" : 'cpu',\n",
    "          \"sequence_length_encoder\":ENCODER_SEQUENCE_LENGTH,\n",
    "          \"sequence_length_decoder\":DECODER_SEQUENCE_LENGTH,\n",
    "          \"src_padding_idx\":word_to_idx_src['<PAD>'],\n",
    "          \"tgt_padding_idx\":word_to_idx_tgt['<PAD>']\n",
    "}\n",
    "device = 'cuda' if torch.cuda.is_available()== True else 'cpu'\n",
    "\n",
    "model_retrain = Transformer(**config).to(device)\n",
    "model_retrain.apply(_init_weights)\n",
    "# check model parameter\n",
    "print('#parameters :', sum([p.numel() for p in model_retrain.parameters()]))\n",
    "\n",
    "for p in model_retrain.parameters() :\n",
    "  p.require_grad = True\n",
    "\n",
    "\n",
    "# Next, define optimizer\n",
    "optimizer = torch.optim.Adam(model_retrain.parameters(),lr=5e-4,weight_decay=0.01)"
   ]
  },
  {
   "cell_type": "code",
   "execution_count": null,
   "metadata": {
    "colab": {
     "base_uri": "https://localhost:8080/"
    },
    "id": "YcjT08M9TPEo",
    "outputId": "a95196ff-ba95-44f6-d1e9-c7a77a5a8fcc"
   },
   "outputs": [
    {
     "name": "stdout",
     "output_type": "stream",
     "text": [
      "mkdir: cannot create directory ‘model_check’: File exists\n"
     ]
    }
   ],
   "source": [
    "# !mkdir model_check"
   ]
  },
  {
   "cell_type": "code",
   "execution_count": 144,
   "metadata": {
    "colab": {
     "base_uri": "https://localhost:8080/"
    },
    "id": "77lZJFdKiaqp",
    "outputId": "05db4b21-af92-4263-f7ae-ee851e244b74"
   },
   "outputs": [
    {
     "name": "stdout",
     "output_type": "stream",
     "text": [
      "Step       0/   2000 | Loss mini batch 6.8830 | Loss valid 6.8839 | Step time 46.60 ms\n",
      "Step     100/   2000 | Loss mini batch 6.0429 | Loss valid 6.2426 | Step time 37.90 ms\n",
      "Step     200/   2000 | Loss mini batch 5.6015 | Loss valid 5.8113 | Step time 36.27 ms\n",
      "Step     300/   2000 | Loss mini batch 5.2588 | Loss valid 5.6179 | Step time 36.41 ms\n",
      "Step     400/   2000 | Loss mini batch 5.1718 | Loss valid 5.4826 | Step time 36.29 ms\n",
      "Step     500/   2000 | Loss mini batch 4.9361 | Loss valid 5.3339 | Step time 35.30 ms\n",
      "Step     600/   2000 | Loss mini batch 4.8238 | Loss valid 5.2029 | Step time 35.95 ms\n",
      "Step     700/   2000 | Loss mini batch 4.7058 | Loss valid 5.1343 | Step time 35.28 ms\n",
      "Step     800/   2000 | Loss mini batch 4.6785 | Loss valid 5.1106 | Step time 35.32 ms\n",
      "Step     900/   2000 | Loss mini batch 4.5872 | Loss valid 5.1213 | Step time 34.64 ms\n",
      "Step    1000/   2000 | Loss mini batch 4.5700 | Loss valid 5.1024 | Step time 35.84 ms\n",
      "Step    1100/   2000 | Loss mini batch 4.5485 | Loss valid 5.1234 | Step time 35.64 ms\n",
      "Step    1200/   2000 | Loss mini batch 4.5137 | Loss valid 5.1105 | Step time 34.74 ms\n",
      "Step    1300/   2000 | Loss mini batch 4.4680 | Loss valid 5.0796 | Step time 36.07 ms\n",
      "Step    1400/   2000 | Loss mini batch 4.4597 | Loss valid 5.1098 | Step time 35.46 ms\n",
      "Step    1500/   2000 | Loss mini batch 4.5343 | Loss valid 5.1178 | Step time 34.93 ms\n",
      "Step    1600/   2000 | Loss mini batch 4.4084 | Loss valid 5.1081 | Step time 35.17 ms\n",
      "Step    1700/   2000 | Loss mini batch 4.3235 | Loss valid 5.1455 | Step time 35.68 ms\n",
      "Step    1800/   2000 | Loss mini batch 4.3706 | Loss valid 5.1149 | Step time 35.20 ms\n",
      "Step    1900/   2000 | Loss mini batch 4.2694 | Loss valid 5.1122 | Step time 35.37 ms\n"
     ]
    }
   ],
   "source": [
    "losses,losses_val = train(model=model_retrain,\n",
    "          batch_size=64,\n",
    "          max_iter=2000,clip=1,\n",
    "          optimizer=optimizer,device='cpu')"
   ]
  },
  {
   "cell_type": "markdown",
   "metadata": {
    "id": "baCTnTdH4Aop"
   },
   "source": [
    "Let's save our model first"
   ]
  },
  {
   "cell_type": "code",
   "execution_count": 145,
   "metadata": {
    "id": "Lqy5ZqT64UYN"
   },
   "outputs": [],
   "source": [
    "transformer_model = Transformer(**config).to(config['device'])\n",
    "\n",
    "\n",
    "checkpoint = torch.load('model_check/best_model.pt')\n",
    "transformer_model.load_state_dict(checkpoint['model_state_dict'])\n",
    "optimizer.load_state_dict(checkpoint['optimizer_state_dict'])"
   ]
  },
  {
   "cell_type": "code",
   "execution_count": 146,
   "metadata": {
    "colab": {
     "base_uri": "https://localhost:8080/"
    },
    "id": "UlJ8J0QQTzMl",
    "outputId": "6a87bd11-888c-465b-f2e7-75304ad01d35"
   },
   "outputs": [
    {
     "data": {
      "text/plain": [
       "tensor(5.0398, dtype=torch.float64)"
      ]
     },
     "execution_count": 146,
     "metadata": {},
     "output_type": "execute_result"
    }
   ],
   "source": [
    "val_loss = checkpoint['val_loss']\n",
    "val_loss"
   ]
  },
  {
   "cell_type": "code",
   "execution_count": 148,
   "metadata": {
    "colab": {
     "base_uri": "https://localhost:8080/"
    },
    "id": "Fq-JTFYV_WdD",
    "outputId": "6c68ad53-3185-4577-892a-78f59874ffec"
   },
   "outputs": [
    {
     "data": {
      "text/plain": [
       "tensor(5.6663, dtype=torch.float64)"
      ]
     },
     "execution_count": 148,
     "metadata": {},
     "output_type": "execute_result"
    }
   ],
   "source": [
    "evaluate_loss(split='test',model=transformer_model,device='cpu')\n"
   ]
  },
  {
   "cell_type": "code",
   "execution_count": 150,
   "metadata": {
    "colab": {
     "base_uri": "https://localhost:8080/"
    },
    "id": "91-oxYGgUATZ",
    "outputId": "1331e510-afa7-4ee9-a864-1adbe2cd0c9d"
   },
   "outputs": [
    {
     "data": {
      "text/plain": [
       "tensor(5.1390, dtype=torch.float64)"
      ]
     },
     "execution_count": 150,
     "metadata": {},
     "output_type": "execute_result"
    }
   ],
   "source": [
    "evaluate_loss(split='valid',model=transformer_model,device='cpu')\n"
   ]
  },
  {
   "cell_type": "code",
   "execution_count": 152,
   "metadata": {
    "colab": {
     "base_uri": "https://localhost:8080/"
    },
    "id": "dDq1TrnHT3rb",
    "outputId": "f63d8ff8-68d4-4f85-8b35-d140bcf41ef2"
   },
   "outputs": [
    {
     "data": {
      "text/plain": [
       "tensor(4.3915, dtype=torch.float64)"
      ]
     },
     "execution_count": 152,
     "metadata": {},
     "output_type": "execute_result"
    }
   ],
   "source": [
    "evaluate_loss(split='train',model=transformer_model,device='cpu')"
   ]
  },
  {
   "cell_type": "code",
   "execution_count": 153,
   "metadata": {
    "colab": {
     "base_uri": "https://localhost:8080/",
     "height": 469
    },
    "id": "sjRYxgU401tX",
    "outputId": "e507c85c-4067-4e2d-9cb3-56ee14e90da5"
   },
   "outputs": [
    {
     "data": {
      "text/plain": [
       "[<matplotlib.lines.Line2D at 0x7f94e0d6c7c0>]"
      ]
     },
     "execution_count": 153,
     "metadata": {},
     "output_type": "execute_result"
    },
    {
     "data": {
      "image/png": "[encoded data removed]",
      "text/plain": [
       "<Figure size 640x480 with 1 Axes>"
      ]
     },
     "metadata": {},
     "output_type": "display_data"
    }
   ],
   "source": [
    "\n",
    "plt.title('Training & Validation Loss After 2K Iteration')\n",
    "plt.plot([x for x in range(len(losses_val))],losses_val,color='g')\n",
    "plt.plot([x for x in range(len(losses))],losses,color='r')"
   ]
  },
  {
   "cell_type": "markdown",
   "metadata": {
    "id": "Qh-HF9nXef3K"
   },
   "source": [
    "## Let's Generate Some Translation"
   ]
  },
  {
   "cell_type": "markdown",
   "metadata": {
    "id": "kGCh4eG-5tvl"
   },
   "source": [
    "Let's use some word on test data"
   ]
  },
  {
   "cell_type": "code",
   "execution_count": 154,
   "metadata": {
    "id": "I-SUMzQY5rJL"
   },
   "outputs": [],
   "source": [
    "X_test_sample,y_test_sample = get_batches(split='test',batch_size=1)"
   ]
  },
  {
   "cell_type": "code",
   "execution_count": 156,
   "metadata": {
    "id": "j2DzFEUF5-jx"
   },
   "outputs": [],
   "source": [
    "X_test_sample = X_test_sample.to('cpu')\n",
    "y_test_sample = y_test_sample.to('cpu')"
   ]
  },
  {
   "cell_type": "code",
   "execution_count": 157,
   "metadata": {
    "colab": {
     "base_uri": "https://localhost:8080/"
    },
    "id": "uD3-HEu-5_rk",
    "outputId": "5eedc2ea-c84c-45b9-fff9-d7eb964e7adf"
   },
   "outputs": [
    {
     "data": {
      "text/plain": [
       "tensor([[285, 778, 802, 457, 512, 778, 872, 953,  91, 426, 165, 165, 165,   0]])"
      ]
     },
     "execution_count": 157,
     "metadata": {},
     "output_type": "execute_result"
    }
   ],
   "source": [
    "y_test_sample"
   ]
  },
  {
   "cell_type": "markdown",
   "metadata": {
    "id": "J2IHmhe3eoss"
   },
   "source": [
    "To generate translation, we can run in `no gradient` mode or inference mode"
   ]
  },
  {
   "cell_type": "code",
   "execution_count": 158,
   "metadata": {
    "id": "TWaxALt_U-YQ"
   },
   "outputs": [],
   "source": [
    "X_,y_ = get_batches(split='test',batch_size=1)"
   ]
  },
  {
   "cell_type": "code",
   "execution_count": 159,
   "metadata": {
    "id": "ZPDJStAWVQk8"
   },
   "outputs": [],
   "source": [
    "X_ = X_.to(config['device'])\n",
    "y_ = y_.to(config['device'])"
   ]
  },
  {
   "cell_type": "code",
   "execution_count": 160,
   "metadata": {
    "colab": {
     "base_uri": "https://localhost:8080/"
    },
    "id": "1gnNWtBaWGfQ",
    "outputId": "fa0d5d06-9f4f-439e-ab47-470544f9b361"
   },
   "outputs": [
    {
     "data": {
      "text/plain": [
       "torch.Size([1, 1])"
      ]
     },
     "execution_count": 160,
     "metadata": {},
     "output_type": "execute_result"
    }
   ],
   "source": [
    "tokens = torch.LongTensor([y_[:,0].item()]).unsqueeze(0)\n",
    "tokens.shape"
   ]
  },
  {
   "cell_type": "code",
   "execution_count": 161,
   "metadata": {
    "colab": {
     "base_uri": "https://localhost:8080/"
    },
    "id": "6CXj6E5KVUrI",
    "outputId": "f3c23af5-1048-444e-9209-541473a01fd8"
   },
   "outputs": [
    {
     "name": "stdout",
     "output_type": "stream",
     "text": [
      "Generation is Done !\n"
     ]
    }
   ],
   "source": [
    "#\n",
    "EOS_TGT_IDX = word_to_idx_tgt['<PAD>']\n",
    "\n",
    "encoder_rep = transformer_model.encoder(X_)\n",
    "tokens = torch.LongTensor([y_[:,0].item()]).unsqueeze(0).to(config['device'])\n",
    "while True :\n",
    "  try :\n",
    "    # prepare token\n",
    "    input = tokens if tokens.size(1) <= config['sequence_length_decoder'] else tokens[:,-config['sequence_length_decoder']:]\n",
    "    before_projection = transformer_model.decoder(y=input,encoder_output=encoder_rep)\n",
    "    logit = transformer_model.final_projection(before_projection)\n",
    "    idx_logit = tokens.size(1)\n",
    "    logit = logit[:,idx_logit-1,:]\n",
    "    #\n",
    "\n",
    "    #print('LOGIT SHAPE',logit.shape)\n",
    "    # get current position + 1\n",
    "\n",
    "    # select only current step\n",
    "\n",
    "    probs = torch.nn.functional.softmax(logit,dim=-1)\n",
    "\n",
    "      # next idx\n",
    "    next_idx = torch.topk(probs,k=1).indices\n",
    "    # cat with tokens\n",
    "    tokens = torch.cat([tokens,next_idx],dim=-1)\n",
    "  except :\n",
    "\n",
    "    print('Generation is Done !')\n",
    "    break\n",
    "\n"
   ]
  },
  {
   "cell_type": "code",
   "execution_count": 162,
   "metadata": {
    "id": "_C4Mj5lkd2iV"
   },
   "outputs": [],
   "source": [
    "@torch.no_grad()\n",
    "def generate_translation(model,EOS_TGT_IDX,inputs,device,config,word_to_idx_tgt) :\n",
    "      EOS_TGT_IDX = word_to_idx_tgt['<PAD>']\n",
    "\n",
    "      encoder_rep = model.encoder(inputs)\n",
    "      tokens = torch.LongTensor([word_to_idx_tgt['<START>']]).unsqueeze(0).to(config['device'])\n",
    "      while True :\n",
    "        try :\n",
    "          # prepare token\n",
    "          input = tokens if tokens.size(1) <= config['sequence_length_decoder'] else tokens[:,-config['sequence_length_decoder']:]\n",
    "          before_projection = model.decoder(y=input,encoder_output=encoder_rep)\n",
    "          logit = transformer_model.final_projection(before_projection)\n",
    "          idx_logit = tokens.size(1)\n",
    "          logit = logit[:,idx_logit-1,:]\n",
    "          #\n",
    "\n",
    "          print('LOGIT SHAPE',logit.shape)\n",
    "          # get current position + 1\n",
    "\n",
    "          # select only current step\n",
    "\n",
    "          probs = torch.nn.functional.softmax(logit,dim=-1)\n",
    "\n",
    "            # next idx\n",
    "          next_idx = torch.topk(probs,k=1).indices\n",
    "          # cat with tokens\n",
    "          tokens = torch.cat([tokens,next_idx],dim=-1)\n",
    "        except :\n",
    "          print('Generation is Done!')\n",
    "          break\n",
    "\n",
    "\n",
    "      return tokens"
   ]
  },
  {
   "cell_type": "code",
   "execution_count": 163,
   "metadata": {
    "colab": {
     "base_uri": "https://localhost:8080/",
     "height": 36
    },
    "id": "rEFDGtSSdnw6",
    "outputId": "abd3f27e-1fb8-4839-f840-1848b28de462"
   },
   "outputs": [
    {
     "data": {
      "text/plain": [
       "' she came to japan for the purpose of studying japanese  <PAD> '"
      ]
     },
     "execution_count": 163,
     "metadata": {},
     "output_type": "execute_result"
    }
   ],
   "source": [
    "words_collected = []\n",
    "for tok in X_.view(-1) :\n",
    "  # print word\n",
    "  words_collected.append(idx_to_word_src[tok.item()])\n",
    "' '.join(words_collected)"
   ]
  },
  {
   "cell_type": "code",
   "execution_count": 164,
   "metadata": {
    "colab": {
     "base_uri": "https://localhost:8080/",
     "height": 36
    },
    "id": "ZYPc-LjDK9DA",
    "outputId": "ca1df856-262f-424f-ec52-144c732dd230"
   },
   "outputs": [
    {
     "data": {
      "text/plain": [
       "'<SOS> dia datang ke jepang untuk belajar bahasa jepang <EOS> <PAD> <PAD> <PAD> untukmu'"
      ]
     },
     "execution_count": 164,
     "metadata": {},
     "output_type": "execute_result"
    }
   ],
   "source": [
    "words_collected = []\n",
    "for tok in y_.view(-1) :\n",
    "  # print word\n",
    "  words_collected.append(idx_to_word_tgt[tok.item()])\n",
    "' '.join(words_collected)"
   ]
  },
  {
   "cell_type": "code",
   "execution_count": 165,
   "metadata": {
    "colab": {
     "base_uri": "https://localhost:8080/",
     "height": 36
    },
    "id": "A00qYm9rdUP-",
    "outputId": "50013c73-33ac-4742-f2af-aa9516931e45"
   },
   "outputs": [
    {
     "data": {
      "text/plain": [
       "'<SOS> aku tidak tidak tahu tom yang tidak tidak tidak <EOS> <EOS> untukmu untukmu'"
      ]
     },
     "execution_count": 165,
     "metadata": {},
     "output_type": "execute_result"
    }
   ],
   "source": [
    "words_collected = []\n",
    "for tok in tokens.view(-1) :\n",
    "  # print word\n",
    "  words_collected.append(idx_to_word_tgt[tok.item()])\n",
    "' '.join(words_collected)"
   ]
  },
  {
   "cell_type": "markdown",
   "metadata": {
    "id": "vcE6Sl1EebsC"
   },
   "source": [
    "Not Quite Accurate Translation"
   ]
  }
 ],
 "metadata": {
  "accelerator": "GPU",
  "colab": {
   "gpuType": "T4",
   "provenance": [],
   "toc_visible": true
  },
  "kernelspec": {
   "display_name": ".venv",
   "language": "python",
   "name": "python3"
  },
  "language_info": {
   "codemirror_mode": {
    "name": "ipython",
    "version": 3
   },
   "file_extension": ".py",
   "mimetype": "text/x-python",
   "name": "python",
   "nbconvert_exporter": "python",
   "pygments_lexer": "ipython3",
   "version": "3.10.14"
  }
 },
 "nbformat": 4,
 "nbformat_minor": 1
}
