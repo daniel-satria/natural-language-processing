{
 "cells": [
  {
   "cell_type": "markdown",
   "metadata": {
    "id": "7cO5oLZWWEaB"
   },
   "source": [
    "# **1. Words Vectorizing**"
   ]
  },
  {
   "cell_type": "markdown",
   "metadata": {
    "id": "p2aGddX2RgbI"
   },
   "source": [
    "# Outcome\n",
    "---\n",
    "\n",
    "1. Understand How to Vectorize a Text\n",
    "2. Train a simple toxic comment classification model"
   ]
  },
  {
   "cell_type": "markdown",
   "metadata": {
    "id": "CAYgWFXeDm2o"
   },
   "source": [
    "---\n",
    "## Outline:\n",
    "\n",
    "1. Background\n",
    "2. Simplified Workflows.\n",
    "3. Importing Data\n",
    "4. Data Preparations\n",
    "5. Data Preprocessing\n",
    "6. Modeling"
   ]
  },
  {
   "cell_type": "markdown",
   "metadata": {
    "id": "5EAOjNJgu9OX"
   },
   "source": [
    "# **Background**\n",
    "---"
   ]
  },
  {
   "cell_type": "markdown",
   "metadata": {
    "id": "D76jLNLOvB12"
   },
   "source": [
    "## Problem Description\n",
    "---"
   ]
  },
  {
   "cell_type": "markdown",
   "metadata": {
    "id": "G8InAK8UEcaX"
   },
   "source": [
    "- A video streaming platform **youtube.com** has its problem with its community safety\n",
    "- User can give a comment to uploaded video\n",
    "- The comment feature in Youtube could lead into good and bad environment\n",
    "- Some of the bad form of comment is `Toxicity`"
   ]
  },
  {
   "cell_type": "markdown",
   "metadata": {
    "id": "GW-ga9lU2ixz"
   },
   "source": [
    "Toxicity ~ *rude, disrespectful, or unreasonable language that is likely to make someone leave a discussion*"
   ]
  },
  {
   "cell_type": "markdown",
   "metadata": {
    "id": "q9SKHjP72s82"
   },
   "source": [
    "Of course this lead to bad experience to content creator / other user"
   ]
  },
  {
   "cell_type": "markdown",
   "metadata": {
    "id": "yGJI2hoKFZLJ"
   },
   "source": [
    "## Business Objective\n",
    "---"
   ]
  },
  {
   "cell_type": "markdown",
   "metadata": {
    "id": "iTWpKavPFdjR"
   },
   "source": [
    "Our objective is to reduce toxicity appearance percentage"
   ]
  },
  {
   "cell_type": "markdown",
   "metadata": {
    "id": "ZuZaweARFsio"
   },
   "source": [
    "## Solution\n",
    "---\n"
   ]
  },
  {
   "cell_type": "markdown",
   "metadata": {
    "id": "w6-LGCNZJEk7"
   },
   "source": [
    "We can classifiy which comment considered as `toxic` (prediction) and drop it from the youtube video comment (policy)"
   ]
  },
  {
   "cell_type": "markdown",
   "metadata": {
    "id": "BZ6nwtH_J0mS"
   },
   "source": [
    "## Data Description\n",
    "---"
   ]
  },
  {
   "cell_type": "markdown",
   "metadata": {
    "id": "vJsYDiHAJ6Ci"
   },
   "source": [
    "- The data is obtained from [Youtube Toxic Comment](https://www.kaggle.com/datasets/reihanenamdari/youtube-toxicity-data)."
   ]
  },
  {
   "cell_type": "markdown",
   "metadata": {
    "id": "Wncaz3ZzKK-2"
   },
   "source": [
    "The dataset that we use is:\n",
    "\n",
    "**toxic comment dataset** : `toxic_comment.csv`\n",
    "\n",
    "<center>\n",
    "\n",
    "|Features|Descriptions|Data Type|\n",
    "|:--|:--|:--:|\n",
    "|`CommentId`|The comment ID|`str`|\n",
    "|`VideoId`|The video ID|`str`|\n",
    "|`Text`|comment |`str`|\n",
    "|`IsToxic`|whether the comment text is toxic (`True`) or (`False`)|`boolean`|\n"
   ]
  },
  {
   "cell_type": "markdown",
   "metadata": {
    "id": "TekCSl-aefIf"
   },
   "source": [
    "# **Worfklow** (Simplified)\n",
    "---"
   ]
  },
  {
   "cell_type": "markdown",
   "metadata": {
    "id": "WoTzq7gGTk9s"
   },
   "source": [
    "## <font color='blue'>1. Importing Data</font>\n",
    "\n",
    "```\n",
    "1. Load the data.\n",
    "2. Check the shape & type of data.\n",
    "3. Handle the duplicates data to maintain data validity.\n",
    "```"
   ]
  },
  {
   "cell_type": "markdown",
   "metadata": {
    "id": "bVd-hGcCTD1f"
   },
   "source": [
    "## <font color='blue'>2.Data Preparation</font>\n",
    "\n",
    "```\n",
    "Create several data representations\n",
    "1. numerical data\n",
    "2. categorical data (with OHE)\n",
    "3. numerical + categorical data\n",
    "```"
   ]
  },
  {
   "cell_type": "markdown",
   "metadata": {
    "id": "4UbxpDTqMjwD"
   },
   "source": [
    "# **1. Importing Data**\n",
    "---"
   ]
  },
  {
   "cell_type": "markdown",
   "metadata": {
    "id": "_sFY159MLpWx"
   },
   "source": [
    "What do we do?\n",
    "1. Load the data.\n",
    "2. Check the shape & type of data.\n",
    "3. Handle the duplicates data to maintain data validity."
   ]
  },
  {
   "cell_type": "markdown",
   "metadata": {
    "id": "UxpX-m6jL41l"
   },
   "source": [
    "## Load the data\n",
    "---"
   ]
  },
  {
   "cell_type": "code",
   "execution_count": 1,
   "metadata": {
    "id": "BfsCMoXbL79v"
   },
   "outputs": [],
   "source": [
    "# Load this library\n",
    "import numpy as np\n",
    "import pandas as pd"
   ]
  },
  {
   "cell_type": "markdown",
   "metadata": {
    "id": "GvnaCpj_MDyS"
   },
   "source": [
    "Load the data from given data path"
   ]
  },
  {
   "cell_type": "code",
   "execution_count": 2,
   "metadata": {
    "id": "wWnvvyIjcO-P"
   },
   "outputs": [],
   "source": [
    "toxic_comment_path = '../data/toxic_comment.csv'\n",
    "\n",
    "toxic_comment_data = pd.read_csv(toxic_comment_path)"
   ]
  },
  {
   "cell_type": "code",
   "execution_count": 3,
   "metadata": {
    "colab": {
     "base_uri": "https://localhost:8080/",
     "height": 206
    },
    "executionInfo": {
     "elapsed": 17,
     "status": "ok",
     "timestamp": 1699521129890,
     "user": {
      "displayName": "robi Fakhri",
      "userId": "10922111524175830739"
     },
     "user_tz": -420
    },
    "id": "INBqVEo-1DEa",
    "outputId": "9a1227d2-e938-4fb6-8518-5d31a55891a0"
   },
   "outputs": [
    {
     "data": {
      "text/html": [
       "<div>\n",
       "<style scoped>\n",
       "    .dataframe tbody tr th:only-of-type {\n",
       "        vertical-align: middle;\n",
       "    }\n",
       "\n",
       "    .dataframe tbody tr th {\n",
       "        vertical-align: top;\n",
       "    }\n",
       "\n",
       "    .dataframe thead th {\n",
       "        text-align: right;\n",
       "    }\n",
       "</style>\n",
       "<table border=\"1\" class=\"dataframe\">\n",
       "  <thead>\n",
       "    <tr style=\"text-align: right;\">\n",
       "      <th></th>\n",
       "      <th>CommentId</th>\n",
       "      <th>VideoId</th>\n",
       "      <th>Text</th>\n",
       "      <th>IsToxic</th>\n",
       "    </tr>\n",
       "  </thead>\n",
       "  <tbody>\n",
       "    <tr>\n",
       "      <th>0</th>\n",
       "      <td>Ugg2KwwX0V8-aXgCoAEC</td>\n",
       "      <td>04kJtp6pVXI</td>\n",
       "      <td>If only people would just take a step back and...</td>\n",
       "      <td>False</td>\n",
       "    </tr>\n",
       "    <tr>\n",
       "      <th>1</th>\n",
       "      <td>Ugg2s5AzSPioEXgCoAEC</td>\n",
       "      <td>04kJtp6pVXI</td>\n",
       "      <td>Law enforcement is not trained to shoot to app...</td>\n",
       "      <td>True</td>\n",
       "    </tr>\n",
       "    <tr>\n",
       "      <th>2</th>\n",
       "      <td>Ugg3dWTOxryFfHgCoAEC</td>\n",
       "      <td>04kJtp6pVXI</td>\n",
       "      <td>\\nDont you reckon them 'black lives matter' ba...</td>\n",
       "      <td>True</td>\n",
       "    </tr>\n",
       "    <tr>\n",
       "      <th>3</th>\n",
       "      <td>Ugg7Gd006w1MPngCoAEC</td>\n",
       "      <td>04kJtp6pVXI</td>\n",
       "      <td>There are a very large number of people who do...</td>\n",
       "      <td>False</td>\n",
       "    </tr>\n",
       "    <tr>\n",
       "      <th>4</th>\n",
       "      <td>Ugg8FfTbbNF8IngCoAEC</td>\n",
       "      <td>04kJtp6pVXI</td>\n",
       "      <td>The Arab dude is absolutely right, he should h...</td>\n",
       "      <td>False</td>\n",
       "    </tr>\n",
       "  </tbody>\n",
       "</table>\n",
       "</div>"
      ],
      "text/plain": [
       "              CommentId      VideoId  \\\n",
       "0  Ugg2KwwX0V8-aXgCoAEC  04kJtp6pVXI   \n",
       "1  Ugg2s5AzSPioEXgCoAEC  04kJtp6pVXI   \n",
       "2  Ugg3dWTOxryFfHgCoAEC  04kJtp6pVXI   \n",
       "3  Ugg7Gd006w1MPngCoAEC  04kJtp6pVXI   \n",
       "4  Ugg8FfTbbNF8IngCoAEC  04kJtp6pVXI   \n",
       "\n",
       "                                                Text  IsToxic  \n",
       "0  If only people would just take a step back and...    False  \n",
       "1  Law enforcement is not trained to shoot to app...     True  \n",
       "2  \\nDont you reckon them 'black lives matter' ba...     True  \n",
       "3  There are a very large number of people who do...    False  \n",
       "4  The Arab dude is absolutely right, he should h...    False  "
      ]
     },
     "execution_count": 3,
     "metadata": {},
     "output_type": "execute_result"
    }
   ],
   "source": [
    "toxic_comment_data.head()"
   ]
  },
  {
   "cell_type": "markdown",
   "metadata": {
    "id": "ukcxisgSMXL-"
   },
   "source": [
    "## Check data shapes & types\n",
    "---"
   ]
  },
  {
   "cell_type": "markdown",
   "metadata": {
    "id": "qc67AOri1Qie"
   },
   "source": [
    "First we check the data shape"
   ]
  },
  {
   "cell_type": "code",
   "execution_count": 4,
   "metadata": {
    "colab": {
     "base_uri": "https://localhost:8080/"
    },
    "executionInfo": {
     "elapsed": 15,
     "status": "ok",
     "timestamp": 1699521129890,
     "user": {
      "displayName": "robi Fakhri",
      "userId": "10922111524175830739"
     },
     "user_tz": -420
    },
    "id": "kSB8uVNQ1Spv",
    "outputId": "f228f237-2242-4873-bb2c-cf2fb7b5b3a3"
   },
   "outputs": [
    {
     "data": {
      "text/plain": [
       "(1000, 4)"
      ]
     },
     "execution_count": 4,
     "metadata": {},
     "output_type": "execute_result"
    }
   ],
   "source": [
    "# Check the shape of data\n",
    "toxic_comment_data.shape"
   ]
  },
  {
   "cell_type": "markdown",
   "metadata": {
    "id": "EMVryKiY1VvM"
   },
   "source": [
    "There are almost 60k songs in the database with 20 features."
   ]
  },
  {
   "cell_type": "code",
   "execution_count": 5,
   "metadata": {
    "colab": {
     "base_uri": "https://localhost:8080/"
    },
    "executionInfo": {
     "elapsed": 14,
     "status": "ok",
     "timestamp": 1699521129891,
     "user": {
      "displayName": "robi Fakhri",
      "userId": "10922111524175830739"
     },
     "user_tz": -420
    },
    "id": "u_6G7tcJ1gEm",
    "outputId": "fb212441-3a91-4e19-9ca4-c249f443660b"
   },
   "outputs": [
    {
     "data": {
      "text/plain": [
       "CommentId    object\n",
       "VideoId      object\n",
       "Text         object\n",
       "IsToxic        bool\n",
       "dtype: object"
      ]
     },
     "execution_count": 5,
     "metadata": {},
     "output_type": "execute_result"
    }
   ],
   "source": [
    "# Check the type of data\n",
    "toxic_comment_data.dtypes"
   ]
  },
  {
   "cell_type": "markdown",
   "metadata": {
    "id": "vZL6d6o4OXYK"
   },
   "source": [
    "## Handling duplicates data\n",
    "---"
   ]
  },
  {
   "cell_type": "markdown",
   "metadata": {
    "id": "r-4xkB6n18D0"
   },
   "source": [
    "What are our current knowledges?\n",
    "- A song can be on multiple album or genre\n",
    "- Because of that, two different track_id can represent a single song.\n",
    "\n",
    "Hence, we need to check for duplicates data from combination of `artists` and `track_name` first"
   ]
  },
  {
   "cell_type": "code",
   "execution_count": 6,
   "metadata": {
    "colab": {
     "base_uri": "https://localhost:8080/"
    },
    "executionInfo": {
     "elapsed": 13,
     "status": "ok",
     "timestamp": 1699521129891,
     "user": {
      "displayName": "robi Fakhri",
      "userId": "10922111524175830739"
     },
     "user_tz": -420
    },
    "id": "lWv_zR5IOqs4",
    "outputId": "f762da8c-3dcf-4577-fa9a-dd986d9bafd7"
   },
   "outputs": [
    {
     "data": {
      "text/plain": [
       "np.int64(0)"
      ]
     },
     "execution_count": 6,
     "metadata": {},
     "output_type": "execute_result"
    }
   ],
   "source": [
    "# Check duplicate data\n",
    "toxic_comment_data.duplicated().sum()"
   ]
  },
  {
   "cell_type": "markdown",
   "metadata": {
    "id": "2GDx1WNO2ADI"
   },
   "source": [
    "Yes, we have some duplicated data. Let's see the duplicated data."
   ]
  },
  {
   "cell_type": "markdown",
   "metadata": {
    "id": "SxoYxbNEPFVy"
   },
   "source": [
    "## Create load function\n",
    "---"
   ]
  },
  {
   "cell_type": "markdown",
   "metadata": {
    "id": "ngQSDSTdPIbq"
   },
   "source": [
    "Finally, we can create load data function"
   ]
  },
  {
   "cell_type": "code",
   "execution_count": 7,
   "metadata": {
    "id": "21EWxr09PTMd"
   },
   "outputs": [],
   "source": [
    "def load_toxic_data(toxic_path, seed=42):\n",
    "    \"\"\"\n",
    "    Function to load user play count data\n",
    "        & removing duplicate data on playcount data\n",
    "\n",
    "    Parameters\n",
    "    ----------\n",
    "    toxic_path : str\n",
    "        The path of toxic comment dataset data (.csv)\n",
    "\n",
    "    seed : int, default=123\n",
    "        For reproducibility\n",
    "\n",
    "    Returns\n",
    "    -------\n",
    "    toxic_data : pandas DataFrame\n",
    "        youtube toxic comment data\n",
    "    \"\"\"\n",
    "    # Load data\n",
    "    toxic_data = pd.read_csv(toxic_path)\n",
    "    print('Original data shape                 :', toxic_data.shape)\n",
    "\n",
    "    # Drop drop duplicate & keep the first item\n",
    "    toxic_data = (toxic_data\n",
    "                  .drop_duplicates())\n",
    "\n",
    "    print('Data shape after dropping duplicate :', toxic_data.shape)\n",
    "\n",
    "    # drop columns\n",
    "    toxic_data = toxic_data.drop(['CommentId','VideoId'],axis=1)\n",
    "\n",
    "    print('Data shape after dropping columns :', toxic_data.shape)\n",
    "    return toxic_data\n"
   ]
  },
  {
   "cell_type": "code",
   "execution_count": 8,
   "metadata": {
    "colab": {
     "base_uri": "https://localhost:8080/"
    },
    "executionInfo": {
     "elapsed": 405,
     "status": "ok",
     "timestamp": 1699521130285,
     "user": {
      "displayName": "robi Fakhri",
      "userId": "10922111524175830739"
     },
     "user_tz": -420
    },
    "id": "tSXmKDfpcO-c",
    "outputId": "def2f3fb-c256-4a12-a997-7f76b34f8c45"
   },
   "outputs": [
    {
     "name": "stdout",
     "output_type": "stream",
     "text": [
      "Original data shape                 : (1000, 4)\n",
      "Data shape after dropping duplicate : (1000, 4)\n",
      "Data shape after dropping columns : (1000, 2)\n"
     ]
    }
   ],
   "source": [
    "toxic_comment_data = load_toxic_data(toxic_path = toxic_comment_path)"
   ]
  },
  {
   "cell_type": "code",
   "execution_count": 9,
   "metadata": {
    "colab": {
     "base_uri": "https://localhost:8080/",
     "height": 206
    },
    "executionInfo": {
     "elapsed": 11,
     "status": "ok",
     "timestamp": 1699521130285,
     "user": {
      "displayName": "robi Fakhri",
      "userId": "10922111524175830739"
     },
     "user_tz": -420
    },
    "id": "t2o4tlbi3upq",
    "outputId": "d06db414-cc7c-4012-800d-9a83007e468c"
   },
   "outputs": [
    {
     "data": {
      "text/html": [
       "<div>\n",
       "<style scoped>\n",
       "    .dataframe tbody tr th:only-of-type {\n",
       "        vertical-align: middle;\n",
       "    }\n",
       "\n",
       "    .dataframe tbody tr th {\n",
       "        vertical-align: top;\n",
       "    }\n",
       "\n",
       "    .dataframe thead th {\n",
       "        text-align: right;\n",
       "    }\n",
       "</style>\n",
       "<table border=\"1\" class=\"dataframe\">\n",
       "  <thead>\n",
       "    <tr style=\"text-align: right;\">\n",
       "      <th></th>\n",
       "      <th>Text</th>\n",
       "      <th>IsToxic</th>\n",
       "    </tr>\n",
       "  </thead>\n",
       "  <tbody>\n",
       "    <tr>\n",
       "      <th>0</th>\n",
       "      <td>If only people would just take a step back and...</td>\n",
       "      <td>False</td>\n",
       "    </tr>\n",
       "    <tr>\n",
       "      <th>1</th>\n",
       "      <td>Law enforcement is not trained to shoot to app...</td>\n",
       "      <td>True</td>\n",
       "    </tr>\n",
       "    <tr>\n",
       "      <th>2</th>\n",
       "      <td>\\nDont you reckon them 'black lives matter' ba...</td>\n",
       "      <td>True</td>\n",
       "    </tr>\n",
       "    <tr>\n",
       "      <th>3</th>\n",
       "      <td>There are a very large number of people who do...</td>\n",
       "      <td>False</td>\n",
       "    </tr>\n",
       "    <tr>\n",
       "      <th>4</th>\n",
       "      <td>The Arab dude is absolutely right, he should h...</td>\n",
       "      <td>False</td>\n",
       "    </tr>\n",
       "  </tbody>\n",
       "</table>\n",
       "</div>"
      ],
      "text/plain": [
       "                                                Text  IsToxic\n",
       "0  If only people would just take a step back and...    False\n",
       "1  Law enforcement is not trained to shoot to app...     True\n",
       "2  \\nDont you reckon them 'black lives matter' ba...     True\n",
       "3  There are a very large number of people who do...    False\n",
       "4  The Arab dude is absolutely right, he should h...    False"
      ]
     },
     "execution_count": 9,
     "metadata": {},
     "output_type": "execute_result"
    }
   ],
   "source": [
    "toxic_comment_data.head()"
   ]
  },
  {
   "cell_type": "markdown",
   "metadata": {
    "id": "VVb1pJpwuNCV"
   },
   "source": [
    "# **2. Data Preparation**\n",
    "---"
   ]
  },
  {
   "cell_type": "markdown",
   "metadata": {
    "id": "LWgYz6k9dLUv"
   },
   "source": [
    "## Data Splitting"
   ]
  },
  {
   "cell_type": "markdown",
   "metadata": {
    "id": "533-uKzO4ynV"
   },
   "source": [
    "Our goal is to develop model that are robust to future prediction, to make sure our model is good, we have to evaluate the model performance"
   ]
  },
  {
   "cell_type": "markdown",
   "metadata": {
    "id": "UxkQ0FHM48eD"
   },
   "source": [
    "To do this we can use our data to train on some segment of data (Training data) and test it on the rest (Test Data)"
   ]
  },
  {
   "cell_type": "markdown",
   "metadata": {
    "id": "rJ6zxdsrdgqJ"
   },
   "source": [
    "<img src=\"https://upload.wikimedia.org/wikipedia/commons/b/bb/ML_dataset_training_validation_test_sets.png\">\n",
    "<center><a href=\"https://upload.wikimedia.org/wikipedia/commons/b/bb/ML_dataset_training_validation_test_sets.png\">Source </a></center>"
   ]
  },
  {
   "cell_type": "code",
   "execution_count": 10,
   "metadata": {
    "id": "Mk60oeI_glGn"
   },
   "outputs": [],
   "source": [
    "# map the target value\n",
    "toxic_comment_data['IsToxic'] = toxic_comment_data['IsToxic'].map({False : 0 , True : 1})"
   ]
  },
  {
   "cell_type": "code",
   "execution_count": 11,
   "metadata": {
    "id": "L9X9X_LAeJ3m"
   },
   "outputs": [],
   "source": [
    "from sklearn.model_selection import train_test_split\n",
    "# split data into target and features\n",
    "target_col = 'IsToxic'\n",
    "X = toxic_comment_data.drop(target_col,axis=1)\n",
    "y = toxic_comment_data[target_col]\n",
    "\n",
    "# split data into Training and Testing\n",
    "X_train,X_test,y_train,y_test = train_test_split(X,y,test_size=0.25)\n",
    "\n",
    "\n"
   ]
  },
  {
   "cell_type": "code",
   "execution_count": 12,
   "metadata": {
    "colab": {
     "base_uri": "https://localhost:8080/"
    },
    "executionInfo": {
     "elapsed": 25,
     "status": "ok",
     "timestamp": 1699521133039,
     "user": {
      "displayName": "robi Fakhri",
      "userId": "10922111524175830739"
     },
     "user_tz": -420
    },
    "id": "d6rHqwaje5EV",
    "outputId": "586d1ed1-fd89-44bb-d1be-1aa69d1f0152"
   },
   "outputs": [
    {
     "name": "stdout",
     "output_type": "stream",
     "text": [
      "Training Shape : X (750, 1), y : (750,)\n",
      "Test Shape : X (250, 1), y : (250,)\n"
     ]
    }
   ],
   "source": [
    "# check shape\n",
    "print(f'Training Shape : X {X_train.shape}, y : {y_train.shape}')\n",
    "print(f'Test Shape : X {X_test.shape}, y : {y_test.shape}')"
   ]
  },
  {
   "cell_type": "markdown",
   "metadata": {
    "id": "EYDxq_0z43yJ"
   },
   "source": [
    "Before we dive into modelling , **Remember**, that :\n",
    "1. Our machine learning model cannot directly model text data\n",
    "2. What we can do is we need to **convert** text data to numerical representation"
   ]
  },
  {
   "cell_type": "markdown",
   "metadata": {
    "id": "QLLGsa7CanLb"
   },
   "source": [
    "Or we can call it as vectorizing vector, so what we need to do ?\n",
    "1. Doing text Preprocessing\n",
    "2. Vectorizing Text"
   ]
  },
  {
   "cell_type": "markdown",
   "metadata": {
    "id": "RroCrtP751Us"
   },
   "source": [
    "## Text Preprocessing\n",
    "\n",
    "\n",
    "---"
   ]
  },
  {
   "cell_type": "markdown",
   "metadata": {
    "id": "U30zi9xmg7pu"
   },
   "source": [
    "### Lowercase"
   ]
  },
  {
   "cell_type": "markdown",
   "metadata": {
    "id": "zwFo97H6hIPh"
   },
   "source": [
    "Sometimes word can be written in varying way, one of them is how on we use capitalization,\n",
    "\n",
    "`hello` is not equal to `Hello` or `heLLO` , we can solve this by lowercasing"
   ]
  },
  {
   "cell_type": "code",
   "execution_count": 13,
   "metadata": {
    "id": "BuUtsENFg-ub"
   },
   "outputs": [],
   "source": [
    "\n",
    "X_train['Text'] = X_train['Text'].str.lower()\n"
   ]
  },
  {
   "cell_type": "markdown",
   "metadata": {
    "id": "pZBAQlvzcx8u"
   },
   "source": [
    "### Removing Digits\n",
    "\n",
    "we can remove digits since the model directly does not know about the digits, we can use it using `regular expression`"
   ]
  },
  {
   "cell_type": "code",
   "execution_count": 14,
   "metadata": {
    "colab": {
     "base_uri": "https://localhost:8080/",
     "height": 423
    },
    "executionInfo": {
     "elapsed": 22,
     "status": "ok",
     "timestamp": 1699521133039,
     "user": {
      "displayName": "robi Fakhri",
      "userId": "10922111524175830739"
     },
     "user_tz": -420
    },
    "id": "0l9RJQr5gO56",
    "outputId": "e7387c6c-19b8-47a6-9108-68a92e10b748"
   },
   "outputs": [
    {
     "data": {
      "text/html": [
       "<div>\n",
       "<style scoped>\n",
       "    .dataframe tbody tr th:only-of-type {\n",
       "        vertical-align: middle;\n",
       "    }\n",
       "\n",
       "    .dataframe tbody tr th {\n",
       "        vertical-align: top;\n",
       "    }\n",
       "\n",
       "    .dataframe thead th {\n",
       "        text-align: right;\n",
       "    }\n",
       "</style>\n",
       "<table border=\"1\" class=\"dataframe\">\n",
       "  <thead>\n",
       "    <tr style=\"text-align: right;\">\n",
       "      <th></th>\n",
       "      <th>Text</th>\n",
       "    </tr>\n",
       "  </thead>\n",
       "  <tbody>\n",
       "    <tr>\n",
       "      <th>602</th>\n",
       "      <td>blacks are able to do this because it was whit...</td>\n",
       "    </tr>\n",
       "    <tr>\n",
       "      <th>959</th>\n",
       "      <td>: what fucking evidence of by evidence you mea...</td>\n",
       "    </tr>\n",
       "    <tr>\n",
       "      <th>953</th>\n",
       "      <td>darren wilson should have had to stand trial a...</td>\n",
       "    </tr>\n",
       "    <tr>\n",
       "      <th>163</th>\n",
       "      <td>isn't this the dude who got knocked out and ha...</td>\n",
       "    </tr>\n",
       "    <tr>\n",
       "      <th>351</th>\n",
       "      <td>very moving, very thought out!!!</td>\n",
       "    </tr>\n",
       "    <tr>\n",
       "      <th>...</th>\n",
       "      <td>...</td>\n",
       "    </tr>\n",
       "    <tr>\n",
       "      <th>775</th>\n",
       "      <td>amen! tell it like it is sister amen!</td>\n",
       "    </tr>\n",
       "    <tr>\n",
       "      <th>571</th>\n",
       "      <td>move or be tazed then arrested.</td>\n",
       "    </tr>\n",
       "    <tr>\n",
       "      <th>910</th>\n",
       "      <td>everyone is saying micheal brown deserved it b...</td>\n",
       "    </tr>\n",
       "    <tr>\n",
       "      <th>678</th>\n",
       "      <td>the crazy thing is i thought offices never do ...</td>\n",
       "    </tr>\n",
       "    <tr>\n",
       "      <th>398</th>\n",
       "      <td>dear mr. stephen molyneux,  minutes is a bit l...</td>\n",
       "    </tr>\n",
       "  </tbody>\n",
       "</table>\n",
       "<p>750 rows × 1 columns</p>\n",
       "</div>"
      ],
      "text/plain": [
       "                                                  Text\n",
       "602  blacks are able to do this because it was whit...\n",
       "959  : what fucking evidence of by evidence you mea...\n",
       "953  darren wilson should have had to stand trial a...\n",
       "163  isn't this the dude who got knocked out and ha...\n",
       "351                   very moving, very thought out!!!\n",
       "..                                                 ...\n",
       "775              amen! tell it like it is sister amen!\n",
       "571                    move or be tazed then arrested.\n",
       "910  everyone is saying micheal brown deserved it b...\n",
       "678  the crazy thing is i thought offices never do ...\n",
       "398  dear mr. stephen molyneux,  minutes is a bit l...\n",
       "\n",
       "[750 rows x 1 columns]"
      ]
     },
     "execution_count": 14,
     "metadata": {},
     "output_type": "execute_result"
    }
   ],
   "source": [
    "import re\n",
    "\n",
    "def remove_digits(text):\n",
    "\n",
    "    text_without_digits = re.sub(r'\\d', '', text)\n",
    "    return text_without_digits\n",
    "\n",
    "X_train['Text'] = X_train['Text'].apply(remove_digits)\n",
    "X_train"
   ]
  },
  {
   "cell_type": "markdown",
   "metadata": {
    "id": "Ll-P-U3rc3AM"
   },
   "source": [
    "### Removing Punctuation\n",
    "For now, our model does not know what punctuation means, so we are going to remove them first, we can use"
   ]
  },
  {
   "cell_type": "code",
   "execution_count": 15,
   "metadata": {
    "colab": {
     "base_uri": "https://localhost:8080/"
    },
    "executionInfo": {
     "elapsed": 21,
     "status": "ok",
     "timestamp": 1699521133039,
     "user": {
      "displayName": "robi Fakhri",
      "userId": "10922111524175830739"
     },
     "user_tz": -420
    },
    "id": "rIMt9lk6hbSY",
    "outputId": "d2e315a5-6b78-47af-b29e-57f9d6fdf74f"
   },
   "outputs": [
    {
     "data": {
      "text/plain": [
       "602    blacks are able to do this because it was whit...\n",
       "959     what fucking evidence of by evidence you mean...\n",
       "953    darren wilson should have had to stand trial a...\n",
       "163    isnt this the dude who got knocked out and had...\n",
       "351                         very moving very thought out\n",
       "                             ...                        \n",
       "775                  amen tell it like it is sister amen\n",
       "571                       move or be tazed then arrested\n",
       "910    everyone is saying micheal brown deserved it b...\n",
       "678    the crazy thing is i thought offices never do ...\n",
       "398    dear mr stephen molyneux  minutes is a bit lon...\n",
       "Name: Text, Length: 750, dtype: object"
      ]
     },
     "execution_count": 15,
     "metadata": {},
     "output_type": "execute_result"
    }
   ],
   "source": [
    "def remove_punctuation(text):\n",
    "    # Use regular expression to remove punctuation\n",
    "    text_without_punctuation = re.sub(r'[^\\w\\s]', '', text)\n",
    "    return text_without_punctuation\n",
    "\n",
    "X_train['Text'] = X_train['Text'].apply(remove_punctuation)\n",
    "X_train['Text']"
   ]
  },
  {
   "cell_type": "markdown",
   "metadata": {
    "id": "l0hry011cnHz"
   },
   "source": [
    "### Removing Stopwords"
   ]
  },
  {
   "cell_type": "markdown",
   "metadata": {
    "id": "1ebzVphaiTcL"
   },
   "source": [
    "Stopwords is a word that appear to be abundant in sentences, in english we can see that stopwords can be :     \n",
    "1. Pronoun\n",
    "2. Articles\n",
    "3. Conjunctions\n",
    "4. Prepositions"
   ]
  },
  {
   "cell_type": "markdown",
   "metadata": {
    "id": "m7t36-zziliB"
   },
   "source": [
    "we can see some of stopwords for english language in nltk"
   ]
  },
  {
   "cell_type": "markdown",
   "metadata": {
    "id": "eKLAl0fOiw1j"
   },
   "source": [
    "next, we will create function to remove stopwords"
   ]
  },
  {
   "cell_type": "markdown",
   "metadata": {
    "id": "q5CCFTDzlIjK"
   },
   "source": [
    "### Tokenize Text"
   ]
  },
  {
   "cell_type": "markdown",
   "metadata": {
    "id": "UFUW_MgDfXMO"
   },
   "source": [
    "### Create Processing function"
   ]
  },
  {
   "cell_type": "code",
   "execution_count": 16,
   "metadata": {
    "id": "EEupEAGifZug"
   },
   "outputs": [],
   "source": [
    "def preprocess_text(data,text_col) :\n",
    "    \"\"\"\n",
    "    Function to preprocess data\n",
    "\n",
    "    Parameters :\n",
    "    ----------\n",
    "    data : pd.DataFrame\n",
    "         dataframe contain text data\n",
    "    text_col : str\n",
    "          column name of text\n",
    "    \"\"\"\n",
    "    # remove digits\n",
    "    data[text_col] = data[text_col].apply(remove_digits)\n",
    "\n",
    "    # remove punctuation\n",
    "    data[text_col] = data[text_col].apply(remove_punctuation)\n",
    "\n",
    "\n",
    "\n",
    "    return data\n",
    "\n"
   ]
  },
  {
   "cell_type": "code",
   "execution_count": 17,
   "metadata": {
    "colab": {
     "base_uri": "https://localhost:8080/",
     "height": 423
    },
    "executionInfo": {
     "elapsed": 19,
     "status": "ok",
     "timestamp": 1699521133039,
     "user": {
      "displayName": "robi Fakhri",
      "userId": "10922111524175830739"
     },
     "user_tz": -420
    },
    "id": "s56N4JKTgtw5",
    "outputId": "aaefcac2-7915-4ddc-8041-ffe32276f5cc"
   },
   "outputs": [
    {
     "data": {
      "text/html": [
       "<div>\n",
       "<style scoped>\n",
       "    .dataframe tbody tr th:only-of-type {\n",
       "        vertical-align: middle;\n",
       "    }\n",
       "\n",
       "    .dataframe tbody tr th {\n",
       "        vertical-align: top;\n",
       "    }\n",
       "\n",
       "    .dataframe thead th {\n",
       "        text-align: right;\n",
       "    }\n",
       "</style>\n",
       "<table border=\"1\" class=\"dataframe\">\n",
       "  <thead>\n",
       "    <tr style=\"text-align: right;\">\n",
       "      <th></th>\n",
       "      <th>Text</th>\n",
       "    </tr>\n",
       "  </thead>\n",
       "  <tbody>\n",
       "    <tr>\n",
       "      <th>602</th>\n",
       "      <td>blacks are able to do this because it was whit...</td>\n",
       "    </tr>\n",
       "    <tr>\n",
       "      <th>959</th>\n",
       "      <td>what fucking evidence of by evidence you mean...</td>\n",
       "    </tr>\n",
       "    <tr>\n",
       "      <th>953</th>\n",
       "      <td>darren wilson should have had to stand trial a...</td>\n",
       "    </tr>\n",
       "    <tr>\n",
       "      <th>163</th>\n",
       "      <td>isnt this the dude who got knocked out and had...</td>\n",
       "    </tr>\n",
       "    <tr>\n",
       "      <th>351</th>\n",
       "      <td>very moving very thought out</td>\n",
       "    </tr>\n",
       "    <tr>\n",
       "      <th>...</th>\n",
       "      <td>...</td>\n",
       "    </tr>\n",
       "    <tr>\n",
       "      <th>775</th>\n",
       "      <td>amen tell it like it is sister amen</td>\n",
       "    </tr>\n",
       "    <tr>\n",
       "      <th>571</th>\n",
       "      <td>move or be tazed then arrested</td>\n",
       "    </tr>\n",
       "    <tr>\n",
       "      <th>910</th>\n",
       "      <td>everyone is saying micheal brown deserved it b...</td>\n",
       "    </tr>\n",
       "    <tr>\n",
       "      <th>678</th>\n",
       "      <td>the crazy thing is i thought offices never do ...</td>\n",
       "    </tr>\n",
       "    <tr>\n",
       "      <th>398</th>\n",
       "      <td>dear mr stephen molyneux  minutes is a bit lon...</td>\n",
       "    </tr>\n",
       "  </tbody>\n",
       "</table>\n",
       "<p>750 rows × 1 columns</p>\n",
       "</div>"
      ],
      "text/plain": [
       "                                                  Text\n",
       "602  blacks are able to do this because it was whit...\n",
       "959   what fucking evidence of by evidence you mean...\n",
       "953  darren wilson should have had to stand trial a...\n",
       "163  isnt this the dude who got knocked out and had...\n",
       "351                       very moving very thought out\n",
       "..                                                 ...\n",
       "775                amen tell it like it is sister amen\n",
       "571                     move or be tazed then arrested\n",
       "910  everyone is saying micheal brown deserved it b...\n",
       "678  the crazy thing is i thought offices never do ...\n",
       "398  dear mr stephen molyneux  minutes is a bit lon...\n",
       "\n",
       "[750 rows x 1 columns]"
      ]
     },
     "execution_count": 17,
     "metadata": {},
     "output_type": "execute_result"
    }
   ],
   "source": [
    "X_train_processed = preprocess_text(data= X_train, text_col= 'Text')\n",
    "X_train_processed"
   ]
  },
  {
   "cell_type": "code",
   "execution_count": 18,
   "metadata": {
    "colab": {
     "base_uri": "https://localhost:8080/",
     "height": 423
    },
    "executionInfo": {
     "elapsed": 606,
     "status": "ok",
     "timestamp": 1699521133627,
     "user": {
      "displayName": "robi Fakhri",
      "userId": "10922111524175830739"
     },
     "user_tz": -420
    },
    "id": "YgCvZlgmg5dA",
    "outputId": "099e14f1-d7de-43bd-f9a1-6dbfaaa0e022"
   },
   "outputs": [
    {
     "data": {
      "text/html": [
       "<div>\n",
       "<style scoped>\n",
       "    .dataframe tbody tr th:only-of-type {\n",
       "        vertical-align: middle;\n",
       "    }\n",
       "\n",
       "    .dataframe tbody tr th {\n",
       "        vertical-align: top;\n",
       "    }\n",
       "\n",
       "    .dataframe thead th {\n",
       "        text-align: right;\n",
       "    }\n",
       "</style>\n",
       "<table border=\"1\" class=\"dataframe\">\n",
       "  <thead>\n",
       "    <tr style=\"text-align: right;\">\n",
       "      <th></th>\n",
       "      <th>Text</th>\n",
       "    </tr>\n",
       "  </thead>\n",
       "  <tbody>\n",
       "    <tr>\n",
       "      <th>7</th>\n",
       "      <td>I would LOVE to see this pussy go to Staten Is...</td>\n",
       "    </tr>\n",
       "    <tr>\n",
       "      <th>631</th>\n",
       "      <td>There should be a law where you wont be prosec...</td>\n",
       "    </tr>\n",
       "    <tr>\n",
       "      <th>931</th>\n",
       "      <td>I like how the begining it was peaceful and no...</td>\n",
       "    </tr>\n",
       "    <tr>\n",
       "      <th>682</th>\n",
       "      <td>Tell them they are breaking the law by blockin...</td>\n",
       "    </tr>\n",
       "    <tr>\n",
       "      <th>699</th>\n",
       "      <td>RUN THEM OVER</td>\n",
       "    </tr>\n",
       "    <tr>\n",
       "      <th>...</th>\n",
       "      <td>...</td>\n",
       "    </tr>\n",
       "    <tr>\n",
       "      <th>413</th>\n",
       "      <td>Fascinating to hear actual facts especially co...</td>\n",
       "    </tr>\n",
       "    <tr>\n",
       "      <th>282</th>\n",
       "      <td>Is the cell phone video being shown anymore Al...</td>\n",
       "    </tr>\n",
       "    <tr>\n",
       "      <th>164</th>\n",
       "      <td>Bassem Masri is an uneducated idiot Just liste...</td>\n",
       "    </tr>\n",
       "    <tr>\n",
       "      <th>505</th>\n",
       "      <td>If you watch the video that Stef mentions at  ...</td>\n",
       "    </tr>\n",
       "    <tr>\n",
       "      <th>89</th>\n",
       "      <td>White man cant finish his sentence\\nAmerica ne...</td>\n",
       "    </tr>\n",
       "  </tbody>\n",
       "</table>\n",
       "<p>250 rows × 1 columns</p>\n",
       "</div>"
      ],
      "text/plain": [
       "                                                  Text\n",
       "7    I would LOVE to see this pussy go to Staten Is...\n",
       "631  There should be a law where you wont be prosec...\n",
       "931  I like how the begining it was peaceful and no...\n",
       "682  Tell them they are breaking the law by blockin...\n",
       "699                                      RUN THEM OVER\n",
       "..                                                 ...\n",
       "413  Fascinating to hear actual facts especially co...\n",
       "282  Is the cell phone video being shown anymore Al...\n",
       "164  Bassem Masri is an uneducated idiot Just liste...\n",
       "505  If you watch the video that Stef mentions at  ...\n",
       "89   White man cant finish his sentence\\nAmerica ne...\n",
       "\n",
       "[250 rows x 1 columns]"
      ]
     },
     "execution_count": 18,
     "metadata": {},
     "output_type": "execute_result"
    }
   ],
   "source": [
    "X_test_processed = preprocess_text(data= X_test, text_col= 'Text')\n",
    "X_test_processed"
   ]
  },
  {
   "cell_type": "markdown",
   "metadata": {
    "id": "ZpTbmEBEwhLa"
   },
   "source": [
    "## Vectorizing Text ( From Scratch )\n",
    "---"
   ]
  },
  {
   "cell_type": "markdown",
   "metadata": {
    "id": "6ZTc2O3dx0bR"
   },
   "source": [
    "Data is the input to *machine learning* model, the data itself its quite varying in terms of type.\n",
    "\n",
    "Some of them :        \n",
    "1. Numerical\n",
    "2. Categorical\n",
    "3. String\n",
    "4. etc"
   ]
  },
  {
   "cell_type": "markdown",
   "metadata": {
    "id": "GvqwkZZqypPo"
   },
   "source": [
    "**Problem** :    \n",
    "\n",
    "However, there are requirements in our input, the machine learning model only accept **numerical representation** of the data, so what if we have non-numerical data such as text data ?"
   ]
  },
  {
   "cell_type": "markdown",
   "metadata": {
    "id": "MZHkatUcy0fB"
   },
   "source": [
    "**Solution**   :     \n",
    "\n",
    "For now , we can convert to numerical representation to each word / token  by identifying whether the word / token presence."
   ]
  },
  {
   "cell_type": "markdown",
   "metadata": {
    "id": "i7h65iDbz-5D"
   },
   "source": [
    "### One Hot Encoding"
   ]
  },
  {
   "cell_type": "markdown",
   "metadata": {
    "id": "VIYMA1Sy5oZ_"
   },
   "source": [
    "The first approach we can use **One-Hot Encoding** to create a vector of a sentence / text based on word presence"
   ]
  },
  {
   "cell_type": "markdown",
   "metadata": {
    "id": "5AkKuizV6K--"
   },
   "source": [
    "<center>\n",
    "<img src=\"../assets/word_vectorizing/one-hot.webp\" img>\n",
    "\n",
    "[Source](https://www.mygreatlearning.com/blog/basics-of-building-an-artificial-intelligence-chatbot/)"
   ]
  },
  {
   "cell_type": "markdown",
   "metadata": {
    "id": "7TrM-zAS7jKU"
   },
   "source": [
    "What we have to do ?\n",
    "\n",
    "1. Collect Unique Vocabulary\n",
    "2. Create mapping text to idx and vice versa\n",
    "3. Create lookup table to store vector to each sentence\n",
    "2. Loop all over sentence and check each word\n",
    "\n",
    "    if word exists fill 1"
   ]
  },
  {
   "cell_type": "code",
   "execution_count": 19,
   "metadata": {
    "id": "LqnJ-w0h0Q_2"
   },
   "outputs": [],
   "source": [
    "corpus = [\n",
    "    'Hello World',\n",
    "    'Welcomee to Disney World',\n",
    "    'The flight is on delay'\n",
    "]"
   ]
  },
  {
   "cell_type": "code",
   "execution_count": 20,
   "metadata": {
    "id": "Bw1tfIsc8GAa"
   },
   "outputs": [],
   "source": [
    "# collect unique words\n",
    "vocab = []\n",
    "for sentence in corpus :\n",
    "    # lowercase\n",
    "    text = sentence.lower()\n",
    "    word_split = text.split(' ')\n",
    "    #append word\n",
    "    for word in word_split :\n",
    "        vocab.append(word)\n",
    "\n",
    "# remove duplicate using set\n",
    "vocab_ = set(vocab)\n"
   ]
  },
  {
   "cell_type": "code",
   "execution_count": 21,
   "metadata": {
    "colab": {
     "base_uri": "https://localhost:8080/"
    },
    "executionInfo": {
     "elapsed": 41,
     "status": "ok",
     "timestamp": 1699521133628,
     "user": {
      "displayName": "robi Fakhri",
      "userId": "10922111524175830739"
     },
     "user_tz": -420
    },
    "id": "AXFKsea78_Y0",
    "outputId": "78b229cf-4a52-4115-b2ed-3e0d654929ab"
   },
   "outputs": [
    {
     "data": {
      "text/plain": [
       "{'delay',\n",
       " 'disney',\n",
       " 'flight',\n",
       " 'hello',\n",
       " 'is',\n",
       " 'on',\n",
       " 'the',\n",
       " 'to',\n",
       " 'welcomee',\n",
       " 'world'}"
      ]
     },
     "execution_count": 21,
     "metadata": {},
     "output_type": "execute_result"
    }
   ],
   "source": [
    "vocab_"
   ]
  },
  {
   "cell_type": "code",
   "execution_count": 22,
   "metadata": {
    "id": "U8EwZnGp9L7V"
   },
   "outputs": [],
   "source": [
    "# create mapping\n",
    "word_to_idx = {word:idx for idx,word in enumerate(vocab_)}\n",
    "idx_to_word = {idx:word for idx,word in enumerate(vocab_)}"
   ]
  },
  {
   "cell_type": "code",
   "execution_count": 23,
   "metadata": {
    "colab": {
     "base_uri": "https://localhost:8080/"
    },
    "executionInfo": {
     "elapsed": 38,
     "status": "ok",
     "timestamp": 1699521133628,
     "user": {
      "displayName": "robi Fakhri",
      "userId": "10922111524175830739"
     },
     "user_tz": -420
    },
    "id": "aFBtTRDm-rjJ",
    "outputId": "51ec890e-879c-4c01-ff7f-023cf0573e63"
   },
   "outputs": [
    {
     "data": {
      "text/plain": [
       "array([[0., 0., 0., 0., 0., 0., 0., 0., 0., 0.],\n",
       "       [0., 0., 0., 0., 0., 0., 0., 0., 0., 0.],\n",
       "       [0., 0., 0., 0., 0., 0., 0., 0., 0., 0.]])"
      ]
     },
     "execution_count": 23,
     "metadata": {},
     "output_type": "execute_result"
    }
   ],
   "source": [
    "# create presence matrix , should have size rows --> number of sentencce and columns --> unique vocab\n",
    "n_vocab = len(vocab_)\n",
    "n_sentences = len(corpus)\n",
    "word_presence_matrix = np.zeros(shape=(n_sentences,n_vocab))\n",
    "word_presence_matrix"
   ]
  },
  {
   "cell_type": "code",
   "execution_count": 24,
   "metadata": {
    "colab": {
     "base_uri": "https://localhost:8080/"
    },
    "executionInfo": {
     "elapsed": 36,
     "status": "ok",
     "timestamp": 1699521133628,
     "user": {
      "displayName": "robi Fakhri",
      "userId": "10922111524175830739"
     },
     "user_tz": -420
    },
    "id": "5QbvVxBr9BCv",
    "outputId": "3aa72b79-8aa3-4153-f19e-e5e12430be81"
   },
   "outputs": [
    {
     "name": "stdout",
     "output_type": "stream",
     "text": [
      "Word Index : 0, Sentence Index : 0\n",
      "Word Index : 8, Sentence Index : 0\n",
      "Word Index : 6, Sentence Index : 1\n",
      "Word Index : 1, Sentence Index : 1\n",
      "Word Index : 5, Sentence Index : 1\n",
      "Word Index : 8, Sentence Index : 1\n",
      "Word Index : 4, Sentence Index : 2\n",
      "Word Index : 7, Sentence Index : 2\n",
      "Word Index : 2, Sentence Index : 2\n",
      "Word Index : 3, Sentence Index : 2\n",
      "Word Index : 9, Sentence Index : 2\n"
     ]
    }
   ],
   "source": [
    "for idx,sentence in enumerate(corpus) :\n",
    "    text = sentence.lower()\n",
    "    #append word\n",
    "    for word in text.split(' ') :\n",
    "        #get the index of the word\n",
    "        word_index = word_to_idx[word]\n",
    "        print(f'Word Index : {word_index}, Sentence Index : {idx}')\n",
    "        #change the empty matrix\n",
    "        word_presence_matrix[idx,word_index] = 1"
   ]
  },
  {
   "cell_type": "code",
   "execution_count": 25,
   "metadata": {
    "colab": {
     "base_uri": "https://localhost:8080/"
    },
    "executionInfo": {
     "elapsed": 34,
     "status": "ok",
     "timestamp": 1699521133628,
     "user": {
      "displayName": "robi Fakhri",
      "userId": "10922111524175830739"
     },
     "user_tz": -420
    },
    "id": "WBAR3r05_Yvp",
    "outputId": "661635c8-05d2-45d3-bf59-8d644d7705c2"
   },
   "outputs": [
    {
     "data": {
      "text/plain": [
       "array([[1., 0., 0., 0., 0., 0., 0., 0., 1., 0.],\n",
       "       [0., 1., 0., 0., 0., 1., 1., 0., 1., 0.],\n",
       "       [0., 0., 1., 1., 1., 0., 0., 1., 0., 1.]])"
      ]
     },
     "execution_count": 25,
     "metadata": {},
     "output_type": "execute_result"
    }
   ],
   "source": [
    "word_presence_matrix"
   ]
  },
  {
   "cell_type": "markdown",
   "metadata": {
    "id": "T2Jrmf9U_bd4"
   },
   "source": [
    "lets visualize into dataframe"
   ]
  },
  {
   "cell_type": "code",
   "execution_count": 26,
   "metadata": {
    "colab": {
     "base_uri": "https://localhost:8080/",
     "height": 143
    },
    "executionInfo": {
     "elapsed": 32,
     "status": "ok",
     "timestamp": 1699521133628,
     "user": {
      "displayName": "robi Fakhri",
      "userId": "10922111524175830739"
     },
     "user_tz": -420
    },
    "id": "KhyOOJby_aS1",
    "outputId": "af099927-54f6-42ce-fa71-f82c5a0ddeff"
   },
   "outputs": [
    {
     "data": {
      "text/html": [
       "<div>\n",
       "<style scoped>\n",
       "    .dataframe tbody tr th:only-of-type {\n",
       "        vertical-align: middle;\n",
       "    }\n",
       "\n",
       "    .dataframe tbody tr th {\n",
       "        vertical-align: top;\n",
       "    }\n",
       "\n",
       "    .dataframe thead th {\n",
       "        text-align: right;\n",
       "    }\n",
       "</style>\n",
       "<table border=\"1\" class=\"dataframe\">\n",
       "  <thead>\n",
       "    <tr style=\"text-align: right;\">\n",
       "      <th></th>\n",
       "      <th>hello</th>\n",
       "      <th>to</th>\n",
       "      <th>is</th>\n",
       "      <th>on</th>\n",
       "      <th>the</th>\n",
       "      <th>disney</th>\n",
       "      <th>welcomee</th>\n",
       "      <th>flight</th>\n",
       "      <th>world</th>\n",
       "      <th>delay</th>\n",
       "    </tr>\n",
       "  </thead>\n",
       "  <tbody>\n",
       "    <tr>\n",
       "      <th>Hello World</th>\n",
       "      <td>1.0</td>\n",
       "      <td>0.0</td>\n",
       "      <td>0.0</td>\n",
       "      <td>0.0</td>\n",
       "      <td>0.0</td>\n",
       "      <td>0.0</td>\n",
       "      <td>0.0</td>\n",
       "      <td>0.0</td>\n",
       "      <td>1.0</td>\n",
       "      <td>0.0</td>\n",
       "    </tr>\n",
       "    <tr>\n",
       "      <th>Welcomee to Disney World</th>\n",
       "      <td>0.0</td>\n",
       "      <td>1.0</td>\n",
       "      <td>0.0</td>\n",
       "      <td>0.0</td>\n",
       "      <td>0.0</td>\n",
       "      <td>1.0</td>\n",
       "      <td>1.0</td>\n",
       "      <td>0.0</td>\n",
       "      <td>1.0</td>\n",
       "      <td>0.0</td>\n",
       "    </tr>\n",
       "    <tr>\n",
       "      <th>The flight is on delay</th>\n",
       "      <td>0.0</td>\n",
       "      <td>0.0</td>\n",
       "      <td>1.0</td>\n",
       "      <td>1.0</td>\n",
       "      <td>1.0</td>\n",
       "      <td>0.0</td>\n",
       "      <td>0.0</td>\n",
       "      <td>1.0</td>\n",
       "      <td>0.0</td>\n",
       "      <td>1.0</td>\n",
       "    </tr>\n",
       "  </tbody>\n",
       "</table>\n",
       "</div>"
      ],
      "text/plain": [
       "                          hello   to   is   on  the  disney  welcomee  flight  \\\n",
       "Hello World                 1.0  0.0  0.0  0.0  0.0     0.0       0.0     0.0   \n",
       "Welcomee to Disney World    0.0  1.0  0.0  0.0  0.0     1.0       1.0     0.0   \n",
       "The flight is on delay      0.0  0.0  1.0  1.0  1.0     0.0       0.0     1.0   \n",
       "\n",
       "                          world  delay  \n",
       "Hello World                 1.0    0.0  \n",
       "Welcomee to Disney World    1.0    0.0  \n",
       "The flight is on delay      0.0    1.0  "
      ]
     },
     "execution_count": 26,
     "metadata": {},
     "output_type": "execute_result"
    }
   ],
   "source": [
    "onehot_vector = pd.DataFrame(word_presence_matrix)\n",
    "onehot_vector.columns = list(word_to_idx.keys())\n",
    "onehot_vector.index = corpus\n",
    "onehot_vector"
   ]
  },
  {
   "cell_type": "markdown",
   "metadata": {
    "id": "D_Jey6DJ_wew"
   },
   "source": [
    "Now, our sentence already has feature representation"
   ]
  },
  {
   "cell_type": "markdown",
   "metadata": {
    "id": "WemI5nhung5P"
   },
   "source": [
    "**OOP Version**"
   ]
  },
  {
   "cell_type": "code",
   "execution_count": 27,
   "metadata": {
    "id": "0HVR6EHLni3B"
   },
   "outputs": [],
   "source": [
    "class OneHotVectorizer :\n",
    "\n",
    "    def generate_vocabulary(self) :\n",
    "        \"\"\"\n",
    "            Function to create vocabulary\n",
    "        \"\"\"\n",
    "        self.vocabulary = set()\n",
    "        for sentence in self.corpus:\n",
    "            #perform tokenization , by splitting by space\n",
    "            word_split = sentence.lower().split(' ')\n",
    "            #append word\n",
    "            for word in word_split :\n",
    "                self.vocabulary.add(word)\n",
    "\n",
    "    def fit(self,corpus) :\n",
    "        \"\"\"\n",
    "        Function to create vocabulary and saving corpus\n",
    "\n",
    "        Parameters :\n",
    "        ----------\n",
    "\n",
    "        corpus : list / iterables\n",
    "            contain collection of text\n",
    "\n",
    "        Returns  :\n",
    "        ----------\n",
    "\n",
    "        \"\"\"\n",
    "        self.corpus = corpus\n",
    "        self.generate_vocabulary()\n",
    "        self.word_idx = {word : idx for idx,word in enumerate(self.vocabulary)}\n",
    "        self.idx_word  = {idx : word for idx,word in enumerate(self.vocabulary)}\n",
    "\n",
    "    def get_vocab(self) :\n",
    "        return self.vocabulary\n",
    "\n",
    "    def get_mapping(self) :\n",
    "        return self.word_idx,self.idx_word\n",
    "\n",
    "\n",
    "    def transform(self,text) :\n",
    "        \"\"\"\n",
    "        Function to convert text into vector by assigning word that are present as 1\n",
    "\n",
    "        Parameters :\n",
    "        ----------\n",
    "\n",
    "        text : list\n",
    "            list contain texts\n",
    "\n",
    "        Returns  :\n",
    "        ----------\n",
    "        text_features : numpy.array\n",
    "                   array of features from vocabulary\n",
    "        \"\"\"\n",
    "        print(len(self.vocabulary))\n",
    "        text_features = np.zeros(shape=(len(text),len(self.vocabulary)))\n",
    "        for idx_sentence,sentence in enumerate(text) :\n",
    "            for word in sentence.lower().split(' ') :\n",
    "                #get the index of the word\n",
    "                if word not in self.word_idx.keys() :\n",
    "                    continue\n",
    "                word_index = self.word_idx[word]\n",
    "\n",
    "                #assign value\n",
    "\n",
    "                text_features[idx_sentence,word_index]  = 1\n",
    "        return text_features"
   ]
  },
  {
   "cell_type": "code",
   "execution_count": 28,
   "metadata": {
    "colab": {
     "base_uri": "https://localhost:8080/"
    },
    "executionInfo": {
     "elapsed": 32,
     "status": "ok",
     "timestamp": 1699521133629,
     "user": {
      "displayName": "robi Fakhri",
      "userId": "10922111524175830739"
     },
     "user_tz": -420
    },
    "id": "5HJ1278-qm7K",
    "outputId": "cd8b61a1-bfbc-44a6-b3ae-3cfd6f757881"
   },
   "outputs": [
    {
     "name": "stdout",
     "output_type": "stream",
     "text": [
      "10\n"
     ]
    }
   ],
   "source": [
    "# let's try to validate the result\n",
    "onehot_vectorizer = OneHotVectorizer()\n",
    "onehot_vectorizer.fit(corpus)\n",
    "onehot_textfeatures = onehot_vectorizer.transform(corpus)\n"
   ]
  },
  {
   "cell_type": "code",
   "execution_count": 29,
   "metadata": {
    "colab": {
     "base_uri": "https://localhost:8080/",
     "height": 143
    },
    "executionInfo": {
     "elapsed": 31,
     "status": "ok",
     "timestamp": 1699521133629,
     "user": {
      "displayName": "robi Fakhri",
      "userId": "10922111524175830739"
     },
     "user_tz": -420
    },
    "id": "QfjqNXb4qQOT",
    "outputId": "017c7ceb-8137-418b-d655-eb59f002699e"
   },
   "outputs": [
    {
     "data": {
      "text/html": [
       "<div>\n",
       "<style scoped>\n",
       "    .dataframe tbody tr th:only-of-type {\n",
       "        vertical-align: middle;\n",
       "    }\n",
       "\n",
       "    .dataframe tbody tr th {\n",
       "        vertical-align: top;\n",
       "    }\n",
       "\n",
       "    .dataframe thead th {\n",
       "        text-align: right;\n",
       "    }\n",
       "</style>\n",
       "<table border=\"1\" class=\"dataframe\">\n",
       "  <thead>\n",
       "    <tr style=\"text-align: right;\">\n",
       "      <th></th>\n",
       "      <th>hello</th>\n",
       "      <th>to</th>\n",
       "      <th>is</th>\n",
       "      <th>on</th>\n",
       "      <th>the</th>\n",
       "      <th>disney</th>\n",
       "      <th>welcomee</th>\n",
       "      <th>flight</th>\n",
       "      <th>world</th>\n",
       "      <th>delay</th>\n",
       "    </tr>\n",
       "  </thead>\n",
       "  <tbody>\n",
       "    <tr>\n",
       "      <th>Hello World</th>\n",
       "      <td>1.0</td>\n",
       "      <td>0.0</td>\n",
       "      <td>0.0</td>\n",
       "      <td>0.0</td>\n",
       "      <td>0.0</td>\n",
       "      <td>0.0</td>\n",
       "      <td>0.0</td>\n",
       "      <td>0.0</td>\n",
       "      <td>1.0</td>\n",
       "      <td>0.0</td>\n",
       "    </tr>\n",
       "    <tr>\n",
       "      <th>Welcomee to Disney World</th>\n",
       "      <td>0.0</td>\n",
       "      <td>1.0</td>\n",
       "      <td>0.0</td>\n",
       "      <td>0.0</td>\n",
       "      <td>0.0</td>\n",
       "      <td>1.0</td>\n",
       "      <td>1.0</td>\n",
       "      <td>0.0</td>\n",
       "      <td>1.0</td>\n",
       "      <td>0.0</td>\n",
       "    </tr>\n",
       "    <tr>\n",
       "      <th>The flight is on delay</th>\n",
       "      <td>0.0</td>\n",
       "      <td>0.0</td>\n",
       "      <td>1.0</td>\n",
       "      <td>1.0</td>\n",
       "      <td>1.0</td>\n",
       "      <td>0.0</td>\n",
       "      <td>0.0</td>\n",
       "      <td>1.0</td>\n",
       "      <td>0.0</td>\n",
       "      <td>1.0</td>\n",
       "    </tr>\n",
       "  </tbody>\n",
       "</table>\n",
       "</div>"
      ],
      "text/plain": [
       "                          hello   to   is   on  the  disney  welcomee  flight  \\\n",
       "Hello World                 1.0  0.0  0.0  0.0  0.0     0.0       0.0     0.0   \n",
       "Welcomee to Disney World    0.0  1.0  0.0  0.0  0.0     1.0       1.0     0.0   \n",
       "The flight is on delay      0.0  0.0  1.0  1.0  1.0     0.0       0.0     1.0   \n",
       "\n",
       "                          world  delay  \n",
       "Hello World                 1.0    0.0  \n",
       "Welcomee to Disney World    1.0    0.0  \n",
       "The flight is on delay      0.0    1.0  "
      ]
     },
     "execution_count": 29,
     "metadata": {},
     "output_type": "execute_result"
    }
   ],
   "source": [
    "onehot_df = pd.DataFrame(onehot_textfeatures)\n",
    "onehot_df.columns = list(onehot_vectorizer.get_mapping()[0].keys())\n",
    "onehot_df.index = corpus\n",
    "onehot_df"
   ]
  },
  {
   "cell_type": "code",
   "execution_count": 30,
   "metadata": {
    "colab": {
     "base_uri": "https://localhost:8080/"
    },
    "executionInfo": {
     "elapsed": 30,
     "status": "ok",
     "timestamp": 1699521133629,
     "user": {
      "displayName": "robi Fakhri",
      "userId": "10922111524175830739"
     },
     "user_tz": -420
    },
    "id": "iExWMFv7rKsY",
    "outputId": "75b1aae7-0036-4964-aa90-7c110e6f8522"
   },
   "outputs": [
    {
     "data": {
      "text/plain": [
       "array([[ True,  True,  True,  True,  True,  True,  True,  True,  True,\n",
       "         True],\n",
       "       [ True,  True,  True,  True,  True,  True,  True,  True,  True,\n",
       "         True],\n",
       "       [ True,  True,  True,  True,  True,  True,  True,  True,  True,\n",
       "         True]])"
      ]
     },
     "execution_count": 30,
     "metadata": {},
     "output_type": "execute_result"
    }
   ],
   "source": [
    "# validate\n",
    "onehot_df.to_numpy()==onehot_vector.to_numpy()"
   ]
  },
  {
   "cell_type": "markdown",
   "metadata": {
    "id": "E3P3jFqf0GAN"
   },
   "source": [
    "### Count Based Vector or Bag of Words"
   ]
  },
  {
   "cell_type": "markdown",
   "metadata": {
    "id": "1YPsJP5DcIiD"
   },
   "source": [
    "previously our approach is only detecting whether the vocab is presence given a sentence, now we can add the frequency"
   ]
  },
  {
   "cell_type": "code",
   "execution_count": 31,
   "metadata": {
    "id": "b0-3EMx20QJl"
   },
   "outputs": [],
   "source": [
    "corpus_bow = [\n",
    "    'Hello World',\n",
    "    'Welcomee to Disney World',\n",
    "    'The flight is on delay',\n",
    "    'The flight because the runaway is being used for another flight departure'\n",
    "]"
   ]
  },
  {
   "cell_type": "code",
   "execution_count": 32,
   "metadata": {
    "id": "gCHeLVIbc69p"
   },
   "outputs": [],
   "source": [
    "# collect unique words\n",
    "vocab_bow = []\n",
    "for sentence in corpus_bow :\n",
    "    # lowercase\n",
    "    text = sentence.lower()\n",
    "    word_split = text.split(' ')\n",
    "    #append word\n",
    "    for word in word_split :\n",
    "        vocab_bow.append(word)\n",
    "\n",
    "# remove duplicate using set\n",
    "vocab_bow = set(vocab_bow)\n"
   ]
  },
  {
   "cell_type": "code",
   "execution_count": 33,
   "metadata": {
    "id": "ypxsJ21pcovR"
   },
   "outputs": [],
   "source": [
    "word_to_idx = {word:idx for idx,word in enumerate(vocab_bow)}\n",
    "idx_to_word = {idx:word for idx,word in enumerate(vocab_bow)}"
   ]
  },
  {
   "cell_type": "code",
   "execution_count": 34,
   "metadata": {
    "colab": {
     "base_uri": "https://localhost:8080/"
    },
    "executionInfo": {
     "elapsed": 28,
     "status": "ok",
     "timestamp": 1699521133630,
     "user": {
      "displayName": "robi Fakhri",
      "userId": "10922111524175830739"
     },
     "user_tz": -420
    },
    "id": "dDH7cd0Zcqzy",
    "outputId": "0657d4dc-aa33-4d32-9d76-aacdbcc6fe1e"
   },
   "outputs": [
    {
     "data": {
      "text/plain": [
       "array([[0., 0., 0., 0., 0., 0., 0., 0., 0., 0., 0., 0., 0., 0., 0., 0.,\n",
       "        0.],\n",
       "       [0., 0., 0., 0., 0., 0., 0., 0., 0., 0., 0., 0., 0., 0., 0., 0.,\n",
       "        0.],\n",
       "       [0., 0., 0., 0., 0., 0., 0., 0., 0., 0., 0., 0., 0., 0., 0., 0.,\n",
       "        0.],\n",
       "       [0., 0., 0., 0., 0., 0., 0., 0., 0., 0., 0., 0., 0., 0., 0., 0.,\n",
       "        0.]])"
      ]
     },
     "execution_count": 34,
     "metadata": {},
     "output_type": "execute_result"
    }
   ],
   "source": [
    "# create presence matrix , should have size rows --> number of sentencce and columns --> unique vocab\n",
    "n_vocab = len(vocab_bow)\n",
    "n_sentences = len(corpus_bow)\n",
    "bow_matrix = np.zeros(shape=(n_sentences,n_vocab))\n",
    "bow_matrix"
   ]
  },
  {
   "cell_type": "code",
   "execution_count": 35,
   "metadata": {
    "colab": {
     "base_uri": "https://localhost:8080/"
    },
    "executionInfo": {
     "elapsed": 27,
     "status": "ok",
     "timestamp": 1699521133630,
     "user": {
      "displayName": "robi Fakhri",
      "userId": "10922111524175830739"
     },
     "user_tz": -420
    },
    "id": "hKHKbzr4cs7K",
    "outputId": "6d977187-5430-426d-a407-edd99e3e2ce1"
   },
   "outputs": [
    {
     "name": "stdout",
     "output_type": "stream",
     "text": [
      "Word Index : 0, Sentence Index : 0\n",
      "Word Index : 13, Sentence Index : 0\n",
      "Word Index : 10, Sentence Index : 1\n",
      "Word Index : 2, Sentence Index : 1\n",
      "Word Index : 8, Sentence Index : 1\n",
      "Word Index : 13, Sentence Index : 1\n",
      "Word Index : 6, Sentence Index : 2\n",
      "Word Index : 11, Sentence Index : 2\n",
      "Word Index : 3, Sentence Index : 2\n",
      "Word Index : 5, Sentence Index : 2\n",
      "Word Index : 14, Sentence Index : 2\n",
      "Word Index : 6, Sentence Index : 3\n",
      "Word Index : 11, Sentence Index : 3\n",
      "Word Index : 4, Sentence Index : 3\n",
      "Word Index : 6, Sentence Index : 3\n",
      "Word Index : 7, Sentence Index : 3\n",
      "Word Index : 3, Sentence Index : 3\n",
      "Word Index : 9, Sentence Index : 3\n",
      "Word Index : 1, Sentence Index : 3\n",
      "Word Index : 12, Sentence Index : 3\n",
      "Word Index : 15, Sentence Index : 3\n",
      "Word Index : 11, Sentence Index : 3\n",
      "Word Index : 16, Sentence Index : 3\n"
     ]
    }
   ],
   "source": [
    "for idx,sentence in enumerate(corpus_bow) :\n",
    "    text = sentence.lower()\n",
    "    #append word\n",
    "    for word in text.split(' ') :\n",
    "        #get the index of the word\n",
    "        word_index = word_to_idx[word]\n",
    "        print(f'Word Index : {word_index}, Sentence Index : {idx}')\n",
    "        #change the empty matrix\n",
    "        bow_matrix[idx,word_index] += 1"
   ]
  },
  {
   "cell_type": "code",
   "execution_count": 36,
   "metadata": {
    "colab": {
     "base_uri": "https://localhost:8080/"
    },
    "executionInfo": {
     "elapsed": 673,
     "status": "ok",
     "timestamp": 1699521134278,
     "user": {
      "displayName": "robi Fakhri",
      "userId": "10922111524175830739"
     },
     "user_tz": -420
    },
    "id": "9ZjShKfodiFD",
    "outputId": "085e033d-0612-4c84-c1db-fdbcf745f920"
   },
   "outputs": [
    {
     "data": {
      "text/plain": [
       "array([[1., 0., 0., 0., 0., 0., 0., 0., 0., 0., 0., 0., 0., 1., 0., 0.,\n",
       "        0.],\n",
       "       [0., 0., 1., 0., 0., 0., 0., 0., 1., 0., 1., 0., 0., 1., 0., 0.,\n",
       "        0.],\n",
       "       [0., 0., 0., 1., 0., 1., 1., 0., 0., 0., 0., 1., 0., 0., 1., 0.,\n",
       "        0.],\n",
       "       [0., 1., 0., 1., 1., 0., 2., 1., 0., 1., 0., 2., 1., 0., 0., 1.,\n",
       "        1.]])"
      ]
     },
     "execution_count": 36,
     "metadata": {},
     "output_type": "execute_result"
    }
   ],
   "source": [
    "bow_matrix"
   ]
  },
  {
   "cell_type": "code",
   "execution_count": 37,
   "metadata": {
    "colab": {
     "base_uri": "https://localhost:8080/",
     "height": 192
    },
    "executionInfo": {
     "elapsed": 29,
     "status": "ok",
     "timestamp": 1699521134279,
     "user": {
      "displayName": "robi Fakhri",
      "userId": "10922111524175830739"
     },
     "user_tz": -420
    },
    "id": "MrU_Fug7dspS",
    "outputId": "1a5fb422-60c7-4369-926a-392ee5373916"
   },
   "outputs": [
    {
     "data": {
      "text/html": [
       "<div>\n",
       "<style scoped>\n",
       "    .dataframe tbody tr th:only-of-type {\n",
       "        vertical-align: middle;\n",
       "    }\n",
       "\n",
       "    .dataframe tbody tr th {\n",
       "        vertical-align: top;\n",
       "    }\n",
       "\n",
       "    .dataframe thead th {\n",
       "        text-align: right;\n",
       "    }\n",
       "</style>\n",
       "<table border=\"1\" class=\"dataframe\">\n",
       "  <thead>\n",
       "    <tr style=\"text-align: right;\">\n",
       "      <th></th>\n",
       "      <th>hello</th>\n",
       "      <th>used</th>\n",
       "      <th>to</th>\n",
       "      <th>is</th>\n",
       "      <th>because</th>\n",
       "      <th>on</th>\n",
       "      <th>the</th>\n",
       "      <th>runaway</th>\n",
       "      <th>disney</th>\n",
       "      <th>being</th>\n",
       "      <th>welcomee</th>\n",
       "      <th>flight</th>\n",
       "      <th>for</th>\n",
       "      <th>world</th>\n",
       "      <th>delay</th>\n",
       "      <th>another</th>\n",
       "      <th>departure</th>\n",
       "    </tr>\n",
       "  </thead>\n",
       "  <tbody>\n",
       "    <tr>\n",
       "      <th>Hello World</th>\n",
       "      <td>1.0</td>\n",
       "      <td>0.0</td>\n",
       "      <td>0.0</td>\n",
       "      <td>0.0</td>\n",
       "      <td>0.0</td>\n",
       "      <td>0.0</td>\n",
       "      <td>0.0</td>\n",
       "      <td>0.0</td>\n",
       "      <td>0.0</td>\n",
       "      <td>0.0</td>\n",
       "      <td>0.0</td>\n",
       "      <td>0.0</td>\n",
       "      <td>0.0</td>\n",
       "      <td>1.0</td>\n",
       "      <td>0.0</td>\n",
       "      <td>0.0</td>\n",
       "      <td>0.0</td>\n",
       "    </tr>\n",
       "    <tr>\n",
       "      <th>Welcomee to Disney World</th>\n",
       "      <td>0.0</td>\n",
       "      <td>0.0</td>\n",
       "      <td>1.0</td>\n",
       "      <td>0.0</td>\n",
       "      <td>0.0</td>\n",
       "      <td>0.0</td>\n",
       "      <td>0.0</td>\n",
       "      <td>0.0</td>\n",
       "      <td>1.0</td>\n",
       "      <td>0.0</td>\n",
       "      <td>1.0</td>\n",
       "      <td>0.0</td>\n",
       "      <td>0.0</td>\n",
       "      <td>1.0</td>\n",
       "      <td>0.0</td>\n",
       "      <td>0.0</td>\n",
       "      <td>0.0</td>\n",
       "    </tr>\n",
       "    <tr>\n",
       "      <th>The flight is on delay</th>\n",
       "      <td>0.0</td>\n",
       "      <td>0.0</td>\n",
       "      <td>0.0</td>\n",
       "      <td>1.0</td>\n",
       "      <td>0.0</td>\n",
       "      <td>1.0</td>\n",
       "      <td>1.0</td>\n",
       "      <td>0.0</td>\n",
       "      <td>0.0</td>\n",
       "      <td>0.0</td>\n",
       "      <td>0.0</td>\n",
       "      <td>1.0</td>\n",
       "      <td>0.0</td>\n",
       "      <td>0.0</td>\n",
       "      <td>1.0</td>\n",
       "      <td>0.0</td>\n",
       "      <td>0.0</td>\n",
       "    </tr>\n",
       "    <tr>\n",
       "      <th>The flight because the runaway is being used for another flight departure</th>\n",
       "      <td>0.0</td>\n",
       "      <td>1.0</td>\n",
       "      <td>0.0</td>\n",
       "      <td>1.0</td>\n",
       "      <td>1.0</td>\n",
       "      <td>0.0</td>\n",
       "      <td>2.0</td>\n",
       "      <td>1.0</td>\n",
       "      <td>0.0</td>\n",
       "      <td>1.0</td>\n",
       "      <td>0.0</td>\n",
       "      <td>2.0</td>\n",
       "      <td>1.0</td>\n",
       "      <td>0.0</td>\n",
       "      <td>0.0</td>\n",
       "      <td>1.0</td>\n",
       "      <td>1.0</td>\n",
       "    </tr>\n",
       "  </tbody>\n",
       "</table>\n",
       "</div>"
      ],
      "text/plain": [
       "                                                    hello  used   to   is  \\\n",
       "Hello World                                           1.0   0.0  0.0  0.0   \n",
       "Welcomee to Disney World                              0.0   0.0  1.0  0.0   \n",
       "The flight is on delay                                0.0   0.0  0.0  1.0   \n",
       "The flight because the runaway is being used fo...    0.0   1.0  0.0  1.0   \n",
       "\n",
       "                                                    because   on  the  \\\n",
       "Hello World                                             0.0  0.0  0.0   \n",
       "Welcomee to Disney World                                0.0  0.0  0.0   \n",
       "The flight is on delay                                  0.0  1.0  1.0   \n",
       "The flight because the runaway is being used fo...      1.0  0.0  2.0   \n",
       "\n",
       "                                                    runaway  disney  being  \\\n",
       "Hello World                                             0.0     0.0    0.0   \n",
       "Welcomee to Disney World                                0.0     1.0    0.0   \n",
       "The flight is on delay                                  0.0     0.0    0.0   \n",
       "The flight because the runaway is being used fo...      1.0     0.0    1.0   \n",
       "\n",
       "                                                    welcomee  flight  for  \\\n",
       "Hello World                                              0.0     0.0  0.0   \n",
       "Welcomee to Disney World                                 1.0     0.0  0.0   \n",
       "The flight is on delay                                   0.0     1.0  0.0   \n",
       "The flight because the runaway is being used fo...       0.0     2.0  1.0   \n",
       "\n",
       "                                                    world  delay  another  \\\n",
       "Hello World                                           1.0    0.0      0.0   \n",
       "Welcomee to Disney World                              1.0    0.0      0.0   \n",
       "The flight is on delay                                0.0    1.0      0.0   \n",
       "The flight because the runaway is being used fo...    0.0    0.0      1.0   \n",
       "\n",
       "                                                    departure  \n",
       "Hello World                                               0.0  \n",
       "Welcomee to Disney World                                  0.0  \n",
       "The flight is on delay                                    0.0  \n",
       "The flight because the runaway is being used fo...        1.0  "
      ]
     },
     "execution_count": 37,
     "metadata": {},
     "output_type": "execute_result"
    }
   ],
   "source": [
    "bow_vector = pd.DataFrame(bow_matrix)\n",
    "bow_vector.columns = list(word_to_idx.keys())\n",
    "bow_vector.index = corpus_bow\n",
    "bow_vector"
   ]
  },
  {
   "cell_type": "markdown",
   "metadata": {
    "id": "BLESDJryntbu"
   },
   "source": [
    "**OOP Version**"
   ]
  },
  {
   "cell_type": "code",
   "execution_count": 38,
   "metadata": {
    "id": "kyYcFdD7nwXE"
   },
   "outputs": [],
   "source": [
    "class CountVectorizer :\n",
    "\n",
    "    def generate_vocabulary(self) :\n",
    "        \"\"\"\n",
    "            Function to create vocabulary\n",
    "        \"\"\"\n",
    "        self.vocabulary = set()\n",
    "        for sentence in self.corpus:\n",
    "            #perform tokenization , by splitting by space\n",
    "            word_split = sentence.lower().split(' ')\n",
    "            #append word\n",
    "            for word in word_split :\n",
    "                self.vocabulary.add(word)\n",
    "\n",
    "    def fit(self,corpus) :\n",
    "        \"\"\"\n",
    "        Function to create vocabulary and saving corpus\n",
    "\n",
    "        Parameters :\n",
    "        ----------\n",
    "\n",
    "        corpus : list / iterables\n",
    "            contain collection of text\n",
    "\n",
    "        Returns  :\n",
    "        ----------\n",
    "\n",
    "        \"\"\"\n",
    "        self.corpus = corpus\n",
    "        self.generate_vocabulary()\n",
    "        self.word_idx = {word : idx for idx,word in enumerate(self.vocabulary)}\n",
    "        self.idx_word  = {idx : word for idx,word in enumerate(self.vocabulary)}\n",
    "\n",
    "    def get_vocab(self) :\n",
    "        return self.vocabulary\n",
    "\n",
    "    def get_mapping(self) :\n",
    "        return self.word_idx,self.idx_word\n",
    "\n",
    "\n",
    "    def transform(self,text) :\n",
    "        \"\"\"\n",
    "        Function to convert text into vector by assigning word that are present as 1\n",
    "\n",
    "        Parameters :\n",
    "        ----------\n",
    "\n",
    "        text : list\n",
    "            list contain texts\n",
    "\n",
    "        Returns  :\n",
    "        ----------\n",
    "        text_features : numpy.array\n",
    "                   array of features from vocabulary\n",
    "        \"\"\"\n",
    "        print(len(self.vocabulary))\n",
    "        text_features = np.zeros(shape=(len(text),len(self.vocabulary)))\n",
    "        for idx_sentence,sentence in enumerate(text) :\n",
    "            for word in sentence.lower().split(' ') :\n",
    "                #get the index of the word\n",
    "                if word not in self.word_idx.keys() :\n",
    "                    continue\n",
    "                word_index = self.word_idx[word]\n",
    "\n",
    "                #assign value\n",
    "\n",
    "                text_features[idx_sentence,word_index]+= 1\n",
    "        return text_features"
   ]
  },
  {
   "cell_type": "code",
   "execution_count": 39,
   "metadata": {
    "colab": {
     "base_uri": "https://localhost:8080/"
    },
    "executionInfo": {
     "elapsed": 28,
     "status": "ok",
     "timestamp": 1699521134279,
     "user": {
      "displayName": "robi Fakhri",
      "userId": "10922111524175830739"
     },
     "user_tz": -420
    },
    "id": "gNBoOUEBn6_B",
    "outputId": "1561bf7c-851f-4a83-ea35-1c39483e04c5"
   },
   "outputs": [
    {
     "name": "stdout",
     "output_type": "stream",
     "text": [
      "17\n"
     ]
    }
   ],
   "source": [
    "# let's try to validate the result\n",
    "count_vectorizer = CountVectorizer()\n",
    "count_vectorizer.fit(corpus_bow)\n",
    "count_textfeatures = count_vectorizer.transform(corpus_bow)\n"
   ]
  },
  {
   "cell_type": "code",
   "execution_count": 40,
   "metadata": {
    "colab": {
     "base_uri": "https://localhost:8080/",
     "height": 192
    },
    "executionInfo": {
     "elapsed": 25,
     "status": "ok",
     "timestamp": 1699521134279,
     "user": {
      "displayName": "robi Fakhri",
      "userId": "10922111524175830739"
     },
     "user_tz": -420
    },
    "id": "ZR5ZCsilpG9C",
    "outputId": "b6c1027c-c6f9-445d-ef35-c626758206ba"
   },
   "outputs": [
    {
     "data": {
      "text/html": [
       "<div>\n",
       "<style scoped>\n",
       "    .dataframe tbody tr th:only-of-type {\n",
       "        vertical-align: middle;\n",
       "    }\n",
       "\n",
       "    .dataframe tbody tr th {\n",
       "        vertical-align: top;\n",
       "    }\n",
       "\n",
       "    .dataframe thead th {\n",
       "        text-align: right;\n",
       "    }\n",
       "</style>\n",
       "<table border=\"1\" class=\"dataframe\">\n",
       "  <thead>\n",
       "    <tr style=\"text-align: right;\">\n",
       "      <th></th>\n",
       "      <th>hello</th>\n",
       "      <th>used</th>\n",
       "      <th>to</th>\n",
       "      <th>is</th>\n",
       "      <th>because</th>\n",
       "      <th>on</th>\n",
       "      <th>the</th>\n",
       "      <th>runaway</th>\n",
       "      <th>disney</th>\n",
       "      <th>being</th>\n",
       "      <th>welcomee</th>\n",
       "      <th>flight</th>\n",
       "      <th>for</th>\n",
       "      <th>world</th>\n",
       "      <th>delay</th>\n",
       "      <th>another</th>\n",
       "      <th>departure</th>\n",
       "    </tr>\n",
       "  </thead>\n",
       "  <tbody>\n",
       "    <tr>\n",
       "      <th>Hello World</th>\n",
       "      <td>1.0</td>\n",
       "      <td>0.0</td>\n",
       "      <td>0.0</td>\n",
       "      <td>0.0</td>\n",
       "      <td>0.0</td>\n",
       "      <td>0.0</td>\n",
       "      <td>0.0</td>\n",
       "      <td>0.0</td>\n",
       "      <td>0.0</td>\n",
       "      <td>0.0</td>\n",
       "      <td>0.0</td>\n",
       "      <td>0.0</td>\n",
       "      <td>0.0</td>\n",
       "      <td>1.0</td>\n",
       "      <td>0.0</td>\n",
       "      <td>0.0</td>\n",
       "      <td>0.0</td>\n",
       "    </tr>\n",
       "    <tr>\n",
       "      <th>Welcomee to Disney World</th>\n",
       "      <td>0.0</td>\n",
       "      <td>0.0</td>\n",
       "      <td>1.0</td>\n",
       "      <td>0.0</td>\n",
       "      <td>0.0</td>\n",
       "      <td>0.0</td>\n",
       "      <td>0.0</td>\n",
       "      <td>0.0</td>\n",
       "      <td>1.0</td>\n",
       "      <td>0.0</td>\n",
       "      <td>1.0</td>\n",
       "      <td>0.0</td>\n",
       "      <td>0.0</td>\n",
       "      <td>1.0</td>\n",
       "      <td>0.0</td>\n",
       "      <td>0.0</td>\n",
       "      <td>0.0</td>\n",
       "    </tr>\n",
       "    <tr>\n",
       "      <th>The flight is on delay</th>\n",
       "      <td>0.0</td>\n",
       "      <td>0.0</td>\n",
       "      <td>0.0</td>\n",
       "      <td>1.0</td>\n",
       "      <td>0.0</td>\n",
       "      <td>1.0</td>\n",
       "      <td>1.0</td>\n",
       "      <td>0.0</td>\n",
       "      <td>0.0</td>\n",
       "      <td>0.0</td>\n",
       "      <td>0.0</td>\n",
       "      <td>1.0</td>\n",
       "      <td>0.0</td>\n",
       "      <td>0.0</td>\n",
       "      <td>1.0</td>\n",
       "      <td>0.0</td>\n",
       "      <td>0.0</td>\n",
       "    </tr>\n",
       "    <tr>\n",
       "      <th>The flight because the runaway is being used for another flight departure</th>\n",
       "      <td>0.0</td>\n",
       "      <td>1.0</td>\n",
       "      <td>0.0</td>\n",
       "      <td>1.0</td>\n",
       "      <td>1.0</td>\n",
       "      <td>0.0</td>\n",
       "      <td>2.0</td>\n",
       "      <td>1.0</td>\n",
       "      <td>0.0</td>\n",
       "      <td>1.0</td>\n",
       "      <td>0.0</td>\n",
       "      <td>2.0</td>\n",
       "      <td>1.0</td>\n",
       "      <td>0.0</td>\n",
       "      <td>0.0</td>\n",
       "      <td>1.0</td>\n",
       "      <td>1.0</td>\n",
       "    </tr>\n",
       "  </tbody>\n",
       "</table>\n",
       "</div>"
      ],
      "text/plain": [
       "                                                    hello  used   to   is  \\\n",
       "Hello World                                           1.0   0.0  0.0  0.0   \n",
       "Welcomee to Disney World                              0.0   0.0  1.0  0.0   \n",
       "The flight is on delay                                0.0   0.0  0.0  1.0   \n",
       "The flight because the runaway is being used fo...    0.0   1.0  0.0  1.0   \n",
       "\n",
       "                                                    because   on  the  \\\n",
       "Hello World                                             0.0  0.0  0.0   \n",
       "Welcomee to Disney World                                0.0  0.0  0.0   \n",
       "The flight is on delay                                  0.0  1.0  1.0   \n",
       "The flight because the runaway is being used fo...      1.0  0.0  2.0   \n",
       "\n",
       "                                                    runaway  disney  being  \\\n",
       "Hello World                                             0.0     0.0    0.0   \n",
       "Welcomee to Disney World                                0.0     1.0    0.0   \n",
       "The flight is on delay                                  0.0     0.0    0.0   \n",
       "The flight because the runaway is being used fo...      1.0     0.0    1.0   \n",
       "\n",
       "                                                    welcomee  flight  for  \\\n",
       "Hello World                                              0.0     0.0  0.0   \n",
       "Welcomee to Disney World                                 1.0     0.0  0.0   \n",
       "The flight is on delay                                   0.0     1.0  0.0   \n",
       "The flight because the runaway is being used fo...       0.0     2.0  1.0   \n",
       "\n",
       "                                                    world  delay  another  \\\n",
       "Hello World                                           1.0    0.0      0.0   \n",
       "Welcomee to Disney World                              1.0    0.0      0.0   \n",
       "The flight is on delay                                0.0    1.0      0.0   \n",
       "The flight because the runaway is being used fo...    0.0    0.0      1.0   \n",
       "\n",
       "                                                    departure  \n",
       "Hello World                                               0.0  \n",
       "Welcomee to Disney World                                  0.0  \n",
       "The flight is on delay                                    0.0  \n",
       "The flight because the runaway is being used fo...        1.0  "
      ]
     },
     "execution_count": 40,
     "metadata": {},
     "output_type": "execute_result"
    }
   ],
   "source": [
    "count_pd = pd.DataFrame(count_textfeatures)\n",
    "count_pd.columns = list(count_vectorizer.get_mapping()[0].keys())\n",
    "count_pd.index = corpus_bow\n",
    "count_pd"
   ]
  },
  {
   "cell_type": "code",
   "execution_count": 41,
   "metadata": {
    "colab": {
     "base_uri": "https://localhost:8080/"
    },
    "executionInfo": {
     "elapsed": 23,
     "status": "ok",
     "timestamp": 1699521134279,
     "user": {
      "displayName": "robi Fakhri",
      "userId": "10922111524175830739"
     },
     "user_tz": -420
    },
    "id": "BZ5KyEbuqcKp",
    "outputId": "577fc567-c5da-450f-840a-7b002548c6f9"
   },
   "outputs": [
    {
     "data": {
      "text/plain": [
       "array([[ True,  True,  True,  True,  True,  True,  True,  True,  True,\n",
       "         True,  True,  True,  True,  True,  True,  True,  True],\n",
       "       [ True,  True,  True,  True,  True,  True,  True,  True,  True,\n",
       "         True,  True,  True,  True,  True,  True,  True,  True],\n",
       "       [ True,  True,  True,  True,  True,  True,  True,  True,  True,\n",
       "         True,  True,  True,  True,  True,  True,  True,  True],\n",
       "       [ True,  True,  True,  True,  True,  True,  True,  True,  True,\n",
       "         True,  True,  True,  True,  True,  True,  True,  True]])"
      ]
     },
     "execution_count": 41,
     "metadata": {},
     "output_type": "execute_result"
    }
   ],
   "source": [
    "count_pd.to_numpy() == bow_vector.to_numpy()"
   ]
  },
  {
   "cell_type": "markdown",
   "metadata": {
    "id": "1YLMvpsdqW4Z"
   },
   "source": [
    "We are getting the same result"
   ]
  },
  {
   "cell_type": "markdown",
   "metadata": {
    "id": "JTCunF49XxoO"
   },
   "source": [
    "Previously we learn about count based such as :    \n",
    "1. One-Hot Encoding\n",
    "2. Count Vectorizer\n",
    "\n",
    "those approach are resulting :     \n",
    "1. One Hot Encoding resulting `0` or `1` values, not heterogen,\n",
    "2. Count Vectorizing resulting `min 0` values, some words that are fequent could be have high value\n",
    "\n",
    "\n"
   ]
  },
  {
   "cell_type": "markdown",
   "metadata": {
    "id": "L3P4aLtHZdyj"
   },
   "source": [
    "Can we have the vector values, that represent the importance of each word, but the value range is not  wide  like `CountVectorizer`"
   ]
  },
  {
   "cell_type": "markdown",
   "metadata": {
    "id": "k72EfdKH0J6x"
   },
   "source": [
    "### TF-IDF"
   ]
  },
  {
   "cell_type": "markdown",
   "metadata": {
    "id": "ARQOv23AJEpi"
   },
   "source": [
    "Here's come TF-IDF"
   ]
  },
  {
   "cell_type": "markdown",
   "metadata": {
    "id": "zpv8FmqzJEpj"
   },
   "source": [
    "TF-IDF stands for Term Frequency - Inverse Document Frequency and is a *weighting* function.\n",
    "\n",
    "Why do we need it? Because not all terms are equally relevant to describe an artist. In short, we measure the term frequency, weighted by its rarity.\n",
    "\n",
    "$$\n",
    "\\text{IDF}_{\\text{term}}\n",
    "=\n",
    "\\log\n",
    "\\left(\n",
    "    \\cfrac\n",
    "    {\\text{Total Documents}}\n",
    "    {\\text{Documents With Term}}\n",
    "\\right)\n",
    "$$\n",
    "\n",
    "Thus:\n",
    "\n",
    "$$\n",
    "\\text{TF-IDF}_{\\text{term}}\n",
    "=\n",
    "\\text{TF}_{\\text{term}}\n",
    "\\cdot\n",
    "\\text{IDF}_{\\text{term}}\n",
    "$$"
   ]
  },
  {
   "cell_type": "markdown",
   "metadata": {
    "id": "L0PPQZUGt9C9"
   },
   "source": [
    "Th output from `TF-IDF` should be the same as prior vectorization method, resulting matrix with `<number of sentence x number of vocab>` with the values of tf-idf calculation"
   ]
  },
  {
   "cell_type": "markdown",
   "metadata": {
    "id": "rTdhfIQtt9C9"
   },
   "source": [
    "**First**, we create a  matrix with zeros  for representing features, with size of `<number of sentence x number of vocab>`"
   ]
  },
  {
   "cell_type": "code",
   "execution_count": 42,
   "metadata": {
    "id": "EpmBWS-ht9C9"
   },
   "outputs": [],
   "source": [
    "text_features = np.zeros(shape=(len(corpus),\n",
    "                                  len(vocab_)))"
   ]
  },
  {
   "cell_type": "code",
   "execution_count": 43,
   "metadata": {
    "colab": {
     "base_uri": "https://localhost:8080/"
    },
    "executionInfo": {
     "elapsed": 22,
     "status": "ok",
     "timestamp": 1699521134280,
     "user": {
      "displayName": "robi Fakhri",
      "userId": "10922111524175830739"
     },
     "user_tz": -420
    },
    "id": "ciphdf4vt9C-",
    "outputId": "067c7759-8d6f-4429-8bba-982b358be10e"
   },
   "outputs": [
    {
     "data": {
      "text/plain": [
       "array([[0., 0., 0., 0., 0., 0., 0., 0., 0., 0.],\n",
       "       [0., 0., 0., 0., 0., 0., 0., 0., 0., 0.],\n",
       "       [0., 0., 0., 0., 0., 0., 0., 0., 0., 0.]])"
      ]
     },
     "execution_count": 43,
     "metadata": {},
     "output_type": "execute_result"
    }
   ],
   "source": [
    "text_features"
   ]
  },
  {
   "cell_type": "markdown",
   "metadata": {
    "id": "doQl_tEJt9C-"
   },
   "source": [
    "**Second**,we calculate the **Term Frequency** a.k.a the number of each word in vocabulary appear divide by number of words in sentence, we can achieve this by looping all over vocab and sentence"
   ]
  },
  {
   "cell_type": "code",
   "execution_count": 44,
   "metadata": {
    "id": "gWVd2veyselN"
   },
   "outputs": [],
   "source": [
    "from collections import Counter"
   ]
  },
  {
   "cell_type": "code",
   "execution_count": 45,
   "metadata": {
    "id": "Uip0ayBht9C-"
   },
   "outputs": [],
   "source": [
    "word_idx = {word : idx for idx,word in enumerate(vocab_)}\n",
    "idx_word  = {idx : word for idx,word in enumerate(vocab_)}\n",
    "\n",
    "for idx_sentence,sentence in enumerate(corpus) :\n",
    "    #use this\n",
    "    word_count = Counter(sentence.lower().split(' '))\n",
    "    for word in sentence.lower().split(' ') :\n",
    "        #get the index of the word\n",
    "        if word not in word_idx.keys() :\n",
    "            continue\n",
    "        word_count_in_sentence = word_count[word]\n",
    "        word_index = word_idx[word]\n",
    "\n",
    "        #assign value\n",
    "        text_features[idx_sentence,word_index] = word_count_in_sentence / len(sentence.split(' '))"
   ]
  },
  {
   "cell_type": "markdown",
   "metadata": {
    "id": "8TqeXmE3t9C-"
   },
   "source": [
    "we will check non zero values in sentence 1"
   ]
  },
  {
   "cell_type": "code",
   "execution_count": 46,
   "metadata": {
    "id": "6H5kudb3t9C-"
   },
   "outputs": [],
   "source": [
    "location_idx = []\n",
    "for idx in range(len(text_features[0])) :\n",
    "\n",
    "    if text_features[0,int(idx)]==0 :\n",
    "        continue\n",
    "    else :\n",
    "        location_idx.append(idx)\n"
   ]
  },
  {
   "cell_type": "code",
   "execution_count": 47,
   "metadata": {
    "colab": {
     "base_uri": "https://localhost:8080/"
    },
    "executionInfo": {
     "elapsed": 31,
     "status": "ok",
     "timestamp": 1699521134806,
     "user": {
      "displayName": "robi Fakhri",
      "userId": "10922111524175830739"
     },
     "user_tz": -420
    },
    "id": "hKb8Ldnat9C-",
    "outputId": "05ecfb35-87ea-4e06-b562-a395b3929eea"
   },
   "outputs": [
    {
     "data": {
      "text/plain": [
       "array([0.5, 0.5])"
      ]
     },
     "execution_count": 47,
     "metadata": {},
     "output_type": "execute_result"
    }
   ],
   "source": [
    "sentence_1_non_zero = text_features[0,location_idx]\n",
    "sentence_1_non_zero"
   ]
  },
  {
   "cell_type": "markdown",
   "metadata": {
    "id": "iR1oT8fLt9C_"
   },
   "source": [
    "for easier comparation , we can use dataframe"
   ]
  },
  {
   "cell_type": "code",
   "execution_count": 48,
   "metadata": {
    "id": "aYgZqp9Jt9C_"
   },
   "outputs": [],
   "source": [
    "sentence_1_df = pd.DataFrame(index=[0])\n",
    "sentence_1_df['sentence'] = corpus[0]\n",
    "for idx in location_idx :\n",
    "    word = idx_word[idx]\n",
    "    sentence_1_df[word] = text_features[0,int(idx)]\n"
   ]
  },
  {
   "cell_type": "code",
   "execution_count": 49,
   "metadata": {
    "colab": {
     "base_uri": "https://localhost:8080/",
     "height": 81
    },
    "executionInfo": {
     "elapsed": 27,
     "status": "ok",
     "timestamp": 1699521134806,
     "user": {
      "displayName": "robi Fakhri",
      "userId": "10922111524175830739"
     },
     "user_tz": -420
    },
    "id": "XJuSnu2Dt9C_",
    "outputId": "c0d750b1-669b-4dea-a31b-221c3e74c78a"
   },
   "outputs": [
    {
     "data": {
      "text/html": [
       "<div>\n",
       "<style scoped>\n",
       "    .dataframe tbody tr th:only-of-type {\n",
       "        vertical-align: middle;\n",
       "    }\n",
       "\n",
       "    .dataframe tbody tr th {\n",
       "        vertical-align: top;\n",
       "    }\n",
       "\n",
       "    .dataframe thead th {\n",
       "        text-align: right;\n",
       "    }\n",
       "</style>\n",
       "<table border=\"1\" class=\"dataframe\">\n",
       "  <thead>\n",
       "    <tr style=\"text-align: right;\">\n",
       "      <th></th>\n",
       "      <th>sentence</th>\n",
       "      <th>hello</th>\n",
       "      <th>world</th>\n",
       "    </tr>\n",
       "  </thead>\n",
       "  <tbody>\n",
       "    <tr>\n",
       "      <th>0</th>\n",
       "      <td>Hello World</td>\n",
       "      <td>0.5</td>\n",
       "      <td>0.5</td>\n",
       "    </tr>\n",
       "  </tbody>\n",
       "</table>\n",
       "</div>"
      ],
      "text/plain": [
       "      sentence  hello  world\n",
       "0  Hello World    0.5    0.5"
      ]
     },
     "execution_count": 49,
     "metadata": {},
     "output_type": "execute_result"
    }
   ],
   "source": [
    "sentence_1_df"
   ]
  },
  {
   "cell_type": "markdown",
   "metadata": {
    "id": "wd-wmO5yt9C_"
   },
   "source": [
    "we can wrap this operation by creating a function to inspect non zero matrix values"
   ]
  },
  {
   "cell_type": "markdown",
   "metadata": {
    "id": "n3SxvY_It9DA"
   },
   "source": [
    "**Next**, we will calculate the (IDF)**Inverse Document Frequency**,IDF is the number of word appearance in all document / corpus / collection of text , divided number of word appear in a sentence / text."
   ]
  },
  {
   "cell_type": "markdown",
   "metadata": {
    "id": "RiB0ZU84t9DA"
   },
   "source": [
    "To calculate this we will count number of appearance of each word in document by creating dictionary"
   ]
  },
  {
   "cell_type": "markdown",
   "metadata": {
    "id": "h9CtFVjXt9DA"
   },
   "source": [
    "Now it's time to calculate number of sentence mention in all text"
   ]
  },
  {
   "cell_type": "code",
   "execution_count": 50,
   "metadata": {
    "id": "lDlurFS-t9DA"
   },
   "outputs": [],
   "source": [
    "word_mention = {}\n",
    "for sentence in corpus :\n",
    "    #loop semua values\n",
    "    for word in set(sentence.lower().split(' ')) :\n",
    "        if word not in word_mention.keys() :\n",
    "            word_mention[word] =1\n",
    "        else :\n",
    "            word_mention[word] +=1\n"
   ]
  },
  {
   "cell_type": "code",
   "execution_count": 51,
   "metadata": {
    "colab": {
     "base_uri": "https://localhost:8080/"
    },
    "executionInfo": {
     "elapsed": 27,
     "status": "ok",
     "timestamp": 1699521134807,
     "user": {
      "displayName": "robi Fakhri",
      "userId": "10922111524175830739"
     },
     "user_tz": -420
    },
    "id": "hqhYceEBt9DA",
    "outputId": "4b94f9b4-fd50-4385-bbde-8e495c98d42a"
   },
   "outputs": [
    {
     "data": {
      "text/plain": [
       "{'world': 2,\n",
       " 'hello': 1,\n",
       " 'disney': 1,\n",
       " 'to': 1,\n",
       " 'welcomee': 1,\n",
       " 'is': 1,\n",
       " 'on': 1,\n",
       " 'the': 1,\n",
       " 'delay': 1,\n",
       " 'flight': 1}"
      ]
     },
     "execution_count": 51,
     "metadata": {},
     "output_type": "execute_result"
    }
   ],
   "source": [
    "word_mention"
   ]
  },
  {
   "cell_type": "markdown",
   "metadata": {
    "id": "eZmUCBXPt9DB"
   },
   "source": [
    "Time to combine both tf and idf"
   ]
  },
  {
   "cell_type": "code",
   "execution_count": 52,
   "metadata": {
    "id": "76sErabIt9DB"
   },
   "outputs": [],
   "source": [
    "total_document = len(corpus)\n",
    "for idx_sentence,sentence in enumerate(corpus) :\n",
    "    #use this\n",
    "    word_count = Counter(sentence.lower().split(' '))\n",
    "    for word in sentence.split(' ') :\n",
    "        #get the index of the word\n",
    "        if word not in word_idx.keys() :\n",
    "            continue\n",
    "        number_word_mention  = word_mention[word]\n",
    "\n",
    "        idf = np.log(total_document / number_word_mention)\n",
    "        #previously we already counted tf, now multiply by dy\n",
    "        text_features[idx_sentence,word_index]*=idf"
   ]
  },
  {
   "cell_type": "code",
   "execution_count": 53,
   "metadata": {
    "colab": {
     "base_uri": "https://localhost:8080/"
    },
    "executionInfo": {
     "elapsed": 25,
     "status": "ok",
     "timestamp": 1699521134807,
     "user": {
      "displayName": "robi Fakhri",
      "userId": "10922111524175830739"
     },
     "user_tz": -420
    },
    "id": "5QIwhjpmtF7i",
    "outputId": "91fefdd3-b07b-4700-8009-cae185203510"
   },
   "outputs": [
    {
     "data": {
      "text/plain": [
       "array([[0.5       , 0.        , 0.        , 0.        , 0.        ,\n",
       "        0.        , 0.        , 0.        , 0.5       , 0.        ],\n",
       "       [0.        , 0.25      , 0.        , 0.        , 0.        ,\n",
       "        0.25      , 0.25      , 0.        , 0.25      , 0.        ],\n",
       "       [0.        , 0.        , 0.2       , 0.2       , 0.2       ,\n",
       "        0.        , 0.        , 0.2       , 0.        , 0.29134516]])"
      ]
     },
     "execution_count": 53,
     "metadata": {},
     "output_type": "execute_result"
    }
   ],
   "source": [
    "text_features"
   ]
  },
  {
   "cell_type": "code",
   "execution_count": 54,
   "metadata": {
    "colab": {
     "base_uri": "https://localhost:8080/",
     "height": 143
    },
    "executionInfo": {
     "elapsed": 23,
     "status": "ok",
     "timestamp": 1699521134807,
     "user": {
      "displayName": "robi Fakhri",
      "userId": "10922111524175830739"
     },
     "user_tz": -420
    },
    "id": "lC9fvvyatIYi",
    "outputId": "293624a7-4930-4db5-97c5-0ff8778830f8"
   },
   "outputs": [
    {
     "data": {
      "text/html": [
       "<div>\n",
       "<style scoped>\n",
       "    .dataframe tbody tr th:only-of-type {\n",
       "        vertical-align: middle;\n",
       "    }\n",
       "\n",
       "    .dataframe tbody tr th {\n",
       "        vertical-align: top;\n",
       "    }\n",
       "\n",
       "    .dataframe thead th {\n",
       "        text-align: right;\n",
       "    }\n",
       "</style>\n",
       "<table border=\"1\" class=\"dataframe\">\n",
       "  <thead>\n",
       "    <tr style=\"text-align: right;\">\n",
       "      <th></th>\n",
       "      <th>hello</th>\n",
       "      <th>to</th>\n",
       "      <th>is</th>\n",
       "      <th>on</th>\n",
       "      <th>the</th>\n",
       "      <th>disney</th>\n",
       "      <th>welcomee</th>\n",
       "      <th>flight</th>\n",
       "      <th>world</th>\n",
       "      <th>delay</th>\n",
       "    </tr>\n",
       "  </thead>\n",
       "  <tbody>\n",
       "    <tr>\n",
       "      <th>Hello World</th>\n",
       "      <td>0.5</td>\n",
       "      <td>0.00</td>\n",
       "      <td>0.0</td>\n",
       "      <td>0.0</td>\n",
       "      <td>0.0</td>\n",
       "      <td>0.00</td>\n",
       "      <td>0.00</td>\n",
       "      <td>0.0</td>\n",
       "      <td>0.50</td>\n",
       "      <td>0.000000</td>\n",
       "    </tr>\n",
       "    <tr>\n",
       "      <th>Welcomee to Disney World</th>\n",
       "      <td>0.0</td>\n",
       "      <td>0.25</td>\n",
       "      <td>0.0</td>\n",
       "      <td>0.0</td>\n",
       "      <td>0.0</td>\n",
       "      <td>0.25</td>\n",
       "      <td>0.25</td>\n",
       "      <td>0.0</td>\n",
       "      <td>0.25</td>\n",
       "      <td>0.000000</td>\n",
       "    </tr>\n",
       "    <tr>\n",
       "      <th>The flight is on delay</th>\n",
       "      <td>0.0</td>\n",
       "      <td>0.00</td>\n",
       "      <td>0.2</td>\n",
       "      <td>0.2</td>\n",
       "      <td>0.2</td>\n",
       "      <td>0.00</td>\n",
       "      <td>0.00</td>\n",
       "      <td>0.2</td>\n",
       "      <td>0.00</td>\n",
       "      <td>0.291345</td>\n",
       "    </tr>\n",
       "  </tbody>\n",
       "</table>\n",
       "</div>"
      ],
      "text/plain": [
       "                          hello    to   is   on  the  disney  welcomee  \\\n",
       "Hello World                 0.5  0.00  0.0  0.0  0.0    0.00      0.00   \n",
       "Welcomee to Disney World    0.0  0.25  0.0  0.0  0.0    0.25      0.25   \n",
       "The flight is on delay      0.0  0.00  0.2  0.2  0.2    0.00      0.00   \n",
       "\n",
       "                          flight  world     delay  \n",
       "Hello World                  0.0   0.50  0.000000  \n",
       "Welcomee to Disney World     0.0   0.25  0.000000  \n",
       "The flight is on delay       0.2   0.00  0.291345  "
      ]
     },
     "execution_count": 54,
     "metadata": {},
     "output_type": "execute_result"
    }
   ],
   "source": [
    "tfidf_vector = pd.DataFrame(text_features)\n",
    "tfidf_vector.columns = list(word_idx.keys())\n",
    "tfidf_vector.index = corpus\n",
    "tfidf_vector"
   ]
  },
  {
   "cell_type": "markdown",
   "metadata": {
    "id": "m6PX9930t9DB"
   },
   "source": [
    "Now its time to wrap into a function"
   ]
  },
  {
   "cell_type": "code",
   "execution_count": 55,
   "metadata": {
    "id": "7082Bsfit9DC"
   },
   "outputs": [],
   "source": [
    "class TFIDFVectorizer :\n",
    "    \"\"\"\n",
    "        Class to create TF-IDF vectorizer\n",
    "    \"\"\"\n",
    "    def generate_vocabulary(self) :\n",
    "        self.vocabulary = set()\n",
    "        for sentence in self.corpus:\n",
    "            #perform tokenization , by splitting by space\n",
    "            word_split = sentence.lower().split(' ')\n",
    "            #append word\n",
    "            for word in word_split :\n",
    "                self.vocabulary.add(word)\n",
    "    def generate_number_word_mention(self) :\n",
    "        self.word_mention = {}\n",
    "        for sentence in self.corpus :\n",
    "            #loop semua values\n",
    "            for word in set(sentence.lower().split(' ')) :\n",
    "                if word not in self.word_mention.keys() :\n",
    "                    self.word_mention[word] =1\n",
    "                else :\n",
    "                    self.word_mention[word] +=1\n",
    "\n",
    "    def fit(self,corpus) :\n",
    "        \"\"\"\n",
    "        Function to create vocabulary and saving corpus\n",
    "\n",
    "        Parameters :\n",
    "        ----------\n",
    "\n",
    "        corpus : list / iterables\n",
    "            contain collection of text\n",
    "\n",
    "        Returns  :\n",
    "        ----------\n",
    "\n",
    "        \"\"\"\n",
    "        self.corpus = corpus\n",
    "        self.generate_vocabulary()\n",
    "        self.generate_number_word_mention()\n",
    "        self.word_idx = {word : idx for idx,word in enumerate(self.vocabulary)}\n",
    "        self.idx_word  = {idx : word for idx,word in enumerate(self.vocabulary)}\n",
    "#         self.sentence_idx = {sentence:idx for idx,sentence in enumerate(self.corpus)}\n",
    "#         self.idx_sentence = {idx:sentence for idx,sentence in enumerate(self.corpus)}\n",
    "\n",
    "    def get_vocab(self) :\n",
    "        return self.vocabulary\n",
    "\n",
    "    def get_mapping(self) :\n",
    "        return self.word_idx,self.idx_word\n",
    "\n",
    "\n",
    "    def transform(self,text) :\n",
    "        \"\"\"\n",
    "        Function to convert text into vector by assigning word that are present as 1\n",
    "\n",
    "        Parameters :\n",
    "        ----------\n",
    "\n",
    "        text : list\n",
    "            list contain texts\n",
    "\n",
    "        Returns  :\n",
    "        ----------\n",
    "        text_features : numpy.array\n",
    "                   array of features from vocabulary\n",
    "        \"\"\"\n",
    "        text_features = np.zeros(shape=(len(text),len(self.vocabulary)))\n",
    "        for idx_sentence,sentence in enumerate(text) :\n",
    "            word_count = Counter(sentence.lower().split(' '))\n",
    "            for word in sentence.lower().split(' ') :\n",
    "                #get the index of the word\n",
    "                if word not in self.word_idx.keys() :\n",
    "                    continue\n",
    "                word_count_in_sentence = word_count[word]\n",
    "                word_index = word_idx[word]\n",
    "\n",
    "                #calculate tf\n",
    "                tf = word_count_in_sentence / len(sentence.lower().split(' '))\n",
    "\n",
    "                #calculate idf\n",
    "                number_word_mention  = self.word_mention[word]\n",
    "                idf = np.log(len(text) / number_word_mention)\n",
    "\n",
    "                #calculate tfxidf\n",
    "                text_features[idx_sentence,word_index] = tf*idf\n",
    "        return text_features\n",
    "\n"
   ]
  },
  {
   "cell_type": "code",
   "execution_count": 56,
   "metadata": {
    "id": "lupVIue2t9DC"
   },
   "outputs": [],
   "source": [
    "tfidf_vectorizer = TFIDFVectorizer()"
   ]
  },
  {
   "cell_type": "code",
   "execution_count": 57,
   "metadata": {
    "id": "M_iGIEest9DC"
   },
   "outputs": [],
   "source": [
    "\n",
    "tfidf_vectorizer.fit(corpus)\n",
    "text_features_tfidf = tfidf_vectorizer.transform(corpus)"
   ]
  },
  {
   "cell_type": "code",
   "execution_count": 58,
   "metadata": {
    "id": "3k4cea1Jwjnv"
   },
   "outputs": [],
   "source": [
    "tfidf_df = pd.DataFrame(text_features_tfidf)\n",
    "tfidf_df.columns = list(tfidf_vectorizer.get_mapping()[0])\n",
    "tfidf_df.index = corpus"
   ]
  },
  {
   "cell_type": "code",
   "execution_count": 59,
   "metadata": {
    "colab": {
     "base_uri": "https://localhost:8080/",
     "height": 143
    },
    "executionInfo": {
     "elapsed": 371,
     "status": "ok",
     "timestamp": 1699521135157,
     "user": {
      "displayName": "robi Fakhri",
      "userId": "10922111524175830739"
     },
     "user_tz": -420
    },
    "id": "Hc5Jg0SlvNNQ",
    "outputId": "1b7b1e1f-55a6-4131-96ed-e3ef923dc104"
   },
   "outputs": [
    {
     "data": {
      "text/html": [
       "<div>\n",
       "<style scoped>\n",
       "    .dataframe tbody tr th:only-of-type {\n",
       "        vertical-align: middle;\n",
       "    }\n",
       "\n",
       "    .dataframe tbody tr th {\n",
       "        vertical-align: top;\n",
       "    }\n",
       "\n",
       "    .dataframe thead th {\n",
       "        text-align: right;\n",
       "    }\n",
       "</style>\n",
       "<table border=\"1\" class=\"dataframe\">\n",
       "  <thead>\n",
       "    <tr style=\"text-align: right;\">\n",
       "      <th></th>\n",
       "      <th>hello</th>\n",
       "      <th>to</th>\n",
       "      <th>is</th>\n",
       "      <th>on</th>\n",
       "      <th>the</th>\n",
       "      <th>disney</th>\n",
       "      <th>welcomee</th>\n",
       "      <th>flight</th>\n",
       "      <th>world</th>\n",
       "      <th>delay</th>\n",
       "    </tr>\n",
       "  </thead>\n",
       "  <tbody>\n",
       "    <tr>\n",
       "      <th>Hello World</th>\n",
       "      <td>0.549306</td>\n",
       "      <td>0.000000</td>\n",
       "      <td>0.000000</td>\n",
       "      <td>0.000000</td>\n",
       "      <td>0.000000</td>\n",
       "      <td>0.000000</td>\n",
       "      <td>0.000000</td>\n",
       "      <td>0.000000</td>\n",
       "      <td>0.202733</td>\n",
       "      <td>0.000000</td>\n",
       "    </tr>\n",
       "    <tr>\n",
       "      <th>Welcomee to Disney World</th>\n",
       "      <td>0.000000</td>\n",
       "      <td>0.274653</td>\n",
       "      <td>0.000000</td>\n",
       "      <td>0.000000</td>\n",
       "      <td>0.000000</td>\n",
       "      <td>0.274653</td>\n",
       "      <td>0.274653</td>\n",
       "      <td>0.000000</td>\n",
       "      <td>0.101366</td>\n",
       "      <td>0.000000</td>\n",
       "    </tr>\n",
       "    <tr>\n",
       "      <th>The flight is on delay</th>\n",
       "      <td>0.000000</td>\n",
       "      <td>0.000000</td>\n",
       "      <td>0.219722</td>\n",
       "      <td>0.219722</td>\n",
       "      <td>0.219722</td>\n",
       "      <td>0.000000</td>\n",
       "      <td>0.000000</td>\n",
       "      <td>0.219722</td>\n",
       "      <td>0.000000</td>\n",
       "      <td>0.219722</td>\n",
       "    </tr>\n",
       "  </tbody>\n",
       "</table>\n",
       "</div>"
      ],
      "text/plain": [
       "                             hello        to        is        on       the  \\\n",
       "Hello World               0.549306  0.000000  0.000000  0.000000  0.000000   \n",
       "Welcomee to Disney World  0.000000  0.274653  0.000000  0.000000  0.000000   \n",
       "The flight is on delay    0.000000  0.000000  0.219722  0.219722  0.219722   \n",
       "\n",
       "                            disney  welcomee    flight     world     delay  \n",
       "Hello World               0.000000  0.000000  0.000000  0.202733  0.000000  \n",
       "Welcomee to Disney World  0.274653  0.274653  0.000000  0.101366  0.000000  \n",
       "The flight is on delay    0.000000  0.000000  0.219722  0.000000  0.219722  "
      ]
     },
     "execution_count": 59,
     "metadata": {},
     "output_type": "execute_result"
    }
   ],
   "source": [
    "tfidf_df"
   ]
  },
  {
   "cell_type": "markdown",
   "metadata": {
    "id": "9RZ7P5Sn0TMX"
   },
   "source": [
    "### Notes"
   ]
  },
  {
   "cell_type": "markdown",
   "metadata": {
    "id": "FGOc7clR0VY5"
   },
   "source": [
    "From 3 approaches mentioned above, still based on word / token frequency and may be not really represent the contextual meaning from its word, also if the word / token not exists we can't really have the numerical representation or vector"
   ]
  },
  {
   "cell_type": "markdown",
   "metadata": {
    "id": "Q1UWLtjDvVAz"
   },
   "source": [
    "### Experiment\n",
    "\n",
    "In this phase we will experiment to compare several text vectorization technique\n",
    "\n"
   ]
  },
  {
   "cell_type": "markdown",
   "metadata": {
    "id": "BcNNCDKv83fS"
   },
   "source": [
    "## Vectorizing Text\n",
    "---"
   ]
  },
  {
   "cell_type": "markdown",
   "metadata": {
    "id": "2M7fQ7OSfR3C"
   },
   "source": [
    "### TF-IDF Vectorizer"
   ]
  },
  {
   "cell_type": "code",
   "execution_count": 60,
   "metadata": {
    "colab": {
     "base_uri": "https://localhost:8080/",
     "height": 74
    },
    "executionInfo": {
     "elapsed": 35,
     "status": "ok",
     "timestamp": 1699521135157,
     "user": {
      "displayName": "robi Fakhri",
      "userId": "10922111524175830739"
     },
     "user_tz": -420
    },
    "id": "vfY1XSvip_3i",
    "outputId": "5876143a-e539-432b-96e2-b242a37a1720"
   },
   "outputs": [
    {
     "data": {
      "text/html": [
       "<style>#sk-container-id-1 {\n",
       "  /* Definition of color scheme common for light and dark mode */\n",
       "  --sklearn-color-text: #000;\n",
       "  --sklearn-color-text-muted: #666;\n",
       "  --sklearn-color-line: gray;\n",
       "  /* Definition of color scheme for unfitted estimators */\n",
       "  --sklearn-color-unfitted-level-0: #fff5e6;\n",
       "  --sklearn-color-unfitted-level-1: #f6e4d2;\n",
       "  --sklearn-color-unfitted-level-2: #ffe0b3;\n",
       "  --sklearn-color-unfitted-level-3: chocolate;\n",
       "  /* Definition of color scheme for fitted estimators */\n",
       "  --sklearn-color-fitted-level-0: #f0f8ff;\n",
       "  --sklearn-color-fitted-level-1: #d4ebff;\n",
       "  --sklearn-color-fitted-level-2: #b3dbfd;\n",
       "  --sklearn-color-fitted-level-3: cornflowerblue;\n",
       "\n",
       "  /* Specific color for light theme */\n",
       "  --sklearn-color-text-on-default-background: var(--sg-text-color, var(--theme-code-foreground, var(--jp-content-font-color1, black)));\n",
       "  --sklearn-color-background: var(--sg-background-color, var(--theme-background, var(--jp-layout-color0, white)));\n",
       "  --sklearn-color-border-box: var(--sg-text-color, var(--theme-code-foreground, var(--jp-content-font-color1, black)));\n",
       "  --sklearn-color-icon: #696969;\n",
       "\n",
       "  @media (prefers-color-scheme: dark) {\n",
       "    /* Redefinition of color scheme for dark theme */\n",
       "    --sklearn-color-text-on-default-background: var(--sg-text-color, var(--theme-code-foreground, var(--jp-content-font-color1, white)));\n",
       "    --sklearn-color-background: var(--sg-background-color, var(--theme-background, var(--jp-layout-color0, #111)));\n",
       "    --sklearn-color-border-box: var(--sg-text-color, var(--theme-code-foreground, var(--jp-content-font-color1, white)));\n",
       "    --sklearn-color-icon: #878787;\n",
       "  }\n",
       "}\n",
       "\n",
       "#sk-container-id-1 {\n",
       "  color: var(--sklearn-color-text);\n",
       "}\n",
       "\n",
       "#sk-container-id-1 pre {\n",
       "  padding: 0;\n",
       "}\n",
       "\n",
       "#sk-container-id-1 input.sk-hidden--visually {\n",
       "  border: 0;\n",
       "  clip: rect(1px 1px 1px 1px);\n",
       "  clip: rect(1px, 1px, 1px, 1px);\n",
       "  height: 1px;\n",
       "  margin: -1px;\n",
       "  overflow: hidden;\n",
       "  padding: 0;\n",
       "  position: absolute;\n",
       "  width: 1px;\n",
       "}\n",
       "\n",
       "#sk-container-id-1 div.sk-dashed-wrapped {\n",
       "  border: 1px dashed var(--sklearn-color-line);\n",
       "  margin: 0 0.4em 0.5em 0.4em;\n",
       "  box-sizing: border-box;\n",
       "  padding-bottom: 0.4em;\n",
       "  background-color: var(--sklearn-color-background);\n",
       "}\n",
       "\n",
       "#sk-container-id-1 div.sk-container {\n",
       "  /* jupyter's `normalize.less` sets `[hidden] { display: none; }`\n",
       "     but bootstrap.min.css set `[hidden] { display: none !important; }`\n",
       "     so we also need the `!important` here to be able to override the\n",
       "     default hidden behavior on the sphinx rendered scikit-learn.org.\n",
       "     See: https://github.com/scikit-learn/scikit-learn/issues/21755 */\n",
       "  display: inline-block !important;\n",
       "  position: relative;\n",
       "}\n",
       "\n",
       "#sk-container-id-1 div.sk-text-repr-fallback {\n",
       "  display: none;\n",
       "}\n",
       "\n",
       "div.sk-parallel-item,\n",
       "div.sk-serial,\n",
       "div.sk-item {\n",
       "  /* draw centered vertical line to link estimators */\n",
       "  background-image: linear-gradient(var(--sklearn-color-text-on-default-background), var(--sklearn-color-text-on-default-background));\n",
       "  background-size: 2px 100%;\n",
       "  background-repeat: no-repeat;\n",
       "  background-position: center center;\n",
       "}\n",
       "\n",
       "/* Parallel-specific style estimator block */\n",
       "\n",
       "#sk-container-id-1 div.sk-parallel-item::after {\n",
       "  content: \"\";\n",
       "  width: 100%;\n",
       "  border-bottom: 2px solid var(--sklearn-color-text-on-default-background);\n",
       "  flex-grow: 1;\n",
       "}\n",
       "\n",
       "#sk-container-id-1 div.sk-parallel {\n",
       "  display: flex;\n",
       "  align-items: stretch;\n",
       "  justify-content: center;\n",
       "  background-color: var(--sklearn-color-background);\n",
       "  position: relative;\n",
       "}\n",
       "\n",
       "#sk-container-id-1 div.sk-parallel-item {\n",
       "  display: flex;\n",
       "  flex-direction: column;\n",
       "}\n",
       "\n",
       "#sk-container-id-1 div.sk-parallel-item:first-child::after {\n",
       "  align-self: flex-end;\n",
       "  width: 50%;\n",
       "}\n",
       "\n",
       "#sk-container-id-1 div.sk-parallel-item:last-child::after {\n",
       "  align-self: flex-start;\n",
       "  width: 50%;\n",
       "}\n",
       "\n",
       "#sk-container-id-1 div.sk-parallel-item:only-child::after {\n",
       "  width: 0;\n",
       "}\n",
       "\n",
       "/* Serial-specific style estimator block */\n",
       "\n",
       "#sk-container-id-1 div.sk-serial {\n",
       "  display: flex;\n",
       "  flex-direction: column;\n",
       "  align-items: center;\n",
       "  background-color: var(--sklearn-color-background);\n",
       "  padding-right: 1em;\n",
       "  padding-left: 1em;\n",
       "}\n",
       "\n",
       "\n",
       "/* Toggleable style: style used for estimator/Pipeline/ColumnTransformer box that is\n",
       "clickable and can be expanded/collapsed.\n",
       "- Pipeline and ColumnTransformer use this feature and define the default style\n",
       "- Estimators will overwrite some part of the style using the `sk-estimator` class\n",
       "*/\n",
       "\n",
       "/* Pipeline and ColumnTransformer style (default) */\n",
       "\n",
       "#sk-container-id-1 div.sk-toggleable {\n",
       "  /* Default theme specific background. It is overwritten whether we have a\n",
       "  specific estimator or a Pipeline/ColumnTransformer */\n",
       "  background-color: var(--sklearn-color-background);\n",
       "}\n",
       "\n",
       "/* Toggleable label */\n",
       "#sk-container-id-1 label.sk-toggleable__label {\n",
       "  cursor: pointer;\n",
       "  display: flex;\n",
       "  width: 100%;\n",
       "  margin-bottom: 0;\n",
       "  padding: 0.5em;\n",
       "  box-sizing: border-box;\n",
       "  text-align: center;\n",
       "  align-items: start;\n",
       "  justify-content: space-between;\n",
       "  gap: 0.5em;\n",
       "}\n",
       "\n",
       "#sk-container-id-1 label.sk-toggleable__label .caption {\n",
       "  font-size: 0.6rem;\n",
       "  font-weight: lighter;\n",
       "  color: var(--sklearn-color-text-muted);\n",
       "}\n",
       "\n",
       "#sk-container-id-1 label.sk-toggleable__label-arrow:before {\n",
       "  /* Arrow on the left of the label */\n",
       "  content: \"▸\";\n",
       "  float: left;\n",
       "  margin-right: 0.25em;\n",
       "  color: var(--sklearn-color-icon);\n",
       "}\n",
       "\n",
       "#sk-container-id-1 label.sk-toggleable__label-arrow:hover:before {\n",
       "  color: var(--sklearn-color-text);\n",
       "}\n",
       "\n",
       "/* Toggleable content - dropdown */\n",
       "\n",
       "#sk-container-id-1 div.sk-toggleable__content {\n",
       "  max-height: 0;\n",
       "  max-width: 0;\n",
       "  overflow: hidden;\n",
       "  text-align: left;\n",
       "  /* unfitted */\n",
       "  background-color: var(--sklearn-color-unfitted-level-0);\n",
       "}\n",
       "\n",
       "#sk-container-id-1 div.sk-toggleable__content.fitted {\n",
       "  /* fitted */\n",
       "  background-color: var(--sklearn-color-fitted-level-0);\n",
       "}\n",
       "\n",
       "#sk-container-id-1 div.sk-toggleable__content pre {\n",
       "  margin: 0.2em;\n",
       "  border-radius: 0.25em;\n",
       "  color: var(--sklearn-color-text);\n",
       "  /* unfitted */\n",
       "  background-color: var(--sklearn-color-unfitted-level-0);\n",
       "}\n",
       "\n",
       "#sk-container-id-1 div.sk-toggleable__content.fitted pre {\n",
       "  /* unfitted */\n",
       "  background-color: var(--sklearn-color-fitted-level-0);\n",
       "}\n",
       "\n",
       "#sk-container-id-1 input.sk-toggleable__control:checked~div.sk-toggleable__content {\n",
       "  /* Expand drop-down */\n",
       "  max-height: 200px;\n",
       "  max-width: 100%;\n",
       "  overflow: auto;\n",
       "}\n",
       "\n",
       "#sk-container-id-1 input.sk-toggleable__control:checked~label.sk-toggleable__label-arrow:before {\n",
       "  content: \"▾\";\n",
       "}\n",
       "\n",
       "/* Pipeline/ColumnTransformer-specific style */\n",
       "\n",
       "#sk-container-id-1 div.sk-label input.sk-toggleable__control:checked~label.sk-toggleable__label {\n",
       "  color: var(--sklearn-color-text);\n",
       "  background-color: var(--sklearn-color-unfitted-level-2);\n",
       "}\n",
       "\n",
       "#sk-container-id-1 div.sk-label.fitted input.sk-toggleable__control:checked~label.sk-toggleable__label {\n",
       "  background-color: var(--sklearn-color-fitted-level-2);\n",
       "}\n",
       "\n",
       "/* Estimator-specific style */\n",
       "\n",
       "/* Colorize estimator box */\n",
       "#sk-container-id-1 div.sk-estimator input.sk-toggleable__control:checked~label.sk-toggleable__label {\n",
       "  /* unfitted */\n",
       "  background-color: var(--sklearn-color-unfitted-level-2);\n",
       "}\n",
       "\n",
       "#sk-container-id-1 div.sk-estimator.fitted input.sk-toggleable__control:checked~label.sk-toggleable__label {\n",
       "  /* fitted */\n",
       "  background-color: var(--sklearn-color-fitted-level-2);\n",
       "}\n",
       "\n",
       "#sk-container-id-1 div.sk-label label.sk-toggleable__label,\n",
       "#sk-container-id-1 div.sk-label label {\n",
       "  /* The background is the default theme color */\n",
       "  color: var(--sklearn-color-text-on-default-background);\n",
       "}\n",
       "\n",
       "/* On hover, darken the color of the background */\n",
       "#sk-container-id-1 div.sk-label:hover label.sk-toggleable__label {\n",
       "  color: var(--sklearn-color-text);\n",
       "  background-color: var(--sklearn-color-unfitted-level-2);\n",
       "}\n",
       "\n",
       "/* Label box, darken color on hover, fitted */\n",
       "#sk-container-id-1 div.sk-label.fitted:hover label.sk-toggleable__label.fitted {\n",
       "  color: var(--sklearn-color-text);\n",
       "  background-color: var(--sklearn-color-fitted-level-2);\n",
       "}\n",
       "\n",
       "/* Estimator label */\n",
       "\n",
       "#sk-container-id-1 div.sk-label label {\n",
       "  font-family: monospace;\n",
       "  font-weight: bold;\n",
       "  display: inline-block;\n",
       "  line-height: 1.2em;\n",
       "}\n",
       "\n",
       "#sk-container-id-1 div.sk-label-container {\n",
       "  text-align: center;\n",
       "}\n",
       "\n",
       "/* Estimator-specific */\n",
       "#sk-container-id-1 div.sk-estimator {\n",
       "  font-family: monospace;\n",
       "  border: 1px dotted var(--sklearn-color-border-box);\n",
       "  border-radius: 0.25em;\n",
       "  box-sizing: border-box;\n",
       "  margin-bottom: 0.5em;\n",
       "  /* unfitted */\n",
       "  background-color: var(--sklearn-color-unfitted-level-0);\n",
       "}\n",
       "\n",
       "#sk-container-id-1 div.sk-estimator.fitted {\n",
       "  /* fitted */\n",
       "  background-color: var(--sklearn-color-fitted-level-0);\n",
       "}\n",
       "\n",
       "/* on hover */\n",
       "#sk-container-id-1 div.sk-estimator:hover {\n",
       "  /* unfitted */\n",
       "  background-color: var(--sklearn-color-unfitted-level-2);\n",
       "}\n",
       "\n",
       "#sk-container-id-1 div.sk-estimator.fitted:hover {\n",
       "  /* fitted */\n",
       "  background-color: var(--sklearn-color-fitted-level-2);\n",
       "}\n",
       "\n",
       "/* Specification for estimator info (e.g. \"i\" and \"?\") */\n",
       "\n",
       "/* Common style for \"i\" and \"?\" */\n",
       "\n",
       ".sk-estimator-doc-link,\n",
       "a:link.sk-estimator-doc-link,\n",
       "a:visited.sk-estimator-doc-link {\n",
       "  float: right;\n",
       "  font-size: smaller;\n",
       "  line-height: 1em;\n",
       "  font-family: monospace;\n",
       "  background-color: var(--sklearn-color-background);\n",
       "  border-radius: 1em;\n",
       "  height: 1em;\n",
       "  width: 1em;\n",
       "  text-decoration: none !important;\n",
       "  margin-left: 0.5em;\n",
       "  text-align: center;\n",
       "  /* unfitted */\n",
       "  border: var(--sklearn-color-unfitted-level-1) 1pt solid;\n",
       "  color: var(--sklearn-color-unfitted-level-1);\n",
       "}\n",
       "\n",
       ".sk-estimator-doc-link.fitted,\n",
       "a:link.sk-estimator-doc-link.fitted,\n",
       "a:visited.sk-estimator-doc-link.fitted {\n",
       "  /* fitted */\n",
       "  border: var(--sklearn-color-fitted-level-1) 1pt solid;\n",
       "  color: var(--sklearn-color-fitted-level-1);\n",
       "}\n",
       "\n",
       "/* On hover */\n",
       "div.sk-estimator:hover .sk-estimator-doc-link:hover,\n",
       ".sk-estimator-doc-link:hover,\n",
       "div.sk-label-container:hover .sk-estimator-doc-link:hover,\n",
       ".sk-estimator-doc-link:hover {\n",
       "  /* unfitted */\n",
       "  background-color: var(--sklearn-color-unfitted-level-3);\n",
       "  color: var(--sklearn-color-background);\n",
       "  text-decoration: none;\n",
       "}\n",
       "\n",
       "div.sk-estimator.fitted:hover .sk-estimator-doc-link.fitted:hover,\n",
       ".sk-estimator-doc-link.fitted:hover,\n",
       "div.sk-label-container:hover .sk-estimator-doc-link.fitted:hover,\n",
       ".sk-estimator-doc-link.fitted:hover {\n",
       "  /* fitted */\n",
       "  background-color: var(--sklearn-color-fitted-level-3);\n",
       "  color: var(--sklearn-color-background);\n",
       "  text-decoration: none;\n",
       "}\n",
       "\n",
       "/* Span, style for the box shown on hovering the info icon */\n",
       ".sk-estimator-doc-link span {\n",
       "  display: none;\n",
       "  z-index: 9999;\n",
       "  position: relative;\n",
       "  font-weight: normal;\n",
       "  right: .2ex;\n",
       "  padding: .5ex;\n",
       "  margin: .5ex;\n",
       "  width: min-content;\n",
       "  min-width: 20ex;\n",
       "  max-width: 50ex;\n",
       "  color: var(--sklearn-color-text);\n",
       "  box-shadow: 2pt 2pt 4pt #999;\n",
       "  /* unfitted */\n",
       "  background: var(--sklearn-color-unfitted-level-0);\n",
       "  border: .5pt solid var(--sklearn-color-unfitted-level-3);\n",
       "}\n",
       "\n",
       ".sk-estimator-doc-link.fitted span {\n",
       "  /* fitted */\n",
       "  background: var(--sklearn-color-fitted-level-0);\n",
       "  border: var(--sklearn-color-fitted-level-3);\n",
       "}\n",
       "\n",
       ".sk-estimator-doc-link:hover span {\n",
       "  display: block;\n",
       "}\n",
       "\n",
       "/* \"?\"-specific style due to the `<a>` HTML tag */\n",
       "\n",
       "#sk-container-id-1 a.estimator_doc_link {\n",
       "  float: right;\n",
       "  font-size: 1rem;\n",
       "  line-height: 1em;\n",
       "  font-family: monospace;\n",
       "  background-color: var(--sklearn-color-background);\n",
       "  border-radius: 1rem;\n",
       "  height: 1rem;\n",
       "  width: 1rem;\n",
       "  text-decoration: none;\n",
       "  /* unfitted */\n",
       "  color: var(--sklearn-color-unfitted-level-1);\n",
       "  border: var(--sklearn-color-unfitted-level-1) 1pt solid;\n",
       "}\n",
       "\n",
       "#sk-container-id-1 a.estimator_doc_link.fitted {\n",
       "  /* fitted */\n",
       "  border: var(--sklearn-color-fitted-level-1) 1pt solid;\n",
       "  color: var(--sklearn-color-fitted-level-1);\n",
       "}\n",
       "\n",
       "/* On hover */\n",
       "#sk-container-id-1 a.estimator_doc_link:hover {\n",
       "  /* unfitted */\n",
       "  background-color: var(--sklearn-color-unfitted-level-3);\n",
       "  color: var(--sklearn-color-background);\n",
       "  text-decoration: none;\n",
       "}\n",
       "\n",
       "#sk-container-id-1 a.estimator_doc_link.fitted:hover {\n",
       "  /* fitted */\n",
       "  background-color: var(--sklearn-color-fitted-level-3);\n",
       "}\n",
       "</style><div id=\"sk-container-id-1\" class=\"sk-top-container\"><div class=\"sk-text-repr-fallback\"><pre>TfidfVectorizer()</pre><b>In a Jupyter environment, please rerun this cell to show the HTML representation or trust the notebook. <br />On GitHub, the HTML representation is unable to render, please try loading this page with nbviewer.org.</b></div><div class=\"sk-container\" hidden><div class=\"sk-item\"><div class=\"sk-estimator fitted sk-toggleable\"><input class=\"sk-toggleable__control sk-hidden--visually\" id=\"sk-estimator-id-1\" type=\"checkbox\" checked><label for=\"sk-estimator-id-1\" class=\"sk-toggleable__label fitted sk-toggleable__label-arrow\"><div><div>TfidfVectorizer</div></div><div><a class=\"sk-estimator-doc-link fitted\" rel=\"noreferrer\" target=\"_blank\" href=\"https://scikit-learn.org/1.6/modules/generated/sklearn.feature_extraction.text.TfidfVectorizer.html\">?<span>Documentation for TfidfVectorizer</span></a><span class=\"sk-estimator-doc-link fitted\">i<span>Fitted</span></span></div></label><div class=\"sk-toggleable__content fitted\"><pre>TfidfVectorizer()</pre></div> </div></div></div></div>"
      ],
      "text/plain": [
       "TfidfVectorizer()"
      ]
     },
     "execution_count": 60,
     "metadata": {},
     "output_type": "execute_result"
    }
   ],
   "source": [
    "from sklearn.feature_extraction.text import TfidfVectorizer\n",
    "\n",
    "tfidf = TfidfVectorizer()\n",
    "\n",
    "tfidf.fit(X_train_processed['Text'])"
   ]
  },
  {
   "cell_type": "code",
   "execution_count": 61,
   "metadata": {
    "colab": {
     "base_uri": "https://localhost:8080/"
    },
    "executionInfo": {
     "elapsed": 34,
     "status": "ok",
     "timestamp": 1699521135157,
     "user": {
      "displayName": "robi Fakhri",
      "userId": "10922111524175830739"
     },
     "user_tz": -420
    },
    "id": "QsyS4oqmqhh3",
    "outputId": "0f970d5a-798a-4db2-cfdc-4d113abd7dbc"
   },
   "outputs": [
    {
     "data": {
      "text/plain": [
       "<Compressed Sparse Row sparse matrix of dtype 'float64'\n",
       "\twith 19086 stored elements and shape (750, 3969)>"
      ]
     },
     "execution_count": 61,
     "metadata": {},
     "output_type": "execute_result"
    }
   ],
   "source": [
    "X_train_tfidf = tfidf.transform(X_train_processed['Text'])\n",
    "X_train_tfidf"
   ]
  },
  {
   "cell_type": "code",
   "execution_count": 62,
   "metadata": {
    "colab": {
     "base_uri": "https://localhost:8080/"
    },
    "executionInfo": {
     "elapsed": 30,
     "status": "ok",
     "timestamp": 1699521135157,
     "user": {
      "displayName": "robi Fakhri",
      "userId": "10922111524175830739"
     },
     "user_tz": -420
    },
    "id": "CmsSIy5uiA4W",
    "outputId": "cb19aace-16b4-4717-f9d9-ffd0b51f96a1"
   },
   "outputs": [
    {
     "data": {
      "text/plain": [
       "<Compressed Sparse Row sparse matrix of dtype 'float64'\n",
       "\twith 5520 stored elements and shape (250, 3969)>"
      ]
     },
     "execution_count": 62,
     "metadata": {},
     "output_type": "execute_result"
    }
   ],
   "source": [
    "X_test_tfidf = tfidf.transform(X_test_processed['Text'])\n",
    "X_test_tfidf"
   ]
  },
  {
   "cell_type": "markdown",
   "metadata": {
    "id": "IX4Abv2diIp7"
   },
   "source": [
    "### Bag of Words / Count Vectorizer"
   ]
  },
  {
   "cell_type": "code",
   "execution_count": 63,
   "metadata": {
    "colab": {
     "base_uri": "https://localhost:8080/",
     "height": 74
    },
    "executionInfo": {
     "elapsed": 28,
     "status": "ok",
     "timestamp": 1699521135157,
     "user": {
      "displayName": "robi Fakhri",
      "userId": "10922111524175830739"
     },
     "user_tz": -420
    },
    "id": "pO1bdqiciOZt",
    "outputId": "a3709c4c-c556-4878-bd51-a7df4022590b"
   },
   "outputs": [
    {
     "data": {
      "text/html": [
       "<style>#sk-container-id-2 {\n",
       "  /* Definition of color scheme common for light and dark mode */\n",
       "  --sklearn-color-text: #000;\n",
       "  --sklearn-color-text-muted: #666;\n",
       "  --sklearn-color-line: gray;\n",
       "  /* Definition of color scheme for unfitted estimators */\n",
       "  --sklearn-color-unfitted-level-0: #fff5e6;\n",
       "  --sklearn-color-unfitted-level-1: #f6e4d2;\n",
       "  --sklearn-color-unfitted-level-2: #ffe0b3;\n",
       "  --sklearn-color-unfitted-level-3: chocolate;\n",
       "  /* Definition of color scheme for fitted estimators */\n",
       "  --sklearn-color-fitted-level-0: #f0f8ff;\n",
       "  --sklearn-color-fitted-level-1: #d4ebff;\n",
       "  --sklearn-color-fitted-level-2: #b3dbfd;\n",
       "  --sklearn-color-fitted-level-3: cornflowerblue;\n",
       "\n",
       "  /* Specific color for light theme */\n",
       "  --sklearn-color-text-on-default-background: var(--sg-text-color, var(--theme-code-foreground, var(--jp-content-font-color1, black)));\n",
       "  --sklearn-color-background: var(--sg-background-color, var(--theme-background, var(--jp-layout-color0, white)));\n",
       "  --sklearn-color-border-box: var(--sg-text-color, var(--theme-code-foreground, var(--jp-content-font-color1, black)));\n",
       "  --sklearn-color-icon: #696969;\n",
       "\n",
       "  @media (prefers-color-scheme: dark) {\n",
       "    /* Redefinition of color scheme for dark theme */\n",
       "    --sklearn-color-text-on-default-background: var(--sg-text-color, var(--theme-code-foreground, var(--jp-content-font-color1, white)));\n",
       "    --sklearn-color-background: var(--sg-background-color, var(--theme-background, var(--jp-layout-color0, #111)));\n",
       "    --sklearn-color-border-box: var(--sg-text-color, var(--theme-code-foreground, var(--jp-content-font-color1, white)));\n",
       "    --sklearn-color-icon: #878787;\n",
       "  }\n",
       "}\n",
       "\n",
       "#sk-container-id-2 {\n",
       "  color: var(--sklearn-color-text);\n",
       "}\n",
       "\n",
       "#sk-container-id-2 pre {\n",
       "  padding: 0;\n",
       "}\n",
       "\n",
       "#sk-container-id-2 input.sk-hidden--visually {\n",
       "  border: 0;\n",
       "  clip: rect(1px 1px 1px 1px);\n",
       "  clip: rect(1px, 1px, 1px, 1px);\n",
       "  height: 1px;\n",
       "  margin: -1px;\n",
       "  overflow: hidden;\n",
       "  padding: 0;\n",
       "  position: absolute;\n",
       "  width: 1px;\n",
       "}\n",
       "\n",
       "#sk-container-id-2 div.sk-dashed-wrapped {\n",
       "  border: 1px dashed var(--sklearn-color-line);\n",
       "  margin: 0 0.4em 0.5em 0.4em;\n",
       "  box-sizing: border-box;\n",
       "  padding-bottom: 0.4em;\n",
       "  background-color: var(--sklearn-color-background);\n",
       "}\n",
       "\n",
       "#sk-container-id-2 div.sk-container {\n",
       "  /* jupyter's `normalize.less` sets `[hidden] { display: none; }`\n",
       "     but bootstrap.min.css set `[hidden] { display: none !important; }`\n",
       "     so we also need the `!important` here to be able to override the\n",
       "     default hidden behavior on the sphinx rendered scikit-learn.org.\n",
       "     See: https://github.com/scikit-learn/scikit-learn/issues/21755 */\n",
       "  display: inline-block !important;\n",
       "  position: relative;\n",
       "}\n",
       "\n",
       "#sk-container-id-2 div.sk-text-repr-fallback {\n",
       "  display: none;\n",
       "}\n",
       "\n",
       "div.sk-parallel-item,\n",
       "div.sk-serial,\n",
       "div.sk-item {\n",
       "  /* draw centered vertical line to link estimators */\n",
       "  background-image: linear-gradient(var(--sklearn-color-text-on-default-background), var(--sklearn-color-text-on-default-background));\n",
       "  background-size: 2px 100%;\n",
       "  background-repeat: no-repeat;\n",
       "  background-position: center center;\n",
       "}\n",
       "\n",
       "/* Parallel-specific style estimator block */\n",
       "\n",
       "#sk-container-id-2 div.sk-parallel-item::after {\n",
       "  content: \"\";\n",
       "  width: 100%;\n",
       "  border-bottom: 2px solid var(--sklearn-color-text-on-default-background);\n",
       "  flex-grow: 1;\n",
       "}\n",
       "\n",
       "#sk-container-id-2 div.sk-parallel {\n",
       "  display: flex;\n",
       "  align-items: stretch;\n",
       "  justify-content: center;\n",
       "  background-color: var(--sklearn-color-background);\n",
       "  position: relative;\n",
       "}\n",
       "\n",
       "#sk-container-id-2 div.sk-parallel-item {\n",
       "  display: flex;\n",
       "  flex-direction: column;\n",
       "}\n",
       "\n",
       "#sk-container-id-2 div.sk-parallel-item:first-child::after {\n",
       "  align-self: flex-end;\n",
       "  width: 50%;\n",
       "}\n",
       "\n",
       "#sk-container-id-2 div.sk-parallel-item:last-child::after {\n",
       "  align-self: flex-start;\n",
       "  width: 50%;\n",
       "}\n",
       "\n",
       "#sk-container-id-2 div.sk-parallel-item:only-child::after {\n",
       "  width: 0;\n",
       "}\n",
       "\n",
       "/* Serial-specific style estimator block */\n",
       "\n",
       "#sk-container-id-2 div.sk-serial {\n",
       "  display: flex;\n",
       "  flex-direction: column;\n",
       "  align-items: center;\n",
       "  background-color: var(--sklearn-color-background);\n",
       "  padding-right: 1em;\n",
       "  padding-left: 1em;\n",
       "}\n",
       "\n",
       "\n",
       "/* Toggleable style: style used for estimator/Pipeline/ColumnTransformer box that is\n",
       "clickable and can be expanded/collapsed.\n",
       "- Pipeline and ColumnTransformer use this feature and define the default style\n",
       "- Estimators will overwrite some part of the style using the `sk-estimator` class\n",
       "*/\n",
       "\n",
       "/* Pipeline and ColumnTransformer style (default) */\n",
       "\n",
       "#sk-container-id-2 div.sk-toggleable {\n",
       "  /* Default theme specific background. It is overwritten whether we have a\n",
       "  specific estimator or a Pipeline/ColumnTransformer */\n",
       "  background-color: var(--sklearn-color-background);\n",
       "}\n",
       "\n",
       "/* Toggleable label */\n",
       "#sk-container-id-2 label.sk-toggleable__label {\n",
       "  cursor: pointer;\n",
       "  display: flex;\n",
       "  width: 100%;\n",
       "  margin-bottom: 0;\n",
       "  padding: 0.5em;\n",
       "  box-sizing: border-box;\n",
       "  text-align: center;\n",
       "  align-items: start;\n",
       "  justify-content: space-between;\n",
       "  gap: 0.5em;\n",
       "}\n",
       "\n",
       "#sk-container-id-2 label.sk-toggleable__label .caption {\n",
       "  font-size: 0.6rem;\n",
       "  font-weight: lighter;\n",
       "  color: var(--sklearn-color-text-muted);\n",
       "}\n",
       "\n",
       "#sk-container-id-2 label.sk-toggleable__label-arrow:before {\n",
       "  /* Arrow on the left of the label */\n",
       "  content: \"▸\";\n",
       "  float: left;\n",
       "  margin-right: 0.25em;\n",
       "  color: var(--sklearn-color-icon);\n",
       "}\n",
       "\n",
       "#sk-container-id-2 label.sk-toggleable__label-arrow:hover:before {\n",
       "  color: var(--sklearn-color-text);\n",
       "}\n",
       "\n",
       "/* Toggleable content - dropdown */\n",
       "\n",
       "#sk-container-id-2 div.sk-toggleable__content {\n",
       "  max-height: 0;\n",
       "  max-width: 0;\n",
       "  overflow: hidden;\n",
       "  text-align: left;\n",
       "  /* unfitted */\n",
       "  background-color: var(--sklearn-color-unfitted-level-0);\n",
       "}\n",
       "\n",
       "#sk-container-id-2 div.sk-toggleable__content.fitted {\n",
       "  /* fitted */\n",
       "  background-color: var(--sklearn-color-fitted-level-0);\n",
       "}\n",
       "\n",
       "#sk-container-id-2 div.sk-toggleable__content pre {\n",
       "  margin: 0.2em;\n",
       "  border-radius: 0.25em;\n",
       "  color: var(--sklearn-color-text);\n",
       "  /* unfitted */\n",
       "  background-color: var(--sklearn-color-unfitted-level-0);\n",
       "}\n",
       "\n",
       "#sk-container-id-2 div.sk-toggleable__content.fitted pre {\n",
       "  /* unfitted */\n",
       "  background-color: var(--sklearn-color-fitted-level-0);\n",
       "}\n",
       "\n",
       "#sk-container-id-2 input.sk-toggleable__control:checked~div.sk-toggleable__content {\n",
       "  /* Expand drop-down */\n",
       "  max-height: 200px;\n",
       "  max-width: 100%;\n",
       "  overflow: auto;\n",
       "}\n",
       "\n",
       "#sk-container-id-2 input.sk-toggleable__control:checked~label.sk-toggleable__label-arrow:before {\n",
       "  content: \"▾\";\n",
       "}\n",
       "\n",
       "/* Pipeline/ColumnTransformer-specific style */\n",
       "\n",
       "#sk-container-id-2 div.sk-label input.sk-toggleable__control:checked~label.sk-toggleable__label {\n",
       "  color: var(--sklearn-color-text);\n",
       "  background-color: var(--sklearn-color-unfitted-level-2);\n",
       "}\n",
       "\n",
       "#sk-container-id-2 div.sk-label.fitted input.sk-toggleable__control:checked~label.sk-toggleable__label {\n",
       "  background-color: var(--sklearn-color-fitted-level-2);\n",
       "}\n",
       "\n",
       "/* Estimator-specific style */\n",
       "\n",
       "/* Colorize estimator box */\n",
       "#sk-container-id-2 div.sk-estimator input.sk-toggleable__control:checked~label.sk-toggleable__label {\n",
       "  /* unfitted */\n",
       "  background-color: var(--sklearn-color-unfitted-level-2);\n",
       "}\n",
       "\n",
       "#sk-container-id-2 div.sk-estimator.fitted input.sk-toggleable__control:checked~label.sk-toggleable__label {\n",
       "  /* fitted */\n",
       "  background-color: var(--sklearn-color-fitted-level-2);\n",
       "}\n",
       "\n",
       "#sk-container-id-2 div.sk-label label.sk-toggleable__label,\n",
       "#sk-container-id-2 div.sk-label label {\n",
       "  /* The background is the default theme color */\n",
       "  color: var(--sklearn-color-text-on-default-background);\n",
       "}\n",
       "\n",
       "/* On hover, darken the color of the background */\n",
       "#sk-container-id-2 div.sk-label:hover label.sk-toggleable__label {\n",
       "  color: var(--sklearn-color-text);\n",
       "  background-color: var(--sklearn-color-unfitted-level-2);\n",
       "}\n",
       "\n",
       "/* Label box, darken color on hover, fitted */\n",
       "#sk-container-id-2 div.sk-label.fitted:hover label.sk-toggleable__label.fitted {\n",
       "  color: var(--sklearn-color-text);\n",
       "  background-color: var(--sklearn-color-fitted-level-2);\n",
       "}\n",
       "\n",
       "/* Estimator label */\n",
       "\n",
       "#sk-container-id-2 div.sk-label label {\n",
       "  font-family: monospace;\n",
       "  font-weight: bold;\n",
       "  display: inline-block;\n",
       "  line-height: 1.2em;\n",
       "}\n",
       "\n",
       "#sk-container-id-2 div.sk-label-container {\n",
       "  text-align: center;\n",
       "}\n",
       "\n",
       "/* Estimator-specific */\n",
       "#sk-container-id-2 div.sk-estimator {\n",
       "  font-family: monospace;\n",
       "  border: 1px dotted var(--sklearn-color-border-box);\n",
       "  border-radius: 0.25em;\n",
       "  box-sizing: border-box;\n",
       "  margin-bottom: 0.5em;\n",
       "  /* unfitted */\n",
       "  background-color: var(--sklearn-color-unfitted-level-0);\n",
       "}\n",
       "\n",
       "#sk-container-id-2 div.sk-estimator.fitted {\n",
       "  /* fitted */\n",
       "  background-color: var(--sklearn-color-fitted-level-0);\n",
       "}\n",
       "\n",
       "/* on hover */\n",
       "#sk-container-id-2 div.sk-estimator:hover {\n",
       "  /* unfitted */\n",
       "  background-color: var(--sklearn-color-unfitted-level-2);\n",
       "}\n",
       "\n",
       "#sk-container-id-2 div.sk-estimator.fitted:hover {\n",
       "  /* fitted */\n",
       "  background-color: var(--sklearn-color-fitted-level-2);\n",
       "}\n",
       "\n",
       "/* Specification for estimator info (e.g. \"i\" and \"?\") */\n",
       "\n",
       "/* Common style for \"i\" and \"?\" */\n",
       "\n",
       ".sk-estimator-doc-link,\n",
       "a:link.sk-estimator-doc-link,\n",
       "a:visited.sk-estimator-doc-link {\n",
       "  float: right;\n",
       "  font-size: smaller;\n",
       "  line-height: 1em;\n",
       "  font-family: monospace;\n",
       "  background-color: var(--sklearn-color-background);\n",
       "  border-radius: 1em;\n",
       "  height: 1em;\n",
       "  width: 1em;\n",
       "  text-decoration: none !important;\n",
       "  margin-left: 0.5em;\n",
       "  text-align: center;\n",
       "  /* unfitted */\n",
       "  border: var(--sklearn-color-unfitted-level-1) 1pt solid;\n",
       "  color: var(--sklearn-color-unfitted-level-1);\n",
       "}\n",
       "\n",
       ".sk-estimator-doc-link.fitted,\n",
       "a:link.sk-estimator-doc-link.fitted,\n",
       "a:visited.sk-estimator-doc-link.fitted {\n",
       "  /* fitted */\n",
       "  border: var(--sklearn-color-fitted-level-1) 1pt solid;\n",
       "  color: var(--sklearn-color-fitted-level-1);\n",
       "}\n",
       "\n",
       "/* On hover */\n",
       "div.sk-estimator:hover .sk-estimator-doc-link:hover,\n",
       ".sk-estimator-doc-link:hover,\n",
       "div.sk-label-container:hover .sk-estimator-doc-link:hover,\n",
       ".sk-estimator-doc-link:hover {\n",
       "  /* unfitted */\n",
       "  background-color: var(--sklearn-color-unfitted-level-3);\n",
       "  color: var(--sklearn-color-background);\n",
       "  text-decoration: none;\n",
       "}\n",
       "\n",
       "div.sk-estimator.fitted:hover .sk-estimator-doc-link.fitted:hover,\n",
       ".sk-estimator-doc-link.fitted:hover,\n",
       "div.sk-label-container:hover .sk-estimator-doc-link.fitted:hover,\n",
       ".sk-estimator-doc-link.fitted:hover {\n",
       "  /* fitted */\n",
       "  background-color: var(--sklearn-color-fitted-level-3);\n",
       "  color: var(--sklearn-color-background);\n",
       "  text-decoration: none;\n",
       "}\n",
       "\n",
       "/* Span, style for the box shown on hovering the info icon */\n",
       ".sk-estimator-doc-link span {\n",
       "  display: none;\n",
       "  z-index: 9999;\n",
       "  position: relative;\n",
       "  font-weight: normal;\n",
       "  right: .2ex;\n",
       "  padding: .5ex;\n",
       "  margin: .5ex;\n",
       "  width: min-content;\n",
       "  min-width: 20ex;\n",
       "  max-width: 50ex;\n",
       "  color: var(--sklearn-color-text);\n",
       "  box-shadow: 2pt 2pt 4pt #999;\n",
       "  /* unfitted */\n",
       "  background: var(--sklearn-color-unfitted-level-0);\n",
       "  border: .5pt solid var(--sklearn-color-unfitted-level-3);\n",
       "}\n",
       "\n",
       ".sk-estimator-doc-link.fitted span {\n",
       "  /* fitted */\n",
       "  background: var(--sklearn-color-fitted-level-0);\n",
       "  border: var(--sklearn-color-fitted-level-3);\n",
       "}\n",
       "\n",
       ".sk-estimator-doc-link:hover span {\n",
       "  display: block;\n",
       "}\n",
       "\n",
       "/* \"?\"-specific style due to the `<a>` HTML tag */\n",
       "\n",
       "#sk-container-id-2 a.estimator_doc_link {\n",
       "  float: right;\n",
       "  font-size: 1rem;\n",
       "  line-height: 1em;\n",
       "  font-family: monospace;\n",
       "  background-color: var(--sklearn-color-background);\n",
       "  border-radius: 1rem;\n",
       "  height: 1rem;\n",
       "  width: 1rem;\n",
       "  text-decoration: none;\n",
       "  /* unfitted */\n",
       "  color: var(--sklearn-color-unfitted-level-1);\n",
       "  border: var(--sklearn-color-unfitted-level-1) 1pt solid;\n",
       "}\n",
       "\n",
       "#sk-container-id-2 a.estimator_doc_link.fitted {\n",
       "  /* fitted */\n",
       "  border: var(--sklearn-color-fitted-level-1) 1pt solid;\n",
       "  color: var(--sklearn-color-fitted-level-1);\n",
       "}\n",
       "\n",
       "/* On hover */\n",
       "#sk-container-id-2 a.estimator_doc_link:hover {\n",
       "  /* unfitted */\n",
       "  background-color: var(--sklearn-color-unfitted-level-3);\n",
       "  color: var(--sklearn-color-background);\n",
       "  text-decoration: none;\n",
       "}\n",
       "\n",
       "#sk-container-id-2 a.estimator_doc_link.fitted:hover {\n",
       "  /* fitted */\n",
       "  background-color: var(--sklearn-color-fitted-level-3);\n",
       "}\n",
       "</style><div id=\"sk-container-id-2\" class=\"sk-top-container\"><div class=\"sk-text-repr-fallback\"><pre>CountVectorizer()</pre><b>In a Jupyter environment, please rerun this cell to show the HTML representation or trust the notebook. <br />On GitHub, the HTML representation is unable to render, please try loading this page with nbviewer.org.</b></div><div class=\"sk-container\" hidden><div class=\"sk-item\"><div class=\"sk-estimator fitted sk-toggleable\"><input class=\"sk-toggleable__control sk-hidden--visually\" id=\"sk-estimator-id-2\" type=\"checkbox\" checked><label for=\"sk-estimator-id-2\" class=\"sk-toggleable__label fitted sk-toggleable__label-arrow\"><div><div>CountVectorizer</div></div><div><a class=\"sk-estimator-doc-link fitted\" rel=\"noreferrer\" target=\"_blank\" href=\"https://scikit-learn.org/1.6/modules/generated/sklearn.feature_extraction.text.CountVectorizer.html\">?<span>Documentation for CountVectorizer</span></a><span class=\"sk-estimator-doc-link fitted\">i<span>Fitted</span></span></div></label><div class=\"sk-toggleable__content fitted\"><pre>CountVectorizer()</pre></div> </div></div></div></div>"
      ],
      "text/plain": [
       "CountVectorizer()"
      ]
     },
     "execution_count": 63,
     "metadata": {},
     "output_type": "execute_result"
    }
   ],
   "source": [
    "from sklearn.feature_extraction.text import CountVectorizer\n",
    "\n",
    "bow = CountVectorizer()\n",
    "\n",
    "bow.fit(X_train_processed['Text'])"
   ]
  },
  {
   "cell_type": "code",
   "execution_count": 64,
   "metadata": {
    "colab": {
     "base_uri": "https://localhost:8080/"
    },
    "executionInfo": {
     "elapsed": 27,
     "status": "ok",
     "timestamp": 1699521135157,
     "user": {
      "displayName": "robi Fakhri",
      "userId": "10922111524175830739"
     },
     "user_tz": -420
    },
    "id": "kCAbJxXGiOZu",
    "outputId": "9521bde2-9098-423f-a569-eaf06afc6d87"
   },
   "outputs": [
    {
     "data": {
      "text/plain": [
       "<Compressed Sparse Row sparse matrix of dtype 'int64'\n",
       "\twith 19086 stored elements and shape (750, 3969)>"
      ]
     },
     "execution_count": 64,
     "metadata": {},
     "output_type": "execute_result"
    }
   ],
   "source": [
    "X_train_bow = bow.transform(X_train_processed['Text'])\n",
    "X_train_bow"
   ]
  },
  {
   "cell_type": "code",
   "execution_count": 65,
   "metadata": {
    "colab": {
     "base_uri": "https://localhost:8080/"
    },
    "executionInfo": {
     "elapsed": 25,
     "status": "ok",
     "timestamp": 1699521135157,
     "user": {
      "displayName": "robi Fakhri",
      "userId": "10922111524175830739"
     },
     "user_tz": -420
    },
    "id": "rq43UMjriOZu",
    "outputId": "5a0ac56f-e3d5-4ebd-d0d3-1ecccc220111"
   },
   "outputs": [
    {
     "data": {
      "text/plain": [
       "<Compressed Sparse Row sparse matrix of dtype 'int64'\n",
       "\twith 5520 stored elements and shape (250, 3969)>"
      ]
     },
     "execution_count": 65,
     "metadata": {},
     "output_type": "execute_result"
    }
   ],
   "source": [
    "X_test_bow = bow.transform(X_test_processed['Text'])\n",
    "X_test_bow"
   ]
  },
  {
   "cell_type": "markdown",
   "metadata": {
    "id": "UetRbYB0ir5O"
   },
   "source": [
    "# **3. Modelling**\n",
    "---"
   ]
  },
  {
   "cell_type": "markdown",
   "metadata": {
    "id": "K_QZl60UivC8"
   },
   "source": [
    "Finally We have figured out how to convert text data into a vector / feature , now its time to model our data"
   ]
  },
  {
   "cell_type": "markdown",
   "metadata": {
    "id": "TfWL_1xjj-yJ"
   },
   "source": [
    "**Baseline Model**"
   ]
  },
  {
   "cell_type": "code",
   "execution_count": 66,
   "metadata": {
    "id": "ijq05DFTkBFE"
   },
   "outputs": [],
   "source": [
    "from sklearn.dummy import DummyClassifier\n",
    "from sklearn.model_selection import cross_val_score\n",
    "\n",
    "baseline_model = DummyClassifier(strategy=\"most_frequent\")\n",
    "\n",
    "baseline_model_cv = cross_val_score(estimator=baseline_model,X=X_train_tfidf,y=y_train,cv=5).mean()"
   ]
  },
  {
   "cell_type": "code",
   "execution_count": 67,
   "metadata": {
    "colab": {
     "base_uri": "https://localhost:8080/"
    },
    "executionInfo": {
     "elapsed": 479,
     "status": "ok",
     "timestamp": 1699521135614,
     "user": {
      "displayName": "robi Fakhri",
      "userId": "10922111524175830739"
     },
     "user_tz": -420
    },
    "id": "qYEHXBykyBGq",
    "outputId": "a7d4555f-6060-4840-9a9d-b2843cd0f235"
   },
   "outputs": [
    {
     "data": {
      "text/plain": [
       "np.float64(0.5519999999999999)"
      ]
     },
     "execution_count": 67,
     "metadata": {},
     "output_type": "execute_result"
    }
   ],
   "source": [
    "baseline_model_cv"
   ]
  },
  {
   "cell_type": "markdown",
   "metadata": {
    "id": "TAaUArgekKBA"
   },
   "source": [
    "### Tf-IDF Vectorizer"
   ]
  },
  {
   "cell_type": "markdown",
   "metadata": {
    "id": "0Nfvv5j6jGnn"
   },
   "source": [
    "**Logistic Regression**"
   ]
  },
  {
   "cell_type": "code",
   "execution_count": 68,
   "metadata": {
    "colab": {
     "base_uri": "https://localhost:8080/"
    },
    "executionInfo": {
     "elapsed": 10,
     "status": "ok",
     "timestamp": 1699521135615,
     "user": {
      "displayName": "robi Fakhri",
      "userId": "10922111524175830739"
     },
     "user_tz": -420
    },
    "id": "8TFCV3oDkrje",
    "outputId": "2bc3a30f-5576-4fee-8707-74def3a4837b"
   },
   "outputs": [
    {
     "data": {
      "text/plain": [
       "np.float64(0.6506666666666667)"
      ]
     },
     "execution_count": 68,
     "metadata": {},
     "output_type": "execute_result"
    }
   ],
   "source": [
    "from sklearn.linear_model import LogisticRegression\n",
    "\n",
    "log_reg_tfidf = LogisticRegression()\n",
    "\n",
    "\n",
    "cv_tfidf_logreg = cross_val_score(estimator=log_reg_tfidf,X=X_train_tfidf,y=y_train,cv=5).mean()\n",
    "cv_tfidf_logreg"
   ]
  },
  {
   "cell_type": "markdown",
   "metadata": {
    "id": "k47XPYxfjJZJ"
   },
   "source": [
    "**Support Vector Classifier**"
   ]
  },
  {
   "cell_type": "code",
   "execution_count": 69,
   "metadata": {
    "colab": {
     "base_uri": "https://localhost:8080/"
    },
    "executionInfo": {
     "elapsed": 447,
     "status": "ok",
     "timestamp": 1699521136054,
     "user": {
      "displayName": "robi Fakhri",
      "userId": "10922111524175830739"
     },
     "user_tz": -420
    },
    "id": "9DvrgibMirAn",
    "outputId": "98684741-1834-4f7a-f7b7-65b03aedfd49"
   },
   "outputs": [
    {
     "data": {
      "text/plain": [
       "np.float64(0.6266666666666667)"
      ]
     },
     "execution_count": 69,
     "metadata": {},
     "output_type": "execute_result"
    }
   ],
   "source": [
    "from sklearn.svm import SVC\n",
    "svc = SVC()\n",
    "cv_tfidf_svc = cross_val_score(estimator=svc,X=X_train_tfidf,y=y_train,cv=5).mean()\n",
    "cv_tfidf_svc"
   ]
  },
  {
   "cell_type": "markdown",
   "metadata": {
    "id": "3g50a3QMkPDg"
   },
   "source": [
    "### Count Vectorizer"
   ]
  },
  {
   "cell_type": "markdown",
   "metadata": {
    "id": "jT2iG0t_kZyn"
   },
   "source": [
    "**Logistic Regression**"
   ]
  },
  {
   "cell_type": "code",
   "execution_count": 70,
   "metadata": {
    "colab": {
     "base_uri": "https://localhost:8080/"
    },
    "executionInfo": {
     "elapsed": 325,
     "status": "ok",
     "timestamp": 1699521136373,
     "user": {
      "displayName": "robi Fakhri",
      "userId": "10922111524175830739"
     },
     "user_tz": -420
    },
    "id": "DTnzJtuByQ2H",
    "outputId": "5116ff38-4d32-45da-edd0-423a3804fc18"
   },
   "outputs": [
    {
     "data": {
      "text/plain": [
       "np.float64(0.6826666666666668)"
      ]
     },
     "execution_count": 70,
     "metadata": {},
     "output_type": "execute_result"
    }
   ],
   "source": [
    "from sklearn.model_selection import cross_val_score\n",
    "from sklearn.linear_model import LogisticRegression\n",
    "\n",
    "log_reg_bow = LogisticRegression()\n",
    "\n",
    "\n",
    "cv_bow_logreg = cross_val_score(estimator=log_reg_bow,X=X_train_bow,y=y_train,cv=5).mean()\n",
    "cv_bow_logreg"
   ]
  },
  {
   "cell_type": "markdown",
   "metadata": {
    "id": "SUOsdU0MyQ2H"
   },
   "source": [
    "**Support Vector Classifier**"
   ]
  },
  {
   "cell_type": "code",
   "execution_count": 71,
   "metadata": {
    "colab": {
     "base_uri": "https://localhost:8080/"
    },
    "executionInfo": {
     "elapsed": 756,
     "status": "ok",
     "timestamp": 1699521137123,
     "user": {
      "displayName": "robi Fakhri",
      "userId": "10922111524175830739"
     },
     "user_tz": -420
    },
    "id": "jOM5wf9QyQ2I",
    "outputId": "9177d655-5eba-4385-d9d8-0a7c792b069c"
   },
   "outputs": [
    {
     "data": {
      "text/plain": [
       "np.float64(0.5666666666666667)"
      ]
     },
     "execution_count": 71,
     "metadata": {},
     "output_type": "execute_result"
    }
   ],
   "source": [
    "from sklearn.svm import SVC\n",
    "svc_bow = SVC()\n",
    "cv_bow_svc = cross_val_score(estimator=svc_bow,X=X_train_bow,y=y_train,cv=5).mean()\n",
    "cv_bow_svc"
   ]
  },
  {
   "cell_type": "markdown",
   "metadata": {
    "id": "WEUXn-siww9P"
   },
   "source": [
    "### Model Selection Summary"
   ]
  },
  {
   "cell_type": "code",
   "execution_count": 72,
   "metadata": {
    "colab": {
     "base_uri": "https://localhost:8080/",
     "height": 206
    },
    "executionInfo": {
     "elapsed": 22,
     "status": "ok",
     "timestamp": 1699521137123,
     "user": {
      "displayName": "robi Fakhri",
      "userId": "10922111524175830739"
     },
     "user_tz": -420
    },
    "id": "J6i4LZGTkZyn",
    "outputId": "143dbea6-2bfc-4721-8353-7aeb3f7eb135"
   },
   "outputs": [
    {
     "data": {
      "text/html": [
       "<div>\n",
       "<style scoped>\n",
       "    .dataframe tbody tr th:only-of-type {\n",
       "        vertical-align: middle;\n",
       "    }\n",
       "\n",
       "    .dataframe tbody tr th {\n",
       "        vertical-align: top;\n",
       "    }\n",
       "\n",
       "    .dataframe thead th {\n",
       "        text-align: right;\n",
       "    }\n",
       "</style>\n",
       "<table border=\"1\" class=\"dataframe\">\n",
       "  <thead>\n",
       "    <tr style=\"text-align: right;\">\n",
       "      <th></th>\n",
       "      <th>vectorizer</th>\n",
       "      <th>model_name</th>\n",
       "      <th>accuracy-cv5</th>\n",
       "    </tr>\n",
       "  </thead>\n",
       "  <tbody>\n",
       "    <tr>\n",
       "      <th>0</th>\n",
       "      <td>baseline</td>\n",
       "      <td>majority class</td>\n",
       "      <td>0.552000</td>\n",
       "    </tr>\n",
       "    <tr>\n",
       "      <th>1</th>\n",
       "      <td>bag of words</td>\n",
       "      <td>logistic regresion</td>\n",
       "      <td>0.682667</td>\n",
       "    </tr>\n",
       "    <tr>\n",
       "      <th>2</th>\n",
       "      <td>bag of words</td>\n",
       "      <td>svm</td>\n",
       "      <td>0.566667</td>\n",
       "    </tr>\n",
       "    <tr>\n",
       "      <th>3</th>\n",
       "      <td>tfidf</td>\n",
       "      <td>logistic regresion</td>\n",
       "      <td>0.650667</td>\n",
       "    </tr>\n",
       "    <tr>\n",
       "      <th>4</th>\n",
       "      <td>tfidf</td>\n",
       "      <td>svm</td>\n",
       "      <td>0.626667</td>\n",
       "    </tr>\n",
       "  </tbody>\n",
       "</table>\n",
       "</div>"
      ],
      "text/plain": [
       "     vectorizer          model_name  accuracy-cv5\n",
       "0      baseline      majority class      0.552000\n",
       "1  bag of words  logistic regresion      0.682667\n",
       "2  bag of words                 svm      0.566667\n",
       "3         tfidf  logistic regresion      0.650667\n",
       "4         tfidf                 svm      0.626667"
      ]
     },
     "execution_count": 72,
     "metadata": {},
     "output_type": "execute_result"
    }
   ],
   "source": [
    "summary = pd.DataFrame({\n",
    "    'vectorizer' : ['baseline','bag of words','bag of words','tfidf','tfidf'],\n",
    "    'model_name' : ['majority class','logistic regresion','svm','logistic regresion','svm'],\n",
    "    'accuracy-cv5' : [baseline_model_cv,cv_bow_logreg,cv_bow_svc,cv_tfidf_logreg,cv_tfidf_svc]\n",
    "})\n",
    "summary"
   ]
  },
  {
   "cell_type": "markdown",
   "metadata": {
    "id": "7QxzmXhlyCH1"
   },
   "source": [
    "Looks like that combination of `Logistic Regression` and `TF-IDF` yield the best accuracy score"
   ]
  },
  {
   "cell_type": "markdown",
   "metadata": {
    "id": "S6kWgnBRyaaT"
   },
   "source": [
    "### Training Best Model\n",
    "\n",
    "\n",
    "Since we have selected the best model using cross validation, bow its time to train the model using training data and evaluate it on test data"
   ]
  },
  {
   "cell_type": "code",
   "execution_count": 73,
   "metadata": {
    "colab": {
     "base_uri": "https://localhost:8080/",
     "height": 74
    },
    "executionInfo": {
     "elapsed": 21,
     "status": "ok",
     "timestamp": 1699521137123,
     "user": {
      "displayName": "robi Fakhri",
      "userId": "10922111524175830739"
     },
     "user_tz": -420
    },
    "id": "QKSEQxXmx7vy",
    "outputId": "af679ce3-b54b-4718-8416-c58ac1442bfe"
   },
   "outputs": [
    {
     "data": {
      "text/html": [
       "<style>#sk-container-id-3 {\n",
       "  /* Definition of color scheme common for light and dark mode */\n",
       "  --sklearn-color-text: #000;\n",
       "  --sklearn-color-text-muted: #666;\n",
       "  --sklearn-color-line: gray;\n",
       "  /* Definition of color scheme for unfitted estimators */\n",
       "  --sklearn-color-unfitted-level-0: #fff5e6;\n",
       "  --sklearn-color-unfitted-level-1: #f6e4d2;\n",
       "  --sklearn-color-unfitted-level-2: #ffe0b3;\n",
       "  --sklearn-color-unfitted-level-3: chocolate;\n",
       "  /* Definition of color scheme for fitted estimators */\n",
       "  --sklearn-color-fitted-level-0: #f0f8ff;\n",
       "  --sklearn-color-fitted-level-1: #d4ebff;\n",
       "  --sklearn-color-fitted-level-2: #b3dbfd;\n",
       "  --sklearn-color-fitted-level-3: cornflowerblue;\n",
       "\n",
       "  /* Specific color for light theme */\n",
       "  --sklearn-color-text-on-default-background: var(--sg-text-color, var(--theme-code-foreground, var(--jp-content-font-color1, black)));\n",
       "  --sklearn-color-background: var(--sg-background-color, var(--theme-background, var(--jp-layout-color0, white)));\n",
       "  --sklearn-color-border-box: var(--sg-text-color, var(--theme-code-foreground, var(--jp-content-font-color1, black)));\n",
       "  --sklearn-color-icon: #696969;\n",
       "\n",
       "  @media (prefers-color-scheme: dark) {\n",
       "    /* Redefinition of color scheme for dark theme */\n",
       "    --sklearn-color-text-on-default-background: var(--sg-text-color, var(--theme-code-foreground, var(--jp-content-font-color1, white)));\n",
       "    --sklearn-color-background: var(--sg-background-color, var(--theme-background, var(--jp-layout-color0, #111)));\n",
       "    --sklearn-color-border-box: var(--sg-text-color, var(--theme-code-foreground, var(--jp-content-font-color1, white)));\n",
       "    --sklearn-color-icon: #878787;\n",
       "  }\n",
       "}\n",
       "\n",
       "#sk-container-id-3 {\n",
       "  color: var(--sklearn-color-text);\n",
       "}\n",
       "\n",
       "#sk-container-id-3 pre {\n",
       "  padding: 0;\n",
       "}\n",
       "\n",
       "#sk-container-id-3 input.sk-hidden--visually {\n",
       "  border: 0;\n",
       "  clip: rect(1px 1px 1px 1px);\n",
       "  clip: rect(1px, 1px, 1px, 1px);\n",
       "  height: 1px;\n",
       "  margin: -1px;\n",
       "  overflow: hidden;\n",
       "  padding: 0;\n",
       "  position: absolute;\n",
       "  width: 1px;\n",
       "}\n",
       "\n",
       "#sk-container-id-3 div.sk-dashed-wrapped {\n",
       "  border: 1px dashed var(--sklearn-color-line);\n",
       "  margin: 0 0.4em 0.5em 0.4em;\n",
       "  box-sizing: border-box;\n",
       "  padding-bottom: 0.4em;\n",
       "  background-color: var(--sklearn-color-background);\n",
       "}\n",
       "\n",
       "#sk-container-id-3 div.sk-container {\n",
       "  /* jupyter's `normalize.less` sets `[hidden] { display: none; }`\n",
       "     but bootstrap.min.css set `[hidden] { display: none !important; }`\n",
       "     so we also need the `!important` here to be able to override the\n",
       "     default hidden behavior on the sphinx rendered scikit-learn.org.\n",
       "     See: https://github.com/scikit-learn/scikit-learn/issues/21755 */\n",
       "  display: inline-block !important;\n",
       "  position: relative;\n",
       "}\n",
       "\n",
       "#sk-container-id-3 div.sk-text-repr-fallback {\n",
       "  display: none;\n",
       "}\n",
       "\n",
       "div.sk-parallel-item,\n",
       "div.sk-serial,\n",
       "div.sk-item {\n",
       "  /* draw centered vertical line to link estimators */\n",
       "  background-image: linear-gradient(var(--sklearn-color-text-on-default-background), var(--sklearn-color-text-on-default-background));\n",
       "  background-size: 2px 100%;\n",
       "  background-repeat: no-repeat;\n",
       "  background-position: center center;\n",
       "}\n",
       "\n",
       "/* Parallel-specific style estimator block */\n",
       "\n",
       "#sk-container-id-3 div.sk-parallel-item::after {\n",
       "  content: \"\";\n",
       "  width: 100%;\n",
       "  border-bottom: 2px solid var(--sklearn-color-text-on-default-background);\n",
       "  flex-grow: 1;\n",
       "}\n",
       "\n",
       "#sk-container-id-3 div.sk-parallel {\n",
       "  display: flex;\n",
       "  align-items: stretch;\n",
       "  justify-content: center;\n",
       "  background-color: var(--sklearn-color-background);\n",
       "  position: relative;\n",
       "}\n",
       "\n",
       "#sk-container-id-3 div.sk-parallel-item {\n",
       "  display: flex;\n",
       "  flex-direction: column;\n",
       "}\n",
       "\n",
       "#sk-container-id-3 div.sk-parallel-item:first-child::after {\n",
       "  align-self: flex-end;\n",
       "  width: 50%;\n",
       "}\n",
       "\n",
       "#sk-container-id-3 div.sk-parallel-item:last-child::after {\n",
       "  align-self: flex-start;\n",
       "  width: 50%;\n",
       "}\n",
       "\n",
       "#sk-container-id-3 div.sk-parallel-item:only-child::after {\n",
       "  width: 0;\n",
       "}\n",
       "\n",
       "/* Serial-specific style estimator block */\n",
       "\n",
       "#sk-container-id-3 div.sk-serial {\n",
       "  display: flex;\n",
       "  flex-direction: column;\n",
       "  align-items: center;\n",
       "  background-color: var(--sklearn-color-background);\n",
       "  padding-right: 1em;\n",
       "  padding-left: 1em;\n",
       "}\n",
       "\n",
       "\n",
       "/* Toggleable style: style used for estimator/Pipeline/ColumnTransformer box that is\n",
       "clickable and can be expanded/collapsed.\n",
       "- Pipeline and ColumnTransformer use this feature and define the default style\n",
       "- Estimators will overwrite some part of the style using the `sk-estimator` class\n",
       "*/\n",
       "\n",
       "/* Pipeline and ColumnTransformer style (default) */\n",
       "\n",
       "#sk-container-id-3 div.sk-toggleable {\n",
       "  /* Default theme specific background. It is overwritten whether we have a\n",
       "  specific estimator or a Pipeline/ColumnTransformer */\n",
       "  background-color: var(--sklearn-color-background);\n",
       "}\n",
       "\n",
       "/* Toggleable label */\n",
       "#sk-container-id-3 label.sk-toggleable__label {\n",
       "  cursor: pointer;\n",
       "  display: flex;\n",
       "  width: 100%;\n",
       "  margin-bottom: 0;\n",
       "  padding: 0.5em;\n",
       "  box-sizing: border-box;\n",
       "  text-align: center;\n",
       "  align-items: start;\n",
       "  justify-content: space-between;\n",
       "  gap: 0.5em;\n",
       "}\n",
       "\n",
       "#sk-container-id-3 label.sk-toggleable__label .caption {\n",
       "  font-size: 0.6rem;\n",
       "  font-weight: lighter;\n",
       "  color: var(--sklearn-color-text-muted);\n",
       "}\n",
       "\n",
       "#sk-container-id-3 label.sk-toggleable__label-arrow:before {\n",
       "  /* Arrow on the left of the label */\n",
       "  content: \"▸\";\n",
       "  float: left;\n",
       "  margin-right: 0.25em;\n",
       "  color: var(--sklearn-color-icon);\n",
       "}\n",
       "\n",
       "#sk-container-id-3 label.sk-toggleable__label-arrow:hover:before {\n",
       "  color: var(--sklearn-color-text);\n",
       "}\n",
       "\n",
       "/* Toggleable content - dropdown */\n",
       "\n",
       "#sk-container-id-3 div.sk-toggleable__content {\n",
       "  max-height: 0;\n",
       "  max-width: 0;\n",
       "  overflow: hidden;\n",
       "  text-align: left;\n",
       "  /* unfitted */\n",
       "  background-color: var(--sklearn-color-unfitted-level-0);\n",
       "}\n",
       "\n",
       "#sk-container-id-3 div.sk-toggleable__content.fitted {\n",
       "  /* fitted */\n",
       "  background-color: var(--sklearn-color-fitted-level-0);\n",
       "}\n",
       "\n",
       "#sk-container-id-3 div.sk-toggleable__content pre {\n",
       "  margin: 0.2em;\n",
       "  border-radius: 0.25em;\n",
       "  color: var(--sklearn-color-text);\n",
       "  /* unfitted */\n",
       "  background-color: var(--sklearn-color-unfitted-level-0);\n",
       "}\n",
       "\n",
       "#sk-container-id-3 div.sk-toggleable__content.fitted pre {\n",
       "  /* unfitted */\n",
       "  background-color: var(--sklearn-color-fitted-level-0);\n",
       "}\n",
       "\n",
       "#sk-container-id-3 input.sk-toggleable__control:checked~div.sk-toggleable__content {\n",
       "  /* Expand drop-down */\n",
       "  max-height: 200px;\n",
       "  max-width: 100%;\n",
       "  overflow: auto;\n",
       "}\n",
       "\n",
       "#sk-container-id-3 input.sk-toggleable__control:checked~label.sk-toggleable__label-arrow:before {\n",
       "  content: \"▾\";\n",
       "}\n",
       "\n",
       "/* Pipeline/ColumnTransformer-specific style */\n",
       "\n",
       "#sk-container-id-3 div.sk-label input.sk-toggleable__control:checked~label.sk-toggleable__label {\n",
       "  color: var(--sklearn-color-text);\n",
       "  background-color: var(--sklearn-color-unfitted-level-2);\n",
       "}\n",
       "\n",
       "#sk-container-id-3 div.sk-label.fitted input.sk-toggleable__control:checked~label.sk-toggleable__label {\n",
       "  background-color: var(--sklearn-color-fitted-level-2);\n",
       "}\n",
       "\n",
       "/* Estimator-specific style */\n",
       "\n",
       "/* Colorize estimator box */\n",
       "#sk-container-id-3 div.sk-estimator input.sk-toggleable__control:checked~label.sk-toggleable__label {\n",
       "  /* unfitted */\n",
       "  background-color: var(--sklearn-color-unfitted-level-2);\n",
       "}\n",
       "\n",
       "#sk-container-id-3 div.sk-estimator.fitted input.sk-toggleable__control:checked~label.sk-toggleable__label {\n",
       "  /* fitted */\n",
       "  background-color: var(--sklearn-color-fitted-level-2);\n",
       "}\n",
       "\n",
       "#sk-container-id-3 div.sk-label label.sk-toggleable__label,\n",
       "#sk-container-id-3 div.sk-label label {\n",
       "  /* The background is the default theme color */\n",
       "  color: var(--sklearn-color-text-on-default-background);\n",
       "}\n",
       "\n",
       "/* On hover, darken the color of the background */\n",
       "#sk-container-id-3 div.sk-label:hover label.sk-toggleable__label {\n",
       "  color: var(--sklearn-color-text);\n",
       "  background-color: var(--sklearn-color-unfitted-level-2);\n",
       "}\n",
       "\n",
       "/* Label box, darken color on hover, fitted */\n",
       "#sk-container-id-3 div.sk-label.fitted:hover label.sk-toggleable__label.fitted {\n",
       "  color: var(--sklearn-color-text);\n",
       "  background-color: var(--sklearn-color-fitted-level-2);\n",
       "}\n",
       "\n",
       "/* Estimator label */\n",
       "\n",
       "#sk-container-id-3 div.sk-label label {\n",
       "  font-family: monospace;\n",
       "  font-weight: bold;\n",
       "  display: inline-block;\n",
       "  line-height: 1.2em;\n",
       "}\n",
       "\n",
       "#sk-container-id-3 div.sk-label-container {\n",
       "  text-align: center;\n",
       "}\n",
       "\n",
       "/* Estimator-specific */\n",
       "#sk-container-id-3 div.sk-estimator {\n",
       "  font-family: monospace;\n",
       "  border: 1px dotted var(--sklearn-color-border-box);\n",
       "  border-radius: 0.25em;\n",
       "  box-sizing: border-box;\n",
       "  margin-bottom: 0.5em;\n",
       "  /* unfitted */\n",
       "  background-color: var(--sklearn-color-unfitted-level-0);\n",
       "}\n",
       "\n",
       "#sk-container-id-3 div.sk-estimator.fitted {\n",
       "  /* fitted */\n",
       "  background-color: var(--sklearn-color-fitted-level-0);\n",
       "}\n",
       "\n",
       "/* on hover */\n",
       "#sk-container-id-3 div.sk-estimator:hover {\n",
       "  /* unfitted */\n",
       "  background-color: var(--sklearn-color-unfitted-level-2);\n",
       "}\n",
       "\n",
       "#sk-container-id-3 div.sk-estimator.fitted:hover {\n",
       "  /* fitted */\n",
       "  background-color: var(--sklearn-color-fitted-level-2);\n",
       "}\n",
       "\n",
       "/* Specification for estimator info (e.g. \"i\" and \"?\") */\n",
       "\n",
       "/* Common style for \"i\" and \"?\" */\n",
       "\n",
       ".sk-estimator-doc-link,\n",
       "a:link.sk-estimator-doc-link,\n",
       "a:visited.sk-estimator-doc-link {\n",
       "  float: right;\n",
       "  font-size: smaller;\n",
       "  line-height: 1em;\n",
       "  font-family: monospace;\n",
       "  background-color: var(--sklearn-color-background);\n",
       "  border-radius: 1em;\n",
       "  height: 1em;\n",
       "  width: 1em;\n",
       "  text-decoration: none !important;\n",
       "  margin-left: 0.5em;\n",
       "  text-align: center;\n",
       "  /* unfitted */\n",
       "  border: var(--sklearn-color-unfitted-level-1) 1pt solid;\n",
       "  color: var(--sklearn-color-unfitted-level-1);\n",
       "}\n",
       "\n",
       ".sk-estimator-doc-link.fitted,\n",
       "a:link.sk-estimator-doc-link.fitted,\n",
       "a:visited.sk-estimator-doc-link.fitted {\n",
       "  /* fitted */\n",
       "  border: var(--sklearn-color-fitted-level-1) 1pt solid;\n",
       "  color: var(--sklearn-color-fitted-level-1);\n",
       "}\n",
       "\n",
       "/* On hover */\n",
       "div.sk-estimator:hover .sk-estimator-doc-link:hover,\n",
       ".sk-estimator-doc-link:hover,\n",
       "div.sk-label-container:hover .sk-estimator-doc-link:hover,\n",
       ".sk-estimator-doc-link:hover {\n",
       "  /* unfitted */\n",
       "  background-color: var(--sklearn-color-unfitted-level-3);\n",
       "  color: var(--sklearn-color-background);\n",
       "  text-decoration: none;\n",
       "}\n",
       "\n",
       "div.sk-estimator.fitted:hover .sk-estimator-doc-link.fitted:hover,\n",
       ".sk-estimator-doc-link.fitted:hover,\n",
       "div.sk-label-container:hover .sk-estimator-doc-link.fitted:hover,\n",
       ".sk-estimator-doc-link.fitted:hover {\n",
       "  /* fitted */\n",
       "  background-color: var(--sklearn-color-fitted-level-3);\n",
       "  color: var(--sklearn-color-background);\n",
       "  text-decoration: none;\n",
       "}\n",
       "\n",
       "/* Span, style for the box shown on hovering the info icon */\n",
       ".sk-estimator-doc-link span {\n",
       "  display: none;\n",
       "  z-index: 9999;\n",
       "  position: relative;\n",
       "  font-weight: normal;\n",
       "  right: .2ex;\n",
       "  padding: .5ex;\n",
       "  margin: .5ex;\n",
       "  width: min-content;\n",
       "  min-width: 20ex;\n",
       "  max-width: 50ex;\n",
       "  color: var(--sklearn-color-text);\n",
       "  box-shadow: 2pt 2pt 4pt #999;\n",
       "  /* unfitted */\n",
       "  background: var(--sklearn-color-unfitted-level-0);\n",
       "  border: .5pt solid var(--sklearn-color-unfitted-level-3);\n",
       "}\n",
       "\n",
       ".sk-estimator-doc-link.fitted span {\n",
       "  /* fitted */\n",
       "  background: var(--sklearn-color-fitted-level-0);\n",
       "  border: var(--sklearn-color-fitted-level-3);\n",
       "}\n",
       "\n",
       ".sk-estimator-doc-link:hover span {\n",
       "  display: block;\n",
       "}\n",
       "\n",
       "/* \"?\"-specific style due to the `<a>` HTML tag */\n",
       "\n",
       "#sk-container-id-3 a.estimator_doc_link {\n",
       "  float: right;\n",
       "  font-size: 1rem;\n",
       "  line-height: 1em;\n",
       "  font-family: monospace;\n",
       "  background-color: var(--sklearn-color-background);\n",
       "  border-radius: 1rem;\n",
       "  height: 1rem;\n",
       "  width: 1rem;\n",
       "  text-decoration: none;\n",
       "  /* unfitted */\n",
       "  color: var(--sklearn-color-unfitted-level-1);\n",
       "  border: var(--sklearn-color-unfitted-level-1) 1pt solid;\n",
       "}\n",
       "\n",
       "#sk-container-id-3 a.estimator_doc_link.fitted {\n",
       "  /* fitted */\n",
       "  border: var(--sklearn-color-fitted-level-1) 1pt solid;\n",
       "  color: var(--sklearn-color-fitted-level-1);\n",
       "}\n",
       "\n",
       "/* On hover */\n",
       "#sk-container-id-3 a.estimator_doc_link:hover {\n",
       "  /* unfitted */\n",
       "  background-color: var(--sklearn-color-unfitted-level-3);\n",
       "  color: var(--sklearn-color-background);\n",
       "  text-decoration: none;\n",
       "}\n",
       "\n",
       "#sk-container-id-3 a.estimator_doc_link.fitted:hover {\n",
       "  /* fitted */\n",
       "  background-color: var(--sklearn-color-fitted-level-3);\n",
       "}\n",
       "</style><div id=\"sk-container-id-3\" class=\"sk-top-container\"><div class=\"sk-text-repr-fallback\"><pre>LogisticRegression()</pre><b>In a Jupyter environment, please rerun this cell to show the HTML representation or trust the notebook. <br />On GitHub, the HTML representation is unable to render, please try loading this page with nbviewer.org.</b></div><div class=\"sk-container\" hidden><div class=\"sk-item\"><div class=\"sk-estimator fitted sk-toggleable\"><input class=\"sk-toggleable__control sk-hidden--visually\" id=\"sk-estimator-id-3\" type=\"checkbox\" checked><label for=\"sk-estimator-id-3\" class=\"sk-toggleable__label fitted sk-toggleable__label-arrow\"><div><div>LogisticRegression</div></div><div><a class=\"sk-estimator-doc-link fitted\" rel=\"noreferrer\" target=\"_blank\" href=\"https://scikit-learn.org/1.6/modules/generated/sklearn.linear_model.LogisticRegression.html\">?<span>Documentation for LogisticRegression</span></a><span class=\"sk-estimator-doc-link fitted\">i<span>Fitted</span></span></div></label><div class=\"sk-toggleable__content fitted\"><pre>LogisticRegression()</pre></div> </div></div></div></div>"
      ],
      "text/plain": [
       "LogisticRegression()"
      ]
     },
     "execution_count": 73,
     "metadata": {},
     "output_type": "execute_result"
    }
   ],
   "source": [
    "from sklearn.linear_model import LogisticRegression\n",
    "\n",
    "best_model = LogisticRegression()\n",
    "\n",
    "\n",
    "best_model.fit(X_train_tfidf,y_train)\n"
   ]
  },
  {
   "cell_type": "markdown",
   "metadata": {
    "id": "gACkvr17zalB"
   },
   "source": [
    "### Evaluate on Test Data"
   ]
  },
  {
   "cell_type": "code",
   "execution_count": 74,
   "metadata": {
    "id": "xEWYo61FzX1g"
   },
   "outputs": [],
   "source": [
    "y_pred = best_model.predict(X_test_tfidf)"
   ]
  },
  {
   "cell_type": "code",
   "execution_count": 75,
   "metadata": {
    "id": "YIUAcNCEzidP"
   },
   "outputs": [],
   "source": [
    "# evaluate\n",
    "from sklearn.metrics  import accuracy_score,confusion_matrix\n",
    "\n",
    "\n",
    "test_acc = accuracy_score(y_test,y_pred)"
   ]
  },
  {
   "cell_type": "code",
   "execution_count": 76,
   "metadata": {
    "colab": {
     "base_uri": "https://localhost:8080/",
     "height": 81
    },
    "executionInfo": {
     "elapsed": 20,
     "status": "ok",
     "timestamp": 1699521137123,
     "user": {
      "displayName": "robi Fakhri",
      "userId": "10922111524175830739"
     },
     "user_tz": -420
    },
    "id": "ijX4f7K1zrA7",
    "outputId": "e5f78998-311c-4700-ec58-e556b275c1c5"
   },
   "outputs": [
    {
     "data": {
      "text/html": [
       "<div>\n",
       "<style scoped>\n",
       "    .dataframe tbody tr th:only-of-type {\n",
       "        vertical-align: middle;\n",
       "    }\n",
       "\n",
       "    .dataframe tbody tr th {\n",
       "        vertical-align: top;\n",
       "    }\n",
       "\n",
       "    .dataframe thead th {\n",
       "        text-align: right;\n",
       "    }\n",
       "</style>\n",
       "<table border=\"1\" class=\"dataframe\">\n",
       "  <thead>\n",
       "    <tr style=\"text-align: right;\">\n",
       "      <th></th>\n",
       "      <th>model_name</th>\n",
       "      <th>cv5 accuracy</th>\n",
       "      <th>test accuracy</th>\n",
       "      <th>notes</th>\n",
       "    </tr>\n",
       "  </thead>\n",
       "  <tbody>\n",
       "    <tr>\n",
       "      <th>0</th>\n",
       "      <td>Logistic Regression</td>\n",
       "      <td>0.650667</td>\n",
       "      <td>0.72</td>\n",
       "      <td>TF-IDF vectorizer</td>\n",
       "    </tr>\n",
       "  </tbody>\n",
       "</table>\n",
       "</div>"
      ],
      "text/plain": [
       "            model_name  cv5 accuracy  test accuracy              notes\n",
       "0  Logistic Regression      0.650667           0.72  TF-IDF vectorizer"
      ]
     },
     "execution_count": 76,
     "metadata": {},
     "output_type": "execute_result"
    }
   ],
   "source": [
    "# summary\n",
    "best_model_summary = pd.DataFrame(\n",
    "    {\n",
    "        'model_name' : ['Logistic Regression'],\n",
    "        'cv5 accuracy': [cv_tfidf_logreg],\n",
    "        'test accuracy' : [test_acc],\n",
    "        'notes' : ['TF-IDF vectorizer']\n",
    "\n",
    "    }\n",
    ")\n",
    "best_model_summary"
   ]
  },
  {
   "cell_type": "markdown",
   "metadata": {
    "id": "s7aXKmub0RFK"
   },
   "source": [
    "### Model Analysis\n",
    "\n",
    "\n",
    "let's try to pick some of the toxic comment , from our test data"
   ]
  },
  {
   "cell_type": "code",
   "execution_count": null,
   "metadata": {
    "id": "w05Ai6E59KGc"
   },
   "outputs": [],
   "source": []
  },
  {
   "cell_type": "markdown",
   "metadata": {
    "id": "6FAlf36qWeVg"
   },
   "source": [
    "#### Save for Later"
   ]
  },
  {
   "cell_type": "code",
   "execution_count": 77,
   "metadata": {
    "id": "6RMSafc30UAx"
   },
   "outputs": [],
   "source": [
    "toxic_text = [\"your content is suck!\"]"
   ]
  },
  {
   "cell_type": "code",
   "execution_count": 78,
   "metadata": {
    "id": "WgFjmXwK2aEI"
   },
   "outputs": [],
   "source": [
    "# convert as text features using tf idf\n",
    "text_features = tfidf.transform(toxic_text)"
   ]
  },
  {
   "cell_type": "code",
   "execution_count": 79,
   "metadata": {
    "colab": {
     "base_uri": "https://localhost:8080/",
     "height": 182
    },
    "executionInfo": {
     "elapsed": 5,
     "status": "ok",
     "timestamp": 1695805237321,
     "user": {
      "displayName": "robi Fakhri",
      "userId": "10922111524175830739"
     },
     "user_tz": -420
    },
    "id": "BoCwk18R25Mg",
    "outputId": "7e8bd896-c22c-4590-8c7f-38b1eeb00b19"
   },
   "outputs": [
    {
     "data": {
      "text/html": [
       "<div>\n",
       "<style scoped>\n",
       "    .dataframe tbody tr th:only-of-type {\n",
       "        vertical-align: middle;\n",
       "    }\n",
       "\n",
       "    .dataframe tbody tr th {\n",
       "        vertical-align: top;\n",
       "    }\n",
       "\n",
       "    .dataframe thead th {\n",
       "        text-align: right;\n",
       "    }\n",
       "</style>\n",
       "<table border=\"1\" class=\"dataframe\">\n",
       "  <thead>\n",
       "    <tr style=\"text-align: right;\">\n",
       "      <th></th>\n",
       "      <th>aaannnyything</th>\n",
       "      <th>abilities</th>\n",
       "      <th>ability</th>\n",
       "      <th>able</th>\n",
       "      <th>about</th>\n",
       "      <th>aboutdemocrats</th>\n",
       "      <th>above</th>\n",
       "      <th>absolutely</th>\n",
       "      <th>absurd</th>\n",
       "      <th>abuse</th>\n",
       "      <th>...</th>\n",
       "      <th>yourselfi</th>\n",
       "      <th>youth</th>\n",
       "      <th>youtube</th>\n",
       "      <th>youve</th>\n",
       "      <th>ypu</th>\n",
       "      <th>yr</th>\n",
       "      <th>yup</th>\n",
       "      <th>zimmerman</th>\n",
       "      <th>zimmermans</th>\n",
       "      <th>zionist</th>\n",
       "    </tr>\n",
       "  </thead>\n",
       "  <tbody>\n",
       "    <tr>\n",
       "      <th>your content is suck!</th>\n",
       "      <td>0.0</td>\n",
       "      <td>0.0</td>\n",
       "      <td>0.0</td>\n",
       "      <td>0.0</td>\n",
       "      <td>0.0</td>\n",
       "      <td>0.0</td>\n",
       "      <td>0.0</td>\n",
       "      <td>0.0</td>\n",
       "      <td>0.0</td>\n",
       "      <td>0.0</td>\n",
       "      <td>...</td>\n",
       "      <td>0.0</td>\n",
       "      <td>0.0</td>\n",
       "      <td>0.0</td>\n",
       "      <td>0.0</td>\n",
       "      <td>0.0</td>\n",
       "      <td>0.0</td>\n",
       "      <td>0.0</td>\n",
       "      <td>0.0</td>\n",
       "      <td>0.0</td>\n",
       "      <td>0.0</td>\n",
       "    </tr>\n",
       "  </tbody>\n",
       "</table>\n",
       "<p>1 rows × 3969 columns</p>\n",
       "</div>"
      ],
      "text/plain": [
       "                       aaannnyything  abilities  ability  able  about  \\\n",
       "your content is suck!            0.0        0.0      0.0   0.0    0.0   \n",
       "\n",
       "                       aboutdemocrats  above  absolutely  absurd  abuse  ...  \\\n",
       "your content is suck!             0.0    0.0         0.0     0.0    0.0  ...   \n",
       "\n",
       "                       yourselfi  youth  youtube  youve  ypu   yr  yup  \\\n",
       "your content is suck!        0.0    0.0      0.0    0.0  0.0  0.0  0.0   \n",
       "\n",
       "                       zimmerman  zimmermans  zionist  \n",
       "your content is suck!        0.0         0.0      0.0  \n",
       "\n",
       "[1 rows x 3969 columns]"
      ]
     },
     "execution_count": 79,
     "metadata": {},
     "output_type": "execute_result"
    }
   ],
   "source": [
    "# look at text features\n",
    "text_features_np = text_features.toarray()\n",
    "\n",
    "# show as dataframe\n",
    "text_feature_df = pd.DataFrame(text_features_np)\n",
    "# column name = vocabulary\n",
    "text_feature_df.columns = tfidf.get_feature_names_out()\n",
    "\n",
    "text_feature_df.index = toxic_text\n",
    "text_feature_df"
   ]
  },
  {
   "cell_type": "markdown",
   "metadata": {
    "id": "Y-zQtuJD861T"
   },
   "source": [
    "We will check the non zero values"
   ]
  },
  {
   "cell_type": "code",
   "execution_count": 80,
   "metadata": {
    "colab": {
     "base_uri": "https://localhost:8080/",
     "height": 423
    },
    "executionInfo": {
     "elapsed": 6,
     "status": "ok",
     "timestamp": 1695806704535,
     "user": {
      "displayName": "robi Fakhri",
      "userId": "10922111524175830739"
     },
     "user_tz": -420
    },
    "id": "2JXgsQh13rk9",
    "outputId": "6c17021e-aadc-41a1-f908-89c5287ca758"
   },
   "outputs": [
    {
     "data": {
      "text/html": [
       "<div>\n",
       "<style scoped>\n",
       "    .dataframe tbody tr th:only-of-type {\n",
       "        vertical-align: middle;\n",
       "    }\n",
       "\n",
       "    .dataframe tbody tr th {\n",
       "        vertical-align: top;\n",
       "    }\n",
       "\n",
       "    .dataframe thead th {\n",
       "        text-align: right;\n",
       "    }\n",
       "</style>\n",
       "<table border=\"1\" class=\"dataframe\">\n",
       "  <thead>\n",
       "    <tr style=\"text-align: right;\">\n",
       "      <th></th>\n",
       "      <th>index</th>\n",
       "      <th>your content is suck!</th>\n",
       "    </tr>\n",
       "  </thead>\n",
       "  <tbody>\n",
       "    <tr>\n",
       "      <th>0</th>\n",
       "      <td>aaannnyything</td>\n",
       "      <td>0.0</td>\n",
       "    </tr>\n",
       "    <tr>\n",
       "      <th>1</th>\n",
       "      <td>abilities</td>\n",
       "      <td>0.0</td>\n",
       "    </tr>\n",
       "    <tr>\n",
       "      <th>2</th>\n",
       "      <td>ability</td>\n",
       "      <td>0.0</td>\n",
       "    </tr>\n",
       "    <tr>\n",
       "      <th>3</th>\n",
       "      <td>able</td>\n",
       "      <td>0.0</td>\n",
       "    </tr>\n",
       "    <tr>\n",
       "      <th>4</th>\n",
       "      <td>about</td>\n",
       "      <td>0.0</td>\n",
       "    </tr>\n",
       "    <tr>\n",
       "      <th>...</th>\n",
       "      <td>...</td>\n",
       "      <td>...</td>\n",
       "    </tr>\n",
       "    <tr>\n",
       "      <th>3964</th>\n",
       "      <td>yr</td>\n",
       "      <td>0.0</td>\n",
       "    </tr>\n",
       "    <tr>\n",
       "      <th>3965</th>\n",
       "      <td>yup</td>\n",
       "      <td>0.0</td>\n",
       "    </tr>\n",
       "    <tr>\n",
       "      <th>3966</th>\n",
       "      <td>zimmerman</td>\n",
       "      <td>0.0</td>\n",
       "    </tr>\n",
       "    <tr>\n",
       "      <th>3967</th>\n",
       "      <td>zimmermans</td>\n",
       "      <td>0.0</td>\n",
       "    </tr>\n",
       "    <tr>\n",
       "      <th>3968</th>\n",
       "      <td>zionist</td>\n",
       "      <td>0.0</td>\n",
       "    </tr>\n",
       "  </tbody>\n",
       "</table>\n",
       "<p>3969 rows × 2 columns</p>\n",
       "</div>"
      ],
      "text/plain": [
       "              index  your content is suck!\n",
       "0     aaannnyything                    0.0\n",
       "1         abilities                    0.0\n",
       "2           ability                    0.0\n",
       "3              able                    0.0\n",
       "4             about                    0.0\n",
       "...             ...                    ...\n",
       "3964             yr                    0.0\n",
       "3965            yup                    0.0\n",
       "3966      zimmerman                    0.0\n",
       "3967     zimmermans                    0.0\n",
       "3968        zionist                    0.0\n",
       "\n",
       "[3969 rows x 2 columns]"
      ]
     },
     "execution_count": 80,
     "metadata": {},
     "output_type": "execute_result"
    }
   ],
   "source": [
    "text_data = text_feature_df.T.reset_index()\n",
    "text_data"
   ]
  },
  {
   "cell_type": "code",
   "execution_count": 81,
   "metadata": {
    "colab": {
     "base_uri": "https://localhost:8080/"
    },
    "executionInfo": {
     "elapsed": 3,
     "status": "ok",
     "timestamp": 1695806727359,
     "user": {
      "displayName": "robi Fakhri",
      "userId": "10922111524175830739"
     },
     "user_tz": -420
    },
    "id": "luAUoDZA9Q2Y",
    "outputId": "579a95dc-3b9e-4837-9db1-1a909e99c238"
   },
   "outputs": [
    {
     "data": {
      "text/plain": [
       "Index(['index', 'your content is suck!'], dtype='object')"
      ]
     },
     "execution_count": 81,
     "metadata": {},
     "output_type": "execute_result"
    }
   ],
   "source": [
    "text_data.columns"
   ]
  },
  {
   "cell_type": "code",
   "execution_count": 82,
   "metadata": {
    "colab": {
     "base_uri": "https://localhost:8080/",
     "height": 81
    },
    "executionInfo": {
     "elapsed": 5,
     "status": "ok",
     "timestamp": 1695806743312,
     "user": {
      "displayName": "robi Fakhri",
      "userId": "10922111524175830739"
     },
     "user_tz": -420
    },
    "id": "wUn3ZzJr9Nou",
    "outputId": "70f22d1c-c83e-4040-e4a7-990f5055a479"
   },
   "outputs": [
    {
     "data": {
      "text/html": [
       "<div>\n",
       "<style scoped>\n",
       "    .dataframe tbody tr th:only-of-type {\n",
       "        vertical-align: middle;\n",
       "    }\n",
       "\n",
       "    .dataframe tbody tr th {\n",
       "        vertical-align: top;\n",
       "    }\n",
       "\n",
       "    .dataframe thead th {\n",
       "        text-align: right;\n",
       "    }\n",
       "</style>\n",
       "<table border=\"1\" class=\"dataframe\">\n",
       "  <thead>\n",
       "    <tr style=\"text-align: right;\">\n",
       "      <th></th>\n",
       "      <th>index</th>\n",
       "      <th>your content is suck!</th>\n",
       "    </tr>\n",
       "  </thead>\n",
       "  <tbody>\n",
       "    <tr>\n",
       "      <th>1841</th>\n",
       "      <td>is</td>\n",
       "      <td>0.283035</td>\n",
       "    </tr>\n",
       "    <tr>\n",
       "      <th>3379</th>\n",
       "      <td>suck</td>\n",
       "      <td>0.845182</td>\n",
       "    </tr>\n",
       "    <tr>\n",
       "      <th>3956</th>\n",
       "      <td>your</td>\n",
       "      <td>0.453386</td>\n",
       "    </tr>\n",
       "  </tbody>\n",
       "</table>\n",
       "</div>"
      ],
      "text/plain": [
       "     index  your content is suck!\n",
       "1841    is               0.283035\n",
       "3379  suck               0.845182\n",
       "3956  your               0.453386"
      ]
     },
     "execution_count": 82,
     "metadata": {},
     "output_type": "execute_result"
    }
   ],
   "source": [
    "text_data.loc[text_data['your content is suck!']>0]"
   ]
  },
  {
   "cell_type": "markdown",
   "metadata": {
    "id": "WuXej9Ic9ZBx"
   },
   "source": [
    "we see that from our text above only suck is available the rest is not known yet in our vocab,"
   ]
  },
  {
   "cell_type": "code",
   "execution_count": 83,
   "metadata": {
    "colab": {
     "base_uri": "https://localhost:8080/"
    },
    "executionInfo": {
     "elapsed": 654,
     "status": "ok",
     "timestamp": 1695806794560,
     "user": {
      "displayName": "robi Fakhri",
      "userId": "10922111524175830739"
     },
     "user_tz": -420
    },
    "id": "fp8x_rFD2jeM",
    "outputId": "62d9acea-5ab6-4439-cfcb-9ea7ed58828f"
   },
   "outputs": [
    {
     "data": {
      "text/plain": [
       "array([1])"
      ]
     },
     "execution_count": 83,
     "metadata": {},
     "output_type": "execute_result"
    }
   ],
   "source": [
    "best_model.predict(text_features)"
   ]
  },
  {
   "cell_type": "markdown",
   "metadata": {
    "id": "WLw1LkSY2w3x"
   },
   "source": [
    "Okay, this text detected as toxic, that is good one"
   ]
  }
 ],
 "metadata": {
  "colab": {
   "collapsed_sections": [
    "5EAOjNJgu9OX",
    "D76jLNLOvB12",
    "yGJI2hoKFZLJ",
    "NwuK0n7OJEkz",
    "ZuZaweARFsio",
    "BZ6nwtH_J0mS",
    "TekCSl-aefIf",
    "4UbxpDTqMjwD",
    "UxpX-m6jL41l",
    "ukcxisgSMXL-",
    "vZL6d6o4OXYK",
    "rdXPUWDn6zW4",
    "SxoYxbNEPFVy",
    "VVb1pJpwuNCV",
    "RroCrtP751Us",
    "BcNNCDKv83fS",
    "D7R1EIS1ZOlU",
    "Lb4b3KXAJEqN",
    "Xq_mJUCvcO_D",
    "ruH8MlYScO_I",
    "sz6yiFiOzNZA",
    "GtMPdB0h4b0r"
   ],
   "provenance": [],
   "toc_visible": true
  },
  "kernelspec": {
   "display_name": ".venv",
   "language": "python",
   "name": "python3"
  },
  "language_info": {
   "codemirror_mode": {
    "name": "ipython",
    "version": 3
   },
   "file_extension": ".py",
   "mimetype": "text/x-python",
   "name": "python",
   "nbconvert_exporter": "python",
   "pygments_lexer": "ipython3",
   "version": "3.10.14"
  },
  "latex_envs": {
   "LaTeX_envs_menu_present": true,
   "autoclose": true,
   "autocomplete": true,
   "bibliofile": "biblio.bib",
   "cite_by": "apalike",
   "current_citInitial": 1,
   "eqLabelWithNumbers": true,
   "eqNumInitial": 1,
   "hotkeys": {
    "equation": "Ctrl-E",
    "itemize": "Ctrl-I"
   },
   "labels_anchors": false,
   "latex_user_defs": false,
   "report_style_numbering": true,
   "user_envs_cfg": true
  },
  "toc": {
   "base_numbering": 1,
   "nav_menu": {},
   "number_sections": true,
   "sideBar": true,
   "skip_h1_title": false,
   "title_cell": "Table of Contents",
   "title_sidebar": "Contents",
   "toc_cell": false,
   "toc_position": {
    "height": "calc(100% - 180px)",
    "left": "10px",
    "top": "150px",
    "width": "369.05px"
   },
   "toc_section_display": true,
   "toc_window_display": true
  }
 },
 "nbformat": 4,
 "nbformat_minor": 1
}
